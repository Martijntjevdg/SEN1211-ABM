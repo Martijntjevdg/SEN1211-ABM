{
 "cells": [
  {
   "cell_type": "code",
   "outputs": [],
   "source": [
    "import pandas as pd\n",
    "import matplotlib.pyplot as plt\n",
    "import seaborn as sns"
   ],
   "metadata": {
    "collapsed": false,
    "ExecuteTime": {
     "end_time": "2024-01-24T12:58:40.609667900Z",
     "start_time": "2024-01-24T12:58:39.309456500Z"
    }
   },
   "id": "7390203863948e63",
   "execution_count": 18
  },
  {
   "cell_type": "code",
   "outputs": [],
   "source": [
    "sensitivity_analysis_path = r'../output_data/On.csv'\n",
    "extreme_values = pd.read_csv(extreme_values_file_path)"
   ],
   "metadata": {
    "collapsed": false
   },
   "id": "2ef3833cbd9b9b33"
  }
 ],
 "metadata": {
  "kernelspec": {
   "display_name": "Python 3",
   "language": "python",
   "name": "python3"
  },
  "language_info": {
   "codemirror_mode": {
    "name": "ipython",
    "version": 2
   },
   "file_extension": ".py",
   "mimetype": "text/x-python",
   "name": "python",
   "nbconvert_exporter": "python",
   "pygments_lexer": "ipython2",
   "version": "2.7.6"
  }
 },
 "nbformat": 4,
 "nbformat_minor": 5
}
