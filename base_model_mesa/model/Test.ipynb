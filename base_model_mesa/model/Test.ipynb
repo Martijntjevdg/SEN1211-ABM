{
 "cells": [
  {
   "cell_type": "code",
   "execution_count": 1,
   "id": "initial_id",
   "metadata": {
    "collapsed": true,
    "ExecuteTime": {
     "end_time": "2024-01-24T11:38:12.301327200Z",
     "start_time": "2024-01-24T11:38:07.979188Z"
    }
   },
   "outputs": [],
   "source": [
    "from model import AdaptationModel\n",
    "from mesa.batchrunner import batch_run\n",
    "import pandas as pd"
   ]
  },
  {
   "cell_type": "code",
   "outputs": [
    {
     "data": {
      "text/plain": "  0%|          | 0/50 [00:00<?, ?it/s]",
      "application/vnd.jupyter.widget-view+json": {
       "version_major": 2,
       "version_minor": 0,
       "model_id": "610d352f31cc45bf9157f35d0ed101f6"
      }
     },
     "metadata": {},
     "output_type": "display_data"
    }
   ],
   "source": [
    "model_params = {\n",
    "    \"number_of_households\": 100,\n",
    "    \"number_of_steps\": 80,\n",
    "    \"flood_map_choice\": \"harvey\",\n",
    "    \"network\": \"watts_strogatz\",\n",
    "    \"income_distribution\":[{'Poor': [5000, 1875], 'Middle-Class': [29375, 10312], 'Rich': [87500, 18750]},\n",
    "                           {'Poor': [5500, 1875], 'Middle-Class': [32312.5, 10321], 'Rich': [96250, 18750]},\n",
    "                           {'Poor': [4500, 1875], 'Middle-Class': [26437.5, 10321], 'Rich': [78750, 18750]},\n",
    "                           {'Poor': [6500, 1875], 'Middle-Class': [38187.5, 10321], 'Rich': [133750, 18750]},\n",
    "                           {'Poor': [3500, 1875], 'Middle-Class': [20562.5, 10321], 'Rich': [61250, 18750]}]\n",
    "}\n",
    "\n",
    "\n",
    "\n",
    "results = batch_run(\n",
    "    model_cls=AdaptationModel,\n",
    "    parameters=model_params,\n",
    "    number_processes=4,  # Set to None if you want to use all CPUs\n",
    "    iterations=10,  # Number of iterations for each parameter combination\n",
    "    data_collection_period=1,  # Collect data at the end of each run\n",
    "    max_steps=model_params[\"number_of_steps\"],  # Maximum number of model steps\n",
    "    display_progress=True  # Display progress bar\n",
    ")\n",
    "\n",
    "df = pd.DataFrame(results)\n",
    "\n",
    "sensitivity_analysis_income_distribution = df"
   ],
   "metadata": {
    "collapsed": false,
    "ExecuteTime": {
     "end_time": "2024-01-24T11:46:53.939673600Z",
     "start_time": "2024-01-24T11:46:36.962464100Z"
    }
   },
   "id": "b49fa1e47ed3840c",
   "execution_count": 7
  },
  {
   "cell_type": "code",
   "outputs": [
    {
     "data": {
      "text/plain": "      RunId  iteration  Step  number_of_households  number_of_steps  \\\n28        0          0     0                   100               80   \n29        0          0     1                   100               80   \n30        0          0     2                   100               80   \n31        0          0     3                   100               80   \n32        0          0     4                   100               80   \n...     ...        ...   ...                   ...              ...   \n1969     49          9    52                   100               80   \n1970     49          9    53                   100               80   \n1971     49          9    54                   100               80   \n1972     49          9    55                   100               80   \n1973     49          9    56                   100               80   \n\n     flood_map_choice         network  \\\n28             harvey  watts_strogatz   \n29             harvey  watts_strogatz   \n30             harvey  watts_strogatz   \n31             harvey  watts_strogatz   \n32             harvey  watts_strogatz   \n...               ...             ...   \n1969           harvey  watts_strogatz   \n1970           harvey  watts_strogatz   \n1971           harvey  watts_strogatz   \n1972           harvey  watts_strogatz   \n1973           harvey  watts_strogatz   \n\n                                    income_distribution  \\\n28    {'Poor': [5000, 1875], 'Middle-Class': [29375,...   \n29    {'Poor': [5000, 1875], 'Middle-Class': [29375,...   \n30    {'Poor': [5000, 1875], 'Middle-Class': [29375,...   \n31    {'Poor': [5000, 1875], 'Middle-Class': [29375,...   \n32    {'Poor': [5000, 1875], 'Middle-Class': [29375,...   \n...                                                 ...   \n1969  {'Poor': [3500, 1875], 'Middle-Class': [20562....   \n1970  {'Poor': [3500, 1875], 'Middle-Class': [20562....   \n1971  {'Poor': [3500, 1875], 'Middle-Class': [20562....   \n1972  {'Poor': [3500, 1875], 'Middle-Class': [20562....   \n1973  {'Poor': [3500, 1875], 'Middle-Class': [20562....   \n\n      TotalAdaptedHouseholds  TotalActualDamage  TotalExpectedDamage  \\\n28                         0       0.000000e+00         7.574415e+06   \n29                        12       0.000000e+00         7.302769e+06   \n30                        29       0.000000e+00         6.496210e+06   \n31                        39       0.000000e+00         5.879803e+06   \n32                        46       0.000000e+00         5.180086e+06   \n...                      ...                ...                  ...   \n1969                      70       0.000000e+00         3.866422e+06   \n1970                      70       0.000000e+00         3.866422e+06   \n1971                      70       0.000000e+00         3.866422e+06   \n1972                      70       0.000000e+00         3.866422e+06   \n1973                      70       3.652204e+06         3.866422e+06   \n\n      TotalAdaptationCosts  TotalCostsOfSubsidies  \\\n28                       0                      0   \n29                   26570                      0   \n30                  112585                      0   \n31                  169645                      0   \n32                  233095                      0   \n...                    ...                    ...   \n1969                369615                      0   \n1970                369615                      0   \n1971                369615                      0   \n1972                369615                      0   \n1973                369615                      0   \n\n                            AverageDamagePerIncomeLabel  \\\n28    {'AverageDamagePerPoorHousehold': 0.0, 'Averag...   \n29    {'AverageDamagePerPoorHousehold': 0.0, 'Averag...   \n30    {'AverageDamagePerPoorHousehold': 0.0, 'Averag...   \n31    {'AverageDamagePerPoorHousehold': 0.0, 'Averag...   \n32    {'AverageDamagePerPoorHousehold': 0.0, 'Averag...   \n...                                                 ...   \n1969  {'AverageDamagePerPoorHousehold': 0.0, 'Averag...   \n1970  {'AverageDamagePerPoorHousehold': 0.0, 'Averag...   \n1971  {'AverageDamagePerPoorHousehold': 0.0, 'Averag...   \n1972  {'AverageDamagePerPoorHousehold': 0.0, 'Averag...   \n1973  {'AverageDamagePerPoorHousehold': 17738.100984...   \n\n                             AverageIncomeToDamageRatio IncomeDistribution  \n28    {'AverageIncomeToDamagePoorHousehold': 0.0, 'A...               Base  \n29    {'AverageIncomeToDamagePoorHousehold': 0.0, 'A...               Base  \n30    {'AverageIncomeToDamagePoorHousehold': 0.0, 'A...               Base  \n31    {'AverageIncomeToDamagePoorHousehold': 0.0, 'A...               Base  \n32    {'AverageIncomeToDamagePoorHousehold': 0.0, 'A...               Base  \n...                                                 ...                ...  \n1969  {'AverageIncomeToDamagePoorHousehold': 0.0, 'A...            Minus30  \n1970  {'AverageIncomeToDamagePoorHousehold': 0.0, 'A...            Minus30  \n1971  {'AverageIncomeToDamagePoorHousehold': 0.0, 'A...            Minus30  \n1972  {'AverageIncomeToDamagePoorHousehold': 0.0, 'A...            Minus30  \n1973  {'AverageIncomeToDamagePoorHousehold': 4.71498...            Minus30  \n\n[1974 rows x 16 columns]",
      "text/html": "<div>\n<style scoped>\n    .dataframe tbody tr th:only-of-type {\n        vertical-align: middle;\n    }\n\n    .dataframe tbody tr th {\n        vertical-align: top;\n    }\n\n    .dataframe thead th {\n        text-align: right;\n    }\n</style>\n<table border=\"1\" class=\"dataframe\">\n  <thead>\n    <tr style=\"text-align: right;\">\n      <th></th>\n      <th>RunId</th>\n      <th>iteration</th>\n      <th>Step</th>\n      <th>number_of_households</th>\n      <th>number_of_steps</th>\n      <th>flood_map_choice</th>\n      <th>network</th>\n      <th>income_distribution</th>\n      <th>TotalAdaptedHouseholds</th>\n      <th>TotalActualDamage</th>\n      <th>TotalExpectedDamage</th>\n      <th>TotalAdaptationCosts</th>\n      <th>TotalCostsOfSubsidies</th>\n      <th>AverageDamagePerIncomeLabel</th>\n      <th>AverageIncomeToDamageRatio</th>\n      <th>IncomeDistribution</th>\n    </tr>\n  </thead>\n  <tbody>\n    <tr>\n      <th>28</th>\n      <td>0</td>\n      <td>0</td>\n      <td>0</td>\n      <td>100</td>\n      <td>80</td>\n      <td>harvey</td>\n      <td>watts_strogatz</td>\n      <td>{'Poor': [5000, 1875], 'Middle-Class': [29375,...</td>\n      <td>0</td>\n      <td>0.000000e+00</td>\n      <td>7.574415e+06</td>\n      <td>0</td>\n      <td>0</td>\n      <td>{'AverageDamagePerPoorHousehold': 0.0, 'Averag...</td>\n      <td>{'AverageIncomeToDamagePoorHousehold': 0.0, 'A...</td>\n      <td>Base</td>\n    </tr>\n    <tr>\n      <th>29</th>\n      <td>0</td>\n      <td>0</td>\n      <td>1</td>\n      <td>100</td>\n      <td>80</td>\n      <td>harvey</td>\n      <td>watts_strogatz</td>\n      <td>{'Poor': [5000, 1875], 'Middle-Class': [29375,...</td>\n      <td>12</td>\n      <td>0.000000e+00</td>\n      <td>7.302769e+06</td>\n      <td>26570</td>\n      <td>0</td>\n      <td>{'AverageDamagePerPoorHousehold': 0.0, 'Averag...</td>\n      <td>{'AverageIncomeToDamagePoorHousehold': 0.0, 'A...</td>\n      <td>Base</td>\n    </tr>\n    <tr>\n      <th>30</th>\n      <td>0</td>\n      <td>0</td>\n      <td>2</td>\n      <td>100</td>\n      <td>80</td>\n      <td>harvey</td>\n      <td>watts_strogatz</td>\n      <td>{'Poor': [5000, 1875], 'Middle-Class': [29375,...</td>\n      <td>29</td>\n      <td>0.000000e+00</td>\n      <td>6.496210e+06</td>\n      <td>112585</td>\n      <td>0</td>\n      <td>{'AverageDamagePerPoorHousehold': 0.0, 'Averag...</td>\n      <td>{'AverageIncomeToDamagePoorHousehold': 0.0, 'A...</td>\n      <td>Base</td>\n    </tr>\n    <tr>\n      <th>31</th>\n      <td>0</td>\n      <td>0</td>\n      <td>3</td>\n      <td>100</td>\n      <td>80</td>\n      <td>harvey</td>\n      <td>watts_strogatz</td>\n      <td>{'Poor': [5000, 1875], 'Middle-Class': [29375,...</td>\n      <td>39</td>\n      <td>0.000000e+00</td>\n      <td>5.879803e+06</td>\n      <td>169645</td>\n      <td>0</td>\n      <td>{'AverageDamagePerPoorHousehold': 0.0, 'Averag...</td>\n      <td>{'AverageIncomeToDamagePoorHousehold': 0.0, 'A...</td>\n      <td>Base</td>\n    </tr>\n    <tr>\n      <th>32</th>\n      <td>0</td>\n      <td>0</td>\n      <td>4</td>\n      <td>100</td>\n      <td>80</td>\n      <td>harvey</td>\n      <td>watts_strogatz</td>\n      <td>{'Poor': [5000, 1875], 'Middle-Class': [29375,...</td>\n      <td>46</td>\n      <td>0.000000e+00</td>\n      <td>5.180086e+06</td>\n      <td>233095</td>\n      <td>0</td>\n      <td>{'AverageDamagePerPoorHousehold': 0.0, 'Averag...</td>\n      <td>{'AverageIncomeToDamagePoorHousehold': 0.0, 'A...</td>\n      <td>Base</td>\n    </tr>\n    <tr>\n      <th>...</th>\n      <td>...</td>\n      <td>...</td>\n      <td>...</td>\n      <td>...</td>\n      <td>...</td>\n      <td>...</td>\n      <td>...</td>\n      <td>...</td>\n      <td>...</td>\n      <td>...</td>\n      <td>...</td>\n      <td>...</td>\n      <td>...</td>\n      <td>...</td>\n      <td>...</td>\n      <td>...</td>\n    </tr>\n    <tr>\n      <th>1969</th>\n      <td>49</td>\n      <td>9</td>\n      <td>52</td>\n      <td>100</td>\n      <td>80</td>\n      <td>harvey</td>\n      <td>watts_strogatz</td>\n      <td>{'Poor': [3500, 1875], 'Middle-Class': [20562....</td>\n      <td>70</td>\n      <td>0.000000e+00</td>\n      <td>3.866422e+06</td>\n      <td>369615</td>\n      <td>0</td>\n      <td>{'AverageDamagePerPoorHousehold': 0.0, 'Averag...</td>\n      <td>{'AverageIncomeToDamagePoorHousehold': 0.0, 'A...</td>\n      <td>Minus30</td>\n    </tr>\n    <tr>\n      <th>1970</th>\n      <td>49</td>\n      <td>9</td>\n      <td>53</td>\n      <td>100</td>\n      <td>80</td>\n      <td>harvey</td>\n      <td>watts_strogatz</td>\n      <td>{'Poor': [3500, 1875], 'Middle-Class': [20562....</td>\n      <td>70</td>\n      <td>0.000000e+00</td>\n      <td>3.866422e+06</td>\n      <td>369615</td>\n      <td>0</td>\n      <td>{'AverageDamagePerPoorHousehold': 0.0, 'Averag...</td>\n      <td>{'AverageIncomeToDamagePoorHousehold': 0.0, 'A...</td>\n      <td>Minus30</td>\n    </tr>\n    <tr>\n      <th>1971</th>\n      <td>49</td>\n      <td>9</td>\n      <td>54</td>\n      <td>100</td>\n      <td>80</td>\n      <td>harvey</td>\n      <td>watts_strogatz</td>\n      <td>{'Poor': [3500, 1875], 'Middle-Class': [20562....</td>\n      <td>70</td>\n      <td>0.000000e+00</td>\n      <td>3.866422e+06</td>\n      <td>369615</td>\n      <td>0</td>\n      <td>{'AverageDamagePerPoorHousehold': 0.0, 'Averag...</td>\n      <td>{'AverageIncomeToDamagePoorHousehold': 0.0, 'A...</td>\n      <td>Minus30</td>\n    </tr>\n    <tr>\n      <th>1972</th>\n      <td>49</td>\n      <td>9</td>\n      <td>55</td>\n      <td>100</td>\n      <td>80</td>\n      <td>harvey</td>\n      <td>watts_strogatz</td>\n      <td>{'Poor': [3500, 1875], 'Middle-Class': [20562....</td>\n      <td>70</td>\n      <td>0.000000e+00</td>\n      <td>3.866422e+06</td>\n      <td>369615</td>\n      <td>0</td>\n      <td>{'AverageDamagePerPoorHousehold': 0.0, 'Averag...</td>\n      <td>{'AverageIncomeToDamagePoorHousehold': 0.0, 'A...</td>\n      <td>Minus30</td>\n    </tr>\n    <tr>\n      <th>1973</th>\n      <td>49</td>\n      <td>9</td>\n      <td>56</td>\n      <td>100</td>\n      <td>80</td>\n      <td>harvey</td>\n      <td>watts_strogatz</td>\n      <td>{'Poor': [3500, 1875], 'Middle-Class': [20562....</td>\n      <td>70</td>\n      <td>3.652204e+06</td>\n      <td>3.866422e+06</td>\n      <td>369615</td>\n      <td>0</td>\n      <td>{'AverageDamagePerPoorHousehold': 17738.100984...</td>\n      <td>{'AverageIncomeToDamagePoorHousehold': 4.71498...</td>\n      <td>Minus30</td>\n    </tr>\n  </tbody>\n</table>\n<p>1974 rows × 16 columns</p>\n</div>"
     },
     "execution_count": 16,
     "metadata": {},
     "output_type": "execute_result"
    }
   ],
   "source": [
    "sensitivity_analysis_income_distribution\n",
    "df_sorted = sensitivity_analysis_income_distribution.sort_values(by=['RunId', 'Step'])\n",
    "df_sorted"
   ],
   "metadata": {
    "collapsed": false,
    "ExecuteTime": {
     "end_time": "2024-01-24T11:50:43.551259700Z",
     "start_time": "2024-01-24T11:50:43.512691500Z"
    }
   },
   "id": "9fc5e0e0f4dd76bf",
   "execution_count": 16
  }
 ],
 "metadata": {
  "kernelspec": {
   "display_name": "Python 3",
   "language": "python",
   "name": "python3"
  },
  "language_info": {
   "codemirror_mode": {
    "name": "ipython",
    "version": 2
   },
   "file_extension": ".py",
   "mimetype": "text/x-python",
   "name": "python",
   "nbconvert_exporter": "python",
   "pygments_lexer": "ipython2",
   "version": "2.7.6"
  }
 },
 "nbformat": 4,
 "nbformat_minor": 5
}
