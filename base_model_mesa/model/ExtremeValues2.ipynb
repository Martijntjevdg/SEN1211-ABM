{
 "cells": [
  {
   "cell_type": "code",
   "execution_count": 1,
   "id": "initial_id",
   "metadata": {
    "collapsed": true,
    "ExecuteTime": {
     "end_time": "2024-01-25T18:28:13.251091200Z",
     "start_time": "2024-01-25T18:28:08.392617300Z"
    }
   },
   "outputs": [],
   "source": [
    "from model import AdaptationModel\n",
    "from mesa.batchrunner import batch_run\n",
    "import pandas as pd"
   ]
  },
  {
   "cell_type": "code",
   "outputs": [
    {
     "name": "stderr",
     "output_type": "stream",
     "text": [
      "C:\\Users\\matth\\OneDrive\\Documenten\\GitHub\\SEN1211-ABM\\Interpreter\\Lib\\site-packages\\mesa\\time.py:80: FutureWarning: The AgentSet is experimental. It may be changed or removed in any and all future releases, including patch releases.\n",
      "We would love to hear what you think about this new feature. If you have any thoughts, share them with us here: https://github.com/projectmesa/mesa/discussions/1919\n",
      "  self._agents: AgentSet = AgentSet(agents, model)\n"
     ]
    }
   ],
   "source": [
    "m1 = AdaptationModel(number_of_households=10, income_distribution={'Poor':[0,0],'Middle-Class':[0,0],'Rich':[0,0]})"
   ],
   "metadata": {
    "collapsed": false,
    "is_executing": true,
    "ExecuteTime": {
     "start_time": "2024-01-25T18:28:19.655082Z"
    }
   },
   "id": "1e94fe5487f7687c"
  }
 ],
 "metadata": {
  "kernelspec": {
   "display_name": "Python 3",
   "language": "python",
   "name": "python3"
  },
  "language_info": {
   "codemirror_mode": {
    "name": "ipython",
    "version": 2
   },
   "file_extension": ".py",
   "mimetype": "text/x-python",
   "name": "python",
   "nbconvert_exporter": "python",
   "pygments_lexer": "ipython2",
   "version": "2.7.6"
  }
 },
 "nbformat": 4,
 "nbformat_minor": 5
}
