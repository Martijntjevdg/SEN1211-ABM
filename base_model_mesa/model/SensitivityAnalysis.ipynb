{
 "cells": [
  {
   "cell_type": "code",
   "execution_count": 11,
   "id": "initial_id",
   "metadata": {
    "ExecuteTime": {
     "end_time": "2024-01-24T13:52:35.627583Z",
     "start_time": "2024-01-24T13:52:35.615687Z"
    }
   },
   "outputs": [],
   "source": [
    "from model import AdaptationModel\n",
    "from mesa.batchrunner import batch_run\n",
    "import pandas as pd"
   ]
  },
  {
   "cell_type": "code",
   "execution_count": 12,
   "id": "f0d21165-cdcc-40ad-b760-70233b339009",
   "metadata": {
    "ExecuteTime": {
     "end_time": "2024-01-24T13:54:47.839748Z",
     "start_time": "2024-01-24T13:52:37.605363Z"
    }
   },
   "outputs": [
    {
     "data": {
      "text/plain": "  0%|          | 0/500 [00:00<?, ?it/s]",
      "application/vnd.jupyter.widget-view+json": {
       "version_major": 2,
       "version_minor": 0,
       "model_id": "b9156f7c9381466484516ac3751f7020"
      }
     },
     "metadata": {},
     "output_type": "display_data"
    }
   ],
   "source": [
    "income_distribution_base = {'Poor': [5000, 1875], 'Middle-Class': [29375, 10312], 'Rich': [87500, 18750]},\n",
    "income_distribution_plus_10 = {'Poor': [5500, 1875], 'Middle-Class': [32312.5, 10321], 'Rich': [96250, 18750]}\n",
    "income_distribution_minus_10 = {'Poor': [4500, 1875], 'Middle-Class': [26437.5, 10321], 'Rich': [78750, 18750]}\n",
    "income_distribution_plus_30 = {'Poor': [6500, 1875], 'Middle-Class': [38187.5, 10321], 'Rich': [133750, 18750]}\n",
    "income_distribution_minus_30 = {'Poor': [3500, 1875], 'Middle-Class': [20562.5, 10321], 'Rich': [61250, 18750]}\n",
    "\n",
    "#income_distributions = [income_distribution_base, income_distribution_plus_10, income_distribution_minus_10,\n",
    "                         #income_distribution_plus_30, income_distribution_minus_30]\n",
    "#Income distribution\n",
    "model_params = {\n",
    "    \"number_of_households\": 1000,\n",
    "    \"number_of_steps\": 80,\n",
    "    \"flood_map_choice\": \"100yr\",\n",
    "    \"network\": \"watts_strogatz\",\n",
    "    \"income_distribution\":[{'Poor': [5000, 1875], 'Middle-Class': [29375, 10312], 'Rich': [87500, 18750]},\n",
    "                           {'Poor': [5500, 1875], 'Middle-Class': [32312.5, 10321], 'Rich': [96250, 18750]},\n",
    "                           {'Poor': [4500, 1875], 'Middle-Class': [26437.5, 10321], 'Rich': [78750, 18750]},\n",
    "                           {'Poor': [6500, 1875], 'Middle-Class': [38187.5, 10321], 'Rich': [133750, 18750]},\n",
    "                           {'Poor': [3500, 1875], 'Middle-Class': [20562.5, 10321], 'Rich': [61250, 18750]}]\n",
    "}\n",
    "\n",
    "\n",
    "\n",
    "results = batch_run(\n",
    "    model_cls=AdaptationModel,\n",
    "    parameters=model_params,\n",
    "    number_processes=4,  # Set to None if you want to use all CPUs\n",
    "    iterations=100,  # Number of iterations for each parameter combination\n",
    "    data_collection_period=1,  # Collect data at the end of each run\n",
    "    max_steps=model_params[\"number_of_steps\"],  # Maximum number of model steps\n",
    "    display_progress=True  # Display progress bar\n",
    ")\n",
    "\n",
    "df = pd.DataFrame(results)\n",
    "\n",
    "sensitivity_analysis_income_distribution = df"
   ]
  },
  {
   "cell_type": "code",
   "execution_count": 13,
   "id": "5f434c73-68e1-4de7-96ea-94f5288fcef3",
   "metadata": {
    "ExecuteTime": {
     "end_time": "2024-01-24T13:55:04.640029Z",
     "start_time": "2024-01-24T13:54:52.762794Z"
    }
   },
   "outputs": [
    {
     "data": {
      "text/plain": "       RunId  iteration  Step  number_of_households  number_of_steps  \\\n0          1          0     0                  1000               80   \n1          1          0     1                  1000               80   \n2          1          0     2                  1000               80   \n3          1          0     3                  1000               80   \n4          1          0     4                  1000               80   \n...      ...        ...   ...                   ...              ...   \n19752    499         99    65                  1000               80   \n19753    499         99    66                  1000               80   \n19754    499         99    67                  1000               80   \n19755    499         99    68                  1000               80   \n19756    499         99    69                  1000               80   \n\n      flood_map_choice         network  \\\n0                100yr  watts_strogatz   \n1                100yr  watts_strogatz   \n2                100yr  watts_strogatz   \n3                100yr  watts_strogatz   \n4                100yr  watts_strogatz   \n...                ...             ...   \n19752            100yr  watts_strogatz   \n19753            100yr  watts_strogatz   \n19754            100yr  watts_strogatz   \n19755            100yr  watts_strogatz   \n19756            100yr  watts_strogatz   \n\n                                     income_distribution  \\\n0      {'Poor': [5500, 1875], 'Middle-Class': [32312....   \n1      {'Poor': [5500, 1875], 'Middle-Class': [32312....   \n2      {'Poor': [5500, 1875], 'Middle-Class': [32312....   \n3      {'Poor': [5500, 1875], 'Middle-Class': [32312....   \n4      {'Poor': [5500, 1875], 'Middle-Class': [32312....   \n...                                                  ...   \n19752  {'Poor': [3500, 1875], 'Middle-Class': [20562....   \n19753  {'Poor': [3500, 1875], 'Middle-Class': [20562....   \n19754  {'Poor': [3500, 1875], 'Middle-Class': [20562....   \n19755  {'Poor': [3500, 1875], 'Middle-Class': [20562....   \n19756  {'Poor': [3500, 1875], 'Middle-Class': [20562....   \n\n       TotalAdaptedHouseholds  TotalActualDamage  ...  TotalCostsOfSubsidies  \\\n0                           0       0.000000e+00  ...                      0   \n1                          43       0.000000e+00  ...                      0   \n2                         101       0.000000e+00  ...                      0   \n3                         151       0.000000e+00  ...                      0   \n4                         178       0.000000e+00  ...                      0   \n...                       ...                ...  ...                    ...   \n19752                     326       0.000000e+00  ...                      0   \n19753                     326       0.000000e+00  ...                      0   \n19754                     326       0.000000e+00  ...                      0   \n19755                     326       0.000000e+00  ...                      0   \n19756                     326       1.623147e+07  ...                      0   \n\n                    EstimatedAverageDamagePerIncomeLabel  \\\n0      {'AverageDamagePerPoorHousehold': 14975.248574...   \n1      {'AverageDamagePerPoorHousehold': 14926.828274...   \n2      {'AverageDamagePerPoorHousehold': 14769.006942...   \n3      {'AverageDamagePerPoorHousehold': 14554.339054...   \n4      {'AverageDamagePerPoorHousehold': 13944.437077...   \n...                                                  ...   \n19752  {'AverageDamagePerPoorHousehold': 6897.3661993...   \n19753  {'AverageDamagePerPoorHousehold': 6897.3661993...   \n19754  {'AverageDamagePerPoorHousehold': 6897.3661993...   \n19755  {'AverageDamagePerPoorHousehold': 6897.3661993...   \n19756  {'AverageDamagePerPoorHousehold': 6897.3661993...   \n\n                     EstimatedAverageIncomeToDamageRatio IncomeDistribution  \\\n0      {'AverageIncomeToDamagePoorHousehold': 2.78106...             Plus10   \n1      {'AverageIncomeToDamagePoorHousehold': 2.77207...             Plus10   \n2      {'AverageIncomeToDamagePoorHousehold': 2.74276...             Plus10   \n3      {'AverageIncomeToDamagePoorHousehold': 2.70289...             Plus10   \n4      {'AverageIncomeToDamagePoorHousehold': 2.58963...             Plus10   \n...                                                  ...                ...   \n19752  {'AverageIncomeToDamagePoorHousehold': 1.89420...            Minus30   \n19753  {'AverageIncomeToDamagePoorHousehold': 1.89420...            Minus30   \n19754  {'AverageIncomeToDamagePoorHousehold': 1.89420...            Minus30   \n19755  {'AverageIncomeToDamagePoorHousehold': 1.89420...            Minus30   \n19756  {'AverageIncomeToDamagePoorHousehold': 1.89420...            Minus30   \n\n      AverageDamagePerPoorHousehold AverageDamagePerMiddleClassHousehold  \\\n0                          0.000000                             0.000000   \n1                          0.000000                             0.000000   \n2                          0.000000                             0.000000   \n3                          0.000000                             0.000000   \n4                          0.000000                             0.000000   \n...                             ...                                  ...   \n19752                      0.000000                             0.000000   \n19753                      0.000000                             0.000000   \n19754                      0.000000                             0.000000   \n19755                      0.000000                             0.000000   \n19756                   6501.730599                         15269.091965   \n\n       AverageDamagePerRichHousehold  AverageIncomeToDamagePoorHousehold  \\\n0                           0.000000                            0.000000   \n1                           0.000000                            0.000000   \n2                           0.000000                            0.000000   \n3                           0.000000                            0.000000   \n4                           0.000000                            0.000000   \n...                              ...                                 ...   \n19752                       0.000000                            0.000000   \n19753                       0.000000                            0.000000   \n19754                       0.000000                            0.000000   \n19755                       0.000000                            0.000000   \n19756                   45552.120407                            1.785554   \n\n       AverageIncomeToDamageMiddleClassHousehold  \\\n0                                       0.000000   \n1                                       0.000000   \n2                                       0.000000   \n3                                       0.000000   \n4                                       0.000000   \n...                                          ...   \n19752                                   0.000000   \n19753                                   0.000000   \n19754                                   0.000000   \n19755                                   0.000000   \n19756                                   0.746951   \n\n       AverageIncomeToDamageRichHousehold  \n0                                0.000000  \n1                                0.000000  \n2                                0.000000  \n3                                0.000000  \n4                                0.000000  \n...                                   ...  \n19752                            0.000000  \n19753                            0.000000  \n19754                            0.000000  \n19755                            0.000000  \n19756                            0.735872  \n\n[19757 rows x 22 columns]",
      "text/html": "<div>\n<style scoped>\n    .dataframe tbody tr th:only-of-type {\n        vertical-align: middle;\n    }\n\n    .dataframe tbody tr th {\n        vertical-align: top;\n    }\n\n    .dataframe thead th {\n        text-align: right;\n    }\n</style>\n<table border=\"1\" class=\"dataframe\">\n  <thead>\n    <tr style=\"text-align: right;\">\n      <th></th>\n      <th>RunId</th>\n      <th>iteration</th>\n      <th>Step</th>\n      <th>number_of_households</th>\n      <th>number_of_steps</th>\n      <th>flood_map_choice</th>\n      <th>network</th>\n      <th>income_distribution</th>\n      <th>TotalAdaptedHouseholds</th>\n      <th>TotalActualDamage</th>\n      <th>...</th>\n      <th>TotalCostsOfSubsidies</th>\n      <th>EstimatedAverageDamagePerIncomeLabel</th>\n      <th>EstimatedAverageIncomeToDamageRatio</th>\n      <th>IncomeDistribution</th>\n      <th>AverageDamagePerPoorHousehold</th>\n      <th>AverageDamagePerMiddleClassHousehold</th>\n      <th>AverageDamagePerRichHousehold</th>\n      <th>AverageIncomeToDamagePoorHousehold</th>\n      <th>AverageIncomeToDamageMiddleClassHousehold</th>\n      <th>AverageIncomeToDamageRichHousehold</th>\n    </tr>\n  </thead>\n  <tbody>\n    <tr>\n      <th>0</th>\n      <td>1</td>\n      <td>0</td>\n      <td>0</td>\n      <td>1000</td>\n      <td>80</td>\n      <td>100yr</td>\n      <td>watts_strogatz</td>\n      <td>{'Poor': [5500, 1875], 'Middle-Class': [32312....</td>\n      <td>0</td>\n      <td>0.000000e+00</td>\n      <td>...</td>\n      <td>0</td>\n      <td>{'AverageDamagePerPoorHousehold': 14975.248574...</td>\n      <td>{'AverageIncomeToDamagePoorHousehold': 2.78106...</td>\n      <td>Plus10</td>\n      <td>0.000000</td>\n      <td>0.000000</td>\n      <td>0.000000</td>\n      <td>0.000000</td>\n      <td>0.000000</td>\n      <td>0.000000</td>\n    </tr>\n    <tr>\n      <th>1</th>\n      <td>1</td>\n      <td>0</td>\n      <td>1</td>\n      <td>1000</td>\n      <td>80</td>\n      <td>100yr</td>\n      <td>watts_strogatz</td>\n      <td>{'Poor': [5500, 1875], 'Middle-Class': [32312....</td>\n      <td>43</td>\n      <td>0.000000e+00</td>\n      <td>...</td>\n      <td>0</td>\n      <td>{'AverageDamagePerPoorHousehold': 14926.828274...</td>\n      <td>{'AverageIncomeToDamagePoorHousehold': 2.77207...</td>\n      <td>Plus10</td>\n      <td>0.000000</td>\n      <td>0.000000</td>\n      <td>0.000000</td>\n      <td>0.000000</td>\n      <td>0.000000</td>\n      <td>0.000000</td>\n    </tr>\n    <tr>\n      <th>2</th>\n      <td>1</td>\n      <td>0</td>\n      <td>2</td>\n      <td>1000</td>\n      <td>80</td>\n      <td>100yr</td>\n      <td>watts_strogatz</td>\n      <td>{'Poor': [5500, 1875], 'Middle-Class': [32312....</td>\n      <td>101</td>\n      <td>0.000000e+00</td>\n      <td>...</td>\n      <td>0</td>\n      <td>{'AverageDamagePerPoorHousehold': 14769.006942...</td>\n      <td>{'AverageIncomeToDamagePoorHousehold': 2.74276...</td>\n      <td>Plus10</td>\n      <td>0.000000</td>\n      <td>0.000000</td>\n      <td>0.000000</td>\n      <td>0.000000</td>\n      <td>0.000000</td>\n      <td>0.000000</td>\n    </tr>\n    <tr>\n      <th>3</th>\n      <td>1</td>\n      <td>0</td>\n      <td>3</td>\n      <td>1000</td>\n      <td>80</td>\n      <td>100yr</td>\n      <td>watts_strogatz</td>\n      <td>{'Poor': [5500, 1875], 'Middle-Class': [32312....</td>\n      <td>151</td>\n      <td>0.000000e+00</td>\n      <td>...</td>\n      <td>0</td>\n      <td>{'AverageDamagePerPoorHousehold': 14554.339054...</td>\n      <td>{'AverageIncomeToDamagePoorHousehold': 2.70289...</td>\n      <td>Plus10</td>\n      <td>0.000000</td>\n      <td>0.000000</td>\n      <td>0.000000</td>\n      <td>0.000000</td>\n      <td>0.000000</td>\n      <td>0.000000</td>\n    </tr>\n    <tr>\n      <th>4</th>\n      <td>1</td>\n      <td>0</td>\n      <td>4</td>\n      <td>1000</td>\n      <td>80</td>\n      <td>100yr</td>\n      <td>watts_strogatz</td>\n      <td>{'Poor': [5500, 1875], 'Middle-Class': [32312....</td>\n      <td>178</td>\n      <td>0.000000e+00</td>\n      <td>...</td>\n      <td>0</td>\n      <td>{'AverageDamagePerPoorHousehold': 13944.437077...</td>\n      <td>{'AverageIncomeToDamagePoorHousehold': 2.58963...</td>\n      <td>Plus10</td>\n      <td>0.000000</td>\n      <td>0.000000</td>\n      <td>0.000000</td>\n      <td>0.000000</td>\n      <td>0.000000</td>\n      <td>0.000000</td>\n    </tr>\n    <tr>\n      <th>...</th>\n      <td>...</td>\n      <td>...</td>\n      <td>...</td>\n      <td>...</td>\n      <td>...</td>\n      <td>...</td>\n      <td>...</td>\n      <td>...</td>\n      <td>...</td>\n      <td>...</td>\n      <td>...</td>\n      <td>...</td>\n      <td>...</td>\n      <td>...</td>\n      <td>...</td>\n      <td>...</td>\n      <td>...</td>\n      <td>...</td>\n      <td>...</td>\n      <td>...</td>\n      <td>...</td>\n    </tr>\n    <tr>\n      <th>19752</th>\n      <td>499</td>\n      <td>99</td>\n      <td>65</td>\n      <td>1000</td>\n      <td>80</td>\n      <td>100yr</td>\n      <td>watts_strogatz</td>\n      <td>{'Poor': [3500, 1875], 'Middle-Class': [20562....</td>\n      <td>326</td>\n      <td>0.000000e+00</td>\n      <td>...</td>\n      <td>0</td>\n      <td>{'AverageDamagePerPoorHousehold': 6897.3661993...</td>\n      <td>{'AverageIncomeToDamagePoorHousehold': 1.89420...</td>\n      <td>Minus30</td>\n      <td>0.000000</td>\n      <td>0.000000</td>\n      <td>0.000000</td>\n      <td>0.000000</td>\n      <td>0.000000</td>\n      <td>0.000000</td>\n    </tr>\n    <tr>\n      <th>19753</th>\n      <td>499</td>\n      <td>99</td>\n      <td>66</td>\n      <td>1000</td>\n      <td>80</td>\n      <td>100yr</td>\n      <td>watts_strogatz</td>\n      <td>{'Poor': [3500, 1875], 'Middle-Class': [20562....</td>\n      <td>326</td>\n      <td>0.000000e+00</td>\n      <td>...</td>\n      <td>0</td>\n      <td>{'AverageDamagePerPoorHousehold': 6897.3661993...</td>\n      <td>{'AverageIncomeToDamagePoorHousehold': 1.89420...</td>\n      <td>Minus30</td>\n      <td>0.000000</td>\n      <td>0.000000</td>\n      <td>0.000000</td>\n      <td>0.000000</td>\n      <td>0.000000</td>\n      <td>0.000000</td>\n    </tr>\n    <tr>\n      <th>19754</th>\n      <td>499</td>\n      <td>99</td>\n      <td>67</td>\n      <td>1000</td>\n      <td>80</td>\n      <td>100yr</td>\n      <td>watts_strogatz</td>\n      <td>{'Poor': [3500, 1875], 'Middle-Class': [20562....</td>\n      <td>326</td>\n      <td>0.000000e+00</td>\n      <td>...</td>\n      <td>0</td>\n      <td>{'AverageDamagePerPoorHousehold': 6897.3661993...</td>\n      <td>{'AverageIncomeToDamagePoorHousehold': 1.89420...</td>\n      <td>Minus30</td>\n      <td>0.000000</td>\n      <td>0.000000</td>\n      <td>0.000000</td>\n      <td>0.000000</td>\n      <td>0.000000</td>\n      <td>0.000000</td>\n    </tr>\n    <tr>\n      <th>19755</th>\n      <td>499</td>\n      <td>99</td>\n      <td>68</td>\n      <td>1000</td>\n      <td>80</td>\n      <td>100yr</td>\n      <td>watts_strogatz</td>\n      <td>{'Poor': [3500, 1875], 'Middle-Class': [20562....</td>\n      <td>326</td>\n      <td>0.000000e+00</td>\n      <td>...</td>\n      <td>0</td>\n      <td>{'AverageDamagePerPoorHousehold': 6897.3661993...</td>\n      <td>{'AverageIncomeToDamagePoorHousehold': 1.89420...</td>\n      <td>Minus30</td>\n      <td>0.000000</td>\n      <td>0.000000</td>\n      <td>0.000000</td>\n      <td>0.000000</td>\n      <td>0.000000</td>\n      <td>0.000000</td>\n    </tr>\n    <tr>\n      <th>19756</th>\n      <td>499</td>\n      <td>99</td>\n      <td>69</td>\n      <td>1000</td>\n      <td>80</td>\n      <td>100yr</td>\n      <td>watts_strogatz</td>\n      <td>{'Poor': [3500, 1875], 'Middle-Class': [20562....</td>\n      <td>326</td>\n      <td>1.623147e+07</td>\n      <td>...</td>\n      <td>0</td>\n      <td>{'AverageDamagePerPoorHousehold': 6897.3661993...</td>\n      <td>{'AverageIncomeToDamagePoorHousehold': 1.89420...</td>\n      <td>Minus30</td>\n      <td>6501.730599</td>\n      <td>15269.091965</td>\n      <td>45552.120407</td>\n      <td>1.785554</td>\n      <td>0.746951</td>\n      <td>0.735872</td>\n    </tr>\n  </tbody>\n</table>\n<p>19757 rows × 22 columns</p>\n</div>"
     },
     "execution_count": 13,
     "metadata": {},
     "output_type": "execute_result"
    }
   ],
   "source": [
    "def unpack_dictionary(row, column_name):\n",
    "    return pd.Series(row[column_name])\n",
    "\n",
    "#base_case_unpacked = base_case_100_iterations.apply(unpack_dictionary['AverageDamagePerIncomeLabel'], axis = 1)\n",
    "first_column_unpacked = sensitivity_analysis_income_distribution.apply(unpack_dictionary, args=('AverageDamagePerIncomeLabel',), axis=1)\n",
    "second_column_unpacked = sensitivity_analysis_income_distribution.apply(unpack_dictionary, args=('AverageIncomeToDamageRatio',), axis=1)\n",
    "sensitivity_analysis_income_unpacked = pd.concat([sensitivity_analysis_income_distribution, first_column_unpacked, second_column_unpacked], axis=1)\n",
    "sensitivity_analysis_income_clean = sensitivity_analysis_income_unpacked.drop(['AverageDamagePerIncomeLabel', 'AverageIncomeToDamageRatio'], axis=1)\n",
    "sensitivity_analysis_income_clean"
   ]
  },
  {
   "cell_type": "code",
   "execution_count": 14,
   "outputs": [
    {
     "data": {
      "text/plain": "       RunId  iteration  Step  number_of_households  number_of_steps  \\\n16         0          0     0                  1000               80   \n17         0          0     1                  1000               80   \n18         0          0     2                  1000               80   \n19         0          0     3                  1000               80   \n20         0          0     4                  1000               80   \n...      ...        ...   ...                   ...              ...   \n19752    499         99    65                  1000               80   \n19753    499         99    66                  1000               80   \n19754    499         99    67                  1000               80   \n19755    499         99    68                  1000               80   \n19756    499         99    69                  1000               80   \n\n      flood_map_choice         network  \\\n16               100yr  watts_strogatz   \n17               100yr  watts_strogatz   \n18               100yr  watts_strogatz   \n19               100yr  watts_strogatz   \n20               100yr  watts_strogatz   \n...                ...             ...   \n19752            100yr  watts_strogatz   \n19753            100yr  watts_strogatz   \n19754            100yr  watts_strogatz   \n19755            100yr  watts_strogatz   \n19756            100yr  watts_strogatz   \n\n                                     income_distribution  \\\n16     {'Poor': [5000, 1875], 'Middle-Class': [29375,...   \n17     {'Poor': [5000, 1875], 'Middle-Class': [29375,...   \n18     {'Poor': [5000, 1875], 'Middle-Class': [29375,...   \n19     {'Poor': [5000, 1875], 'Middle-Class': [29375,...   \n20     {'Poor': [5000, 1875], 'Middle-Class': [29375,...   \n...                                                  ...   \n19752  {'Poor': [3500, 1875], 'Middle-Class': [20562....   \n19753  {'Poor': [3500, 1875], 'Middle-Class': [20562....   \n19754  {'Poor': [3500, 1875], 'Middle-Class': [20562....   \n19755  {'Poor': [3500, 1875], 'Middle-Class': [20562....   \n19756  {'Poor': [3500, 1875], 'Middle-Class': [20562....   \n\n       TotalAdaptedHouseholds  TotalActualDamage  ...  TotalCostsOfSubsidies  \\\n16                          0       0.000000e+00  ...                      0   \n17                         51       0.000000e+00  ...                      0   \n18                        129       0.000000e+00  ...                      0   \n19                        190       0.000000e+00  ...                      0   \n20                        233       0.000000e+00  ...                      0   \n...                       ...                ...  ...                    ...   \n19752                     326       0.000000e+00  ...                      0   \n19753                     326       0.000000e+00  ...                      0   \n19754                     326       0.000000e+00  ...                      0   \n19755                     326       0.000000e+00  ...                      0   \n19756                     326       1.623147e+07  ...                      0   \n\n                    EstimatedAverageDamagePerIncomeLabel  \\\n16     {'AverageDamagePerPoorHousehold': 17398.637407...   \n17     {'AverageDamagePerPoorHousehold': 17332.147297...   \n18     {'AverageDamagePerPoorHousehold': 17186.174775...   \n19     {'AverageDamagePerPoorHousehold': 16656.746021...   \n20     {'AverageDamagePerPoorHousehold': 15569.005372...   \n...                                                  ...   \n19752  {'AverageDamagePerPoorHousehold': 6897.3661993...   \n19753  {'AverageDamagePerPoorHousehold': 6897.3661993...   \n19754  {'AverageDamagePerPoorHousehold': 6897.3661993...   \n19755  {'AverageDamagePerPoorHousehold': 6897.3661993...   \n19756  {'AverageDamagePerPoorHousehold': 6897.3661993...   \n\n                     EstimatedAverageIncomeToDamageRatio IncomeDistribution  \\\n16     {'AverageIncomeToDamagePoorHousehold': 3.41204...               Base   \n17     {'AverageIncomeToDamagePoorHousehold': 3.39900...               Base   \n18     {'AverageIncomeToDamagePoorHousehold': 3.37037...               Base   \n19     {'AverageIncomeToDamagePoorHousehold': 3.26654...               Base   \n20     {'AverageIncomeToDamagePoorHousehold': 3.05323...               Base   \n...                                                  ...                ...   \n19752  {'AverageIncomeToDamagePoorHousehold': 1.89420...            Minus30   \n19753  {'AverageIncomeToDamagePoorHousehold': 1.89420...            Minus30   \n19754  {'AverageIncomeToDamagePoorHousehold': 1.89420...            Minus30   \n19755  {'AverageIncomeToDamagePoorHousehold': 1.89420...            Minus30   \n19756  {'AverageIncomeToDamagePoorHousehold': 1.89420...            Minus30   \n\n      AverageDamagePerPoorHousehold AverageDamagePerMiddleClassHousehold  \\\n16                         0.000000                             0.000000   \n17                         0.000000                             0.000000   \n18                         0.000000                             0.000000   \n19                         0.000000                             0.000000   \n20                         0.000000                             0.000000   \n...                             ...                                  ...   \n19752                      0.000000                             0.000000   \n19753                      0.000000                             0.000000   \n19754                      0.000000                             0.000000   \n19755                      0.000000                             0.000000   \n19756                   6501.730599                         15269.091965   \n\n       AverageDamagePerRichHousehold  AverageIncomeToDamagePoorHousehold  \\\n16                          0.000000                            0.000000   \n17                          0.000000                            0.000000   \n18                          0.000000                            0.000000   \n19                          0.000000                            0.000000   \n20                          0.000000                            0.000000   \n...                              ...                                 ...   \n19752                       0.000000                            0.000000   \n19753                       0.000000                            0.000000   \n19754                       0.000000                            0.000000   \n19755                       0.000000                            0.000000   \n19756                   45552.120407                            1.785554   \n\n       AverageIncomeToDamageMiddleClassHousehold  \\\n16                                      0.000000   \n17                                      0.000000   \n18                                      0.000000   \n19                                      0.000000   \n20                                      0.000000   \n...                                          ...   \n19752                                   0.000000   \n19753                                   0.000000   \n19754                                   0.000000   \n19755                                   0.000000   \n19756                                   0.746951   \n\n       AverageIncomeToDamageRichHousehold  \n16                               0.000000  \n17                               0.000000  \n18                               0.000000  \n19                               0.000000  \n20                               0.000000  \n...                                   ...  \n19752                            0.000000  \n19753                            0.000000  \n19754                            0.000000  \n19755                            0.000000  \n19756                            0.735872  \n\n[19757 rows x 22 columns]",
      "text/html": "<div>\n<style scoped>\n    .dataframe tbody tr th:only-of-type {\n        vertical-align: middle;\n    }\n\n    .dataframe tbody tr th {\n        vertical-align: top;\n    }\n\n    .dataframe thead th {\n        text-align: right;\n    }\n</style>\n<table border=\"1\" class=\"dataframe\">\n  <thead>\n    <tr style=\"text-align: right;\">\n      <th></th>\n      <th>RunId</th>\n      <th>iteration</th>\n      <th>Step</th>\n      <th>number_of_households</th>\n      <th>number_of_steps</th>\n      <th>flood_map_choice</th>\n      <th>network</th>\n      <th>income_distribution</th>\n      <th>TotalAdaptedHouseholds</th>\n      <th>TotalActualDamage</th>\n      <th>...</th>\n      <th>TotalCostsOfSubsidies</th>\n      <th>EstimatedAverageDamagePerIncomeLabel</th>\n      <th>EstimatedAverageIncomeToDamageRatio</th>\n      <th>IncomeDistribution</th>\n      <th>AverageDamagePerPoorHousehold</th>\n      <th>AverageDamagePerMiddleClassHousehold</th>\n      <th>AverageDamagePerRichHousehold</th>\n      <th>AverageIncomeToDamagePoorHousehold</th>\n      <th>AverageIncomeToDamageMiddleClassHousehold</th>\n      <th>AverageIncomeToDamageRichHousehold</th>\n    </tr>\n  </thead>\n  <tbody>\n    <tr>\n      <th>16</th>\n      <td>0</td>\n      <td>0</td>\n      <td>0</td>\n      <td>1000</td>\n      <td>80</td>\n      <td>100yr</td>\n      <td>watts_strogatz</td>\n      <td>{'Poor': [5000, 1875], 'Middle-Class': [29375,...</td>\n      <td>0</td>\n      <td>0.000000e+00</td>\n      <td>...</td>\n      <td>0</td>\n      <td>{'AverageDamagePerPoorHousehold': 17398.637407...</td>\n      <td>{'AverageIncomeToDamagePoorHousehold': 3.41204...</td>\n      <td>Base</td>\n      <td>0.000000</td>\n      <td>0.000000</td>\n      <td>0.000000</td>\n      <td>0.000000</td>\n      <td>0.000000</td>\n      <td>0.000000</td>\n    </tr>\n    <tr>\n      <th>17</th>\n      <td>0</td>\n      <td>0</td>\n      <td>1</td>\n      <td>1000</td>\n      <td>80</td>\n      <td>100yr</td>\n      <td>watts_strogatz</td>\n      <td>{'Poor': [5000, 1875], 'Middle-Class': [29375,...</td>\n      <td>51</td>\n      <td>0.000000e+00</td>\n      <td>...</td>\n      <td>0</td>\n      <td>{'AverageDamagePerPoorHousehold': 17332.147297...</td>\n      <td>{'AverageIncomeToDamagePoorHousehold': 3.39900...</td>\n      <td>Base</td>\n      <td>0.000000</td>\n      <td>0.000000</td>\n      <td>0.000000</td>\n      <td>0.000000</td>\n      <td>0.000000</td>\n      <td>0.000000</td>\n    </tr>\n    <tr>\n      <th>18</th>\n      <td>0</td>\n      <td>0</td>\n      <td>2</td>\n      <td>1000</td>\n      <td>80</td>\n      <td>100yr</td>\n      <td>watts_strogatz</td>\n      <td>{'Poor': [5000, 1875], 'Middle-Class': [29375,...</td>\n      <td>129</td>\n      <td>0.000000e+00</td>\n      <td>...</td>\n      <td>0</td>\n      <td>{'AverageDamagePerPoorHousehold': 17186.174775...</td>\n      <td>{'AverageIncomeToDamagePoorHousehold': 3.37037...</td>\n      <td>Base</td>\n      <td>0.000000</td>\n      <td>0.000000</td>\n      <td>0.000000</td>\n      <td>0.000000</td>\n      <td>0.000000</td>\n      <td>0.000000</td>\n    </tr>\n    <tr>\n      <th>19</th>\n      <td>0</td>\n      <td>0</td>\n      <td>3</td>\n      <td>1000</td>\n      <td>80</td>\n      <td>100yr</td>\n      <td>watts_strogatz</td>\n      <td>{'Poor': [5000, 1875], 'Middle-Class': [29375,...</td>\n      <td>190</td>\n      <td>0.000000e+00</td>\n      <td>...</td>\n      <td>0</td>\n      <td>{'AverageDamagePerPoorHousehold': 16656.746021...</td>\n      <td>{'AverageIncomeToDamagePoorHousehold': 3.26654...</td>\n      <td>Base</td>\n      <td>0.000000</td>\n      <td>0.000000</td>\n      <td>0.000000</td>\n      <td>0.000000</td>\n      <td>0.000000</td>\n      <td>0.000000</td>\n    </tr>\n    <tr>\n      <th>20</th>\n      <td>0</td>\n      <td>0</td>\n      <td>4</td>\n      <td>1000</td>\n      <td>80</td>\n      <td>100yr</td>\n      <td>watts_strogatz</td>\n      <td>{'Poor': [5000, 1875], 'Middle-Class': [29375,...</td>\n      <td>233</td>\n      <td>0.000000e+00</td>\n      <td>...</td>\n      <td>0</td>\n      <td>{'AverageDamagePerPoorHousehold': 15569.005372...</td>\n      <td>{'AverageIncomeToDamagePoorHousehold': 3.05323...</td>\n      <td>Base</td>\n      <td>0.000000</td>\n      <td>0.000000</td>\n      <td>0.000000</td>\n      <td>0.000000</td>\n      <td>0.000000</td>\n      <td>0.000000</td>\n    </tr>\n    <tr>\n      <th>...</th>\n      <td>...</td>\n      <td>...</td>\n      <td>...</td>\n      <td>...</td>\n      <td>...</td>\n      <td>...</td>\n      <td>...</td>\n      <td>...</td>\n      <td>...</td>\n      <td>...</td>\n      <td>...</td>\n      <td>...</td>\n      <td>...</td>\n      <td>...</td>\n      <td>...</td>\n      <td>...</td>\n      <td>...</td>\n      <td>...</td>\n      <td>...</td>\n      <td>...</td>\n      <td>...</td>\n    </tr>\n    <tr>\n      <th>19752</th>\n      <td>499</td>\n      <td>99</td>\n      <td>65</td>\n      <td>1000</td>\n      <td>80</td>\n      <td>100yr</td>\n      <td>watts_strogatz</td>\n      <td>{'Poor': [3500, 1875], 'Middle-Class': [20562....</td>\n      <td>326</td>\n      <td>0.000000e+00</td>\n      <td>...</td>\n      <td>0</td>\n      <td>{'AverageDamagePerPoorHousehold': 6897.3661993...</td>\n      <td>{'AverageIncomeToDamagePoorHousehold': 1.89420...</td>\n      <td>Minus30</td>\n      <td>0.000000</td>\n      <td>0.000000</td>\n      <td>0.000000</td>\n      <td>0.000000</td>\n      <td>0.000000</td>\n      <td>0.000000</td>\n    </tr>\n    <tr>\n      <th>19753</th>\n      <td>499</td>\n      <td>99</td>\n      <td>66</td>\n      <td>1000</td>\n      <td>80</td>\n      <td>100yr</td>\n      <td>watts_strogatz</td>\n      <td>{'Poor': [3500, 1875], 'Middle-Class': [20562....</td>\n      <td>326</td>\n      <td>0.000000e+00</td>\n      <td>...</td>\n      <td>0</td>\n      <td>{'AverageDamagePerPoorHousehold': 6897.3661993...</td>\n      <td>{'AverageIncomeToDamagePoorHousehold': 1.89420...</td>\n      <td>Minus30</td>\n      <td>0.000000</td>\n      <td>0.000000</td>\n      <td>0.000000</td>\n      <td>0.000000</td>\n      <td>0.000000</td>\n      <td>0.000000</td>\n    </tr>\n    <tr>\n      <th>19754</th>\n      <td>499</td>\n      <td>99</td>\n      <td>67</td>\n      <td>1000</td>\n      <td>80</td>\n      <td>100yr</td>\n      <td>watts_strogatz</td>\n      <td>{'Poor': [3500, 1875], 'Middle-Class': [20562....</td>\n      <td>326</td>\n      <td>0.000000e+00</td>\n      <td>...</td>\n      <td>0</td>\n      <td>{'AverageDamagePerPoorHousehold': 6897.3661993...</td>\n      <td>{'AverageIncomeToDamagePoorHousehold': 1.89420...</td>\n      <td>Minus30</td>\n      <td>0.000000</td>\n      <td>0.000000</td>\n      <td>0.000000</td>\n      <td>0.000000</td>\n      <td>0.000000</td>\n      <td>0.000000</td>\n    </tr>\n    <tr>\n      <th>19755</th>\n      <td>499</td>\n      <td>99</td>\n      <td>68</td>\n      <td>1000</td>\n      <td>80</td>\n      <td>100yr</td>\n      <td>watts_strogatz</td>\n      <td>{'Poor': [3500, 1875], 'Middle-Class': [20562....</td>\n      <td>326</td>\n      <td>0.000000e+00</td>\n      <td>...</td>\n      <td>0</td>\n      <td>{'AverageDamagePerPoorHousehold': 6897.3661993...</td>\n      <td>{'AverageIncomeToDamagePoorHousehold': 1.89420...</td>\n      <td>Minus30</td>\n      <td>0.000000</td>\n      <td>0.000000</td>\n      <td>0.000000</td>\n      <td>0.000000</td>\n      <td>0.000000</td>\n      <td>0.000000</td>\n    </tr>\n    <tr>\n      <th>19756</th>\n      <td>499</td>\n      <td>99</td>\n      <td>69</td>\n      <td>1000</td>\n      <td>80</td>\n      <td>100yr</td>\n      <td>watts_strogatz</td>\n      <td>{'Poor': [3500, 1875], 'Middle-Class': [20562....</td>\n      <td>326</td>\n      <td>1.623147e+07</td>\n      <td>...</td>\n      <td>0</td>\n      <td>{'AverageDamagePerPoorHousehold': 6897.3661993...</td>\n      <td>{'AverageIncomeToDamagePoorHousehold': 1.89420...</td>\n      <td>Minus30</td>\n      <td>6501.730599</td>\n      <td>15269.091965</td>\n      <td>45552.120407</td>\n      <td>1.785554</td>\n      <td>0.746951</td>\n      <td>0.735872</td>\n    </tr>\n  </tbody>\n</table>\n<p>19757 rows × 22 columns</p>\n</div>"
     },
     "execution_count": 14,
     "metadata": {},
     "output_type": "execute_result"
    }
   ],
   "source": [
    "\n",
    "df_sorted = sensitivity_analysis_income_clean.sort_values(by=['RunId', 'Step'])\n",
    "df_sorted"
   ],
   "metadata": {
    "collapsed": false,
    "ExecuteTime": {
     "end_time": "2024-01-24T13:56:50.998403Z",
     "start_time": "2024-01-24T13:56:50.897810Z"
    }
   },
   "id": "5510c39584f82fcc"
  },
  {
   "cell_type": "code",
   "outputs": [],
   "source": [
    "output_data_path = r'../output_data/SensitivityAnalysisIncomeDistribution.csv'\n",
    "df_sorted.to_csv(output_data_path, index=False)"
   ],
   "metadata": {
    "collapsed": false,
    "ExecuteTime": {
     "end_time": "2024-01-24T13:58:35.993480Z",
     "start_time": "2024-01-24T13:58:35.187145Z"
    }
   },
   "id": "ba395d4e10468a1f",
   "execution_count": 15
  },
  {
   "cell_type": "code",
   "execution_count": null,
   "outputs": [],
   "source": [],
   "metadata": {
    "collapsed": false
   },
   "id": "51d7421953f2eab3"
  }
 ],
 "metadata": {
  "kernelspec": {
   "display_name": "Python 3 (ipykernel)",
   "language": "python",
   "name": "python3"
  },
  "language_info": {
   "codemirror_mode": {
    "name": "ipython",
    "version": 3
   },
   "file_extension": ".py",
   "mimetype": "text/x-python",
   "name": "python",
   "nbconvert_exporter": "python",
   "pygments_lexer": "ipython3",
   "version": "3.12.0"
  }
 },
 "nbformat": 4,
 "nbformat_minor": 5
}
