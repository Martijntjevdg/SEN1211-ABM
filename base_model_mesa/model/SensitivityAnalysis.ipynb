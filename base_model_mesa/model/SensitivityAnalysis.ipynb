{
 "cells": [
  {
   "cell_type": "code",
   "execution_count": 6,
   "id": "initial_id",
   "metadata": {
    "ExecuteTime": {
     "end_time": "2024-01-24T13:23:32.200112Z",
     "start_time": "2024-01-24T13:23:32.195700Z"
    }
   },
   "outputs": [],
   "source": [
    "from model import AdaptationModel\n",
    "from mesa.batchrunner import batch_run\n",
    "import pandas as pd"
   ]
  },
  {
   "cell_type": "code",
   "execution_count": 7,
   "id": "f0d21165-cdcc-40ad-b760-70233b339009",
   "metadata": {
    "ExecuteTime": {
     "end_time": "2024-01-24T13:25:49.435404Z",
     "start_time": "2024-01-24T13:23:38.397520Z"
    }
   },
   "outputs": [
    {
     "data": {
      "text/plain": "  0%|          | 0/500 [00:00<?, ?it/s]",
      "application/vnd.jupyter.widget-view+json": {
       "version_major": 2,
       "version_minor": 0,
       "model_id": "8d3ec0b8e5de44069c040327b28c2d17"
      }
     },
     "metadata": {},
     "output_type": "display_data"
    }
   ],
   "source": [
    "income_distribution_base = {'Poor': [5000, 1875], 'Middle-Class': [29375, 10312], 'Rich': [87500, 18750]},\n",
    "income_distribution_plus_10 = {'Poor': [5500, 1875], 'Middle-Class': [32312.5, 10321], 'Rich': [96250, 18750]}\n",
    "income_distribution_minus_10 = {'Poor': [4500, 1875], 'Middle-Class': [26437.5, 10321], 'Rich': [78750, 18750]}\n",
    "income_distribution_plus_30 = {'Poor': [6500, 1875], 'Middle-Class': [38187.5, 10321], 'Rich': [133750, 18750]}\n",
    "income_distribution_minus_30 = {'Poor': [3500, 1875], 'Middle-Class': [20562.5, 10321], 'Rich': [61250, 18750]}\n",
    "\n",
    "#income_distributions = [income_distribution_base, income_distribution_plus_10, income_distribution_minus_10,\n",
    "                         #income_distribution_plus_30, income_distribution_minus_30]\n",
    "#Income distribution\n",
    "model_params = {\n",
    "    \"number_of_households\": 1000,\n",
    "    \"number_of_steps\": 80,\n",
    "    \"flood_map_choice\": \"harvey\",\n",
    "    \"network\": \"watts_strogatz\",\n",
    "    \"income_distribution\":[{'Poor': [5000, 1875], 'Middle-Class': [29375, 10312], 'Rich': [87500, 18750]},\n",
    "                           {'Poor': [5500, 1875], 'Middle-Class': [32312.5, 10321], 'Rich': [96250, 18750]},\n",
    "                           {'Poor': [4500, 1875], 'Middle-Class': [26437.5, 10321], 'Rich': [78750, 18750]},\n",
    "                           {'Poor': [6500, 1875], 'Middle-Class': [38187.5, 10321], 'Rich': [133750, 18750]},\n",
    "                           {'Poor': [3500, 1875], 'Middle-Class': [20562.5, 10321], 'Rich': [61250, 18750]}]\n",
    "}\n",
    "\n",
    "\n",
    "\n",
    "results = batch_run(\n",
    "    model_cls=AdaptationModel,\n",
    "    parameters=model_params,\n",
    "    number_processes=4,  # Set to None if you want to use all CPUs\n",
    "    iterations=100,  # Number of iterations for each parameter combination\n",
    "    data_collection_period=1,  # Collect data at the end of each run\n",
    "    max_steps=model_params[\"number_of_steps\"],  # Maximum number of model steps\n",
    "    display_progress=True  # Display progress bar\n",
    ")\n",
    "\n",
    "df = pd.DataFrame(results)\n",
    "\n",
    "sensitivity_analysis_income_distribution = df"
   ]
  },
  {
   "cell_type": "code",
   "execution_count": 8,
   "id": "5f434c73-68e1-4de7-96ea-94f5288fcef3",
   "metadata": {
    "ExecuteTime": {
     "end_time": "2024-01-24T13:26:13.873303Z",
     "start_time": "2024-01-24T13:26:02.816769Z"
    }
   },
   "outputs": [
    {
     "data": {
      "text/plain": "       RunId  iteration  Step  number_of_households  number_of_steps  \\\n0          1          0     0                  1000               80   \n1          1          0     1                  1000               80   \n2          1          0     2                  1000               80   \n3          1          0     3                  1000               80   \n4          1          0     4                  1000               80   \n...      ...        ...   ...                   ...              ...   \n20359    499         99    55                  1000               80   \n20360    499         99    56                  1000               80   \n20361    499         99    57                  1000               80   \n20362    499         99    58                  1000               80   \n20363    499         99    59                  1000               80   \n\n      flood_map_choice         network  \\\n0               harvey  watts_strogatz   \n1               harvey  watts_strogatz   \n2               harvey  watts_strogatz   \n3               harvey  watts_strogatz   \n4               harvey  watts_strogatz   \n...                ...             ...   \n20359           harvey  watts_strogatz   \n20360           harvey  watts_strogatz   \n20361           harvey  watts_strogatz   \n20362           harvey  watts_strogatz   \n20363           harvey  watts_strogatz   \n\n                                     income_distribution  \\\n0      {'Poor': [5500, 1875], 'Middle-Class': [32312....   \n1      {'Poor': [5500, 1875], 'Middle-Class': [32312....   \n2      {'Poor': [5500, 1875], 'Middle-Class': [32312....   \n3      {'Poor': [5500, 1875], 'Middle-Class': [32312....   \n4      {'Poor': [5500, 1875], 'Middle-Class': [32312....   \n...                                                  ...   \n20359  {'Poor': [3500, 1875], 'Middle-Class': [20562....   \n20360  {'Poor': [3500, 1875], 'Middle-Class': [20562....   \n20361  {'Poor': [3500, 1875], 'Middle-Class': [20562....   \n20362  {'Poor': [3500, 1875], 'Middle-Class': [20562....   \n20363  {'Poor': [3500, 1875], 'Middle-Class': [20562....   \n\n       TotalAdaptedHouseholds  TotalActualDamage  ...  TotalCostsOfSubsidies  \\\n0                           0       0.000000e+00  ...                      0   \n1                         135       0.000000e+00  ...                      0   \n2                         267       0.000000e+00  ...                      0   \n3                         363       0.000000e+00  ...                      0   \n4                         410       5.391783e+07  ...                      0   \n...                       ...                ...  ...                    ...   \n20359                     596       0.000000e+00  ...                      0   \n20360                     596       0.000000e+00  ...                      0   \n20361                     596       0.000000e+00  ...                      0   \n20362                     597       0.000000e+00  ...                      0   \n20363                     597       4.486012e+07  ...                      0   \n\n                    EstimatedAverageDamagePerIncomeLabel  \\\n0      {'AverageDamagePerPoorHousehold': 38741.124147...   \n1      {'AverageDamagePerPoorHousehold': 38731.067562...   \n2      {'AverageDamagePerPoorHousehold': 38106.806956...   \n3      {'AverageDamagePerPoorHousehold': 37405.245176...   \n4      {'AverageDamagePerPoorHousehold': 36526.311578...   \n...                                                  ...   \n20359  {'AverageDamagePerPoorHousehold': 20846.872152...   \n20360  {'AverageDamagePerPoorHousehold': 20846.872152...   \n20361  {'AverageDamagePerPoorHousehold': 20846.872152...   \n20362  {'AverageDamagePerPoorHousehold': 20846.872152...   \n20363  {'AverageDamagePerPoorHousehold': 20846.872152...   \n\n                     EstimatedAverageIncomeToDamageRatio IncomeDistribution  \\\n0      {'AverageIncomeToDamagePoorHousehold': 7.03931...             Plus10   \n1      {'AverageIncomeToDamagePoorHousehold': 7.03748...             Plus10   \n2      {'AverageIncomeToDamagePoorHousehold': 6.92405...             Plus10   \n3      {'AverageIncomeToDamagePoorHousehold': 6.79658...             Plus10   \n4      {'AverageIncomeToDamagePoorHousehold': 6.63688...             Plus10   \n...                                                  ...                ...   \n20359  {'AverageIncomeToDamagePoorHousehold': 5.85206...            Minus30   \n20360  {'AverageIncomeToDamagePoorHousehold': 5.85206...            Minus30   \n20361  {'AverageIncomeToDamagePoorHousehold': 5.85206...            Minus30   \n20362  {'AverageIncomeToDamagePoorHousehold': 5.85206...            Minus30   \n20363  {'AverageIncomeToDamagePoorHousehold': 5.85206...            Minus30   \n\n      AverageDamagePerPoorHousehold AverageDamagePerMiddleClassHousehold  \\\n0                          0.000000                             0.000000   \n1                          0.000000                             0.000000   \n2                          0.000000                             0.000000   \n3                          0.000000                             0.000000   \n4                      34441.171884                         51233.843665   \n...                             ...                                  ...   \n20359                      0.000000                             0.000000   \n20360                      0.000000                             0.000000   \n20361                      0.000000                             0.000000   \n20362                      0.000000                             0.000000   \n20363                  19769.115413                         47458.740907   \n\n       AverageDamagePerRichHousehold  AverageIncomeToDamagePoorHousehold  \\\n0                           0.000000                            0.000000   \n1                           0.000000                            0.000000   \n2                           0.000000                            0.000000   \n3                           0.000000                            0.000000   \n4                      121535.381109                            6.258008   \n...                              ...                                 ...   \n20359                       0.000000                            0.000000   \n20360                       0.000000                            0.000000   \n20361                       0.000000                            0.000000   \n20362                       0.000000                            0.000000   \n20363                   95193.168414                            5.549516   \n\n       AverageIncomeToDamageMiddleClassHousehold  \\\n0                                        0.00000   \n1                                        0.00000   \n2                                        0.00000   \n3                                        0.00000   \n4                                        1.56693   \n...                                          ...   \n20359                                    0.00000   \n20360                                    0.00000   \n20361                                    0.00000   \n20362                                    0.00000   \n20363                                    2.31587   \n\n       AverageIncomeToDamageRichHousehold  \n0                                0.000000  \n1                                0.000000  \n2                                0.000000  \n3                                0.000000  \n4                                1.232512  \n...                                   ...  \n20359                            0.000000  \n20360                            0.000000  \n20361                            0.000000  \n20362                            0.000000  \n20363                            1.585814  \n\n[20364 rows x 22 columns]",
      "text/html": "<div>\n<style scoped>\n    .dataframe tbody tr th:only-of-type {\n        vertical-align: middle;\n    }\n\n    .dataframe tbody tr th {\n        vertical-align: top;\n    }\n\n    .dataframe thead th {\n        text-align: right;\n    }\n</style>\n<table border=\"1\" class=\"dataframe\">\n  <thead>\n    <tr style=\"text-align: right;\">\n      <th></th>\n      <th>RunId</th>\n      <th>iteration</th>\n      <th>Step</th>\n      <th>number_of_households</th>\n      <th>number_of_steps</th>\n      <th>flood_map_choice</th>\n      <th>network</th>\n      <th>income_distribution</th>\n      <th>TotalAdaptedHouseholds</th>\n      <th>TotalActualDamage</th>\n      <th>...</th>\n      <th>TotalCostsOfSubsidies</th>\n      <th>EstimatedAverageDamagePerIncomeLabel</th>\n      <th>EstimatedAverageIncomeToDamageRatio</th>\n      <th>IncomeDistribution</th>\n      <th>AverageDamagePerPoorHousehold</th>\n      <th>AverageDamagePerMiddleClassHousehold</th>\n      <th>AverageDamagePerRichHousehold</th>\n      <th>AverageIncomeToDamagePoorHousehold</th>\n      <th>AverageIncomeToDamageMiddleClassHousehold</th>\n      <th>AverageIncomeToDamageRichHousehold</th>\n    </tr>\n  </thead>\n  <tbody>\n    <tr>\n      <th>0</th>\n      <td>1</td>\n      <td>0</td>\n      <td>0</td>\n      <td>1000</td>\n      <td>80</td>\n      <td>harvey</td>\n      <td>watts_strogatz</td>\n      <td>{'Poor': [5500, 1875], 'Middle-Class': [32312....</td>\n      <td>0</td>\n      <td>0.000000e+00</td>\n      <td>...</td>\n      <td>0</td>\n      <td>{'AverageDamagePerPoorHousehold': 38741.124147...</td>\n      <td>{'AverageIncomeToDamagePoorHousehold': 7.03931...</td>\n      <td>Plus10</td>\n      <td>0.000000</td>\n      <td>0.000000</td>\n      <td>0.000000</td>\n      <td>0.000000</td>\n      <td>0.00000</td>\n      <td>0.000000</td>\n    </tr>\n    <tr>\n      <th>1</th>\n      <td>1</td>\n      <td>0</td>\n      <td>1</td>\n      <td>1000</td>\n      <td>80</td>\n      <td>harvey</td>\n      <td>watts_strogatz</td>\n      <td>{'Poor': [5500, 1875], 'Middle-Class': [32312....</td>\n      <td>135</td>\n      <td>0.000000e+00</td>\n      <td>...</td>\n      <td>0</td>\n      <td>{'AverageDamagePerPoorHousehold': 38731.067562...</td>\n      <td>{'AverageIncomeToDamagePoorHousehold': 7.03748...</td>\n      <td>Plus10</td>\n      <td>0.000000</td>\n      <td>0.000000</td>\n      <td>0.000000</td>\n      <td>0.000000</td>\n      <td>0.00000</td>\n      <td>0.000000</td>\n    </tr>\n    <tr>\n      <th>2</th>\n      <td>1</td>\n      <td>0</td>\n      <td>2</td>\n      <td>1000</td>\n      <td>80</td>\n      <td>harvey</td>\n      <td>watts_strogatz</td>\n      <td>{'Poor': [5500, 1875], 'Middle-Class': [32312....</td>\n      <td>267</td>\n      <td>0.000000e+00</td>\n      <td>...</td>\n      <td>0</td>\n      <td>{'AverageDamagePerPoorHousehold': 38106.806956...</td>\n      <td>{'AverageIncomeToDamagePoorHousehold': 6.92405...</td>\n      <td>Plus10</td>\n      <td>0.000000</td>\n      <td>0.000000</td>\n      <td>0.000000</td>\n      <td>0.000000</td>\n      <td>0.00000</td>\n      <td>0.000000</td>\n    </tr>\n    <tr>\n      <th>3</th>\n      <td>1</td>\n      <td>0</td>\n      <td>3</td>\n      <td>1000</td>\n      <td>80</td>\n      <td>harvey</td>\n      <td>watts_strogatz</td>\n      <td>{'Poor': [5500, 1875], 'Middle-Class': [32312....</td>\n      <td>363</td>\n      <td>0.000000e+00</td>\n      <td>...</td>\n      <td>0</td>\n      <td>{'AverageDamagePerPoorHousehold': 37405.245176...</td>\n      <td>{'AverageIncomeToDamagePoorHousehold': 6.79658...</td>\n      <td>Plus10</td>\n      <td>0.000000</td>\n      <td>0.000000</td>\n      <td>0.000000</td>\n      <td>0.000000</td>\n      <td>0.00000</td>\n      <td>0.000000</td>\n    </tr>\n    <tr>\n      <th>4</th>\n      <td>1</td>\n      <td>0</td>\n      <td>4</td>\n      <td>1000</td>\n      <td>80</td>\n      <td>harvey</td>\n      <td>watts_strogatz</td>\n      <td>{'Poor': [5500, 1875], 'Middle-Class': [32312....</td>\n      <td>410</td>\n      <td>5.391783e+07</td>\n      <td>...</td>\n      <td>0</td>\n      <td>{'AverageDamagePerPoorHousehold': 36526.311578...</td>\n      <td>{'AverageIncomeToDamagePoorHousehold': 6.63688...</td>\n      <td>Plus10</td>\n      <td>34441.171884</td>\n      <td>51233.843665</td>\n      <td>121535.381109</td>\n      <td>6.258008</td>\n      <td>1.56693</td>\n      <td>1.232512</td>\n    </tr>\n    <tr>\n      <th>...</th>\n      <td>...</td>\n      <td>...</td>\n      <td>...</td>\n      <td>...</td>\n      <td>...</td>\n      <td>...</td>\n      <td>...</td>\n      <td>...</td>\n      <td>...</td>\n      <td>...</td>\n      <td>...</td>\n      <td>...</td>\n      <td>...</td>\n      <td>...</td>\n      <td>...</td>\n      <td>...</td>\n      <td>...</td>\n      <td>...</td>\n      <td>...</td>\n      <td>...</td>\n      <td>...</td>\n    </tr>\n    <tr>\n      <th>20359</th>\n      <td>499</td>\n      <td>99</td>\n      <td>55</td>\n      <td>1000</td>\n      <td>80</td>\n      <td>harvey</td>\n      <td>watts_strogatz</td>\n      <td>{'Poor': [3500, 1875], 'Middle-Class': [20562....</td>\n      <td>596</td>\n      <td>0.000000e+00</td>\n      <td>...</td>\n      <td>0</td>\n      <td>{'AverageDamagePerPoorHousehold': 20846.872152...</td>\n      <td>{'AverageIncomeToDamagePoorHousehold': 5.85206...</td>\n      <td>Minus30</td>\n      <td>0.000000</td>\n      <td>0.000000</td>\n      <td>0.000000</td>\n      <td>0.000000</td>\n      <td>0.00000</td>\n      <td>0.000000</td>\n    </tr>\n    <tr>\n      <th>20360</th>\n      <td>499</td>\n      <td>99</td>\n      <td>56</td>\n      <td>1000</td>\n      <td>80</td>\n      <td>harvey</td>\n      <td>watts_strogatz</td>\n      <td>{'Poor': [3500, 1875], 'Middle-Class': [20562....</td>\n      <td>596</td>\n      <td>0.000000e+00</td>\n      <td>...</td>\n      <td>0</td>\n      <td>{'AverageDamagePerPoorHousehold': 20846.872152...</td>\n      <td>{'AverageIncomeToDamagePoorHousehold': 5.85206...</td>\n      <td>Minus30</td>\n      <td>0.000000</td>\n      <td>0.000000</td>\n      <td>0.000000</td>\n      <td>0.000000</td>\n      <td>0.00000</td>\n      <td>0.000000</td>\n    </tr>\n    <tr>\n      <th>20361</th>\n      <td>499</td>\n      <td>99</td>\n      <td>57</td>\n      <td>1000</td>\n      <td>80</td>\n      <td>harvey</td>\n      <td>watts_strogatz</td>\n      <td>{'Poor': [3500, 1875], 'Middle-Class': [20562....</td>\n      <td>596</td>\n      <td>0.000000e+00</td>\n      <td>...</td>\n      <td>0</td>\n      <td>{'AverageDamagePerPoorHousehold': 20846.872152...</td>\n      <td>{'AverageIncomeToDamagePoorHousehold': 5.85206...</td>\n      <td>Minus30</td>\n      <td>0.000000</td>\n      <td>0.000000</td>\n      <td>0.000000</td>\n      <td>0.000000</td>\n      <td>0.00000</td>\n      <td>0.000000</td>\n    </tr>\n    <tr>\n      <th>20362</th>\n      <td>499</td>\n      <td>99</td>\n      <td>58</td>\n      <td>1000</td>\n      <td>80</td>\n      <td>harvey</td>\n      <td>watts_strogatz</td>\n      <td>{'Poor': [3500, 1875], 'Middle-Class': [20562....</td>\n      <td>597</td>\n      <td>0.000000e+00</td>\n      <td>...</td>\n      <td>0</td>\n      <td>{'AverageDamagePerPoorHousehold': 20846.872152...</td>\n      <td>{'AverageIncomeToDamagePoorHousehold': 5.85206...</td>\n      <td>Minus30</td>\n      <td>0.000000</td>\n      <td>0.000000</td>\n      <td>0.000000</td>\n      <td>0.000000</td>\n      <td>0.00000</td>\n      <td>0.000000</td>\n    </tr>\n    <tr>\n      <th>20363</th>\n      <td>499</td>\n      <td>99</td>\n      <td>59</td>\n      <td>1000</td>\n      <td>80</td>\n      <td>harvey</td>\n      <td>watts_strogatz</td>\n      <td>{'Poor': [3500, 1875], 'Middle-Class': [20562....</td>\n      <td>597</td>\n      <td>4.486012e+07</td>\n      <td>...</td>\n      <td>0</td>\n      <td>{'AverageDamagePerPoorHousehold': 20846.872152...</td>\n      <td>{'AverageIncomeToDamagePoorHousehold': 5.85206...</td>\n      <td>Minus30</td>\n      <td>19769.115413</td>\n      <td>47458.740907</td>\n      <td>95193.168414</td>\n      <td>5.549516</td>\n      <td>2.31587</td>\n      <td>1.585814</td>\n    </tr>\n  </tbody>\n</table>\n<p>20364 rows × 22 columns</p>\n</div>"
     },
     "execution_count": 8,
     "metadata": {},
     "output_type": "execute_result"
    }
   ],
   "source": [
    "def unpack_dictionary(row, column_name):\n",
    "    return pd.Series(row[column_name])\n",
    "\n",
    "#base_case_unpacked = base_case_100_iterations.apply(unpack_dictionary['AverageDamagePerIncomeLabel'], axis = 1)\n",
    "first_column_unpacked = sensitivity_analysis_income_distribution.apply(unpack_dictionary, args=('AverageDamagePerIncomeLabel',), axis=1)\n",
    "second_column_unpacked = sensitivity_analysis_income_distribution.apply(unpack_dictionary, args=('AverageIncomeToDamageRatio',), axis=1)\n",
    "sensitivity_analysis_income_unpacked = pd.concat([sensitivity_analysis_income_distribution, first_column_unpacked, second_column_unpacked], axis=1)\n",
    "sensitivity_analysis_income_clean = sensitivity_analysis_income_unpacked.drop(['AverageDamagePerIncomeLabel', 'AverageIncomeToDamageRatio'], axis=1)\n",
    "sensitivity_analysis_income_clean"
   ]
  },
  {
   "cell_type": "code",
   "execution_count": 9,
   "outputs": [
    {
     "data": {
      "text/plain": "       RunId  iteration  Step  number_of_households  number_of_steps  \\\n5          0          0     0                  1000               80   \n6          0          0     1                  1000               80   \n7          0          0     2                  1000               80   \n8          0          0     3                  1000               80   \n9          0          0     4                  1000               80   \n...      ...        ...   ...                   ...              ...   \n20359    499         99    55                  1000               80   \n20360    499         99    56                  1000               80   \n20361    499         99    57                  1000               80   \n20362    499         99    58                  1000               80   \n20363    499         99    59                  1000               80   \n\n      flood_map_choice         network  \\\n5               harvey  watts_strogatz   \n6               harvey  watts_strogatz   \n7               harvey  watts_strogatz   \n8               harvey  watts_strogatz   \n9               harvey  watts_strogatz   \n...                ...             ...   \n20359           harvey  watts_strogatz   \n20360           harvey  watts_strogatz   \n20361           harvey  watts_strogatz   \n20362           harvey  watts_strogatz   \n20363           harvey  watts_strogatz   \n\n                                     income_distribution  \\\n5      {'Poor': [5000, 1875], 'Middle-Class': [29375,...   \n6      {'Poor': [5000, 1875], 'Middle-Class': [29375,...   \n7      {'Poor': [5000, 1875], 'Middle-Class': [29375,...   \n8      {'Poor': [5000, 1875], 'Middle-Class': [29375,...   \n9      {'Poor': [5000, 1875], 'Middle-Class': [29375,...   \n...                                                  ...   \n20359  {'Poor': [3500, 1875], 'Middle-Class': [20562....   \n20360  {'Poor': [3500, 1875], 'Middle-Class': [20562....   \n20361  {'Poor': [3500, 1875], 'Middle-Class': [20562....   \n20362  {'Poor': [3500, 1875], 'Middle-Class': [20562....   \n20363  {'Poor': [3500, 1875], 'Middle-Class': [20562....   \n\n       TotalAdaptedHouseholds  TotalActualDamage  ...  TotalCostsOfSubsidies  \\\n5                           0       0.000000e+00  ...                      0   \n6                         190       0.000000e+00  ...                      0   \n7                         361       0.000000e+00  ...                      0   \n8                         490       0.000000e+00  ...                      0   \n9                         536       0.000000e+00  ...                      0   \n...                       ...                ...  ...                    ...   \n20359                     596       0.000000e+00  ...                      0   \n20360                     596       0.000000e+00  ...                      0   \n20361                     596       0.000000e+00  ...                      0   \n20362                     597       0.000000e+00  ...                      0   \n20363                     597       4.486012e+07  ...                      0   \n\n                    EstimatedAverageDamagePerIncomeLabel  \\\n5      {'AverageDamagePerPoorHousehold': 34648.737897...   \n6      {'AverageDamagePerPoorHousehold': 34646.455640...   \n7      {'AverageDamagePerPoorHousehold': 33558.381287...   \n8      {'AverageDamagePerPoorHousehold': 32172.752409...   \n9      {'AverageDamagePerPoorHousehold': 31406.021313...   \n...                                                  ...   \n20359  {'AverageDamagePerPoorHousehold': 20846.872152...   \n20360  {'AverageDamagePerPoorHousehold': 20846.872152...   \n20361  {'AverageDamagePerPoorHousehold': 20846.872152...   \n20362  {'AverageDamagePerPoorHousehold': 20846.872152...   \n20363  {'AverageDamagePerPoorHousehold': 20846.872152...   \n\n                     EstimatedAverageIncomeToDamageRatio IncomeDistribution  \\\n5      {'AverageIncomeToDamagePoorHousehold': 7.03985...               Base   \n6      {'AverageIncomeToDamagePoorHousehold': 7.03939...               Base   \n7      {'AverageIncomeToDamagePoorHousehold': 6.81831...               Base   \n8      {'AverageIncomeToDamagePoorHousehold': 6.53678...               Base   \n9      {'AverageIncomeToDamagePoorHousehold': 6.38100...               Base   \n...                                                  ...                ...   \n20359  {'AverageIncomeToDamagePoorHousehold': 5.85206...            Minus30   \n20360  {'AverageIncomeToDamagePoorHousehold': 5.85206...            Minus30   \n20361  {'AverageIncomeToDamagePoorHousehold': 5.85206...            Minus30   \n20362  {'AverageIncomeToDamagePoorHousehold': 5.85206...            Minus30   \n20363  {'AverageIncomeToDamagePoorHousehold': 5.85206...            Minus30   \n\n      AverageDamagePerPoorHousehold AverageDamagePerMiddleClassHousehold  \\\n5                          0.000000                             0.000000   \n6                          0.000000                             0.000000   \n7                          0.000000                             0.000000   \n8                          0.000000                             0.000000   \n9                          0.000000                             0.000000   \n...                             ...                                  ...   \n20359                      0.000000                             0.000000   \n20360                      0.000000                             0.000000   \n20361                      0.000000                             0.000000   \n20362                      0.000000                             0.000000   \n20363                  19769.115413                         47458.740907   \n\n       AverageDamagePerRichHousehold  AverageIncomeToDamagePoorHousehold  \\\n5                           0.000000                            0.000000   \n6                           0.000000                            0.000000   \n7                           0.000000                            0.000000   \n8                           0.000000                            0.000000   \n9                           0.000000                            0.000000   \n...                              ...                                 ...   \n20359                       0.000000                            0.000000   \n20360                       0.000000                            0.000000   \n20361                       0.000000                            0.000000   \n20362                       0.000000                            0.000000   \n20363                   95193.168414                            5.549516   \n\n       AverageIncomeToDamageMiddleClassHousehold  \\\n5                                        0.00000   \n6                                        0.00000   \n7                                        0.00000   \n8                                        0.00000   \n9                                        0.00000   \n...                                          ...   \n20359                                    0.00000   \n20360                                    0.00000   \n20361                                    0.00000   \n20362                                    0.00000   \n20363                                    2.31587   \n\n       AverageIncomeToDamageRichHousehold  \n5                                0.000000  \n6                                0.000000  \n7                                0.000000  \n8                                0.000000  \n9                                0.000000  \n...                                   ...  \n20359                            0.000000  \n20360                            0.000000  \n20361                            0.000000  \n20362                            0.000000  \n20363                            1.585814  \n\n[20364 rows x 22 columns]",
      "text/html": "<div>\n<style scoped>\n    .dataframe tbody tr th:only-of-type {\n        vertical-align: middle;\n    }\n\n    .dataframe tbody tr th {\n        vertical-align: top;\n    }\n\n    .dataframe thead th {\n        text-align: right;\n    }\n</style>\n<table border=\"1\" class=\"dataframe\">\n  <thead>\n    <tr style=\"text-align: right;\">\n      <th></th>\n      <th>RunId</th>\n      <th>iteration</th>\n      <th>Step</th>\n      <th>number_of_households</th>\n      <th>number_of_steps</th>\n      <th>flood_map_choice</th>\n      <th>network</th>\n      <th>income_distribution</th>\n      <th>TotalAdaptedHouseholds</th>\n      <th>TotalActualDamage</th>\n      <th>...</th>\n      <th>TotalCostsOfSubsidies</th>\n      <th>EstimatedAverageDamagePerIncomeLabel</th>\n      <th>EstimatedAverageIncomeToDamageRatio</th>\n      <th>IncomeDistribution</th>\n      <th>AverageDamagePerPoorHousehold</th>\n      <th>AverageDamagePerMiddleClassHousehold</th>\n      <th>AverageDamagePerRichHousehold</th>\n      <th>AverageIncomeToDamagePoorHousehold</th>\n      <th>AverageIncomeToDamageMiddleClassHousehold</th>\n      <th>AverageIncomeToDamageRichHousehold</th>\n    </tr>\n  </thead>\n  <tbody>\n    <tr>\n      <th>5</th>\n      <td>0</td>\n      <td>0</td>\n      <td>0</td>\n      <td>1000</td>\n      <td>80</td>\n      <td>harvey</td>\n      <td>watts_strogatz</td>\n      <td>{'Poor': [5000, 1875], 'Middle-Class': [29375,...</td>\n      <td>0</td>\n      <td>0.000000e+00</td>\n      <td>...</td>\n      <td>0</td>\n      <td>{'AverageDamagePerPoorHousehold': 34648.737897...</td>\n      <td>{'AverageIncomeToDamagePoorHousehold': 7.03985...</td>\n      <td>Base</td>\n      <td>0.000000</td>\n      <td>0.000000</td>\n      <td>0.000000</td>\n      <td>0.000000</td>\n      <td>0.00000</td>\n      <td>0.000000</td>\n    </tr>\n    <tr>\n      <th>6</th>\n      <td>0</td>\n      <td>0</td>\n      <td>1</td>\n      <td>1000</td>\n      <td>80</td>\n      <td>harvey</td>\n      <td>watts_strogatz</td>\n      <td>{'Poor': [5000, 1875], 'Middle-Class': [29375,...</td>\n      <td>190</td>\n      <td>0.000000e+00</td>\n      <td>...</td>\n      <td>0</td>\n      <td>{'AverageDamagePerPoorHousehold': 34646.455640...</td>\n      <td>{'AverageIncomeToDamagePoorHousehold': 7.03939...</td>\n      <td>Base</td>\n      <td>0.000000</td>\n      <td>0.000000</td>\n      <td>0.000000</td>\n      <td>0.000000</td>\n      <td>0.00000</td>\n      <td>0.000000</td>\n    </tr>\n    <tr>\n      <th>7</th>\n      <td>0</td>\n      <td>0</td>\n      <td>2</td>\n      <td>1000</td>\n      <td>80</td>\n      <td>harvey</td>\n      <td>watts_strogatz</td>\n      <td>{'Poor': [5000, 1875], 'Middle-Class': [29375,...</td>\n      <td>361</td>\n      <td>0.000000e+00</td>\n      <td>...</td>\n      <td>0</td>\n      <td>{'AverageDamagePerPoorHousehold': 33558.381287...</td>\n      <td>{'AverageIncomeToDamagePoorHousehold': 6.81831...</td>\n      <td>Base</td>\n      <td>0.000000</td>\n      <td>0.000000</td>\n      <td>0.000000</td>\n      <td>0.000000</td>\n      <td>0.00000</td>\n      <td>0.000000</td>\n    </tr>\n    <tr>\n      <th>8</th>\n      <td>0</td>\n      <td>0</td>\n      <td>3</td>\n      <td>1000</td>\n      <td>80</td>\n      <td>harvey</td>\n      <td>watts_strogatz</td>\n      <td>{'Poor': [5000, 1875], 'Middle-Class': [29375,...</td>\n      <td>490</td>\n      <td>0.000000e+00</td>\n      <td>...</td>\n      <td>0</td>\n      <td>{'AverageDamagePerPoorHousehold': 32172.752409...</td>\n      <td>{'AverageIncomeToDamagePoorHousehold': 6.53678...</td>\n      <td>Base</td>\n      <td>0.000000</td>\n      <td>0.000000</td>\n      <td>0.000000</td>\n      <td>0.000000</td>\n      <td>0.00000</td>\n      <td>0.000000</td>\n    </tr>\n    <tr>\n      <th>9</th>\n      <td>0</td>\n      <td>0</td>\n      <td>4</td>\n      <td>1000</td>\n      <td>80</td>\n      <td>harvey</td>\n      <td>watts_strogatz</td>\n      <td>{'Poor': [5000, 1875], 'Middle-Class': [29375,...</td>\n      <td>536</td>\n      <td>0.000000e+00</td>\n      <td>...</td>\n      <td>0</td>\n      <td>{'AverageDamagePerPoorHousehold': 31406.021313...</td>\n      <td>{'AverageIncomeToDamagePoorHousehold': 6.38100...</td>\n      <td>Base</td>\n      <td>0.000000</td>\n      <td>0.000000</td>\n      <td>0.000000</td>\n      <td>0.000000</td>\n      <td>0.00000</td>\n      <td>0.000000</td>\n    </tr>\n    <tr>\n      <th>...</th>\n      <td>...</td>\n      <td>...</td>\n      <td>...</td>\n      <td>...</td>\n      <td>...</td>\n      <td>...</td>\n      <td>...</td>\n      <td>...</td>\n      <td>...</td>\n      <td>...</td>\n      <td>...</td>\n      <td>...</td>\n      <td>...</td>\n      <td>...</td>\n      <td>...</td>\n      <td>...</td>\n      <td>...</td>\n      <td>...</td>\n      <td>...</td>\n      <td>...</td>\n      <td>...</td>\n    </tr>\n    <tr>\n      <th>20359</th>\n      <td>499</td>\n      <td>99</td>\n      <td>55</td>\n      <td>1000</td>\n      <td>80</td>\n      <td>harvey</td>\n      <td>watts_strogatz</td>\n      <td>{'Poor': [3500, 1875], 'Middle-Class': [20562....</td>\n      <td>596</td>\n      <td>0.000000e+00</td>\n      <td>...</td>\n      <td>0</td>\n      <td>{'AverageDamagePerPoorHousehold': 20846.872152...</td>\n      <td>{'AverageIncomeToDamagePoorHousehold': 5.85206...</td>\n      <td>Minus30</td>\n      <td>0.000000</td>\n      <td>0.000000</td>\n      <td>0.000000</td>\n      <td>0.000000</td>\n      <td>0.00000</td>\n      <td>0.000000</td>\n    </tr>\n    <tr>\n      <th>20360</th>\n      <td>499</td>\n      <td>99</td>\n      <td>56</td>\n      <td>1000</td>\n      <td>80</td>\n      <td>harvey</td>\n      <td>watts_strogatz</td>\n      <td>{'Poor': [3500, 1875], 'Middle-Class': [20562....</td>\n      <td>596</td>\n      <td>0.000000e+00</td>\n      <td>...</td>\n      <td>0</td>\n      <td>{'AverageDamagePerPoorHousehold': 20846.872152...</td>\n      <td>{'AverageIncomeToDamagePoorHousehold': 5.85206...</td>\n      <td>Minus30</td>\n      <td>0.000000</td>\n      <td>0.000000</td>\n      <td>0.000000</td>\n      <td>0.000000</td>\n      <td>0.00000</td>\n      <td>0.000000</td>\n    </tr>\n    <tr>\n      <th>20361</th>\n      <td>499</td>\n      <td>99</td>\n      <td>57</td>\n      <td>1000</td>\n      <td>80</td>\n      <td>harvey</td>\n      <td>watts_strogatz</td>\n      <td>{'Poor': [3500, 1875], 'Middle-Class': [20562....</td>\n      <td>596</td>\n      <td>0.000000e+00</td>\n      <td>...</td>\n      <td>0</td>\n      <td>{'AverageDamagePerPoorHousehold': 20846.872152...</td>\n      <td>{'AverageIncomeToDamagePoorHousehold': 5.85206...</td>\n      <td>Minus30</td>\n      <td>0.000000</td>\n      <td>0.000000</td>\n      <td>0.000000</td>\n      <td>0.000000</td>\n      <td>0.00000</td>\n      <td>0.000000</td>\n    </tr>\n    <tr>\n      <th>20362</th>\n      <td>499</td>\n      <td>99</td>\n      <td>58</td>\n      <td>1000</td>\n      <td>80</td>\n      <td>harvey</td>\n      <td>watts_strogatz</td>\n      <td>{'Poor': [3500, 1875], 'Middle-Class': [20562....</td>\n      <td>597</td>\n      <td>0.000000e+00</td>\n      <td>...</td>\n      <td>0</td>\n      <td>{'AverageDamagePerPoorHousehold': 20846.872152...</td>\n      <td>{'AverageIncomeToDamagePoorHousehold': 5.85206...</td>\n      <td>Minus30</td>\n      <td>0.000000</td>\n      <td>0.000000</td>\n      <td>0.000000</td>\n      <td>0.000000</td>\n      <td>0.00000</td>\n      <td>0.000000</td>\n    </tr>\n    <tr>\n      <th>20363</th>\n      <td>499</td>\n      <td>99</td>\n      <td>59</td>\n      <td>1000</td>\n      <td>80</td>\n      <td>harvey</td>\n      <td>watts_strogatz</td>\n      <td>{'Poor': [3500, 1875], 'Middle-Class': [20562....</td>\n      <td>597</td>\n      <td>4.486012e+07</td>\n      <td>...</td>\n      <td>0</td>\n      <td>{'AverageDamagePerPoorHousehold': 20846.872152...</td>\n      <td>{'AverageIncomeToDamagePoorHousehold': 5.85206...</td>\n      <td>Minus30</td>\n      <td>19769.115413</td>\n      <td>47458.740907</td>\n      <td>95193.168414</td>\n      <td>5.549516</td>\n      <td>2.31587</td>\n      <td>1.585814</td>\n    </tr>\n  </tbody>\n</table>\n<p>20364 rows × 22 columns</p>\n</div>"
     },
     "execution_count": 9,
     "metadata": {},
     "output_type": "execute_result"
    }
   ],
   "source": [
    "\n",
    "df_sorted = sensitivity_analysis_income_clean.sort_values(by=['RunId', 'Step'])\n",
    "df_sorted"
   ],
   "metadata": {
    "collapsed": false,
    "ExecuteTime": {
     "end_time": "2024-01-24T13:29:24.035190Z",
     "start_time": "2024-01-24T13:29:23.897343Z"
    }
   },
   "id": "5510c39584f82fcc"
  },
  {
   "cell_type": "code",
   "outputs": [],
   "source": [
    "output_data_path = r'../output_data/SensitivityAnalysisIncomeDistribution.csv'\n",
    "df_sorted.to_csv(output_data_path, index=False)"
   ],
   "metadata": {
    "collapsed": false,
    "ExecuteTime": {
     "end_time": "2024-01-24T13:32:34.988914Z",
     "start_time": "2024-01-24T13:32:34.076585Z"
    }
   },
   "id": "ba395d4e10468a1f",
   "execution_count": 10
  },
  {
   "cell_type": "code",
   "execution_count": null,
   "outputs": [],
   "source": [],
   "metadata": {
    "collapsed": false
   },
   "id": "51d7421953f2eab3"
  }
 ],
 "metadata": {
  "kernelspec": {
   "display_name": "Python 3 (ipykernel)",
   "language": "python",
   "name": "python3"
  },
  "language_info": {
   "codemirror_mode": {
    "name": "ipython",
    "version": 3
   },
   "file_extension": ".py",
   "mimetype": "text/x-python",
   "name": "python",
   "nbconvert_exporter": "python",
   "pygments_lexer": "ipython3",
   "version": "3.12.0"
  }
 },
 "nbformat": 4,
 "nbformat_minor": 5
}
