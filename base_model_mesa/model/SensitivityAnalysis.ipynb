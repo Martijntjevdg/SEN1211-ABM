{
 "cells": [
  {
   "cell_type": "code",
   "execution_count": 1,
   "id": "initial_id",
   "metadata": {
    "ExecuteTime": {
     "end_time": "2024-01-22T16:01:13.657687400Z",
     "start_time": "2024-01-22T16:01:13.485327Z"
    }
   },
   "outputs": [],
   "source": [
    "from model import AdaptationModel\n",
    "from mesa.batchrunner import batch_run\n",
    "import pandas as pd"
   ]
  },
  {
   "cell_type": "code",
   "execution_count": null,
   "id": "f0d21165-cdcc-40ad-b760-70233b339009",
   "metadata": {},
   "outputs": [],
   "source": [
    "#Income distribution\n",
    "model_params = {\n",
    "    \"number_of_households\": 1000,\n",
    "    \"number_of_steps\": 80,\n",
    "    \"flood_map_choice\": \"harvey\",\n",
    "    \"network\": \"watts_strogatz\",\n",
    "    \"income_distribution\":[{'Poor': [5000, 1875], 'Middle-Class': [29375, 10312], 'Rich': [87500, 18750]},\n",
    "                           {'Poor': [5500, 1875], 'Middle-Class': [32312.5, 10321], 'Rich': [96250, 18750]},\n",
    "                           {'Poor': [4500, 1875], 'Middle-Class': [26437.5, 10321], 'Rich': [78750, 18750]}]\n",
    "}\n",
    "\n",
    "results = batch_run(\n",
    "    model_cls=AdaptationModel,\n",
    "    parameters=model_params,\n",
    "    number_processes=4,  # Set to None if you want to use all CPUs\n",
    "    iterations=100,  # Number of iterations for each parameter combination\n",
    "    data_collection_period=-1,  # Collect data at the end of each run\n",
    "    max_steps=model_params[\"number_of_steps\"],  # Maximum number of model steps\n",
    "    display_progress=True  # Display progress bar\n",
    ")\n",
    "\n",
    "df = pd.DataFrame(results)\n",
    "\n",
    "sensitivity_analysis_income_distribution = df"
   ]
  },
  {
   "cell_type": "code",
   "execution_count": null,
   "id": "5f434c73-68e1-4de7-96ea-94f5288fcef3",
   "metadata": {},
   "outputs": [],
   "source": []
  }
 ],
 "metadata": {
  "kernelspec": {
   "display_name": "Python 3 (ipykernel)",
   "language": "python",
   "name": "python3"
  },
  "language_info": {
   "codemirror_mode": {
    "name": "ipython",
    "version": 3
   },
   "file_extension": ".py",
   "mimetype": "text/x-python",
   "name": "python",
   "nbconvert_exporter": "python",
   "pygments_lexer": "ipython3",
   "version": "3.12.0"
  }
 },
 "nbformat": 4,
 "nbformat_minor": 5
}
