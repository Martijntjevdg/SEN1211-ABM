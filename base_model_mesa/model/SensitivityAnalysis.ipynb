{
 "cells": [
  {
   "cell_type": "code",
   "execution_count": 16,
   "id": "initial_id",
   "metadata": {
    "ExecuteTime": {
     "end_time": "2024-01-24T14:22:39.911600Z",
     "start_time": "2024-01-24T14:22:39.904434Z"
    }
   },
   "outputs": [],
   "source": [
    "from model import AdaptationModel\n",
    "from mesa.batchrunner import batch_run\n",
    "import pandas as pd"
   ]
  },
  {
   "cell_type": "code",
   "execution_count": 17,
   "id": "f0d21165-cdcc-40ad-b760-70233b339009",
   "metadata": {
    "ExecuteTime": {
     "end_time": "2024-01-24T14:24:53.922624Z",
     "start_time": "2024-01-24T14:22:41.559045Z"
    }
   },
   "outputs": [
    {
     "data": {
      "text/plain": "  0%|          | 0/500 [00:00<?, ?it/s]",
      "application/vnd.jupyter.widget-view+json": {
       "version_major": 2,
       "version_minor": 0,
       "model_id": "43b4355e5a9e43e7b63c284545bcb529"
      }
     },
     "metadata": {},
     "output_type": "display_data"
    }
   ],
   "source": [
    "income_distribution_base = {'Poor': [5000, 1875], 'Middle-Class': [29375, 10312], 'Rich': [87500, 18750]},\n",
    "income_distribution_plus_10 = {'Poor': [5500, 1875], 'Middle-Class': [32312.5, 10321], 'Rich': [96250, 18750]}\n",
    "income_distribution_minus_10 = {'Poor': [4500, 1875], 'Middle-Class': [26437.5, 10321], 'Rich': [78750, 18750]}\n",
    "income_distribution_plus_30 = {'Poor': [6500, 1875], 'Middle-Class': [38187.5, 10321], 'Rich': [133750, 18750]}\n",
    "income_distribution_minus_30 = {'Poor': [3500, 1875], 'Middle-Class': [20562.5, 10321], 'Rich': [61250, 18750]}\n",
    "\n",
    "#income_distributions = [income_distribution_base, income_distribution_plus_10, income_distribution_minus_10,\n",
    "                         #income_distribution_plus_30, income_distribution_minus_30]\n",
    "#Income distribution\n",
    "model_params = {\n",
    "    \"number_of_households\": 1000,\n",
    "    \"number_of_steps\": 80,\n",
    "    \"flood_map_choice\": \"100yr\",\n",
    "    \"network\": \"watts_strogatz\",\n",
    "    \"income_distribution\":[{'Poor': [5000, 1875], 'Middle-Class': [29375, 10312], 'Rich': [87500, 18750]},\n",
    "                           {'Poor': [5500, 1875], 'Middle-Class': [32312.5, 10321], 'Rich': [96250, 18750]},\n",
    "                           {'Poor': [4500, 1875], 'Middle-Class': [26437.5, 10321], 'Rich': [78750, 18750]},\n",
    "                           {'Poor': [6500, 1875], 'Middle-Class': [38187.5, 10321], 'Rich': [133750, 18750]},\n",
    "                           {'Poor': [3500, 1875], 'Middle-Class': [20562.5, 10321], 'Rich': [61250, 18750]}]\n",
    "}\n",
    "\n",
    "\n",
    "\n",
    "results = batch_run(\n",
    "    model_cls=AdaptationModel,\n",
    "    parameters=model_params,\n",
    "    number_processes=4,  # Set to None if you want to use all CPUs\n",
    "    iterations=100,  # Number of iterations for each parameter combination\n",
    "    data_collection_period=1,  # Collect data at the end of each run\n",
    "    max_steps=model_params[\"number_of_steps\"],  # Maximum number of model steps\n",
    "    display_progress=True  # Display progress bar\n",
    ")\n",
    "\n",
    "df = pd.DataFrame(results)\n",
    "\n",
    "sensitivity_analysis_income_distribution = df"
   ]
  },
  {
   "cell_type": "code",
   "execution_count": 18,
   "id": "5f434c73-68e1-4de7-96ea-94f5288fcef3",
   "metadata": {
    "ExecuteTime": {
     "end_time": "2024-01-24T14:25:29.227357Z",
     "start_time": "2024-01-24T14:25:18.269516Z"
    }
   },
   "outputs": [
    {
     "data": {
      "text/plain": "       RunId  iteration  Step  number_of_households  number_of_steps  \\\n0          1          0     0                  1000               80   \n1          1          0     1                  1000               80   \n2          1          0     2                  1000               80   \n3          1          0     3                  1000               80   \n4          1          0     4                  1000               80   \n...      ...        ...   ...                   ...              ...   \n20375    498         99    33                  1000               80   \n20376    498         99    34                  1000               80   \n20377    498         99    35                  1000               80   \n20378    498         99    36                  1000               80   \n20379    498         99    37                  1000               80   \n\n      flood_map_choice         network  \\\n0                100yr  watts_strogatz   \n1                100yr  watts_strogatz   \n2                100yr  watts_strogatz   \n3                100yr  watts_strogatz   \n4                100yr  watts_strogatz   \n...                ...             ...   \n20375            100yr  watts_strogatz   \n20376            100yr  watts_strogatz   \n20377            100yr  watts_strogatz   \n20378            100yr  watts_strogatz   \n20379            100yr  watts_strogatz   \n\n                                     income_distribution  \\\n0      {'Poor': [5500, 1875], 'Middle-Class': [32312....   \n1      {'Poor': [5500, 1875], 'Middle-Class': [32312....   \n2      {'Poor': [5500, 1875], 'Middle-Class': [32312....   \n3      {'Poor': [5500, 1875], 'Middle-Class': [32312....   \n4      {'Poor': [5500, 1875], 'Middle-Class': [32312....   \n...                                                  ...   \n20375  {'Poor': [6500, 1875], 'Middle-Class': [38187....   \n20376  {'Poor': [6500, 1875], 'Middle-Class': [38187....   \n20377  {'Poor': [6500, 1875], 'Middle-Class': [38187....   \n20378  {'Poor': [6500, 1875], 'Middle-Class': [38187....   \n20379  {'Poor': [6500, 1875], 'Middle-Class': [38187....   \n\n       TotalAdaptedHouseholds  TotalActualDamage  ...  TotalCostsOfSubsidies  \\\n0                           0       0.000000e+00  ...                      0   \n1                          61       0.000000e+00  ...                      0   \n2                         126       0.000000e+00  ...                      0   \n3                         179       0.000000e+00  ...                      0   \n4                         211       0.000000e+00  ...                      0   \n...                       ...                ...  ...                    ...   \n20375                     331       0.000000e+00  ...                      0   \n20376                     331       0.000000e+00  ...                      0   \n20377                     332       0.000000e+00  ...                      0   \n20378                     332       0.000000e+00  ...                      0   \n20379                     332       1.344408e+07  ...                      0   \n\n                    EstimatedAverageDamagePerIncomeLabel  \\\n0      {'EstimatedAverageDamagePerPoorHousehold': 144...   \n1      {'EstimatedAverageDamagePerPoorHousehold': 143...   \n2      {'EstimatedAverageDamagePerPoorHousehold': 138...   \n3      {'EstimatedAverageDamagePerPoorHousehold': 134...   \n4      {'EstimatedAverageDamagePerPoorHousehold': 128...   \n...                                                  ...   \n20375  {'EstimatedAverageDamagePerPoorHousehold': 595...   \n20376  {'EstimatedAverageDamagePerPoorHousehold': 595...   \n20377  {'EstimatedAverageDamagePerPoorHousehold': 595...   \n20378  {'EstimatedAverageDamagePerPoorHousehold': 595...   \n20379  {'EstimatedAverageDamagePerPoorHousehold': 595...   \n\n                     EstimatedAverageIncomeToDamageRatio IncomeDistribution  \\\n0      {'EstimatedAverageIncomeToDamagePoorHousehold'...             Plus10   \n1      {'EstimatedAverageIncomeToDamagePoorHousehold'...             Plus10   \n2      {'EstimatedAverageIncomeToDamagePoorHousehold'...             Plus10   \n3      {'EstimatedAverageIncomeToDamagePoorHousehold'...             Plus10   \n4      {'EstimatedAverageIncomeToDamagePoorHousehold'...             Plus10   \n...                                                  ...                ...   \n20375  {'EstimatedAverageIncomeToDamagePoorHousehold'...             Plus30   \n20376  {'EstimatedAverageIncomeToDamagePoorHousehold'...             Plus30   \n20377  {'EstimatedAverageIncomeToDamagePoorHousehold'...             Plus30   \n20378  {'EstimatedAverageIncomeToDamagePoorHousehold'...             Plus30   \n20379  {'EstimatedAverageIncomeToDamagePoorHousehold'...             Plus30   \n\n      AverageDamagePerPoorHousehold AverageDamagePerMiddleClassHousehold  \\\n0                           0.00000                              0.00000   \n1                           0.00000                              0.00000   \n2                           0.00000                              0.00000   \n3                           0.00000                              0.00000   \n4                           0.00000                              0.00000   \n...                             ...                                  ...   \n20375                       0.00000                              0.00000   \n20376                       0.00000                              0.00000   \n20377                       0.00000                              0.00000   \n20378                       0.00000                              0.00000   \n20379                    5436.83157                          13018.09329   \n\n       AverageDamagePerRichHousehold  AverageIncomeToDamagePoorHousehold  \\\n0                            0.00000                            0.000000   \n1                            0.00000                            0.000000   \n2                            0.00000                            0.000000   \n3                            0.00000                            0.000000   \n4                            0.00000                            0.000000   \n...                              ...                                 ...   \n20375                        0.00000                            0.000000   \n20376                        0.00000                            0.000000   \n20377                        0.00000                            0.000000   \n20378                        0.00000                            0.000000   \n20379                    33486.85021                            0.839447   \n\n       AverageIncomeToDamageMiddleClassHousehold  \\\n0                                       0.000000   \n1                                       0.000000   \n2                                       0.000000   \n3                                       0.000000   \n4                                       0.000000   \n...                                          ...   \n20375                                   0.000000   \n20376                                   0.000000   \n20377                                   0.000000   \n20378                                   0.000000   \n20379                                   0.341557   \n\n       AverageIncomeToDamageRichHousehold  \n0                                0.000000  \n1                                0.000000  \n2                                0.000000  \n3                                0.000000  \n4                                0.000000  \n...                                   ...  \n20375                            0.000000  \n20376                            0.000000  \n20377                            0.000000  \n20378                            0.000000  \n20379                            0.249591  \n\n[20380 rows x 22 columns]",
      "text/html": "<div>\n<style scoped>\n    .dataframe tbody tr th:only-of-type {\n        vertical-align: middle;\n    }\n\n    .dataframe tbody tr th {\n        vertical-align: top;\n    }\n\n    .dataframe thead th {\n        text-align: right;\n    }\n</style>\n<table border=\"1\" class=\"dataframe\">\n  <thead>\n    <tr style=\"text-align: right;\">\n      <th></th>\n      <th>RunId</th>\n      <th>iteration</th>\n      <th>Step</th>\n      <th>number_of_households</th>\n      <th>number_of_steps</th>\n      <th>flood_map_choice</th>\n      <th>network</th>\n      <th>income_distribution</th>\n      <th>TotalAdaptedHouseholds</th>\n      <th>TotalActualDamage</th>\n      <th>...</th>\n      <th>TotalCostsOfSubsidies</th>\n      <th>EstimatedAverageDamagePerIncomeLabel</th>\n      <th>EstimatedAverageIncomeToDamageRatio</th>\n      <th>IncomeDistribution</th>\n      <th>AverageDamagePerPoorHousehold</th>\n      <th>AverageDamagePerMiddleClassHousehold</th>\n      <th>AverageDamagePerRichHousehold</th>\n      <th>AverageIncomeToDamagePoorHousehold</th>\n      <th>AverageIncomeToDamageMiddleClassHousehold</th>\n      <th>AverageIncomeToDamageRichHousehold</th>\n    </tr>\n  </thead>\n  <tbody>\n    <tr>\n      <th>0</th>\n      <td>1</td>\n      <td>0</td>\n      <td>0</td>\n      <td>1000</td>\n      <td>80</td>\n      <td>100yr</td>\n      <td>watts_strogatz</td>\n      <td>{'Poor': [5500, 1875], 'Middle-Class': [32312....</td>\n      <td>0</td>\n      <td>0.000000e+00</td>\n      <td>...</td>\n      <td>0</td>\n      <td>{'EstimatedAverageDamagePerPoorHousehold': 144...</td>\n      <td>{'EstimatedAverageIncomeToDamagePoorHousehold'...</td>\n      <td>Plus10</td>\n      <td>0.00000</td>\n      <td>0.00000</td>\n      <td>0.00000</td>\n      <td>0.000000</td>\n      <td>0.000000</td>\n      <td>0.000000</td>\n    </tr>\n    <tr>\n      <th>1</th>\n      <td>1</td>\n      <td>0</td>\n      <td>1</td>\n      <td>1000</td>\n      <td>80</td>\n      <td>100yr</td>\n      <td>watts_strogatz</td>\n      <td>{'Poor': [5500, 1875], 'Middle-Class': [32312....</td>\n      <td>61</td>\n      <td>0.000000e+00</td>\n      <td>...</td>\n      <td>0</td>\n      <td>{'EstimatedAverageDamagePerPoorHousehold': 143...</td>\n      <td>{'EstimatedAverageIncomeToDamagePoorHousehold'...</td>\n      <td>Plus10</td>\n      <td>0.00000</td>\n      <td>0.00000</td>\n      <td>0.00000</td>\n      <td>0.000000</td>\n      <td>0.000000</td>\n      <td>0.000000</td>\n    </tr>\n    <tr>\n      <th>2</th>\n      <td>1</td>\n      <td>0</td>\n      <td>2</td>\n      <td>1000</td>\n      <td>80</td>\n      <td>100yr</td>\n      <td>watts_strogatz</td>\n      <td>{'Poor': [5500, 1875], 'Middle-Class': [32312....</td>\n      <td>126</td>\n      <td>0.000000e+00</td>\n      <td>...</td>\n      <td>0</td>\n      <td>{'EstimatedAverageDamagePerPoorHousehold': 138...</td>\n      <td>{'EstimatedAverageIncomeToDamagePoorHousehold'...</td>\n      <td>Plus10</td>\n      <td>0.00000</td>\n      <td>0.00000</td>\n      <td>0.00000</td>\n      <td>0.000000</td>\n      <td>0.000000</td>\n      <td>0.000000</td>\n    </tr>\n    <tr>\n      <th>3</th>\n      <td>1</td>\n      <td>0</td>\n      <td>3</td>\n      <td>1000</td>\n      <td>80</td>\n      <td>100yr</td>\n      <td>watts_strogatz</td>\n      <td>{'Poor': [5500, 1875], 'Middle-Class': [32312....</td>\n      <td>179</td>\n      <td>0.000000e+00</td>\n      <td>...</td>\n      <td>0</td>\n      <td>{'EstimatedAverageDamagePerPoorHousehold': 134...</td>\n      <td>{'EstimatedAverageIncomeToDamagePoorHousehold'...</td>\n      <td>Plus10</td>\n      <td>0.00000</td>\n      <td>0.00000</td>\n      <td>0.00000</td>\n      <td>0.000000</td>\n      <td>0.000000</td>\n      <td>0.000000</td>\n    </tr>\n    <tr>\n      <th>4</th>\n      <td>1</td>\n      <td>0</td>\n      <td>4</td>\n      <td>1000</td>\n      <td>80</td>\n      <td>100yr</td>\n      <td>watts_strogatz</td>\n      <td>{'Poor': [5500, 1875], 'Middle-Class': [32312....</td>\n      <td>211</td>\n      <td>0.000000e+00</td>\n      <td>...</td>\n      <td>0</td>\n      <td>{'EstimatedAverageDamagePerPoorHousehold': 128...</td>\n      <td>{'EstimatedAverageIncomeToDamagePoorHousehold'...</td>\n      <td>Plus10</td>\n      <td>0.00000</td>\n      <td>0.00000</td>\n      <td>0.00000</td>\n      <td>0.000000</td>\n      <td>0.000000</td>\n      <td>0.000000</td>\n    </tr>\n    <tr>\n      <th>...</th>\n      <td>...</td>\n      <td>...</td>\n      <td>...</td>\n      <td>...</td>\n      <td>...</td>\n      <td>...</td>\n      <td>...</td>\n      <td>...</td>\n      <td>...</td>\n      <td>...</td>\n      <td>...</td>\n      <td>...</td>\n      <td>...</td>\n      <td>...</td>\n      <td>...</td>\n      <td>...</td>\n      <td>...</td>\n      <td>...</td>\n      <td>...</td>\n      <td>...</td>\n      <td>...</td>\n    </tr>\n    <tr>\n      <th>20375</th>\n      <td>498</td>\n      <td>99</td>\n      <td>33</td>\n      <td>1000</td>\n      <td>80</td>\n      <td>100yr</td>\n      <td>watts_strogatz</td>\n      <td>{'Poor': [6500, 1875], 'Middle-Class': [38187....</td>\n      <td>331</td>\n      <td>0.000000e+00</td>\n      <td>...</td>\n      <td>0</td>\n      <td>{'EstimatedAverageDamagePerPoorHousehold': 595...</td>\n      <td>{'EstimatedAverageIncomeToDamagePoorHousehold'...</td>\n      <td>Plus30</td>\n      <td>0.00000</td>\n      <td>0.00000</td>\n      <td>0.00000</td>\n      <td>0.000000</td>\n      <td>0.000000</td>\n      <td>0.000000</td>\n    </tr>\n    <tr>\n      <th>20376</th>\n      <td>498</td>\n      <td>99</td>\n      <td>34</td>\n      <td>1000</td>\n      <td>80</td>\n      <td>100yr</td>\n      <td>watts_strogatz</td>\n      <td>{'Poor': [6500, 1875], 'Middle-Class': [38187....</td>\n      <td>331</td>\n      <td>0.000000e+00</td>\n      <td>...</td>\n      <td>0</td>\n      <td>{'EstimatedAverageDamagePerPoorHousehold': 595...</td>\n      <td>{'EstimatedAverageIncomeToDamagePoorHousehold'...</td>\n      <td>Plus30</td>\n      <td>0.00000</td>\n      <td>0.00000</td>\n      <td>0.00000</td>\n      <td>0.000000</td>\n      <td>0.000000</td>\n      <td>0.000000</td>\n    </tr>\n    <tr>\n      <th>20377</th>\n      <td>498</td>\n      <td>99</td>\n      <td>35</td>\n      <td>1000</td>\n      <td>80</td>\n      <td>100yr</td>\n      <td>watts_strogatz</td>\n      <td>{'Poor': [6500, 1875], 'Middle-Class': [38187....</td>\n      <td>332</td>\n      <td>0.000000e+00</td>\n      <td>...</td>\n      <td>0</td>\n      <td>{'EstimatedAverageDamagePerPoorHousehold': 595...</td>\n      <td>{'EstimatedAverageIncomeToDamagePoorHousehold'...</td>\n      <td>Plus30</td>\n      <td>0.00000</td>\n      <td>0.00000</td>\n      <td>0.00000</td>\n      <td>0.000000</td>\n      <td>0.000000</td>\n      <td>0.000000</td>\n    </tr>\n    <tr>\n      <th>20378</th>\n      <td>498</td>\n      <td>99</td>\n      <td>36</td>\n      <td>1000</td>\n      <td>80</td>\n      <td>100yr</td>\n      <td>watts_strogatz</td>\n      <td>{'Poor': [6500, 1875], 'Middle-Class': [38187....</td>\n      <td>332</td>\n      <td>0.000000e+00</td>\n      <td>...</td>\n      <td>0</td>\n      <td>{'EstimatedAverageDamagePerPoorHousehold': 595...</td>\n      <td>{'EstimatedAverageIncomeToDamagePoorHousehold'...</td>\n      <td>Plus30</td>\n      <td>0.00000</td>\n      <td>0.00000</td>\n      <td>0.00000</td>\n      <td>0.000000</td>\n      <td>0.000000</td>\n      <td>0.000000</td>\n    </tr>\n    <tr>\n      <th>20379</th>\n      <td>498</td>\n      <td>99</td>\n      <td>37</td>\n      <td>1000</td>\n      <td>80</td>\n      <td>100yr</td>\n      <td>watts_strogatz</td>\n      <td>{'Poor': [6500, 1875], 'Middle-Class': [38187....</td>\n      <td>332</td>\n      <td>1.344408e+07</td>\n      <td>...</td>\n      <td>0</td>\n      <td>{'EstimatedAverageDamagePerPoorHousehold': 595...</td>\n      <td>{'EstimatedAverageIncomeToDamagePoorHousehold'...</td>\n      <td>Plus30</td>\n      <td>5436.83157</td>\n      <td>13018.09329</td>\n      <td>33486.85021</td>\n      <td>0.839447</td>\n      <td>0.341557</td>\n      <td>0.249591</td>\n    </tr>\n  </tbody>\n</table>\n<p>20380 rows × 22 columns</p>\n</div>"
     },
     "execution_count": 18,
     "metadata": {},
     "output_type": "execute_result"
    }
   ],
   "source": [
    "def unpack_dictionary(row, column_name):\n",
    "    return pd.Series(row[column_name])\n",
    "\n",
    "#base_case_unpacked = base_case_100_iterations.apply(unpack_dictionary['AverageDamagePerIncomeLabel'], axis = 1)\n",
    "first_column_unpacked = sensitivity_analysis_income_distribution.apply(unpack_dictionary, args=('AverageDamagePerIncomeLabel',), axis=1)\n",
    "second_column_unpacked = sensitivity_analysis_income_distribution.apply(unpack_dictionary, args=('AverageIncomeToDamageRatio',), axis=1)\n",
    "sensitivity_analysis_income_unpacked = pd.concat([sensitivity_analysis_income_distribution, first_column_unpacked, second_column_unpacked], axis=1)\n",
    "sensitivity_analysis_income_clean = sensitivity_analysis_income_unpacked.drop(['AverageDamagePerIncomeLabel', 'AverageIncomeToDamageRatio'], axis=1)\n",
    "sensitivity_analysis_income_clean"
   ]
  },
  {
   "cell_type": "code",
   "execution_count": 19,
   "outputs": [
    {
     "data": {
      "text/plain": "       RunId  iteration  Step  number_of_households  number_of_steps  \\\n28         0          0     0                  1000               80   \n29         0          0     1                  1000               80   \n30         0          0     2                  1000               80   \n31         0          0     3                  1000               80   \n32         0          0     4                  1000               80   \n...      ...        ...   ...                   ...              ...   \n20379    498         99    37                  1000               80   \n20338    499         99     0                  1000               80   \n20339    499         99     1                  1000               80   \n20340    499         99     2                  1000               80   \n20341    499         99     3                  1000               80   \n\n      flood_map_choice         network  \\\n28               100yr  watts_strogatz   \n29               100yr  watts_strogatz   \n30               100yr  watts_strogatz   \n31               100yr  watts_strogatz   \n32               100yr  watts_strogatz   \n...                ...             ...   \n20379            100yr  watts_strogatz   \n20338            100yr  watts_strogatz   \n20339            100yr  watts_strogatz   \n20340            100yr  watts_strogatz   \n20341            100yr  watts_strogatz   \n\n                                     income_distribution  \\\n28     {'Poor': [5000, 1875], 'Middle-Class': [29375,...   \n29     {'Poor': [5000, 1875], 'Middle-Class': [29375,...   \n30     {'Poor': [5000, 1875], 'Middle-Class': [29375,...   \n31     {'Poor': [5000, 1875], 'Middle-Class': [29375,...   \n32     {'Poor': [5000, 1875], 'Middle-Class': [29375,...   \n...                                                  ...   \n20379  {'Poor': [6500, 1875], 'Middle-Class': [38187....   \n20338  {'Poor': [3500, 1875], 'Middle-Class': [20562....   \n20339  {'Poor': [3500, 1875], 'Middle-Class': [20562....   \n20340  {'Poor': [3500, 1875], 'Middle-Class': [20562....   \n20341  {'Poor': [3500, 1875], 'Middle-Class': [20562....   \n\n       TotalAdaptedHouseholds  TotalActualDamage  ...  TotalCostsOfSubsidies  \\\n28                          0       0.000000e+00  ...                      0   \n29                         74       0.000000e+00  ...                      0   \n30                        144       0.000000e+00  ...                      0   \n31                        201       0.000000e+00  ...                      0   \n32                        229       0.000000e+00  ...                      0   \n...                       ...                ...  ...                    ...   \n20379                     332       1.344408e+07  ...                      0   \n20338                       0       0.000000e+00  ...                      0   \n20339                      40       0.000000e+00  ...                      0   \n20340                     108       0.000000e+00  ...                      0   \n20341                     147       2.362145e+07  ...                      0   \n\n                    EstimatedAverageDamagePerIncomeLabel  \\\n28     {'EstimatedAverageDamagePerPoorHousehold': 170...   \n29     {'EstimatedAverageDamagePerPoorHousehold': 169...   \n30     {'EstimatedAverageDamagePerPoorHousehold': 167...   \n31     {'EstimatedAverageDamagePerPoorHousehold': 159...   \n32     {'EstimatedAverageDamagePerPoorHousehold': 154...   \n...                                                  ...   \n20379  {'EstimatedAverageDamagePerPoorHousehold': 595...   \n20338  {'EstimatedAverageDamagePerPoorHousehold': 161...   \n20339  {'EstimatedAverageDamagePerPoorHousehold': 161...   \n20340  {'EstimatedAverageDamagePerPoorHousehold': 158...   \n20341  {'EstimatedAverageDamagePerPoorHousehold': 157...   \n\n                     EstimatedAverageIncomeToDamageRatio IncomeDistribution  \\\n28     {'EstimatedAverageIncomeToDamagePoorHousehold'...               Base   \n29     {'EstimatedAverageIncomeToDamagePoorHousehold'...               Base   \n30     {'EstimatedAverageIncomeToDamagePoorHousehold'...               Base   \n31     {'EstimatedAverageIncomeToDamagePoorHousehold'...               Base   \n32     {'EstimatedAverageIncomeToDamagePoorHousehold'...               Base   \n...                                                  ...                ...   \n20379  {'EstimatedAverageIncomeToDamagePoorHousehold'...             Plus30   \n20338  {'EstimatedAverageIncomeToDamagePoorHousehold'...            Minus30   \n20339  {'EstimatedAverageIncomeToDamagePoorHousehold'...            Minus30   \n20340  {'EstimatedAverageIncomeToDamagePoorHousehold'...            Minus30   \n20341  {'EstimatedAverageIncomeToDamagePoorHousehold'...            Minus30   \n\n      AverageDamagePerPoorHousehold AverageDamagePerMiddleClassHousehold  \\\n28                         0.000000                             0.000000   \n29                         0.000000                             0.000000   \n30                         0.000000                             0.000000   \n31                         0.000000                             0.000000   \n32                         0.000000                             0.000000   \n...                             ...                                  ...   \n20379                   5436.831570                         13018.093290   \n20338                      0.000000                             0.000000   \n20339                      0.000000                             0.000000   \n20340                      0.000000                             0.000000   \n20341                  14780.380152                         22548.918494   \n\n       AverageDamagePerRichHousehold  AverageIncomeToDamagePoorHousehold  \\\n28                          0.000000                            0.000000   \n29                          0.000000                            0.000000   \n30                          0.000000                            0.000000   \n31                          0.000000                            0.000000   \n32                          0.000000                            0.000000   \n...                              ...                                 ...   \n20379                   33486.850210                            0.839447   \n20338                       0.000000                            0.000000   \n20339                       0.000000                            0.000000   \n20340                       0.000000                            0.000000   \n20341                   52320.664127                            4.161544   \n\n       AverageIncomeToDamageMiddleClassHousehold  \\\n28                                      0.000000   \n29                                      0.000000   \n30                                      0.000000   \n31                                      0.000000   \n32                                      0.000000   \n...                                          ...   \n20379                                   0.341557   \n20338                                   0.000000   \n20339                                   0.000000   \n20340                                   0.000000   \n20341                                   1.096191   \n\n       AverageIncomeToDamageRichHousehold  \n28                               0.000000  \n29                               0.000000  \n30                               0.000000  \n31                               0.000000  \n32                               0.000000  \n...                                   ...  \n20379                            0.249591  \n20338                            0.000000  \n20339                            0.000000  \n20340                            0.000000  \n20341                            0.873192  \n\n[20380 rows x 22 columns]",
      "text/html": "<div>\n<style scoped>\n    .dataframe tbody tr th:only-of-type {\n        vertical-align: middle;\n    }\n\n    .dataframe tbody tr th {\n        vertical-align: top;\n    }\n\n    .dataframe thead th {\n        text-align: right;\n    }\n</style>\n<table border=\"1\" class=\"dataframe\">\n  <thead>\n    <tr style=\"text-align: right;\">\n      <th></th>\n      <th>RunId</th>\n      <th>iteration</th>\n      <th>Step</th>\n      <th>number_of_households</th>\n      <th>number_of_steps</th>\n      <th>flood_map_choice</th>\n      <th>network</th>\n      <th>income_distribution</th>\n      <th>TotalAdaptedHouseholds</th>\n      <th>TotalActualDamage</th>\n      <th>...</th>\n      <th>TotalCostsOfSubsidies</th>\n      <th>EstimatedAverageDamagePerIncomeLabel</th>\n      <th>EstimatedAverageIncomeToDamageRatio</th>\n      <th>IncomeDistribution</th>\n      <th>AverageDamagePerPoorHousehold</th>\n      <th>AverageDamagePerMiddleClassHousehold</th>\n      <th>AverageDamagePerRichHousehold</th>\n      <th>AverageIncomeToDamagePoorHousehold</th>\n      <th>AverageIncomeToDamageMiddleClassHousehold</th>\n      <th>AverageIncomeToDamageRichHousehold</th>\n    </tr>\n  </thead>\n  <tbody>\n    <tr>\n      <th>28</th>\n      <td>0</td>\n      <td>0</td>\n      <td>0</td>\n      <td>1000</td>\n      <td>80</td>\n      <td>100yr</td>\n      <td>watts_strogatz</td>\n      <td>{'Poor': [5000, 1875], 'Middle-Class': [29375,...</td>\n      <td>0</td>\n      <td>0.000000e+00</td>\n      <td>...</td>\n      <td>0</td>\n      <td>{'EstimatedAverageDamagePerPoorHousehold': 170...</td>\n      <td>{'EstimatedAverageIncomeToDamagePoorHousehold'...</td>\n      <td>Base</td>\n      <td>0.000000</td>\n      <td>0.000000</td>\n      <td>0.000000</td>\n      <td>0.000000</td>\n      <td>0.000000</td>\n      <td>0.000000</td>\n    </tr>\n    <tr>\n      <th>29</th>\n      <td>0</td>\n      <td>0</td>\n      <td>1</td>\n      <td>1000</td>\n      <td>80</td>\n      <td>100yr</td>\n      <td>watts_strogatz</td>\n      <td>{'Poor': [5000, 1875], 'Middle-Class': [29375,...</td>\n      <td>74</td>\n      <td>0.000000e+00</td>\n      <td>...</td>\n      <td>0</td>\n      <td>{'EstimatedAverageDamagePerPoorHousehold': 169...</td>\n      <td>{'EstimatedAverageIncomeToDamagePoorHousehold'...</td>\n      <td>Base</td>\n      <td>0.000000</td>\n      <td>0.000000</td>\n      <td>0.000000</td>\n      <td>0.000000</td>\n      <td>0.000000</td>\n      <td>0.000000</td>\n    </tr>\n    <tr>\n      <th>30</th>\n      <td>0</td>\n      <td>0</td>\n      <td>2</td>\n      <td>1000</td>\n      <td>80</td>\n      <td>100yr</td>\n      <td>watts_strogatz</td>\n      <td>{'Poor': [5000, 1875], 'Middle-Class': [29375,...</td>\n      <td>144</td>\n      <td>0.000000e+00</td>\n      <td>...</td>\n      <td>0</td>\n      <td>{'EstimatedAverageDamagePerPoorHousehold': 167...</td>\n      <td>{'EstimatedAverageIncomeToDamagePoorHousehold'...</td>\n      <td>Base</td>\n      <td>0.000000</td>\n      <td>0.000000</td>\n      <td>0.000000</td>\n      <td>0.000000</td>\n      <td>0.000000</td>\n      <td>0.000000</td>\n    </tr>\n    <tr>\n      <th>31</th>\n      <td>0</td>\n      <td>0</td>\n      <td>3</td>\n      <td>1000</td>\n      <td>80</td>\n      <td>100yr</td>\n      <td>watts_strogatz</td>\n      <td>{'Poor': [5000, 1875], 'Middle-Class': [29375,...</td>\n      <td>201</td>\n      <td>0.000000e+00</td>\n      <td>...</td>\n      <td>0</td>\n      <td>{'EstimatedAverageDamagePerPoorHousehold': 159...</td>\n      <td>{'EstimatedAverageIncomeToDamagePoorHousehold'...</td>\n      <td>Base</td>\n      <td>0.000000</td>\n      <td>0.000000</td>\n      <td>0.000000</td>\n      <td>0.000000</td>\n      <td>0.000000</td>\n      <td>0.000000</td>\n    </tr>\n    <tr>\n      <th>32</th>\n      <td>0</td>\n      <td>0</td>\n      <td>4</td>\n      <td>1000</td>\n      <td>80</td>\n      <td>100yr</td>\n      <td>watts_strogatz</td>\n      <td>{'Poor': [5000, 1875], 'Middle-Class': [29375,...</td>\n      <td>229</td>\n      <td>0.000000e+00</td>\n      <td>...</td>\n      <td>0</td>\n      <td>{'EstimatedAverageDamagePerPoorHousehold': 154...</td>\n      <td>{'EstimatedAverageIncomeToDamagePoorHousehold'...</td>\n      <td>Base</td>\n      <td>0.000000</td>\n      <td>0.000000</td>\n      <td>0.000000</td>\n      <td>0.000000</td>\n      <td>0.000000</td>\n      <td>0.000000</td>\n    </tr>\n    <tr>\n      <th>...</th>\n      <td>...</td>\n      <td>...</td>\n      <td>...</td>\n      <td>...</td>\n      <td>...</td>\n      <td>...</td>\n      <td>...</td>\n      <td>...</td>\n      <td>...</td>\n      <td>...</td>\n      <td>...</td>\n      <td>...</td>\n      <td>...</td>\n      <td>...</td>\n      <td>...</td>\n      <td>...</td>\n      <td>...</td>\n      <td>...</td>\n      <td>...</td>\n      <td>...</td>\n      <td>...</td>\n    </tr>\n    <tr>\n      <th>20379</th>\n      <td>498</td>\n      <td>99</td>\n      <td>37</td>\n      <td>1000</td>\n      <td>80</td>\n      <td>100yr</td>\n      <td>watts_strogatz</td>\n      <td>{'Poor': [6500, 1875], 'Middle-Class': [38187....</td>\n      <td>332</td>\n      <td>1.344408e+07</td>\n      <td>...</td>\n      <td>0</td>\n      <td>{'EstimatedAverageDamagePerPoorHousehold': 595...</td>\n      <td>{'EstimatedAverageIncomeToDamagePoorHousehold'...</td>\n      <td>Plus30</td>\n      <td>5436.831570</td>\n      <td>13018.093290</td>\n      <td>33486.850210</td>\n      <td>0.839447</td>\n      <td>0.341557</td>\n      <td>0.249591</td>\n    </tr>\n    <tr>\n      <th>20338</th>\n      <td>499</td>\n      <td>99</td>\n      <td>0</td>\n      <td>1000</td>\n      <td>80</td>\n      <td>100yr</td>\n      <td>watts_strogatz</td>\n      <td>{'Poor': [3500, 1875], 'Middle-Class': [20562....</td>\n      <td>0</td>\n      <td>0.000000e+00</td>\n      <td>...</td>\n      <td>0</td>\n      <td>{'EstimatedAverageDamagePerPoorHousehold': 161...</td>\n      <td>{'EstimatedAverageIncomeToDamagePoorHousehold'...</td>\n      <td>Minus30</td>\n      <td>0.000000</td>\n      <td>0.000000</td>\n      <td>0.000000</td>\n      <td>0.000000</td>\n      <td>0.000000</td>\n      <td>0.000000</td>\n    </tr>\n    <tr>\n      <th>20339</th>\n      <td>499</td>\n      <td>99</td>\n      <td>1</td>\n      <td>1000</td>\n      <td>80</td>\n      <td>100yr</td>\n      <td>watts_strogatz</td>\n      <td>{'Poor': [3500, 1875], 'Middle-Class': [20562....</td>\n      <td>40</td>\n      <td>0.000000e+00</td>\n      <td>...</td>\n      <td>0</td>\n      <td>{'EstimatedAverageDamagePerPoorHousehold': 161...</td>\n      <td>{'EstimatedAverageIncomeToDamagePoorHousehold'...</td>\n      <td>Minus30</td>\n      <td>0.000000</td>\n      <td>0.000000</td>\n      <td>0.000000</td>\n      <td>0.000000</td>\n      <td>0.000000</td>\n      <td>0.000000</td>\n    </tr>\n    <tr>\n      <th>20340</th>\n      <td>499</td>\n      <td>99</td>\n      <td>2</td>\n      <td>1000</td>\n      <td>80</td>\n      <td>100yr</td>\n      <td>watts_strogatz</td>\n      <td>{'Poor': [3500, 1875], 'Middle-Class': [20562....</td>\n      <td>108</td>\n      <td>0.000000e+00</td>\n      <td>...</td>\n      <td>0</td>\n      <td>{'EstimatedAverageDamagePerPoorHousehold': 158...</td>\n      <td>{'EstimatedAverageIncomeToDamagePoorHousehold'...</td>\n      <td>Minus30</td>\n      <td>0.000000</td>\n      <td>0.000000</td>\n      <td>0.000000</td>\n      <td>0.000000</td>\n      <td>0.000000</td>\n      <td>0.000000</td>\n    </tr>\n    <tr>\n      <th>20341</th>\n      <td>499</td>\n      <td>99</td>\n      <td>3</td>\n      <td>1000</td>\n      <td>80</td>\n      <td>100yr</td>\n      <td>watts_strogatz</td>\n      <td>{'Poor': [3500, 1875], 'Middle-Class': [20562....</td>\n      <td>147</td>\n      <td>2.362145e+07</td>\n      <td>...</td>\n      <td>0</td>\n      <td>{'EstimatedAverageDamagePerPoorHousehold': 157...</td>\n      <td>{'EstimatedAverageIncomeToDamagePoorHousehold'...</td>\n      <td>Minus30</td>\n      <td>14780.380152</td>\n      <td>22548.918494</td>\n      <td>52320.664127</td>\n      <td>4.161544</td>\n      <td>1.096191</td>\n      <td>0.873192</td>\n    </tr>\n  </tbody>\n</table>\n<p>20380 rows × 22 columns</p>\n</div>"
     },
     "execution_count": 19,
     "metadata": {},
     "output_type": "execute_result"
    }
   ],
   "source": [
    "\n",
    "df_sorted = sensitivity_analysis_income_clean.sort_values(by=['RunId', 'Step'])\n",
    "df_sorted"
   ],
   "metadata": {
    "collapsed": false,
    "ExecuteTime": {
     "end_time": "2024-01-24T14:27:39.258094Z",
     "start_time": "2024-01-24T14:27:39.105303Z"
    }
   },
   "id": "5510c39584f82fcc"
  },
  {
   "cell_type": "code",
   "outputs": [],
   "source": [
    "output_data_path = r'../output_data/SensitivityAnalysisIncomeDistribution.csv'\n",
    "df_sorted.to_csv(output_data_path, index=False)"
   ],
   "metadata": {
    "collapsed": false,
    "ExecuteTime": {
     "end_time": "2024-01-24T14:29:46.754313Z",
     "start_time": "2024-01-24T14:29:45.856369Z"
    }
   },
   "id": "ba395d4e10468a1f",
   "execution_count": 20
  },
  {
   "cell_type": "code",
   "execution_count": null,
   "outputs": [],
   "source": [],
   "metadata": {
    "collapsed": false
   },
   "id": "51d7421953f2eab3"
  }
 ],
 "metadata": {
  "kernelspec": {
   "display_name": "Python 3 (ipykernel)",
   "language": "python",
   "name": "python3"
  },
  "language_info": {
   "codemirror_mode": {
    "name": "ipython",
    "version": 3
   },
   "file_extension": ".py",
   "mimetype": "text/x-python",
   "name": "python",
   "nbconvert_exporter": "python",
   "pygments_lexer": "ipython3",
   "version": "3.12.0"
  }
 },
 "nbformat": 4,
 "nbformat_minor": 5
}
