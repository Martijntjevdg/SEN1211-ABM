{
 "cells": [
  {
   "cell_type": "code",
   "execution_count": 1,
   "id": "initial_id",
   "metadata": {
    "ExecuteTime": {
     "end_time": "2024-01-24T12:47:02.143315Z",
     "start_time": "2024-01-24T12:46:58.911621Z"
    }
   },
   "outputs": [],
   "source": [
    "from model import AdaptationModel\n",
    "from mesa.batchrunner import batch_run\n",
    "import pandas as pd"
   ]
  },
  {
   "cell_type": "code",
   "execution_count": 2,
   "id": "f0d21165-cdcc-40ad-b760-70233b339009",
   "metadata": {
    "ExecuteTime": {
     "end_time": "2024-01-24T12:50:15.841122Z",
     "start_time": "2024-01-24T12:47:51.224560Z"
    }
   },
   "outputs": [
    {
     "data": {
      "text/plain": "  0%|          | 0/500 [00:00<?, ?it/s]",
      "application/vnd.jupyter.widget-view+json": {
       "version_major": 2,
       "version_minor": 0,
       "model_id": "be04b3b00d7d4096bc5c636b44b014ef"
      }
     },
     "metadata": {},
     "output_type": "display_data"
    }
   ],
   "source": [
    "income_distribution_base = {'Poor': [5000, 1875], 'Middle-Class': [29375, 10312], 'Rich': [87500, 18750]},\n",
    "income_distribution_plus_10 = {'Poor': [5500, 1875], 'Middle-Class': [32312.5, 10321], 'Rich': [96250, 18750]}\n",
    "income_distribution_minus_10 = {'Poor': [4500, 1875], 'Middle-Class': [26437.5, 10321], 'Rich': [78750, 18750]}\n",
    "income_distribution_plus_30 = {'Poor': [6500, 1875], 'Middle-Class': [38187.5, 10321], 'Rich': [133750, 18750]}\n",
    "income_distribution_minus_30 = {'Poor': [3500, 1875], 'Middle-Class': [20562.5, 10321], 'Rich': [61250, 18750]}\n",
    "\n",
    "#income_distributions = [income_distribution_base, income_distribution_plus_10, income_distribution_minus_10,\n",
    "                         #income_distribution_plus_30, income_distribution_minus_30]\n",
    "#Income distribution\n",
    "model_params = {\n",
    "    \"number_of_households\": 1000,\n",
    "    \"number_of_steps\": 80,\n",
    "    \"flood_map_choice\": \"harvey\",\n",
    "    \"network\": \"watts_strogatz\",\n",
    "    \"income_distribution\":[{'Poor': [5000, 1875], 'Middle-Class': [29375, 10312], 'Rich': [87500, 18750]},\n",
    "                           {'Poor': [5500, 1875], 'Middle-Class': [32312.5, 10321], 'Rich': [96250, 18750]},\n",
    "                           {'Poor': [4500, 1875], 'Middle-Class': [26437.5, 10321], 'Rich': [78750, 18750]},\n",
    "                           {'Poor': [6500, 1875], 'Middle-Class': [38187.5, 10321], 'Rich': [133750, 18750]},\n",
    "                           {'Poor': [3500, 1875], 'Middle-Class': [20562.5, 10321], 'Rich': [61250, 18750]}]\n",
    "}\n",
    "\n",
    "\n",
    "\n",
    "results = batch_run(\n",
    "    model_cls=AdaptationModel,\n",
    "    parameters=model_params,\n",
    "    number_processes=4,  # Set to None if you want to use all CPUs\n",
    "    iterations=100,  # Number of iterations for each parameter combination\n",
    "    data_collection_period=1,  # Collect data at the end of each run\n",
    "    max_steps=model_params[\"number_of_steps\"],  # Maximum number of model steps\n",
    "    display_progress=True  # Display progress bar\n",
    ")\n",
    "\n",
    "df = pd.DataFrame(results)\n",
    "\n",
    "sensitivity_analysis_income_distribution = df"
   ]
  },
  {
   "cell_type": "code",
   "execution_count": 3,
   "id": "5f434c73-68e1-4de7-96ea-94f5288fcef3",
   "metadata": {
    "ExecuteTime": {
     "end_time": "2024-01-24T12:50:40.255271Z",
     "start_time": "2024-01-24T12:50:26.336736Z"
    }
   },
   "outputs": [
    {
     "data": {
      "text/plain": "       RunId  iteration  Step  number_of_households  number_of_steps  \\\n0          0          0     0                  1000               80   \n1          0          0     1                  1000               80   \n2          0          0     2                  1000               80   \n3          0          0     3                  1000               80   \n4          0          0     4                  1000               80   \n...      ...        ...   ...                   ...              ...   \n20944    499         99    50                  1000               80   \n20945    499         99    51                  1000               80   \n20946    499         99    52                  1000               80   \n20947    499         99    53                  1000               80   \n20948    499         99    54                  1000               80   \n\n      flood_map_choice         network  \\\n0               harvey  watts_strogatz   \n1               harvey  watts_strogatz   \n2               harvey  watts_strogatz   \n3               harvey  watts_strogatz   \n4               harvey  watts_strogatz   \n...                ...             ...   \n20944           harvey  watts_strogatz   \n20945           harvey  watts_strogatz   \n20946           harvey  watts_strogatz   \n20947           harvey  watts_strogatz   \n20948           harvey  watts_strogatz   \n\n                                     income_distribution  \\\n0      {'Poor': [5000, 1875], 'Middle-Class': [29375,...   \n1      {'Poor': [5000, 1875], 'Middle-Class': [29375,...   \n2      {'Poor': [5000, 1875], 'Middle-Class': [29375,...   \n3      {'Poor': [5000, 1875], 'Middle-Class': [29375,...   \n4      {'Poor': [5000, 1875], 'Middle-Class': [29375,...   \n...                                                  ...   \n20944  {'Poor': [3500, 1875], 'Middle-Class': [20562....   \n20945  {'Poor': [3500, 1875], 'Middle-Class': [20562....   \n20946  {'Poor': [3500, 1875], 'Middle-Class': [20562....   \n20947  {'Poor': [3500, 1875], 'Middle-Class': [20562....   \n20948  {'Poor': [3500, 1875], 'Middle-Class': [20562....   \n\n       TotalAdaptedHouseholds  TotalActualDamage  TotalExpectedDamage  \\\n0                           0       0.000000e+00         7.600595e+07   \n1                         200       0.000000e+00         7.208000e+07   \n2                         355       0.000000e+00         6.638099e+07   \n3                         456       0.000000e+00         6.084212e+07   \n4                         512       0.000000e+00         5.737287e+07   \n...                       ...                ...                  ...   \n20944                     582       0.000000e+00         5.557161e+07   \n20945                     582       0.000000e+00         5.557161e+07   \n20946                     584       0.000000e+00         5.527037e+07   \n20947                     585       0.000000e+00         5.515417e+07   \n20948                     585       5.174994e+07         5.515417e+07   \n\n       TotalAdaptationCosts  TotalCostsOfSubsidies IncomeDistribution  \\\n0                         0                      0               Base   \n1                    266700                      0               Base   \n2                    786755                      0               Base   \n3                   1314385                      0               Base   \n4                   1658115                      0               Base   \n...                     ...                    ...                ...   \n20944               2378300                      0            Minus30   \n20945               2378300                      0            Minus30   \n20946               2663780                      0            Minus30   \n20947               2778440                      0            Minus30   \n20948               2778440                      0            Minus30   \n\n       AverageDamagePerPoorHousehold  AverageDamagePerMiddleClassHousehold  \\\n0                           0.000000                               0.00000   \n1                           0.000000                               0.00000   \n2                           0.000000                               0.00000   \n3                           0.000000                               0.00000   \n4                           0.000000                               0.00000   \n...                              ...                                   ...   \n20944                       0.000000                               0.00000   \n20945                       0.000000                               0.00000   \n20946                       0.000000                               0.00000   \n20947                       0.000000                               0.00000   \n20948                   25948.240796                           49959.48837   \n\n       AverageDamagePerRichHousehold  AverageIncomeToDamagePoorHousehold  \\\n0                           0.000000                            0.000000   \n1                           0.000000                            0.000000   \n2                           0.000000                            0.000000   \n3                           0.000000                            0.000000   \n4                           0.000000                            0.000000   \n...                              ...                                 ...   \n20944                       0.000000                            0.000000   \n20945                       0.000000                            0.000000   \n20946                       0.000000                            0.000000   \n20947                       0.000000                            0.000000   \n20948                  137142.114697                            7.081231   \n\n       AverageIncomeToDamageMiddleClassHousehold  \\\n0                                       0.000000   \n1                                       0.000000   \n2                                       0.000000   \n3                                       0.000000   \n4                                       0.000000   \n...                                          ...   \n20944                                   0.000000   \n20945                                   0.000000   \n20946                                   0.000000   \n20947                                   0.000000   \n20948                                   2.378692   \n\n       AverageIncomeToDamageRichHousehold  \n0                                0.000000  \n1                                0.000000  \n2                                0.000000  \n3                                0.000000  \n4                                0.000000  \n...                                   ...  \n20944                            0.000000  \n20945                            0.000000  \n20946                            0.000000  \n20947                            0.000000  \n20948                            2.328967  \n\n[20949 rows x 20 columns]",
      "text/html": "<div>\n<style scoped>\n    .dataframe tbody tr th:only-of-type {\n        vertical-align: middle;\n    }\n\n    .dataframe tbody tr th {\n        vertical-align: top;\n    }\n\n    .dataframe thead th {\n        text-align: right;\n    }\n</style>\n<table border=\"1\" class=\"dataframe\">\n  <thead>\n    <tr style=\"text-align: right;\">\n      <th></th>\n      <th>RunId</th>\n      <th>iteration</th>\n      <th>Step</th>\n      <th>number_of_households</th>\n      <th>number_of_steps</th>\n      <th>flood_map_choice</th>\n      <th>network</th>\n      <th>income_distribution</th>\n      <th>TotalAdaptedHouseholds</th>\n      <th>TotalActualDamage</th>\n      <th>TotalExpectedDamage</th>\n      <th>TotalAdaptationCosts</th>\n      <th>TotalCostsOfSubsidies</th>\n      <th>IncomeDistribution</th>\n      <th>AverageDamagePerPoorHousehold</th>\n      <th>AverageDamagePerMiddleClassHousehold</th>\n      <th>AverageDamagePerRichHousehold</th>\n      <th>AverageIncomeToDamagePoorHousehold</th>\n      <th>AverageIncomeToDamageMiddleClassHousehold</th>\n      <th>AverageIncomeToDamageRichHousehold</th>\n    </tr>\n  </thead>\n  <tbody>\n    <tr>\n      <th>0</th>\n      <td>0</td>\n      <td>0</td>\n      <td>0</td>\n      <td>1000</td>\n      <td>80</td>\n      <td>harvey</td>\n      <td>watts_strogatz</td>\n      <td>{'Poor': [5000, 1875], 'Middle-Class': [29375,...</td>\n      <td>0</td>\n      <td>0.000000e+00</td>\n      <td>7.600595e+07</td>\n      <td>0</td>\n      <td>0</td>\n      <td>Base</td>\n      <td>0.000000</td>\n      <td>0.00000</td>\n      <td>0.000000</td>\n      <td>0.000000</td>\n      <td>0.000000</td>\n      <td>0.000000</td>\n    </tr>\n    <tr>\n      <th>1</th>\n      <td>0</td>\n      <td>0</td>\n      <td>1</td>\n      <td>1000</td>\n      <td>80</td>\n      <td>harvey</td>\n      <td>watts_strogatz</td>\n      <td>{'Poor': [5000, 1875], 'Middle-Class': [29375,...</td>\n      <td>200</td>\n      <td>0.000000e+00</td>\n      <td>7.208000e+07</td>\n      <td>266700</td>\n      <td>0</td>\n      <td>Base</td>\n      <td>0.000000</td>\n      <td>0.00000</td>\n      <td>0.000000</td>\n      <td>0.000000</td>\n      <td>0.000000</td>\n      <td>0.000000</td>\n    </tr>\n    <tr>\n      <th>2</th>\n      <td>0</td>\n      <td>0</td>\n      <td>2</td>\n      <td>1000</td>\n      <td>80</td>\n      <td>harvey</td>\n      <td>watts_strogatz</td>\n      <td>{'Poor': [5000, 1875], 'Middle-Class': [29375,...</td>\n      <td>355</td>\n      <td>0.000000e+00</td>\n      <td>6.638099e+07</td>\n      <td>786755</td>\n      <td>0</td>\n      <td>Base</td>\n      <td>0.000000</td>\n      <td>0.00000</td>\n      <td>0.000000</td>\n      <td>0.000000</td>\n      <td>0.000000</td>\n      <td>0.000000</td>\n    </tr>\n    <tr>\n      <th>3</th>\n      <td>0</td>\n      <td>0</td>\n      <td>3</td>\n      <td>1000</td>\n      <td>80</td>\n      <td>harvey</td>\n      <td>watts_strogatz</td>\n      <td>{'Poor': [5000, 1875], 'Middle-Class': [29375,...</td>\n      <td>456</td>\n      <td>0.000000e+00</td>\n      <td>6.084212e+07</td>\n      <td>1314385</td>\n      <td>0</td>\n      <td>Base</td>\n      <td>0.000000</td>\n      <td>0.00000</td>\n      <td>0.000000</td>\n      <td>0.000000</td>\n      <td>0.000000</td>\n      <td>0.000000</td>\n    </tr>\n    <tr>\n      <th>4</th>\n      <td>0</td>\n      <td>0</td>\n      <td>4</td>\n      <td>1000</td>\n      <td>80</td>\n      <td>harvey</td>\n      <td>watts_strogatz</td>\n      <td>{'Poor': [5000, 1875], 'Middle-Class': [29375,...</td>\n      <td>512</td>\n      <td>0.000000e+00</td>\n      <td>5.737287e+07</td>\n      <td>1658115</td>\n      <td>0</td>\n      <td>Base</td>\n      <td>0.000000</td>\n      <td>0.00000</td>\n      <td>0.000000</td>\n      <td>0.000000</td>\n      <td>0.000000</td>\n      <td>0.000000</td>\n    </tr>\n    <tr>\n      <th>...</th>\n      <td>...</td>\n      <td>...</td>\n      <td>...</td>\n      <td>...</td>\n      <td>...</td>\n      <td>...</td>\n      <td>...</td>\n      <td>...</td>\n      <td>...</td>\n      <td>...</td>\n      <td>...</td>\n      <td>...</td>\n      <td>...</td>\n      <td>...</td>\n      <td>...</td>\n      <td>...</td>\n      <td>...</td>\n      <td>...</td>\n      <td>...</td>\n      <td>...</td>\n    </tr>\n    <tr>\n      <th>20944</th>\n      <td>499</td>\n      <td>99</td>\n      <td>50</td>\n      <td>1000</td>\n      <td>80</td>\n      <td>harvey</td>\n      <td>watts_strogatz</td>\n      <td>{'Poor': [3500, 1875], 'Middle-Class': [20562....</td>\n      <td>582</td>\n      <td>0.000000e+00</td>\n      <td>5.557161e+07</td>\n      <td>2378300</td>\n      <td>0</td>\n      <td>Minus30</td>\n      <td>0.000000</td>\n      <td>0.00000</td>\n      <td>0.000000</td>\n      <td>0.000000</td>\n      <td>0.000000</td>\n      <td>0.000000</td>\n    </tr>\n    <tr>\n      <th>20945</th>\n      <td>499</td>\n      <td>99</td>\n      <td>51</td>\n      <td>1000</td>\n      <td>80</td>\n      <td>harvey</td>\n      <td>watts_strogatz</td>\n      <td>{'Poor': [3500, 1875], 'Middle-Class': [20562....</td>\n      <td>582</td>\n      <td>0.000000e+00</td>\n      <td>5.557161e+07</td>\n      <td>2378300</td>\n      <td>0</td>\n      <td>Minus30</td>\n      <td>0.000000</td>\n      <td>0.00000</td>\n      <td>0.000000</td>\n      <td>0.000000</td>\n      <td>0.000000</td>\n      <td>0.000000</td>\n    </tr>\n    <tr>\n      <th>20946</th>\n      <td>499</td>\n      <td>99</td>\n      <td>52</td>\n      <td>1000</td>\n      <td>80</td>\n      <td>harvey</td>\n      <td>watts_strogatz</td>\n      <td>{'Poor': [3500, 1875], 'Middle-Class': [20562....</td>\n      <td>584</td>\n      <td>0.000000e+00</td>\n      <td>5.527037e+07</td>\n      <td>2663780</td>\n      <td>0</td>\n      <td>Minus30</td>\n      <td>0.000000</td>\n      <td>0.00000</td>\n      <td>0.000000</td>\n      <td>0.000000</td>\n      <td>0.000000</td>\n      <td>0.000000</td>\n    </tr>\n    <tr>\n      <th>20947</th>\n      <td>499</td>\n      <td>99</td>\n      <td>53</td>\n      <td>1000</td>\n      <td>80</td>\n      <td>harvey</td>\n      <td>watts_strogatz</td>\n      <td>{'Poor': [3500, 1875], 'Middle-Class': [20562....</td>\n      <td>585</td>\n      <td>0.000000e+00</td>\n      <td>5.515417e+07</td>\n      <td>2778440</td>\n      <td>0</td>\n      <td>Minus30</td>\n      <td>0.000000</td>\n      <td>0.00000</td>\n      <td>0.000000</td>\n      <td>0.000000</td>\n      <td>0.000000</td>\n      <td>0.000000</td>\n    </tr>\n    <tr>\n      <th>20948</th>\n      <td>499</td>\n      <td>99</td>\n      <td>54</td>\n      <td>1000</td>\n      <td>80</td>\n      <td>harvey</td>\n      <td>watts_strogatz</td>\n      <td>{'Poor': [3500, 1875], 'Middle-Class': [20562....</td>\n      <td>585</td>\n      <td>5.174994e+07</td>\n      <td>5.515417e+07</td>\n      <td>2778440</td>\n      <td>0</td>\n      <td>Minus30</td>\n      <td>25948.240796</td>\n      <td>49959.48837</td>\n      <td>137142.114697</td>\n      <td>7.081231</td>\n      <td>2.378692</td>\n      <td>2.328967</td>\n    </tr>\n  </tbody>\n</table>\n<p>20949 rows × 20 columns</p>\n</div>"
     },
     "execution_count": 3,
     "metadata": {},
     "output_type": "execute_result"
    }
   ],
   "source": [
    "def unpack_dictionary(row, column_name):\n",
    "    return pd.Series(row[column_name])\n",
    "\n",
    "#base_case_unpacked = base_case_100_iterations.apply(unpack_dictionary['AverageDamagePerIncomeLabel'], axis = 1)\n",
    "first_column_unpacked = sensitivity_analysis_income_distribution.apply(unpack_dictionary, args=('AverageDamagePerIncomeLabel',), axis=1)\n",
    "second_column_unpacked = sensitivity_analysis_income_distribution.apply(unpack_dictionary, args=('AverageIncomeToDamageRatio',), axis=1)\n",
    "sensitivity_analysis_income_unpacked = pd.concat([sensitivity_analysis_income_distribution, first_column_unpacked, second_column_unpacked], axis=1)\n",
    "sensitivity_analysis_income_clean = sensitivity_analysis_income_unpacked.drop(['AverageDamagePerIncomeLabel', 'AverageIncomeToDamageRatio'], axis=1)\n",
    "sensitivity_analysis_income_clean"
   ]
  },
  {
   "cell_type": "code",
   "execution_count": 4,
   "outputs": [
    {
     "data": {
      "text/plain": "       RunId  iteration  Step  number_of_households  number_of_steps  \\\n0          0          0     0                  1000               80   \n1          0          0     1                  1000               80   \n2          0          0     2                  1000               80   \n3          0          0     3                  1000               80   \n4          0          0     4                  1000               80   \n...      ...        ...   ...                   ...              ...   \n20944    499         99    50                  1000               80   \n20945    499         99    51                  1000               80   \n20946    499         99    52                  1000               80   \n20947    499         99    53                  1000               80   \n20948    499         99    54                  1000               80   \n\n      flood_map_choice         network  \\\n0               harvey  watts_strogatz   \n1               harvey  watts_strogatz   \n2               harvey  watts_strogatz   \n3               harvey  watts_strogatz   \n4               harvey  watts_strogatz   \n...                ...             ...   \n20944           harvey  watts_strogatz   \n20945           harvey  watts_strogatz   \n20946           harvey  watts_strogatz   \n20947           harvey  watts_strogatz   \n20948           harvey  watts_strogatz   \n\n                                     income_distribution  \\\n0      {'Poor': [5000, 1875], 'Middle-Class': [29375,...   \n1      {'Poor': [5000, 1875], 'Middle-Class': [29375,...   \n2      {'Poor': [5000, 1875], 'Middle-Class': [29375,...   \n3      {'Poor': [5000, 1875], 'Middle-Class': [29375,...   \n4      {'Poor': [5000, 1875], 'Middle-Class': [29375,...   \n...                                                  ...   \n20944  {'Poor': [3500, 1875], 'Middle-Class': [20562....   \n20945  {'Poor': [3500, 1875], 'Middle-Class': [20562....   \n20946  {'Poor': [3500, 1875], 'Middle-Class': [20562....   \n20947  {'Poor': [3500, 1875], 'Middle-Class': [20562....   \n20948  {'Poor': [3500, 1875], 'Middle-Class': [20562....   \n\n       TotalAdaptedHouseholds  TotalActualDamage  TotalExpectedDamage  \\\n0                           0       0.000000e+00         7.600595e+07   \n1                         200       0.000000e+00         7.208000e+07   \n2                         355       0.000000e+00         6.638099e+07   \n3                         456       0.000000e+00         6.084212e+07   \n4                         512       0.000000e+00         5.737287e+07   \n...                       ...                ...                  ...   \n20944                     582       0.000000e+00         5.557161e+07   \n20945                     582       0.000000e+00         5.557161e+07   \n20946                     584       0.000000e+00         5.527037e+07   \n20947                     585       0.000000e+00         5.515417e+07   \n20948                     585       5.174994e+07         5.515417e+07   \n\n       TotalAdaptationCosts  TotalCostsOfSubsidies IncomeDistribution  \\\n0                         0                      0               Base   \n1                    266700                      0               Base   \n2                    786755                      0               Base   \n3                   1314385                      0               Base   \n4                   1658115                      0               Base   \n...                     ...                    ...                ...   \n20944               2378300                      0            Minus30   \n20945               2378300                      0            Minus30   \n20946               2663780                      0            Minus30   \n20947               2778440                      0            Minus30   \n20948               2778440                      0            Minus30   \n\n       AverageDamagePerPoorHousehold  AverageDamagePerMiddleClassHousehold  \\\n0                           0.000000                               0.00000   \n1                           0.000000                               0.00000   \n2                           0.000000                               0.00000   \n3                           0.000000                               0.00000   \n4                           0.000000                               0.00000   \n...                              ...                                   ...   \n20944                       0.000000                               0.00000   \n20945                       0.000000                               0.00000   \n20946                       0.000000                               0.00000   \n20947                       0.000000                               0.00000   \n20948                   25948.240796                           49959.48837   \n\n       AverageDamagePerRichHousehold  AverageIncomeToDamagePoorHousehold  \\\n0                           0.000000                            0.000000   \n1                           0.000000                            0.000000   \n2                           0.000000                            0.000000   \n3                           0.000000                            0.000000   \n4                           0.000000                            0.000000   \n...                              ...                                 ...   \n20944                       0.000000                            0.000000   \n20945                       0.000000                            0.000000   \n20946                       0.000000                            0.000000   \n20947                       0.000000                            0.000000   \n20948                  137142.114697                            7.081231   \n\n       AverageIncomeToDamageMiddleClassHousehold  \\\n0                                       0.000000   \n1                                       0.000000   \n2                                       0.000000   \n3                                       0.000000   \n4                                       0.000000   \n...                                          ...   \n20944                                   0.000000   \n20945                                   0.000000   \n20946                                   0.000000   \n20947                                   0.000000   \n20948                                   2.378692   \n\n       AverageIncomeToDamageRichHousehold  \n0                                0.000000  \n1                                0.000000  \n2                                0.000000  \n3                                0.000000  \n4                                0.000000  \n...                                   ...  \n20944                            0.000000  \n20945                            0.000000  \n20946                            0.000000  \n20947                            0.000000  \n20948                            2.328967  \n\n[20949 rows x 20 columns]",
      "text/html": "<div>\n<style scoped>\n    .dataframe tbody tr th:only-of-type {\n        vertical-align: middle;\n    }\n\n    .dataframe tbody tr th {\n        vertical-align: top;\n    }\n\n    .dataframe thead th {\n        text-align: right;\n    }\n</style>\n<table border=\"1\" class=\"dataframe\">\n  <thead>\n    <tr style=\"text-align: right;\">\n      <th></th>\n      <th>RunId</th>\n      <th>iteration</th>\n      <th>Step</th>\n      <th>number_of_households</th>\n      <th>number_of_steps</th>\n      <th>flood_map_choice</th>\n      <th>network</th>\n      <th>income_distribution</th>\n      <th>TotalAdaptedHouseholds</th>\n      <th>TotalActualDamage</th>\n      <th>TotalExpectedDamage</th>\n      <th>TotalAdaptationCosts</th>\n      <th>TotalCostsOfSubsidies</th>\n      <th>IncomeDistribution</th>\n      <th>AverageDamagePerPoorHousehold</th>\n      <th>AverageDamagePerMiddleClassHousehold</th>\n      <th>AverageDamagePerRichHousehold</th>\n      <th>AverageIncomeToDamagePoorHousehold</th>\n      <th>AverageIncomeToDamageMiddleClassHousehold</th>\n      <th>AverageIncomeToDamageRichHousehold</th>\n    </tr>\n  </thead>\n  <tbody>\n    <tr>\n      <th>0</th>\n      <td>0</td>\n      <td>0</td>\n      <td>0</td>\n      <td>1000</td>\n      <td>80</td>\n      <td>harvey</td>\n      <td>watts_strogatz</td>\n      <td>{'Poor': [5000, 1875], 'Middle-Class': [29375,...</td>\n      <td>0</td>\n      <td>0.000000e+00</td>\n      <td>7.600595e+07</td>\n      <td>0</td>\n      <td>0</td>\n      <td>Base</td>\n      <td>0.000000</td>\n      <td>0.00000</td>\n      <td>0.000000</td>\n      <td>0.000000</td>\n      <td>0.000000</td>\n      <td>0.000000</td>\n    </tr>\n    <tr>\n      <th>1</th>\n      <td>0</td>\n      <td>0</td>\n      <td>1</td>\n      <td>1000</td>\n      <td>80</td>\n      <td>harvey</td>\n      <td>watts_strogatz</td>\n      <td>{'Poor': [5000, 1875], 'Middle-Class': [29375,...</td>\n      <td>200</td>\n      <td>0.000000e+00</td>\n      <td>7.208000e+07</td>\n      <td>266700</td>\n      <td>0</td>\n      <td>Base</td>\n      <td>0.000000</td>\n      <td>0.00000</td>\n      <td>0.000000</td>\n      <td>0.000000</td>\n      <td>0.000000</td>\n      <td>0.000000</td>\n    </tr>\n    <tr>\n      <th>2</th>\n      <td>0</td>\n      <td>0</td>\n      <td>2</td>\n      <td>1000</td>\n      <td>80</td>\n      <td>harvey</td>\n      <td>watts_strogatz</td>\n      <td>{'Poor': [5000, 1875], 'Middle-Class': [29375,...</td>\n      <td>355</td>\n      <td>0.000000e+00</td>\n      <td>6.638099e+07</td>\n      <td>786755</td>\n      <td>0</td>\n      <td>Base</td>\n      <td>0.000000</td>\n      <td>0.00000</td>\n      <td>0.000000</td>\n      <td>0.000000</td>\n      <td>0.000000</td>\n      <td>0.000000</td>\n    </tr>\n    <tr>\n      <th>3</th>\n      <td>0</td>\n      <td>0</td>\n      <td>3</td>\n      <td>1000</td>\n      <td>80</td>\n      <td>harvey</td>\n      <td>watts_strogatz</td>\n      <td>{'Poor': [5000, 1875], 'Middle-Class': [29375,...</td>\n      <td>456</td>\n      <td>0.000000e+00</td>\n      <td>6.084212e+07</td>\n      <td>1314385</td>\n      <td>0</td>\n      <td>Base</td>\n      <td>0.000000</td>\n      <td>0.00000</td>\n      <td>0.000000</td>\n      <td>0.000000</td>\n      <td>0.000000</td>\n      <td>0.000000</td>\n    </tr>\n    <tr>\n      <th>4</th>\n      <td>0</td>\n      <td>0</td>\n      <td>4</td>\n      <td>1000</td>\n      <td>80</td>\n      <td>harvey</td>\n      <td>watts_strogatz</td>\n      <td>{'Poor': [5000, 1875], 'Middle-Class': [29375,...</td>\n      <td>512</td>\n      <td>0.000000e+00</td>\n      <td>5.737287e+07</td>\n      <td>1658115</td>\n      <td>0</td>\n      <td>Base</td>\n      <td>0.000000</td>\n      <td>0.00000</td>\n      <td>0.000000</td>\n      <td>0.000000</td>\n      <td>0.000000</td>\n      <td>0.000000</td>\n    </tr>\n    <tr>\n      <th>...</th>\n      <td>...</td>\n      <td>...</td>\n      <td>...</td>\n      <td>...</td>\n      <td>...</td>\n      <td>...</td>\n      <td>...</td>\n      <td>...</td>\n      <td>...</td>\n      <td>...</td>\n      <td>...</td>\n      <td>...</td>\n      <td>...</td>\n      <td>...</td>\n      <td>...</td>\n      <td>...</td>\n      <td>...</td>\n      <td>...</td>\n      <td>...</td>\n      <td>...</td>\n    </tr>\n    <tr>\n      <th>20944</th>\n      <td>499</td>\n      <td>99</td>\n      <td>50</td>\n      <td>1000</td>\n      <td>80</td>\n      <td>harvey</td>\n      <td>watts_strogatz</td>\n      <td>{'Poor': [3500, 1875], 'Middle-Class': [20562....</td>\n      <td>582</td>\n      <td>0.000000e+00</td>\n      <td>5.557161e+07</td>\n      <td>2378300</td>\n      <td>0</td>\n      <td>Minus30</td>\n      <td>0.000000</td>\n      <td>0.00000</td>\n      <td>0.000000</td>\n      <td>0.000000</td>\n      <td>0.000000</td>\n      <td>0.000000</td>\n    </tr>\n    <tr>\n      <th>20945</th>\n      <td>499</td>\n      <td>99</td>\n      <td>51</td>\n      <td>1000</td>\n      <td>80</td>\n      <td>harvey</td>\n      <td>watts_strogatz</td>\n      <td>{'Poor': [3500, 1875], 'Middle-Class': [20562....</td>\n      <td>582</td>\n      <td>0.000000e+00</td>\n      <td>5.557161e+07</td>\n      <td>2378300</td>\n      <td>0</td>\n      <td>Minus30</td>\n      <td>0.000000</td>\n      <td>0.00000</td>\n      <td>0.000000</td>\n      <td>0.000000</td>\n      <td>0.000000</td>\n      <td>0.000000</td>\n    </tr>\n    <tr>\n      <th>20946</th>\n      <td>499</td>\n      <td>99</td>\n      <td>52</td>\n      <td>1000</td>\n      <td>80</td>\n      <td>harvey</td>\n      <td>watts_strogatz</td>\n      <td>{'Poor': [3500, 1875], 'Middle-Class': [20562....</td>\n      <td>584</td>\n      <td>0.000000e+00</td>\n      <td>5.527037e+07</td>\n      <td>2663780</td>\n      <td>0</td>\n      <td>Minus30</td>\n      <td>0.000000</td>\n      <td>0.00000</td>\n      <td>0.000000</td>\n      <td>0.000000</td>\n      <td>0.000000</td>\n      <td>0.000000</td>\n    </tr>\n    <tr>\n      <th>20947</th>\n      <td>499</td>\n      <td>99</td>\n      <td>53</td>\n      <td>1000</td>\n      <td>80</td>\n      <td>harvey</td>\n      <td>watts_strogatz</td>\n      <td>{'Poor': [3500, 1875], 'Middle-Class': [20562....</td>\n      <td>585</td>\n      <td>0.000000e+00</td>\n      <td>5.515417e+07</td>\n      <td>2778440</td>\n      <td>0</td>\n      <td>Minus30</td>\n      <td>0.000000</td>\n      <td>0.00000</td>\n      <td>0.000000</td>\n      <td>0.000000</td>\n      <td>0.000000</td>\n      <td>0.000000</td>\n    </tr>\n    <tr>\n      <th>20948</th>\n      <td>499</td>\n      <td>99</td>\n      <td>54</td>\n      <td>1000</td>\n      <td>80</td>\n      <td>harvey</td>\n      <td>watts_strogatz</td>\n      <td>{'Poor': [3500, 1875], 'Middle-Class': [20562....</td>\n      <td>585</td>\n      <td>5.174994e+07</td>\n      <td>5.515417e+07</td>\n      <td>2778440</td>\n      <td>0</td>\n      <td>Minus30</td>\n      <td>25948.240796</td>\n      <td>49959.48837</td>\n      <td>137142.114697</td>\n      <td>7.081231</td>\n      <td>2.378692</td>\n      <td>2.328967</td>\n    </tr>\n  </tbody>\n</table>\n<p>20949 rows × 20 columns</p>\n</div>"
     },
     "execution_count": 4,
     "metadata": {},
     "output_type": "execute_result"
    }
   ],
   "source": [
    "\n",
    "df_sorted = sensitivity_analysis_income_clean.sort_values(by=['RunId', 'Step'])\n",
    "df_sorted"
   ],
   "metadata": {
    "collapsed": false,
    "ExecuteTime": {
     "end_time": "2024-01-24T12:51:23.244170Z",
     "start_time": "2024-01-24T12:51:23.186857Z"
    }
   },
   "id": "5510c39584f82fcc"
  },
  {
   "cell_type": "code",
   "outputs": [],
   "source": [
    "output_data_path = r'../output_data/SensitivityAnalysisIncomeDistribution.csv'\n",
    "df_sorted.to_csv(output_data_path, index=False)"
   ],
   "metadata": {
    "collapsed": false,
    "ExecuteTime": {
     "end_time": "2024-01-24T12:51:24.961332Z",
     "start_time": "2024-01-24T12:51:24.445349Z"
    }
   },
   "id": "ba395d4e10468a1f",
   "execution_count": 5
  },
  {
   "cell_type": "code",
   "execution_count": null,
   "outputs": [],
   "source": [],
   "metadata": {
    "collapsed": false
   },
   "id": "51d7421953f2eab3"
  }
 ],
 "metadata": {
  "kernelspec": {
   "display_name": "Python 3 (ipykernel)",
   "language": "python",
   "name": "python3"
  },
  "language_info": {
   "codemirror_mode": {
    "name": "ipython",
    "version": 3
   },
   "file_extension": ".py",
   "mimetype": "text/x-python",
   "name": "python",
   "nbconvert_exporter": "python",
   "pygments_lexer": "ipython3",
   "version": "3.12.0"
  }
 },
 "nbformat": 4,
 "nbformat_minor": 5
}
