{
 "cells": [
  {
   "cell_type": "code",
   "execution_count": 1,
   "id": "initial_id",
   "metadata": {
    "ExecuteTime": {
     "end_time": "2024-01-24T11:36:12.273500200Z",
     "start_time": "2024-01-24T11:36:05.504547Z"
    }
   },
   "outputs": [],
   "source": [
    "from model import AdaptationModel\n",
    "from mesa.batchrunner import batch_run\n",
    "import pandas as pd"
   ]
  },
  {
   "cell_type": "code",
   "execution_count": null,
   "id": "f0d21165-cdcc-40ad-b760-70233b339009",
   "metadata": {
    "ExecuteTime": {
     "start_time": "2024-01-24T09:46:53.129705500Z"
    }
   },
   "outputs": [
    {
     "data": {
      "text/plain": "  0%|          | 0/500 [00:00<?, ?it/s]",
      "application/vnd.jupyter.widget-view+json": {
       "version_major": 2,
       "version_minor": 0,
       "model_id": "faea149f6325497d88932f2cab6a3fc7"
      }
     },
     "metadata": {},
     "output_type": "display_data"
    }
   ],
   "source": [
    "income_distribution_base = {'Poor': [5000, 1875], 'Middle-Class': [29375, 10312], 'Rich': [87500, 18750]},\n",
    "income_distribution_plus_10 = {'Poor': [5500, 1875], 'Middle-Class': [32312.5, 10321], 'Rich': [96250, 18750]}\n",
    "income_distribution_minus_10 = {'Poor': [4500, 1875], 'Middle-Class': [26437.5, 10321], 'Rich': [78750, 18750]}\n",
    "income_distribution_plus_30 = {'Poor': [6500, 1875], 'Middle-Class': [38187.5, 10321], 'Rich': [133750, 18750]}\n",
    "income_distribution_minus_30 = {'Poor': [3500, 1875], 'Middle-Class': [20562.5, 10321], 'Rich': [61250, 18750]}\n",
    "\n",
    "#income_distributions = [income_distribution_base, income_distribution_plus_10, income_distribution_minus_10,\n",
    "                         #income_distribution_plus_30, income_distribution_minus_30]\n",
    "#Income distribution\n",
    "model_params = {\n",
    "    \"number_of_households\": 1000,\n",
    "    \"number_of_steps\": 80,\n",
    "    \"flood_map_choice\": \"harvey\",\n",
    "    \"network\": \"watts_strogatz\",\n",
    "    \"income_distribution\":[{'Poor': [5000, 1875], 'Middle-Class': [29375, 10312], 'Rich': [87500, 18750]},\n",
    "                           {'Poor': [5500, 1875], 'Middle-Class': [32312.5, 10321], 'Rich': [96250, 18750]},\n",
    "                           {'Poor': [4500, 1875], 'Middle-Class': [26437.5, 10321], 'Rich': [78750, 18750]},\n",
    "                           {'Poor': [6500, 1875], 'Middle-Class': [38187.5, 10321], 'Rich': [133750, 18750]},\n",
    "                           {'Poor': [3500, 1875], 'Middle-Class': [20562.5, 10321], 'Rich': [61250, 18750]}]\n",
    "}\n",
    "\n",
    "\n",
    "\n",
    "results = batch_run(\n",
    "    model_cls=AdaptationModel,\n",
    "    parameters=model_params,\n",
    "    number_processes=4,  # Set to None if you want to use all CPUs\n",
    "    iterations=100,  # Number of iterations for each parameter combination\n",
    "    data_collection_period=-1,  # Collect data at the end of each run\n",
    "    max_steps=model_params[\"number_of_steps\"],  # Maximum number of model steps\n",
    "    display_progress=True  # Display progress bar\n",
    ")\n",
    "\n",
    "df = pd.DataFrame(results)\n",
    "\n",
    "sensitivity_analysis_income_distribution = df"
   ]
  },
  {
   "cell_type": "code",
   "execution_count": null,
   "id": "5f434c73-68e1-4de7-96ea-94f5288fcef3",
   "metadata": {},
   "outputs": [],
   "source": [
    "def unpack_dictionary(row, column_name):\n",
    "    return pd.Series(row[column_name])\n",
    "\n",
    "#base_case_unpacked = base_case_100_iterations.apply(unpack_dictionary['AverageDamagePerIncomeLabel'], axis = 1)\n",
    "first_column_unpacked = sensitivity_analysis_income_distribution.apply(unpack_dictionary, args=('AverageDamagePerIncomeLabel',), axis=1)\n",
    "second_column_unpacked = sensitivity_analysis_income_distribution.apply(unpack_dictionary, args=('AverageIncomeToDamageRatio',), axis=1)\n",
    "sensitivity_analysis_income_unpacked = pd.concat([sensitivity_analysis_income_distribution, first_column_unpacked, second_column_unpacked], axis=1)\n",
    "sensitivity_analysis_income_clean = sensitivity_analysis_income_unpacked.drop(['AverageDamagePerIncomeLabel', 'AverageIncomeToDamageRatio'], axis=1)\n",
    "sensitivity_analysis_income_clean"
   ]
  },
  {
   "cell_type": "code",
   "outputs": [],
   "source": [
    "output_data_path = r'../output_data/SensitivityAnalysisIncomeDistribution.csv'\n",
    "sensitivity_analysis_income_clean.to_csv(output_data_path, index=False)"
   ],
   "metadata": {
    "collapsed": false
   },
   "id": "ba395d4e10468a1f"
  }
 ],
 "metadata": {
  "kernelspec": {
   "display_name": "Python 3 (ipykernel)",
   "language": "python",
   "name": "python3"
  },
  "language_info": {
   "codemirror_mode": {
    "name": "ipython",
    "version": 3
   },
   "file_extension": ".py",
   "mimetype": "text/x-python",
   "name": "python",
   "nbconvert_exporter": "python",
   "pygments_lexer": "ipython3",
   "version": "3.12.0"
  }
 },
 "nbformat": 4,
 "nbformat_minor": 5
}
