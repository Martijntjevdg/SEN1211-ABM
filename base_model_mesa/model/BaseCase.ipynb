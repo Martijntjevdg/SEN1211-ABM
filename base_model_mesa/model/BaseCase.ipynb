{
 "cells": [
  {
   "cell_type": "code",
   "execution_count": 1,
   "id": "initial_id",
   "metadata": {
    "ExecuteTime": {
     "end_time": "2024-01-24T13:59:00.483554Z",
     "start_time": "2024-01-24T13:58:57.169700Z"
    }
   },
   "outputs": [],
   "source": [
    "from model import AdaptationModel\n",
    "from mesa.batchrunner import batch_run\n",
    "import pandas as pd"
   ]
  },
  {
   "cell_type": "code",
   "execution_count": 2,
   "id": "93530826-3a44-4bfb-b49b-93003c155f84",
   "metadata": {
    "ExecuteTime": {
     "end_time": "2024-01-24T13:59:18.512750Z",
     "start_time": "2024-01-24T13:59:18.505101Z"
    }
   },
   "outputs": [
    {
     "ename": "SyntaxError",
     "evalue": "invalid syntax (3328202884.py, line 1)",
     "output_type": "error",
     "traceback": [
      "\u001B[0;36m  Cell \u001B[0;32mIn[2], line 1\u001B[0;36m\u001B[0m\n\u001B[0;31m    \"erdos_renyi\", \"barabasi_albert\", \"watts_strogatz\", or \"no_network\"\u001B[0m\n\u001B[0m                                                        ^\u001B[0m\n\u001B[0;31mSyntaxError\u001B[0m\u001B[0;31m:\u001B[0m invalid syntax\n"
     ]
    }
   ],
   "source": [
    "\"erdos_renyi\", \"barabasi_albert\", \"watts_strogatz\", or \"no_network\""
   ]
  },
  {
   "cell_type": "code",
   "execution_count": 3,
   "id": "d3b8c92594166eba",
   "metadata": {
    "collapsed": false,
    "ExecuteTime": {
     "end_time": "2024-01-24T13:59:54.246519Z",
     "start_time": "2024-01-24T13:59:22.126507Z"
    }
   },
   "outputs": [
    {
     "data": {
      "text/plain": "  0%|          | 0/100 [00:00<?, ?it/s]",
      "application/vnd.jupyter.widget-view+json": {
       "version_major": 2,
       "version_minor": 0,
       "model_id": "874c6c752e034e83ae5e25769c407ee1"
      }
     },
     "metadata": {},
     "output_type": "display_data"
    }
   ],
   "source": [
    "#Base-case\n",
    "model_params = {\n",
    "    \"number_of_households\": 1000,\n",
    "    \"number_of_steps\": 80,\n",
    "    \"flood_map_choice\": \"100yr\",\n",
    "    \"network\": \"watts_strogatz\"\n",
    "}\n",
    "\n",
    "results = batch_run(\n",
    "    model_cls=AdaptationModel,\n",
    "    parameters=model_params,\n",
    "    number_processes=4,  # Set to None if you want to use all CPUs\n",
    "    iterations=100,  # Number of iterations for each parameter combination\n",
    "    data_collection_period=-1,  # Collect data at the end of each run\n",
    "    max_steps=model_params[\"number_of_steps\"],  # Maximum number of model steps\n",
    "    display_progress=True  # Display progress bar\n",
    ")\n",
    "\n",
    "df = pd.DataFrame(results)\n",
    "# Access the data\n",
    "#run_data = batch_run.get_agent_vars_dataframe()"
   ]
  },
  {
   "cell_type": "code",
   "execution_count": 4,
   "id": "51138cc8-6e67-4167-bf54-65c0d17e06b1",
   "metadata": {
    "ExecuteTime": {
     "end_time": "2024-01-24T14:00:04.918968Z",
     "start_time": "2024-01-24T14:00:04.877821Z"
    }
   },
   "outputs": [
    {
     "data": {
      "text/plain": "    RunId  iteration  Step  number_of_households  number_of_steps  \\\n0       0          0    22                  1000               80   \n1       1          1    37                  1000               80   \n2       5          5     7                  1000               80   \n3       3          3    69                  1000               80   \n4       2          2    72                  1000               80   \n..    ...        ...   ...                   ...              ...   \n95     95         95    10                  1000               80   \n96     97         97    20                  1000               80   \n97     96         96    68                  1000               80   \n98     98         98    69                  1000               80   \n99     99         99    68                  1000               80   \n\n   flood_map_choice         network  TotalAdaptedHouseholds  \\\n0             100yr  watts_strogatz                     336   \n1             100yr  watts_strogatz                     343   \n2             100yr  watts_strogatz                     295   \n3             100yr  watts_strogatz                     340   \n4             100yr  watts_strogatz                     324   \n..              ...             ...                     ...   \n95            100yr  watts_strogatz                     299   \n96            100yr  watts_strogatz                     330   \n97            100yr  watts_strogatz                     350   \n98            100yr  watts_strogatz                     340   \n99            100yr  watts_strogatz                     296   \n\n    TotalActualDamage  TotalExpectedDamage  TotalAdaptationCosts  \\\n0        1.439853e+07         1.540618e+07               1578345   \n1        1.346554e+07         1.433237e+07               2430890   \n2        1.567394e+07         1.677657e+07               1470850   \n3        1.378597e+07         1.460031e+07               2539730   \n4        1.554555e+07         1.667415e+07               2080365   \n..                ...                  ...                   ...   \n95       1.648498e+07         1.760212e+07               1351790   \n96       1.368802e+07         1.476232e+07               1498620   \n97       1.374287e+07         1.501391e+07               2363940   \n98       1.586572e+07         1.693011e+07               1880535   \n99       1.709661e+07         1.817673e+07               1380715   \n\n    TotalCostsOfSubsidies                        AverageDamagePerIncomeLabel  \\\n0                       0  {'AverageDamagePerPoorHousehold': 9884.8026429...   \n1                       0  {'AverageDamagePerPoorHousehold': 8395.1649551...   \n2                       0  {'AverageDamagePerPoorHousehold': 11209.712721...   \n3                       0  {'AverageDamagePerPoorHousehold': 7562.1528532...   \n4                       0  {'AverageDamagePerPoorHousehold': 7159.8472941...   \n..                    ...                                                ...   \n95                      0  {'AverageDamagePerPoorHousehold': 9149.2970444...   \n96                      0  {'AverageDamagePerPoorHousehold': 7283.3881894...   \n97                      0  {'AverageDamagePerPoorHousehold': 5711.7653818...   \n98                      0  {'AverageDamagePerPoorHousehold': 8044.8700855...   \n99                      0  {'AverageDamagePerPoorHousehold': 7823.5205185...   \n\n                 EstimatedAverageDamagePerIncomeLabel  \\\n0   {'AverageDamagePerPoorHousehold': 10560.209022...   \n1   {'AverageDamagePerPoorHousehold': 9035.3077920...   \n2   {'AverageDamagePerPoorHousehold': 11850.269345...   \n3   {'AverageDamagePerPoorHousehold': 8033.9376253...   \n4   {'AverageDamagePerPoorHousehold': 7835.5373413...   \n..                                                ...   \n95  {'AverageDamagePerPoorHousehold': 9688.9485923...   \n96  {'AverageDamagePerPoorHousehold': 7935.1442805...   \n97  {'AverageDamagePerPoorHousehold': 6269.2073950...   \n98  {'AverageDamagePerPoorHousehold': 8513.3442606...   \n99  {'AverageDamagePerPoorHousehold': 8421.0912611...   \n\n                           AverageIncomeToDamageRatio  \\\n0   {'AverageIncomeToDamagePoorHousehold': 1.94490...   \n1   {'AverageIncomeToDamagePoorHousehold': 1.64261...   \n2   {'AverageIncomeToDamagePoorHousehold': 2.12502...   \n3   {'AverageIncomeToDamagePoorHousehold': 1.50207...   \n4   {'AverageIncomeToDamagePoorHousehold': 1.42027...   \n..                                                ...   \n95  {'AverageIncomeToDamagePoorHousehold': 1.80422...   \n96  {'AverageIncomeToDamagePoorHousehold': 1.40900...   \n97  {'AverageIncomeToDamagePoorHousehold': 1.10295...   \n98  {'AverageIncomeToDamagePoorHousehold': 1.60023...   \n99  {'AverageIncomeToDamagePoorHousehold': 1.56523...   \n\n                  EstimatedAverageIncomeToDamageRatio IncomeDistribution  \n0   {'AverageIncomeToDamagePoorHousehold': 2.07779...               Base  \n1   {'AverageIncomeToDamagePoorHousehold': 1.76786...               Base  \n2   {'AverageIncomeToDamagePoorHousehold': 2.24645...               Base  \n3   {'AverageIncomeToDamagePoorHousehold': 1.59578...               Base  \n4   {'AverageIncomeToDamagePoorHousehold': 1.55431...               Base  \n..                                                ...                ...  \n95  {'AverageIncomeToDamagePoorHousehold': 1.91064...               Base  \n96  {'AverageIncomeToDamagePoorHousehold': 1.53509...               Base  \n97  {'AverageIncomeToDamagePoorHousehold': 1.21059...               Base  \n98  {'AverageIncomeToDamagePoorHousehold': 1.69342...               Base  \n99  {'AverageIncomeToDamagePoorHousehold': 1.68479...               Base  \n\n[100 rows x 17 columns]",
      "text/html": "<div>\n<style scoped>\n    .dataframe tbody tr th:only-of-type {\n        vertical-align: middle;\n    }\n\n    .dataframe tbody tr th {\n        vertical-align: top;\n    }\n\n    .dataframe thead th {\n        text-align: right;\n    }\n</style>\n<table border=\"1\" class=\"dataframe\">\n  <thead>\n    <tr style=\"text-align: right;\">\n      <th></th>\n      <th>RunId</th>\n      <th>iteration</th>\n      <th>Step</th>\n      <th>number_of_households</th>\n      <th>number_of_steps</th>\n      <th>flood_map_choice</th>\n      <th>network</th>\n      <th>TotalAdaptedHouseholds</th>\n      <th>TotalActualDamage</th>\n      <th>TotalExpectedDamage</th>\n      <th>TotalAdaptationCosts</th>\n      <th>TotalCostsOfSubsidies</th>\n      <th>AverageDamagePerIncomeLabel</th>\n      <th>EstimatedAverageDamagePerIncomeLabel</th>\n      <th>AverageIncomeToDamageRatio</th>\n      <th>EstimatedAverageIncomeToDamageRatio</th>\n      <th>IncomeDistribution</th>\n    </tr>\n  </thead>\n  <tbody>\n    <tr>\n      <th>0</th>\n      <td>0</td>\n      <td>0</td>\n      <td>22</td>\n      <td>1000</td>\n      <td>80</td>\n      <td>100yr</td>\n      <td>watts_strogatz</td>\n      <td>336</td>\n      <td>1.439853e+07</td>\n      <td>1.540618e+07</td>\n      <td>1578345</td>\n      <td>0</td>\n      <td>{'AverageDamagePerPoorHousehold': 9884.8026429...</td>\n      <td>{'AverageDamagePerPoorHousehold': 10560.209022...</td>\n      <td>{'AverageIncomeToDamagePoorHousehold': 1.94490...</td>\n      <td>{'AverageIncomeToDamagePoorHousehold': 2.07779...</td>\n      <td>Base</td>\n    </tr>\n    <tr>\n      <th>1</th>\n      <td>1</td>\n      <td>1</td>\n      <td>37</td>\n      <td>1000</td>\n      <td>80</td>\n      <td>100yr</td>\n      <td>watts_strogatz</td>\n      <td>343</td>\n      <td>1.346554e+07</td>\n      <td>1.433237e+07</td>\n      <td>2430890</td>\n      <td>0</td>\n      <td>{'AverageDamagePerPoorHousehold': 8395.1649551...</td>\n      <td>{'AverageDamagePerPoorHousehold': 9035.3077920...</td>\n      <td>{'AverageIncomeToDamagePoorHousehold': 1.64261...</td>\n      <td>{'AverageIncomeToDamagePoorHousehold': 1.76786...</td>\n      <td>Base</td>\n    </tr>\n    <tr>\n      <th>2</th>\n      <td>5</td>\n      <td>5</td>\n      <td>7</td>\n      <td>1000</td>\n      <td>80</td>\n      <td>100yr</td>\n      <td>watts_strogatz</td>\n      <td>295</td>\n      <td>1.567394e+07</td>\n      <td>1.677657e+07</td>\n      <td>1470850</td>\n      <td>0</td>\n      <td>{'AverageDamagePerPoorHousehold': 11209.712721...</td>\n      <td>{'AverageDamagePerPoorHousehold': 11850.269345...</td>\n      <td>{'AverageIncomeToDamagePoorHousehold': 2.12502...</td>\n      <td>{'AverageIncomeToDamagePoorHousehold': 2.24645...</td>\n      <td>Base</td>\n    </tr>\n    <tr>\n      <th>3</th>\n      <td>3</td>\n      <td>3</td>\n      <td>69</td>\n      <td>1000</td>\n      <td>80</td>\n      <td>100yr</td>\n      <td>watts_strogatz</td>\n      <td>340</td>\n      <td>1.378597e+07</td>\n      <td>1.460031e+07</td>\n      <td>2539730</td>\n      <td>0</td>\n      <td>{'AverageDamagePerPoorHousehold': 7562.1528532...</td>\n      <td>{'AverageDamagePerPoorHousehold': 8033.9376253...</td>\n      <td>{'AverageIncomeToDamagePoorHousehold': 1.50207...</td>\n      <td>{'AverageIncomeToDamagePoorHousehold': 1.59578...</td>\n      <td>Base</td>\n    </tr>\n    <tr>\n      <th>4</th>\n      <td>2</td>\n      <td>2</td>\n      <td>72</td>\n      <td>1000</td>\n      <td>80</td>\n      <td>100yr</td>\n      <td>watts_strogatz</td>\n      <td>324</td>\n      <td>1.554555e+07</td>\n      <td>1.667415e+07</td>\n      <td>2080365</td>\n      <td>0</td>\n      <td>{'AverageDamagePerPoorHousehold': 7159.8472941...</td>\n      <td>{'AverageDamagePerPoorHousehold': 7835.5373413...</td>\n      <td>{'AverageIncomeToDamagePoorHousehold': 1.42027...</td>\n      <td>{'AverageIncomeToDamagePoorHousehold': 1.55431...</td>\n      <td>Base</td>\n    </tr>\n    <tr>\n      <th>...</th>\n      <td>...</td>\n      <td>...</td>\n      <td>...</td>\n      <td>...</td>\n      <td>...</td>\n      <td>...</td>\n      <td>...</td>\n      <td>...</td>\n      <td>...</td>\n      <td>...</td>\n      <td>...</td>\n      <td>...</td>\n      <td>...</td>\n      <td>...</td>\n      <td>...</td>\n      <td>...</td>\n      <td>...</td>\n    </tr>\n    <tr>\n      <th>95</th>\n      <td>95</td>\n      <td>95</td>\n      <td>10</td>\n      <td>1000</td>\n      <td>80</td>\n      <td>100yr</td>\n      <td>watts_strogatz</td>\n      <td>299</td>\n      <td>1.648498e+07</td>\n      <td>1.760212e+07</td>\n      <td>1351790</td>\n      <td>0</td>\n      <td>{'AverageDamagePerPoorHousehold': 9149.2970444...</td>\n      <td>{'AverageDamagePerPoorHousehold': 9688.9485923...</td>\n      <td>{'AverageIncomeToDamagePoorHousehold': 1.80422...</td>\n      <td>{'AverageIncomeToDamagePoorHousehold': 1.91064...</td>\n      <td>Base</td>\n    </tr>\n    <tr>\n      <th>96</th>\n      <td>97</td>\n      <td>97</td>\n      <td>20</td>\n      <td>1000</td>\n      <td>80</td>\n      <td>100yr</td>\n      <td>watts_strogatz</td>\n      <td>330</td>\n      <td>1.368802e+07</td>\n      <td>1.476232e+07</td>\n      <td>1498620</td>\n      <td>0</td>\n      <td>{'AverageDamagePerPoorHousehold': 7283.3881894...</td>\n      <td>{'AverageDamagePerPoorHousehold': 7935.1442805...</td>\n      <td>{'AverageIncomeToDamagePoorHousehold': 1.40900...</td>\n      <td>{'AverageIncomeToDamagePoorHousehold': 1.53509...</td>\n      <td>Base</td>\n    </tr>\n    <tr>\n      <th>97</th>\n      <td>96</td>\n      <td>96</td>\n      <td>68</td>\n      <td>1000</td>\n      <td>80</td>\n      <td>100yr</td>\n      <td>watts_strogatz</td>\n      <td>350</td>\n      <td>1.374287e+07</td>\n      <td>1.501391e+07</td>\n      <td>2363940</td>\n      <td>0</td>\n      <td>{'AverageDamagePerPoorHousehold': 5711.7653818...</td>\n      <td>{'AverageDamagePerPoorHousehold': 6269.2073950...</td>\n      <td>{'AverageIncomeToDamagePoorHousehold': 1.10295...</td>\n      <td>{'AverageIncomeToDamagePoorHousehold': 1.21059...</td>\n      <td>Base</td>\n    </tr>\n    <tr>\n      <th>98</th>\n      <td>98</td>\n      <td>98</td>\n      <td>69</td>\n      <td>1000</td>\n      <td>80</td>\n      <td>100yr</td>\n      <td>watts_strogatz</td>\n      <td>340</td>\n      <td>1.586572e+07</td>\n      <td>1.693011e+07</td>\n      <td>1880535</td>\n      <td>0</td>\n      <td>{'AverageDamagePerPoorHousehold': 8044.8700855...</td>\n      <td>{'AverageDamagePerPoorHousehold': 8513.3442606...</td>\n      <td>{'AverageIncomeToDamagePoorHousehold': 1.60023...</td>\n      <td>{'AverageIncomeToDamagePoorHousehold': 1.69342...</td>\n      <td>Base</td>\n    </tr>\n    <tr>\n      <th>99</th>\n      <td>99</td>\n      <td>99</td>\n      <td>68</td>\n      <td>1000</td>\n      <td>80</td>\n      <td>100yr</td>\n      <td>watts_strogatz</td>\n      <td>296</td>\n      <td>1.709661e+07</td>\n      <td>1.817673e+07</td>\n      <td>1380715</td>\n      <td>0</td>\n      <td>{'AverageDamagePerPoorHousehold': 7823.5205185...</td>\n      <td>{'AverageDamagePerPoorHousehold': 8421.0912611...</td>\n      <td>{'AverageIncomeToDamagePoorHousehold': 1.56523...</td>\n      <td>{'AverageIncomeToDamagePoorHousehold': 1.68479...</td>\n      <td>Base</td>\n    </tr>\n  </tbody>\n</table>\n<p>100 rows × 17 columns</p>\n</div>"
     },
     "execution_count": 4,
     "metadata": {},
     "output_type": "execute_result"
    }
   ],
   "source": [
    "df"
   ]
  },
  {
   "cell_type": "code",
   "execution_count": 5,
   "id": "53602d56e1a3d5bb",
   "metadata": {
    "collapsed": false,
    "ExecuteTime": {
     "end_time": "2024-01-24T14:00:08.293019Z",
     "start_time": "2024-01-24T14:00:08.282933Z"
    }
   },
   "outputs": [],
   "source": [
    "base_case_100_iterations = df"
   ]
  },
  {
   "cell_type": "code",
   "outputs": [],
   "source": [
    "normalized_estimated_damage= pd.json_normalize(base_case_100_iterations['EstimatedAverageDamagePerIncomeLabel'])\n",
    "normalized_estimated_ratio = pd.json_normalize(base_case_100_iterations['EstimatedAverageIncomeToDamageRatio'])\n",
    "normalized_damage = pd.json_normalize(base_case_100_iterations['AverageDamagePerIncomeLabel'])\n",
    "normalized_ratio = pd.json_normalize(base_case_100_iterations['AverageIncomeToDamageRatio'])\n",
    "base_case_clean = pd.concat([base_case_100_iterations, normalized_estimated_damage,                                                                         normalized_estimated_ratio,normalized_damage, normalized_ratio], axis=1)\n",
    "base_case_clean"
   ],
   "metadata": {
    "collapsed": false
   },
   "id": "be298d5904e50ba7"
  },
  {
   "cell_type": "code",
   "execution_count": 9,
   "id": "3d4a55a2-6987-4158-950a-20e5f7517dc0",
   "metadata": {
    "ExecuteTime": {
     "end_time": "2024-01-24T14:00:22.542086Z",
     "start_time": "2024-01-24T14:00:22.532854Z"
    }
   },
   "outputs": [],
   "source": [
    "output_data_path = r'../output_data/BaseCase.csv'\n",
    "base_case_clean.to_csv(output_data_path, index=False)\n"
   ]
  },
  {
   "cell_type": "code",
   "execution_count": null,
   "id": "96c495cd23fb0e37",
   "metadata": {
    "ExecuteTime": {
     "end_time": "2024-01-17T11:15:10.742392Z",
     "start_time": "2024-01-17T11:15:10.694162400Z"
    },
    "collapsed": false
   },
   "outputs": [],
   "source": []
  }
 ],
 "metadata": {
  "kernelspec": {
   "display_name": "Python 3 (ipykernel)",
   "language": "python",
   "name": "python3"
  },
  "language_info": {
   "codemirror_mode": {
    "name": "ipython",
    "version": 3
   },
   "file_extension": ".py",
   "mimetype": "text/x-python",
   "name": "python",
   "nbconvert_exporter": "python",
   "pygments_lexer": "ipython3",
   "version": "3.12.0"
  }
 },
 "nbformat": 4,
 "nbformat_minor": 5
}
