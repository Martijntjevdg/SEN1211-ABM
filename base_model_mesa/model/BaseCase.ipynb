{
 "cells": [
  {
   "cell_type": "markdown",
   "source": [
    "This file has been used to produce values for the BaseCase. The parameters for the BaseCase are first set as explained in the report. Number_of_steps is used to determine the maximum number of steps that the model is allowed to run. This variable is used to determine the random moment the flood occurs, which will never exceed 80 steps. However, the model itself stops running when the flood requirement is hit, since our model does not produce useful and insightful output once a flood has occured. "
   ],
   "metadata": {
    "collapsed": false
   },
   "id": "ba391318e447323a"
  },
  {
   "cell_type": "code",
   "outputs": [],
   "source": [
    "from model import AdaptationModel\n",
    "from mesa.batchrunner import batch_run\n",
    "import pandas as pd"
   ],
   "metadata": {
    "collapsed": false,
    "ExecuteTime": {
     "end_time": "2024-01-30T09:26:13.209309900Z",
     "start_time": "2024-01-30T09:26:06.053265Z"
    }
   },
   "id": "8d89581cb1269df4",
   "execution_count": 1
  },
  {
   "cell_type": "code",
   "execution_count": 12,
   "id": "d3b8c92594166eba",
   "metadata": {
    "collapsed": false,
    "ExecuteTime": {
     "end_time": "2024-01-25T08:30:42.755690Z",
     "start_time": "2024-01-25T08:30:11.123173Z"
    }
   },
   "outputs": [
    {
     "data": {
      "text/plain": "  0%|          | 0/100 [00:00<?, ?it/s]",
      "application/vnd.jupyter.widget-view+json": {
       "version_major": 2,
       "version_minor": 0,
       "model_id": "467677b259214002b884df3a3bba81b5"
      }
     },
     "metadata": {},
     "output_type": "display_data"
    }
   ],
   "source": [
    "#Base-case parameters are defined\n",
    "model_params = {\n",
    "    \"number_of_households\": 1000,\n",
    "    \"number_of_steps\": 80,\n",
    "    \"flood_map_choice\": \"100yr\",\n",
    "    \"network\": \"watts_strogatz\"\n",
    "}\n",
    "\n",
    "#Batch_run is used to run the model multiple times, in this case 100 iterations, since there are no other combinations\n",
    "#None of the model parameters in the base case has multiple possible values and therefore no other combinations to run for\n",
    "results = batch_run(\n",
    "    model_cls=AdaptationModel,\n",
    "    parameters=model_params,\n",
    "    number_processes=4,  # Set to None if you want to use all CPUs\n",
    "    iterations=100,  # Number of iterations for each parameter combination\n",
    "    data_collection_period=-1,  # Collect data at the end of each run\n",
    "    max_steps=model_params[\"number_of_steps\"],  # Maximum number of model steps\n",
    "    display_progress=True  # Display progress bar\n",
    ")\n",
    "\n",
    "\n",
    "# Access the data and convert it into a Pandas DataFrame which is more workable\n",
    "df = pd.DataFrame(results)\n",
    "\n"
   ]
  },
  {
   "cell_type": "code",
   "execution_count": 13,
   "id": "51138cc8-6e67-4167-bf54-65c0d17e06b1",
   "metadata": {
    "ExecuteTime": {
     "end_time": "2024-01-25T08:31:02.066195Z",
     "start_time": "2024-01-25T08:31:02.053905Z"
    }
   },
   "outputs": [
    {
     "data": {
      "text/plain": "    RunId  iteration  Step  number_of_households  number_of_steps  \\\n0       0          0     9                  1000               80   \n1       3          3    37                  1000               80   \n2       2          2    50                  1000               80   \n3       1          1    52                  1000               80   \n4       4          4    32                  1000               80   \n..    ...        ...   ...                   ...              ...   \n95     95         95    24                  1000               80   \n96     96         96    25                  1000               80   \n97     97         97    28                  1000               80   \n98     98         98    55                  1000               80   \n99     99         99    51                  1000               80   \n\n   flood_map_choice         network  TotalAdaptedHouseholds  \\\n0             100yr  watts_strogatz                     256   \n1             100yr  watts_strogatz                     271   \n2             100yr  watts_strogatz                     326   \n3             100yr  watts_strogatz                     313   \n4             100yr  watts_strogatz                     366   \n..              ...             ...                     ...   \n95            100yr  watts_strogatz                     300   \n96            100yr  watts_strogatz                     286   \n97            100yr  watts_strogatz                     317   \n98            100yr  watts_strogatz                     302   \n99            100yr  watts_strogatz                     343   \n\n    TotalActualDamage  TotalExpectedDamage  TotalAdaptationCosts  \\\n0        1.968749e+07         2.106260e+07                841680   \n1        2.027182e+07         2.159540e+07               1555625   \n2        1.575358e+07         1.694973e+07               1758310   \n3        1.295399e+07         1.407930e+07               1854450   \n4        1.216807e+07         1.299802e+07               1924185   \n..                ...                  ...                   ...   \n95       1.806948e+07         1.934977e+07               1265905   \n96       1.291937e+07         1.406930e+07               1460805   \n97       1.369099e+07         1.459819e+07               1410935   \n98       1.424987e+07         1.512218e+07               2052685   \n99       1.712332e+07         1.845121e+07               1579610   \n\n    TotalCostsOfSubsidies                        AverageDamagePerIncomeLabel  \\\n0                       0  {'AverageDamagePerPoorHousehold': 11772.545491...   \n1                       0  {'AverageDamagePerPoorHousehold': 7771.9174164...   \n2                       0  {'AverageDamagePerPoorHousehold': 7450.8969377...   \n3                       0  {'AverageDamagePerPoorHousehold': 6932.3125094...   \n4                       0  {'AverageDamagePerPoorHousehold': 5695.9885594...   \n..                    ...                                                ...   \n95                      0  {'AverageDamagePerPoorHousehold': 9852.6477796...   \n96                      0  {'AverageDamagePerPoorHousehold': 6715.3951559...   \n97                      0  {'AverageDamagePerPoorHousehold': 9324.8990115...   \n98                      0  {'AverageDamagePerPoorHousehold': 7746.8488022...   \n99                      0  {'AverageDamagePerPoorHousehold': 8620.8475651...   \n\n                 EstimatedAverageDamagePerIncomeLabel  \\\n0   {'EstimatedAverageDamagePerPoorHousehold': 126...   \n1   {'EstimatedAverageDamagePerPoorHousehold': 835...   \n2   {'EstimatedAverageDamagePerPoorHousehold': 788...   \n3   {'EstimatedAverageDamagePerPoorHousehold': 750...   \n4   {'EstimatedAverageDamagePerPoorHousehold': 635...   \n..                                                ...   \n95  {'EstimatedAverageDamagePerPoorHousehold': 104...   \n96  {'EstimatedAverageDamagePerPoorHousehold': 729...   \n97  {'EstimatedAverageDamagePerPoorHousehold': 984...   \n98  {'EstimatedAverageDamagePerPoorHousehold': 818...   \n99  {'EstimatedAverageDamagePerPoorHousehold': 935...   \n\n                           AverageIncomeToDamageRatio  \\\n0   {'AverageIncomeToDamagePoorHousehold': 2.29923...   \n1   {'AverageIncomeToDamagePoorHousehold': 1.51981...   \n2   {'AverageIncomeToDamagePoorHousehold': 1.45673...   \n3   {'AverageIncomeToDamagePoorHousehold': 1.35246...   \n4   {'AverageIncomeToDamagePoorHousehold': 1.13118...   \n..                                                ...   \n95  {'AverageIncomeToDamagePoorHousehold': 1.94491...   \n96  {'AverageIncomeToDamagePoorHousehold': 1.33220...   \n97  {'AverageIncomeToDamagePoorHousehold': 1.88171...   \n98  {'AverageIncomeToDamagePoorHousehold': 1.51590...   \n99  {'AverageIncomeToDamagePoorHousehold': 1.75713...   \n\n                  EstimatedAverageIncomeToDamageRatio IncomeDistribution  \n0   {'EstimatedAverageIncomeToDamagePoorHousehold'...               Base  \n1   {'EstimatedAverageIncomeToDamagePoorHousehold'...               Base  \n2   {'EstimatedAverageIncomeToDamagePoorHousehold'...               Base  \n3   {'EstimatedAverageIncomeToDamagePoorHousehold'...               Base  \n4   {'EstimatedAverageIncomeToDamagePoorHousehold'...               Base  \n..                                                ...                ...  \n95  {'EstimatedAverageIncomeToDamagePoorHousehold'...               Base  \n96  {'EstimatedAverageIncomeToDamagePoorHousehold'...               Base  \n97  {'EstimatedAverageIncomeToDamagePoorHousehold'...               Base  \n98  {'EstimatedAverageIncomeToDamagePoorHousehold'...               Base  \n99  {'EstimatedAverageIncomeToDamagePoorHousehold'...               Base  \n\n[100 rows x 17 columns]",
      "text/html": "<div>\n<style scoped>\n    .dataframe tbody tr th:only-of-type {\n        vertical-align: middle;\n    }\n\n    .dataframe tbody tr th {\n        vertical-align: top;\n    }\n\n    .dataframe thead th {\n        text-align: right;\n    }\n</style>\n<table border=\"1\" class=\"dataframe\">\n  <thead>\n    <tr style=\"text-align: right;\">\n      <th></th>\n      <th>RunId</th>\n      <th>iteration</th>\n      <th>Step</th>\n      <th>number_of_households</th>\n      <th>number_of_steps</th>\n      <th>flood_map_choice</th>\n      <th>network</th>\n      <th>TotalAdaptedHouseholds</th>\n      <th>TotalActualDamage</th>\n      <th>TotalExpectedDamage</th>\n      <th>TotalAdaptationCosts</th>\n      <th>TotalCostsOfSubsidies</th>\n      <th>AverageDamagePerIncomeLabel</th>\n      <th>EstimatedAverageDamagePerIncomeLabel</th>\n      <th>AverageIncomeToDamageRatio</th>\n      <th>EstimatedAverageIncomeToDamageRatio</th>\n      <th>IncomeDistribution</th>\n    </tr>\n  </thead>\n  <tbody>\n    <tr>\n      <th>0</th>\n      <td>0</td>\n      <td>0</td>\n      <td>9</td>\n      <td>1000</td>\n      <td>80</td>\n      <td>100yr</td>\n      <td>watts_strogatz</td>\n      <td>256</td>\n      <td>1.968749e+07</td>\n      <td>2.106260e+07</td>\n      <td>841680</td>\n      <td>0</td>\n      <td>{'AverageDamagePerPoorHousehold': 11772.545491...</td>\n      <td>{'EstimatedAverageDamagePerPoorHousehold': 126...</td>\n      <td>{'AverageIncomeToDamagePoorHousehold': 2.29923...</td>\n      <td>{'EstimatedAverageIncomeToDamagePoorHousehold'...</td>\n      <td>Base</td>\n    </tr>\n    <tr>\n      <th>1</th>\n      <td>3</td>\n      <td>3</td>\n      <td>37</td>\n      <td>1000</td>\n      <td>80</td>\n      <td>100yr</td>\n      <td>watts_strogatz</td>\n      <td>271</td>\n      <td>2.027182e+07</td>\n      <td>2.159540e+07</td>\n      <td>1555625</td>\n      <td>0</td>\n      <td>{'AverageDamagePerPoorHousehold': 7771.9174164...</td>\n      <td>{'EstimatedAverageDamagePerPoorHousehold': 835...</td>\n      <td>{'AverageIncomeToDamagePoorHousehold': 1.51981...</td>\n      <td>{'EstimatedAverageIncomeToDamagePoorHousehold'...</td>\n      <td>Base</td>\n    </tr>\n    <tr>\n      <th>2</th>\n      <td>2</td>\n      <td>2</td>\n      <td>50</td>\n      <td>1000</td>\n      <td>80</td>\n      <td>100yr</td>\n      <td>watts_strogatz</td>\n      <td>326</td>\n      <td>1.575358e+07</td>\n      <td>1.694973e+07</td>\n      <td>1758310</td>\n      <td>0</td>\n      <td>{'AverageDamagePerPoorHousehold': 7450.8969377...</td>\n      <td>{'EstimatedAverageDamagePerPoorHousehold': 788...</td>\n      <td>{'AverageIncomeToDamagePoorHousehold': 1.45673...</td>\n      <td>{'EstimatedAverageIncomeToDamagePoorHousehold'...</td>\n      <td>Base</td>\n    </tr>\n    <tr>\n      <th>3</th>\n      <td>1</td>\n      <td>1</td>\n      <td>52</td>\n      <td>1000</td>\n      <td>80</td>\n      <td>100yr</td>\n      <td>watts_strogatz</td>\n      <td>313</td>\n      <td>1.295399e+07</td>\n      <td>1.407930e+07</td>\n      <td>1854450</td>\n      <td>0</td>\n      <td>{'AverageDamagePerPoorHousehold': 6932.3125094...</td>\n      <td>{'EstimatedAverageDamagePerPoorHousehold': 750...</td>\n      <td>{'AverageIncomeToDamagePoorHousehold': 1.35246...</td>\n      <td>{'EstimatedAverageIncomeToDamagePoorHousehold'...</td>\n      <td>Base</td>\n    </tr>\n    <tr>\n      <th>4</th>\n      <td>4</td>\n      <td>4</td>\n      <td>32</td>\n      <td>1000</td>\n      <td>80</td>\n      <td>100yr</td>\n      <td>watts_strogatz</td>\n      <td>366</td>\n      <td>1.216807e+07</td>\n      <td>1.299802e+07</td>\n      <td>1924185</td>\n      <td>0</td>\n      <td>{'AverageDamagePerPoorHousehold': 5695.9885594...</td>\n      <td>{'EstimatedAverageDamagePerPoorHousehold': 635...</td>\n      <td>{'AverageIncomeToDamagePoorHousehold': 1.13118...</td>\n      <td>{'EstimatedAverageIncomeToDamagePoorHousehold'...</td>\n      <td>Base</td>\n    </tr>\n    <tr>\n      <th>...</th>\n      <td>...</td>\n      <td>...</td>\n      <td>...</td>\n      <td>...</td>\n      <td>...</td>\n      <td>...</td>\n      <td>...</td>\n      <td>...</td>\n      <td>...</td>\n      <td>...</td>\n      <td>...</td>\n      <td>...</td>\n      <td>...</td>\n      <td>...</td>\n      <td>...</td>\n      <td>...</td>\n      <td>...</td>\n    </tr>\n    <tr>\n      <th>95</th>\n      <td>95</td>\n      <td>95</td>\n      <td>24</td>\n      <td>1000</td>\n      <td>80</td>\n      <td>100yr</td>\n      <td>watts_strogatz</td>\n      <td>300</td>\n      <td>1.806948e+07</td>\n      <td>1.934977e+07</td>\n      <td>1265905</td>\n      <td>0</td>\n      <td>{'AverageDamagePerPoorHousehold': 9852.6477796...</td>\n      <td>{'EstimatedAverageDamagePerPoorHousehold': 104...</td>\n      <td>{'AverageIncomeToDamagePoorHousehold': 1.94491...</td>\n      <td>{'EstimatedAverageIncomeToDamagePoorHousehold'...</td>\n      <td>Base</td>\n    </tr>\n    <tr>\n      <th>96</th>\n      <td>96</td>\n      <td>96</td>\n      <td>25</td>\n      <td>1000</td>\n      <td>80</td>\n      <td>100yr</td>\n      <td>watts_strogatz</td>\n      <td>286</td>\n      <td>1.291937e+07</td>\n      <td>1.406930e+07</td>\n      <td>1460805</td>\n      <td>0</td>\n      <td>{'AverageDamagePerPoorHousehold': 6715.3951559...</td>\n      <td>{'EstimatedAverageDamagePerPoorHousehold': 729...</td>\n      <td>{'AverageIncomeToDamagePoorHousehold': 1.33220...</td>\n      <td>{'EstimatedAverageIncomeToDamagePoorHousehold'...</td>\n      <td>Base</td>\n    </tr>\n    <tr>\n      <th>97</th>\n      <td>97</td>\n      <td>97</td>\n      <td>28</td>\n      <td>1000</td>\n      <td>80</td>\n      <td>100yr</td>\n      <td>watts_strogatz</td>\n      <td>317</td>\n      <td>1.369099e+07</td>\n      <td>1.459819e+07</td>\n      <td>1410935</td>\n      <td>0</td>\n      <td>{'AverageDamagePerPoorHousehold': 9324.8990115...</td>\n      <td>{'EstimatedAverageDamagePerPoorHousehold': 984...</td>\n      <td>{'AverageIncomeToDamagePoorHousehold': 1.88171...</td>\n      <td>{'EstimatedAverageIncomeToDamagePoorHousehold'...</td>\n      <td>Base</td>\n    </tr>\n    <tr>\n      <th>98</th>\n      <td>98</td>\n      <td>98</td>\n      <td>55</td>\n      <td>1000</td>\n      <td>80</td>\n      <td>100yr</td>\n      <td>watts_strogatz</td>\n      <td>302</td>\n      <td>1.424987e+07</td>\n      <td>1.512218e+07</td>\n      <td>2052685</td>\n      <td>0</td>\n      <td>{'AverageDamagePerPoorHousehold': 7746.8488022...</td>\n      <td>{'EstimatedAverageDamagePerPoorHousehold': 818...</td>\n      <td>{'AverageIncomeToDamagePoorHousehold': 1.51590...</td>\n      <td>{'EstimatedAverageIncomeToDamagePoorHousehold'...</td>\n      <td>Base</td>\n    </tr>\n    <tr>\n      <th>99</th>\n      <td>99</td>\n      <td>99</td>\n      <td>51</td>\n      <td>1000</td>\n      <td>80</td>\n      <td>100yr</td>\n      <td>watts_strogatz</td>\n      <td>343</td>\n      <td>1.712332e+07</td>\n      <td>1.845121e+07</td>\n      <td>1579610</td>\n      <td>0</td>\n      <td>{'AverageDamagePerPoorHousehold': 8620.8475651...</td>\n      <td>{'EstimatedAverageDamagePerPoorHousehold': 935...</td>\n      <td>{'AverageIncomeToDamagePoorHousehold': 1.75713...</td>\n      <td>{'EstimatedAverageIncomeToDamagePoorHousehold'...</td>\n      <td>Base</td>\n    </tr>\n  </tbody>\n</table>\n<p>100 rows × 17 columns</p>\n</div>"
     },
     "execution_count": 13,
     "metadata": {},
     "output_type": "execute_result"
    }
   ],
   "source": [
    "df"
   ]
  },
  {
   "cell_type": "code",
   "execution_count": 16,
   "id": "53602d56e1a3d5bb",
   "metadata": {
    "collapsed": false,
    "ExecuteTime": {
     "end_time": "2024-01-25T08:31:25.521763Z",
     "start_time": "2024-01-25T08:31:25.514629Z"
    }
   },
   "outputs": [],
   "source": [
    "base_case_100_iterations = df"
   ]
  },
  {
   "cell_type": "code",
   "outputs": [
    {
     "data": {
      "text/plain": "    RunId  iteration  Step  number_of_households  number_of_steps  \\\n0       0          0     9                  1000               80   \n1       3          3    37                  1000               80   \n2       2          2    50                  1000               80   \n3       1          1    52                  1000               80   \n4       4          4    32                  1000               80   \n..    ...        ...   ...                   ...              ...   \n95     95         95    24                  1000               80   \n96     96         96    25                  1000               80   \n97     97         97    28                  1000               80   \n98     98         98    55                  1000               80   \n99     99         99    51                  1000               80   \n\n   flood_map_choice         network  TotalAdaptedHouseholds  \\\n0             100yr  watts_strogatz                     256   \n1             100yr  watts_strogatz                     271   \n2             100yr  watts_strogatz                     326   \n3             100yr  watts_strogatz                     313   \n4             100yr  watts_strogatz                     366   \n..              ...             ...                     ...   \n95            100yr  watts_strogatz                     300   \n96            100yr  watts_strogatz                     286   \n97            100yr  watts_strogatz                     317   \n98            100yr  watts_strogatz                     302   \n99            100yr  watts_strogatz                     343   \n\n    TotalActualDamage  TotalExpectedDamage  ...  \\\n0        1.968749e+07         2.106260e+07  ...   \n1        2.027182e+07         2.159540e+07  ...   \n2        1.575358e+07         1.694973e+07  ...   \n3        1.295399e+07         1.407930e+07  ...   \n4        1.216807e+07         1.299802e+07  ...   \n..                ...                  ...  ...   \n95       1.806948e+07         1.934977e+07  ...   \n96       1.291937e+07         1.406930e+07  ...   \n97       1.369099e+07         1.459819e+07  ...   \n98       1.424987e+07         1.512218e+07  ...   \n99       1.712332e+07         1.845121e+07  ...   \n\n    EstimatedAverageDamagePerRichHousehold  \\\n0                             49143.734573   \n1                             54711.189204   \n2                             42891.841205   \n3                             30450.095699   \n4                             25072.860247   \n..                                     ...   \n95                            51492.649690   \n96                            30605.510756   \n97                            16453.260995   \n98                            36865.758705   \n99                            51483.031491   \n\n    EstimatedAverageIncomeToDamagePoorHousehold  \\\n0                                      2.478339   \n1                                      1.634004   \n2                                      1.541345   \n3                                      1.463850   \n4                                      1.261634   \n..                                          ...   \n95                                     2.056374   \n96                                     1.447214   \n97                                     1.986361   \n98                                     1.601824   \n99                                     1.906840   \n\n   EstimatedAverageIncomeToDamageMiddleClassHousehold  \\\n0                                            0.638023   \n1                                            0.705592   \n2                                            0.554855   \n3                                            0.498766   \n4                                            0.481871   \n..                                                ...   \n95                                           0.580322   \n96                                           0.481541   \n97                                           0.558212   \n98                                           0.482534   \n99                                           0.592578   \n\n   EstimatedAverageIncomeToDamageRichHousehold AverageDamagePerPoorHousehold  \\\n0                                     0.563509                  11772.545491   \n1                                     0.634994                   7771.917416   \n2                                     0.491641                   7450.896938   \n3                                     0.345523                   6932.312509   \n4                                     0.291235                   5695.988559   \n..                                         ...                           ...   \n95                                    0.604483                   9852.647780   \n96                                    0.344594                   6715.395156   \n97                                    0.186888                   9324.899012   \n98                                    0.417229                   7746.848802   \n99                                    0.584640                   8620.847565   \n\n   AverageDamagePerMiddleClassHousehold AverageDamagePerRichHousehold  \\\n0                          17555.058685                  45585.218789   \n1                          19545.890022                  51241.347066   \n2                          15206.612400                  39121.710447   \n3                          13276.388011                  28190.990918   \n4                          12926.781548                  23561.288246   \n..                                  ...                           ...   \n95                         15914.686250                  47935.772748   \n96                         12980.906683                  27918.572076   \n97                         15157.268265                  15567.544076   \n98                         13222.246810                  35108.062686   \n99                         16072.257310                  47583.240047   \n\n    AverageIncomeToDamagePoorHousehold  \\\n0                             2.299236   \n1                             1.519817   \n2                             1.456731   \n3                             1.352466   \n4                             1.131182   \n..                                 ...   \n95                            1.944915   \n96                            1.332210   \n97                            1.881710   \n98                            1.515901   \n99                            1.757139   \n\n    AverageIncomeToDamageMiddleClassHousehold  \\\n0                                    0.599912   \n1                                    0.664090   \n2                                    0.518517   \n3                                    0.457738   \n4                                    0.454050   \n..                                        ...   \n95                                   0.541163   \n96                                   0.442963   \n97                                   0.521409   \n98                                   0.452030   \n99                                   0.551652   \n\n    AverageIncomeToDamageRichHousehold  \n0                             0.522705  \n1                             0.594722  \n2                             0.448427  \n3                             0.319888  \n4                             0.273678  \n..                                 ...  \n95                            0.562728  \n96                            0.314341  \n97                            0.176827  \n98                            0.397336  \n99                            0.540354  \n\n[100 rows x 29 columns]",
      "text/html": "<div>\n<style scoped>\n    .dataframe tbody tr th:only-of-type {\n        vertical-align: middle;\n    }\n\n    .dataframe tbody tr th {\n        vertical-align: top;\n    }\n\n    .dataframe thead th {\n        text-align: right;\n    }\n</style>\n<table border=\"1\" class=\"dataframe\">\n  <thead>\n    <tr style=\"text-align: right;\">\n      <th></th>\n      <th>RunId</th>\n      <th>iteration</th>\n      <th>Step</th>\n      <th>number_of_households</th>\n      <th>number_of_steps</th>\n      <th>flood_map_choice</th>\n      <th>network</th>\n      <th>TotalAdaptedHouseholds</th>\n      <th>TotalActualDamage</th>\n      <th>TotalExpectedDamage</th>\n      <th>...</th>\n      <th>EstimatedAverageDamagePerRichHousehold</th>\n      <th>EstimatedAverageIncomeToDamagePoorHousehold</th>\n      <th>EstimatedAverageIncomeToDamageMiddleClassHousehold</th>\n      <th>EstimatedAverageIncomeToDamageRichHousehold</th>\n      <th>AverageDamagePerPoorHousehold</th>\n      <th>AverageDamagePerMiddleClassHousehold</th>\n      <th>AverageDamagePerRichHousehold</th>\n      <th>AverageIncomeToDamagePoorHousehold</th>\n      <th>AverageIncomeToDamageMiddleClassHousehold</th>\n      <th>AverageIncomeToDamageRichHousehold</th>\n    </tr>\n  </thead>\n  <tbody>\n    <tr>\n      <th>0</th>\n      <td>0</td>\n      <td>0</td>\n      <td>9</td>\n      <td>1000</td>\n      <td>80</td>\n      <td>100yr</td>\n      <td>watts_strogatz</td>\n      <td>256</td>\n      <td>1.968749e+07</td>\n      <td>2.106260e+07</td>\n      <td>...</td>\n      <td>49143.734573</td>\n      <td>2.478339</td>\n      <td>0.638023</td>\n      <td>0.563509</td>\n      <td>11772.545491</td>\n      <td>17555.058685</td>\n      <td>45585.218789</td>\n      <td>2.299236</td>\n      <td>0.599912</td>\n      <td>0.522705</td>\n    </tr>\n    <tr>\n      <th>1</th>\n      <td>3</td>\n      <td>3</td>\n      <td>37</td>\n      <td>1000</td>\n      <td>80</td>\n      <td>100yr</td>\n      <td>watts_strogatz</td>\n      <td>271</td>\n      <td>2.027182e+07</td>\n      <td>2.159540e+07</td>\n      <td>...</td>\n      <td>54711.189204</td>\n      <td>1.634004</td>\n      <td>0.705592</td>\n      <td>0.634994</td>\n      <td>7771.917416</td>\n      <td>19545.890022</td>\n      <td>51241.347066</td>\n      <td>1.519817</td>\n      <td>0.664090</td>\n      <td>0.594722</td>\n    </tr>\n    <tr>\n      <th>2</th>\n      <td>2</td>\n      <td>2</td>\n      <td>50</td>\n      <td>1000</td>\n      <td>80</td>\n      <td>100yr</td>\n      <td>watts_strogatz</td>\n      <td>326</td>\n      <td>1.575358e+07</td>\n      <td>1.694973e+07</td>\n      <td>...</td>\n      <td>42891.841205</td>\n      <td>1.541345</td>\n      <td>0.554855</td>\n      <td>0.491641</td>\n      <td>7450.896938</td>\n      <td>15206.612400</td>\n      <td>39121.710447</td>\n      <td>1.456731</td>\n      <td>0.518517</td>\n      <td>0.448427</td>\n    </tr>\n    <tr>\n      <th>3</th>\n      <td>1</td>\n      <td>1</td>\n      <td>52</td>\n      <td>1000</td>\n      <td>80</td>\n      <td>100yr</td>\n      <td>watts_strogatz</td>\n      <td>313</td>\n      <td>1.295399e+07</td>\n      <td>1.407930e+07</td>\n      <td>...</td>\n      <td>30450.095699</td>\n      <td>1.463850</td>\n      <td>0.498766</td>\n      <td>0.345523</td>\n      <td>6932.312509</td>\n      <td>13276.388011</td>\n      <td>28190.990918</td>\n      <td>1.352466</td>\n      <td>0.457738</td>\n      <td>0.319888</td>\n    </tr>\n    <tr>\n      <th>4</th>\n      <td>4</td>\n      <td>4</td>\n      <td>32</td>\n      <td>1000</td>\n      <td>80</td>\n      <td>100yr</td>\n      <td>watts_strogatz</td>\n      <td>366</td>\n      <td>1.216807e+07</td>\n      <td>1.299802e+07</td>\n      <td>...</td>\n      <td>25072.860247</td>\n      <td>1.261634</td>\n      <td>0.481871</td>\n      <td>0.291235</td>\n      <td>5695.988559</td>\n      <td>12926.781548</td>\n      <td>23561.288246</td>\n      <td>1.131182</td>\n      <td>0.454050</td>\n      <td>0.273678</td>\n    </tr>\n    <tr>\n      <th>...</th>\n      <td>...</td>\n      <td>...</td>\n      <td>...</td>\n      <td>...</td>\n      <td>...</td>\n      <td>...</td>\n      <td>...</td>\n      <td>...</td>\n      <td>...</td>\n      <td>...</td>\n      <td>...</td>\n      <td>...</td>\n      <td>...</td>\n      <td>...</td>\n      <td>...</td>\n      <td>...</td>\n      <td>...</td>\n      <td>...</td>\n      <td>...</td>\n      <td>...</td>\n      <td>...</td>\n    </tr>\n    <tr>\n      <th>95</th>\n      <td>95</td>\n      <td>95</td>\n      <td>24</td>\n      <td>1000</td>\n      <td>80</td>\n      <td>100yr</td>\n      <td>watts_strogatz</td>\n      <td>300</td>\n      <td>1.806948e+07</td>\n      <td>1.934977e+07</td>\n      <td>...</td>\n      <td>51492.649690</td>\n      <td>2.056374</td>\n      <td>0.580322</td>\n      <td>0.604483</td>\n      <td>9852.647780</td>\n      <td>15914.686250</td>\n      <td>47935.772748</td>\n      <td>1.944915</td>\n      <td>0.541163</td>\n      <td>0.562728</td>\n    </tr>\n    <tr>\n      <th>96</th>\n      <td>96</td>\n      <td>96</td>\n      <td>25</td>\n      <td>1000</td>\n      <td>80</td>\n      <td>100yr</td>\n      <td>watts_strogatz</td>\n      <td>286</td>\n      <td>1.291937e+07</td>\n      <td>1.406930e+07</td>\n      <td>...</td>\n      <td>30605.510756</td>\n      <td>1.447214</td>\n      <td>0.481541</td>\n      <td>0.344594</td>\n      <td>6715.395156</td>\n      <td>12980.906683</td>\n      <td>27918.572076</td>\n      <td>1.332210</td>\n      <td>0.442963</td>\n      <td>0.314341</td>\n    </tr>\n    <tr>\n      <th>97</th>\n      <td>97</td>\n      <td>97</td>\n      <td>28</td>\n      <td>1000</td>\n      <td>80</td>\n      <td>100yr</td>\n      <td>watts_strogatz</td>\n      <td>317</td>\n      <td>1.369099e+07</td>\n      <td>1.459819e+07</td>\n      <td>...</td>\n      <td>16453.260995</td>\n      <td>1.986361</td>\n      <td>0.558212</td>\n      <td>0.186888</td>\n      <td>9324.899012</td>\n      <td>15157.268265</td>\n      <td>15567.544076</td>\n      <td>1.881710</td>\n      <td>0.521409</td>\n      <td>0.176827</td>\n    </tr>\n    <tr>\n      <th>98</th>\n      <td>98</td>\n      <td>98</td>\n      <td>55</td>\n      <td>1000</td>\n      <td>80</td>\n      <td>100yr</td>\n      <td>watts_strogatz</td>\n      <td>302</td>\n      <td>1.424987e+07</td>\n      <td>1.512218e+07</td>\n      <td>...</td>\n      <td>36865.758705</td>\n      <td>1.601824</td>\n      <td>0.482534</td>\n      <td>0.417229</td>\n      <td>7746.848802</td>\n      <td>13222.246810</td>\n      <td>35108.062686</td>\n      <td>1.515901</td>\n      <td>0.452030</td>\n      <td>0.397336</td>\n    </tr>\n    <tr>\n      <th>99</th>\n      <td>99</td>\n      <td>99</td>\n      <td>51</td>\n      <td>1000</td>\n      <td>80</td>\n      <td>100yr</td>\n      <td>watts_strogatz</td>\n      <td>343</td>\n      <td>1.712332e+07</td>\n      <td>1.845121e+07</td>\n      <td>...</td>\n      <td>51483.031491</td>\n      <td>1.906840</td>\n      <td>0.592578</td>\n      <td>0.584640</td>\n      <td>8620.847565</td>\n      <td>16072.257310</td>\n      <td>47583.240047</td>\n      <td>1.757139</td>\n      <td>0.551652</td>\n      <td>0.540354</td>\n    </tr>\n  </tbody>\n</table>\n<p>100 rows × 29 columns</p>\n</div>"
     },
     "execution_count": 17,
     "metadata": {},
     "output_type": "execute_result"
    }
   ],
   "source": [
    "#In the model, there are four columns/variable values that are gathered as a dictionary\n",
    "#This was chosen to reduce the number of columns extracted from the model directly which could have caused confusion\n",
    "#Therefore, in this block, these columns are unpacked into their dictionary keys and labels with the function json_normalize from pandas\n",
    "normalized_estimated_damage= pd.json_normalize(base_case_100_iterations['EstimatedAverageDamagePerIncomeLabel'])\n",
    "normalized_estimated_ratio = pd.json_normalize(base_case_100_iterations['EstimatedAverageIncomeToDamageRatio'])\n",
    "normalized_damage = pd.json_normalize(base_case_100_iterations['AverageDamagePerIncomeLabel'])\n",
    "normalized_ratio = pd.json_normalize(base_case_100_iterations['AverageIncomeToDamageRatio'])\n",
    "#The unpacked columns as dataframes are concatenated with the original dataframe to create the final dataframe which includes all necessary data\n",
    "base_case_clean = pd.concat([base_case_100_iterations, normalized_estimated_damage,                                                                         normalized_estimated_ratio,normalized_damage, normalized_ratio], axis=1)\n",
    "base_case_clean"
   ],
   "metadata": {
    "collapsed": false,
    "ExecuteTime": {
     "end_time": "2024-01-25T08:31:26.970636Z",
     "start_time": "2024-01-25T08:31:26.922717Z"
    }
   },
   "id": "be298d5904e50ba7",
   "execution_count": 17
  },
  {
   "cell_type": "code",
   "execution_count": 18,
   "id": "3d4a55a2-6987-4158-950a-20e5f7517dc0",
   "metadata": {
    "ExecuteTime": {
     "end_time": "2024-01-25T08:31:28.487067Z",
     "start_time": "2024-01-25T08:31:28.463699Z"
    }
   },
   "outputs": [],
   "source": [
    "#This unpacked and concatenated dataframe is saved in the file directory 'output_data'\n",
    "#Here, all the other output data from experiments to sensitivity analysis can be found\n",
    "output_data_path = r'../output_data/BaseCase.csv'\n",
    "base_case_clean.to_csv(output_data_path, index=False)\n"
   ]
  }
 ],
 "metadata": {
  "kernelspec": {
   "display_name": "Python 3 (ipykernel)",
   "language": "python",
   "name": "python3"
  },
  "language_info": {
   "codemirror_mode": {
    "name": "ipython",
    "version": 3
   },
   "file_extension": ".py",
   "mimetype": "text/x-python",
   "name": "python",
   "nbconvert_exporter": "python",
   "pygments_lexer": "ipython3",
   "version": "3.12.0"
  }
 },
 "nbformat": 4,
 "nbformat_minor": 5
}
