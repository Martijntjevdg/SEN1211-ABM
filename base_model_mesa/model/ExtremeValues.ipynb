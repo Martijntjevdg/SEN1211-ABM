{
 "cells": [
  {
   "cell_type": "markdown",
   "id": "74b06281-3a3e-4ac5-a1ea-ef9074be7782",
   "metadata": {
    "ExecuteTime": {
     "end_time": "2024-01-22T09:39:32.403998700Z",
     "start_time": "2024-01-22T09:39:32.361600400Z"
    },
    "collapsed": true
   },
   "source": [
    "To test if and how the model functions in extreme conditions, the model is run with the 500yr floodmap for 100 iterations. This is the most extreme floodmap that was given in the base model. It displays a severe flood that only happens every 500 years. In the model, this will result in high values for flood depth of households. The following hypotheses are stated on how the model will function in these conditions to show that the model still functions as it is supposed to:\n",
    "\n",
    "1. The total damage actually experienced will be a lot higher as adaptation measures are not up to the high values of flood depth\n",
    "2. A lot more households will opt for adaptation measures since the estimated prevented damage will exceed the adaptation costs more often\n",
    "3. Another reason more households will opt for adaptation measures is because the location of households will more likely be in a floodplain, resulting in a higher chance of receiving an initial flood perception of 3 or 4, which is one of the main factors for choosing adaptation measures"
   ]
  },
  {
   "cell_type": "code",
   "execution_count": 1,
   "id": "d2736cdb-61be-4c2c-8d2d-ea5de01a1bf6",
   "metadata": {
    "ExecuteTime": {
     "end_time": "2024-01-22T21:33:38.306171500Z",
     "start_time": "2024-01-22T21:33:33.228540400Z"
    }
   },
   "outputs": [],
   "source": [
    "from model import AdaptationModel\n",
    "from mesa.batchrunner import batch_run\n",
    "import pandas as pd"
   ]
  },
  {
   "cell_type": "code",
   "execution_count": 2,
   "id": "6f087a0a-3d18-49f9-a0a0-d471c07fcfc8",
   "metadata": {
    "ExecuteTime": {
     "end_time": "2024-01-22T22:17:20.840468Z",
     "start_time": "2024-01-22T21:34:13.522169Z"
    }
   },
   "outputs": [
    {
     "data": {
      "text/plain": "  0%|          | 0/300 [00:00<?, ?it/s]",
      "application/vnd.jupyter.widget-view+json": {
       "version_major": 2,
       "version_minor": 0,
       "model_id": "b8847b9caf3b41b5938cd40d6dfcd238"
      }
     },
     "metadata": {},
     "output_type": "display_data"
    }
   ],
   "source": [
    "#Extreme values test\n",
    "model_params = {\n",
    "    \"number_of_households\": 1000,\n",
    "    \"number_of_steps\": 80,\n",
    "    \"flood_map_choice\": [\"harvey\", \"100yr\", \"500yr\"],\n",
    "    \"network\": \"watts_strogatz\"\n",
    "}\n",
    "\n",
    "results = batch_run(\n",
    "    model_cls=AdaptationModel,\n",
    "    parameters=model_params,\n",
    "    number_processes=4,  # Set to None if you want to use all CPUs\n",
    "    iterations=100,  # Number of iterations for each parameter combination\n",
    "    data_collection_period=-1,  # Collect data at the end of each run\n",
    "    max_steps=model_params[\"number_of_steps\"],  # Maximum number of model steps\n",
    "    display_progress=True  # Display progress bar\n",
    ")\n",
    "\n",
    "df = pd.DataFrame(results)\n",
    "\n",
    "model_vars_extreme_values_df = df"
   ]
  },
  {
   "cell_type": "code",
   "execution_count": 3,
   "id": "c719027d-7f1b-4069-a9fe-7649da5be8ca",
   "metadata": {
    "ExecuteTime": {
     "end_time": "2024-01-22T22:20:29.793329100Z",
     "start_time": "2024-01-22T22:20:29.550514900Z"
    }
   },
   "outputs": [
    {
     "data": {
      "text/plain": "     RunId  iteration  Step  number_of_households  number_of_steps  \\\n0        0          0    14                  1000               80   \n1        2          0    31                  1000               80   \n2        1          0    48                  1000               80   \n3        5          1    16                  1000               80   \n4        3          1    53                  1000               80   \n..     ...        ...   ...                   ...              ...   \n295    296         98    55                  1000               80   \n296    297         99    16                  1000               80   \n297    295         98    69                  1000               80   \n298    298         99    42                  1000               80   \n299    299         99    51                  1000               80   \n\n    flood_map_choice         network  TotalAdaptedHouseholds  \\\n0             harvey  watts_strogatz                     544   \n1              500yr  watts_strogatz                     417   \n2              100yr  watts_strogatz                     317   \n3              500yr  watts_strogatz                     384   \n4             harvey  watts_strogatz                     589   \n..               ...             ...                     ...   \n295            500yr  watts_strogatz                     357   \n296           harvey  watts_strogatz                     586   \n297            100yr  watts_strogatz                     314   \n298            100yr  watts_strogatz                     276   \n299            500yr  watts_strogatz                     399   \n\n     TotalActualDamage  TotalExpectedDamage  TotalAdaptationCosts  \\\n0         4.709781e+07         4.972030e+07               2075365   \n1         2.222798e+07         2.379461e+07               1844925   \n2         1.372802e+07         1.480638e+07               1600920   \n3         2.010436e+07         2.154321e+07               1793980   \n4         4.777509e+07         5.050010e+07               4701615   \n..                 ...                  ...                   ...   \n295       2.137778e+07         2.265748e+07               2151075   \n296       4.297254e+07         4.600827e+07               2721615   \n297       1.372589e+07         1.465051e+07               2119400   \n298       1.412606e+07         1.517185e+07               1537025   \n299       1.971421e+07         2.142793e+07               2261895   \n\n     TotalCostsOfSubsidies  AverageDamagePerPoorHousehold  \\\n0                        0                   22715.367157   \n1                        0                   11900.904269   \n2                        0                    6638.366233   \n3                        0                    7851.177012   \n4                        0                   26022.510915   \n..                     ...                            ...   \n295                      0                    9590.297553   \n296                      0                   22367.835930   \n297                      0                    7946.539588   \n298                      0                    7588.228615   \n299                      0                    8896.209410   \n\n     AverageDamagePerMiddleClassHousehold  AverageDamagePerRichHousehold  \\\n0                            48211.893268                  104519.743342   \n1                            20983.909927                   48968.959331   \n2                            14334.351130                   26910.397905   \n3                            20469.100865                   49965.909125   \n4                            45162.400866                  109430.351939   \n..                                    ...                            ...   \n295                          22575.464957                   43941.022307   \n296                          42564.368419                  106320.839645   \n297                          13327.761127                   31548.537921   \n298                          13499.524720                   34157.269477   \n299                          20479.074215                   41710.868594   \n\n     AverageIncomeToDamagePoorHousehold  \\\n0                              4.612960   \n1                              2.351506   \n2                              1.407224   \n3                              1.572970   \n4                              5.342378   \n..                                  ...   \n295                            1.915211   \n296                            4.527344   \n297                            1.536154   \n298                            1.450464   \n299                            1.796536   \n\n     AverageIncomeToDamageMiddleClassHousehold  \\\n0                                     1.644535   \n1                                     0.721397   \n2                                     0.476962   \n3                                     0.680746   \n4                                     1.561452   \n..                                         ...   \n295                                   0.768634   \n296                                   1.448382   \n297                                   0.461211   \n298                                   0.454982   \n299                                   0.696472   \n\n     AverageIncomeToDamageRichHousehold  \n0                              1.199793  \n1                              0.543312  \n2                              0.308374  \n3                              0.575159  \n4                              1.254880  \n..                                  ...  \n295                            0.503647  \n296                            1.204534  \n297                            0.360239  \n298                            0.400971  \n299                            0.480142  \n\n[300 rows x 18 columns]",
      "text/html": "<div>\n<style scoped>\n    .dataframe tbody tr th:only-of-type {\n        vertical-align: middle;\n    }\n\n    .dataframe tbody tr th {\n        vertical-align: top;\n    }\n\n    .dataframe thead th {\n        text-align: right;\n    }\n</style>\n<table border=\"1\" class=\"dataframe\">\n  <thead>\n    <tr style=\"text-align: right;\">\n      <th></th>\n      <th>RunId</th>\n      <th>iteration</th>\n      <th>Step</th>\n      <th>number_of_households</th>\n      <th>number_of_steps</th>\n      <th>flood_map_choice</th>\n      <th>network</th>\n      <th>TotalAdaptedHouseholds</th>\n      <th>TotalActualDamage</th>\n      <th>TotalExpectedDamage</th>\n      <th>TotalAdaptationCosts</th>\n      <th>TotalCostsOfSubsidies</th>\n      <th>AverageDamagePerPoorHousehold</th>\n      <th>AverageDamagePerMiddleClassHousehold</th>\n      <th>AverageDamagePerRichHousehold</th>\n      <th>AverageIncomeToDamagePoorHousehold</th>\n      <th>AverageIncomeToDamageMiddleClassHousehold</th>\n      <th>AverageIncomeToDamageRichHousehold</th>\n    </tr>\n  </thead>\n  <tbody>\n    <tr>\n      <th>0</th>\n      <td>0</td>\n      <td>0</td>\n      <td>14</td>\n      <td>1000</td>\n      <td>80</td>\n      <td>harvey</td>\n      <td>watts_strogatz</td>\n      <td>544</td>\n      <td>4.709781e+07</td>\n      <td>4.972030e+07</td>\n      <td>2075365</td>\n      <td>0</td>\n      <td>22715.367157</td>\n      <td>48211.893268</td>\n      <td>104519.743342</td>\n      <td>4.612960</td>\n      <td>1.644535</td>\n      <td>1.199793</td>\n    </tr>\n    <tr>\n      <th>1</th>\n      <td>2</td>\n      <td>0</td>\n      <td>31</td>\n      <td>1000</td>\n      <td>80</td>\n      <td>500yr</td>\n      <td>watts_strogatz</td>\n      <td>417</td>\n      <td>2.222798e+07</td>\n      <td>2.379461e+07</td>\n      <td>1844925</td>\n      <td>0</td>\n      <td>11900.904269</td>\n      <td>20983.909927</td>\n      <td>48968.959331</td>\n      <td>2.351506</td>\n      <td>0.721397</td>\n      <td>0.543312</td>\n    </tr>\n    <tr>\n      <th>2</th>\n      <td>1</td>\n      <td>0</td>\n      <td>48</td>\n      <td>1000</td>\n      <td>80</td>\n      <td>100yr</td>\n      <td>watts_strogatz</td>\n      <td>317</td>\n      <td>1.372802e+07</td>\n      <td>1.480638e+07</td>\n      <td>1600920</td>\n      <td>0</td>\n      <td>6638.366233</td>\n      <td>14334.351130</td>\n      <td>26910.397905</td>\n      <td>1.407224</td>\n      <td>0.476962</td>\n      <td>0.308374</td>\n    </tr>\n    <tr>\n      <th>3</th>\n      <td>5</td>\n      <td>1</td>\n      <td>16</td>\n      <td>1000</td>\n      <td>80</td>\n      <td>500yr</td>\n      <td>watts_strogatz</td>\n      <td>384</td>\n      <td>2.010436e+07</td>\n      <td>2.154321e+07</td>\n      <td>1793980</td>\n      <td>0</td>\n      <td>7851.177012</td>\n      <td>20469.100865</td>\n      <td>49965.909125</td>\n      <td>1.572970</td>\n      <td>0.680746</td>\n      <td>0.575159</td>\n    </tr>\n    <tr>\n      <th>4</th>\n      <td>3</td>\n      <td>1</td>\n      <td>53</td>\n      <td>1000</td>\n      <td>80</td>\n      <td>harvey</td>\n      <td>watts_strogatz</td>\n      <td>589</td>\n      <td>4.777509e+07</td>\n      <td>5.050010e+07</td>\n      <td>4701615</td>\n      <td>0</td>\n      <td>26022.510915</td>\n      <td>45162.400866</td>\n      <td>109430.351939</td>\n      <td>5.342378</td>\n      <td>1.561452</td>\n      <td>1.254880</td>\n    </tr>\n    <tr>\n      <th>...</th>\n      <td>...</td>\n      <td>...</td>\n      <td>...</td>\n      <td>...</td>\n      <td>...</td>\n      <td>...</td>\n      <td>...</td>\n      <td>...</td>\n      <td>...</td>\n      <td>...</td>\n      <td>...</td>\n      <td>...</td>\n      <td>...</td>\n      <td>...</td>\n      <td>...</td>\n      <td>...</td>\n      <td>...</td>\n      <td>...</td>\n    </tr>\n    <tr>\n      <th>295</th>\n      <td>296</td>\n      <td>98</td>\n      <td>55</td>\n      <td>1000</td>\n      <td>80</td>\n      <td>500yr</td>\n      <td>watts_strogatz</td>\n      <td>357</td>\n      <td>2.137778e+07</td>\n      <td>2.265748e+07</td>\n      <td>2151075</td>\n      <td>0</td>\n      <td>9590.297553</td>\n      <td>22575.464957</td>\n      <td>43941.022307</td>\n      <td>1.915211</td>\n      <td>0.768634</td>\n      <td>0.503647</td>\n    </tr>\n    <tr>\n      <th>296</th>\n      <td>297</td>\n      <td>99</td>\n      <td>16</td>\n      <td>1000</td>\n      <td>80</td>\n      <td>harvey</td>\n      <td>watts_strogatz</td>\n      <td>586</td>\n      <td>4.297254e+07</td>\n      <td>4.600827e+07</td>\n      <td>2721615</td>\n      <td>0</td>\n      <td>22367.835930</td>\n      <td>42564.368419</td>\n      <td>106320.839645</td>\n      <td>4.527344</td>\n      <td>1.448382</td>\n      <td>1.204534</td>\n    </tr>\n    <tr>\n      <th>297</th>\n      <td>295</td>\n      <td>98</td>\n      <td>69</td>\n      <td>1000</td>\n      <td>80</td>\n      <td>100yr</td>\n      <td>watts_strogatz</td>\n      <td>314</td>\n      <td>1.372589e+07</td>\n      <td>1.465051e+07</td>\n      <td>2119400</td>\n      <td>0</td>\n      <td>7946.539588</td>\n      <td>13327.761127</td>\n      <td>31548.537921</td>\n      <td>1.536154</td>\n      <td>0.461211</td>\n      <td>0.360239</td>\n    </tr>\n    <tr>\n      <th>298</th>\n      <td>298</td>\n      <td>99</td>\n      <td>42</td>\n      <td>1000</td>\n      <td>80</td>\n      <td>100yr</td>\n      <td>watts_strogatz</td>\n      <td>276</td>\n      <td>1.412606e+07</td>\n      <td>1.517185e+07</td>\n      <td>1537025</td>\n      <td>0</td>\n      <td>7588.228615</td>\n      <td>13499.524720</td>\n      <td>34157.269477</td>\n      <td>1.450464</td>\n      <td>0.454982</td>\n      <td>0.400971</td>\n    </tr>\n    <tr>\n      <th>299</th>\n      <td>299</td>\n      <td>99</td>\n      <td>51</td>\n      <td>1000</td>\n      <td>80</td>\n      <td>500yr</td>\n      <td>watts_strogatz</td>\n      <td>399</td>\n      <td>1.971421e+07</td>\n      <td>2.142793e+07</td>\n      <td>2261895</td>\n      <td>0</td>\n      <td>8896.209410</td>\n      <td>20479.074215</td>\n      <td>41710.868594</td>\n      <td>1.796536</td>\n      <td>0.696472</td>\n      <td>0.480142</td>\n    </tr>\n  </tbody>\n</table>\n<p>300 rows × 18 columns</p>\n</div>"
     },
     "execution_count": 3,
     "metadata": {},
     "output_type": "execute_result"
    }
   ],
   "source": [
    "def unpack_dictionary(row, column_name):\n",
    "    return pd.Series(row[column_name])\n",
    "\n",
    "#base_case_unpacked = base_case_100_iterations.apply(unpack_dictionary['AverageDamagePerIncomeLabel'], axis = 1)\n",
    "first_column_unpacked = model_vars_extreme_values_df.apply(unpack_dictionary, args=('AverageDamagePerIncomeLabel',), axis=1)\n",
    "second_column_unpacked = model_vars_extreme_values_df.apply(unpack_dictionary, args=('AverageIncomeToDamageRatio',), axis=1)\n",
    "extreme_values_unpacked = pd.concat([model_vars_extreme_values_df, first_column_unpacked, second_column_unpacked], axis=1)\n",
    "model_vars_extreme_values_clean = extreme_values_unpacked.drop(['AverageDamagePerIncomeLabel', 'AverageIncomeToDamageRatio'], axis=1)\n",
    "model_vars_extreme_values_clean"
   ]
  },
  {
   "cell_type": "code",
   "execution_count": 4,
   "id": "03aee425-7eb4-4166-a4a2-f6353af4ef61",
   "metadata": {
    "ExecuteTime": {
     "end_time": "2024-01-22T22:20:48.487446100Z",
     "start_time": "2024-01-22T22:20:48.445292100Z"
    }
   },
   "outputs": [],
   "source": [
    "output_data_path = r'../output_data/ExtremeValuesModelVars.csv'\n",
    "model_vars_extreme_values_clean.to_csv(output_data_path, index=False)"
   ]
  }
 ],
 "metadata": {
  "kernelspec": {
   "display_name": "Python 3 (ipykernel)",
   "language": "python",
   "name": "python3"
  },
  "language_info": {
   "codemirror_mode": {
    "name": "ipython",
    "version": 3
   },
   "file_extension": ".py",
   "mimetype": "text/x-python",
   "name": "python",
   "nbconvert_exporter": "python",
   "pygments_lexer": "ipython3",
   "version": "3.12.0"
  }
 },
 "nbformat": 4,
 "nbformat_minor": 5
}
