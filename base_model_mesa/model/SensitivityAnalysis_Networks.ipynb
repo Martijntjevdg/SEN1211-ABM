{
 "cells": [
  {
   "cell_type": "code",
   "execution_count": 1,
   "id": "initial_id",
   "metadata": {
    "ExecuteTime": {
     "end_time": "2024-01-25T11:54:27.156769Z",
     "start_time": "2024-01-25T11:54:23.370567Z"
    }
   },
   "outputs": [],
   "source": [
    "from model import AdaptationModel\n",
    "from mesa.batchrunner import batch_run\n",
    "import pandas as pd"
   ]
  },
  {
   "cell_type": "code",
   "execution_count": 2,
   "id": "f0d21165-cdcc-40ad-b760-70233b339009",
   "metadata": {
    "ExecuteTime": {
     "end_time": "2024-01-25T11:56:19.065730Z",
     "start_time": "2024-01-25T11:54:28.662562Z"
    }
   },
   "outputs": [
    {
     "data": {
      "text/plain": "  0%|          | 0/400 [00:00<?, ?it/s]",
      "application/vnd.jupyter.widget-view+json": {
       "version_major": 2,
       "version_minor": 0,
       "model_id": "7b50effd360a456fa1cd4f024d3c7cb9"
      }
     },
     "metadata": {},
     "output_type": "display_data"
    }
   ],
   "source": [
    "#Income distribution\n",
    "model_params = {\n",
    "    \"number_of_households\": 1000,\n",
    "    \"number_of_steps\": 80,\n",
    "    \"flood_map_choice\": \"100yr\",\n",
    "    \"network\": [\"watts_strogatz\", \"erdos_renyi\", \"barabasi_albert\", \"no_network\"]\n",
    "}\n",
    "\n",
    "\n",
    "\n",
    "results = batch_run(\n",
    "    model_cls=AdaptationModel,\n",
    "    parameters=model_params,\n",
    "    number_processes=4,  # Set to None if you want to use all CPUs\n",
    "    iterations=100,  # Number of iterations for each parameter combination\n",
    "    data_collection_period=1,  # Collect data at the end of each run\n",
    "    max_steps=model_params[\"number_of_steps\"],  # Maximum number of model steps\n",
    "    display_progress=True  # Display progress bar\n",
    ")\n",
    "\n",
    "df = pd.DataFrame(results)\n",
    "\n",
    "sensitivity_analysis_networks = df"
   ]
  },
  {
   "cell_type": "code",
   "execution_count": 3,
   "id": "5f434c73-68e1-4de7-96ea-94f5288fcef3",
   "metadata": {
    "ExecuteTime": {
     "end_time": "2024-01-25T11:56:22.993042Z",
     "start_time": "2024-01-25T11:56:22.639747Z"
    }
   },
   "outputs": [
    {
     "data": {
      "text/plain": "       RunId  iteration  Step  number_of_households  number_of_steps  \\\n0          2          0     0                  1000               80   \n1          2          0     1                  1000               80   \n2          2          0     2                  1000               80   \n3          2          0     3                  1000               80   \n4          2          0     4                  1000               80   \n...      ...        ...   ...                   ...              ...   \n16890    397         99    57                  1000               80   \n16891    397         99    58                  1000               80   \n16892    397         99    59                  1000               80   \n16893    397         99    60                  1000               80   \n16894    397         99    61                  1000               80   \n\n      flood_map_choice          network  TotalAdaptedHouseholds  \\\n0                100yr  barabasi_albert                       0   \n1                100yr  barabasi_albert                      66   \n2                100yr  barabasi_albert                     162   \n3                100yr  barabasi_albert                     247   \n4                100yr  barabasi_albert                     285   \n...                ...              ...                     ...   \n16890            100yr      erdos_renyi                     405   \n16891            100yr      erdos_renyi                     406   \n16892            100yr      erdos_renyi                     406   \n16893            100yr      erdos_renyi                     406   \n16894            100yr      erdos_renyi                     406   \n\n       TotalActualDamage  TotalExpectedDamage  ...  \\\n0           0.000000e+00         3.387817e+07  ...   \n1           0.000000e+00         3.148399e+07  ...   \n2           0.000000e+00         2.449372e+07  ...   \n3           0.000000e+00         1.755379e+07  ...   \n4           0.000000e+00         1.463224e+07  ...   \n...                  ...                  ...  ...   \n16890       0.000000e+00         1.253626e+07  ...   \n16891       0.000000e+00         1.217305e+07  ...   \n16892       0.000000e+00         1.217305e+07  ...   \n16893       0.000000e+00         1.217305e+07  ...   \n16894       1.122677e+07         1.217305e+07  ...   \n\n       EstimatedAverageDamagePerRichHousehold  \\\n0                                92531.068589   \n1                                83631.509977   \n2                                58592.650819   \n3                                40176.454740   \n4                                32362.663672   \n...                                       ...   \n16890                            34687.106417   \n16891                            30823.141890   \n16892                            30823.141890   \n16893                            30823.141890   \n16894                            30823.141890   \n\n       EstimatedAverageIncomeToDamagePoorHousehold  \\\n0                                         2.732627   \n1                                         2.725976   \n2                                         2.702274   \n3                                         2.655158   \n4                                         2.441154   \n...                                            ...   \n16890                                     0.935398   \n16891                                     0.935398   \n16892                                     0.935398   \n16893                                     0.935398   \n16894                                     0.935398   \n\n      EstimatedAverageIncomeToDamageMiddleClassHousehold  \\\n0                                               1.029254   \n1                                               0.958487   \n2                                               0.746585   \n3                                               0.499818   \n4                                               0.408699   \n...                                                  ...   \n16890                                           0.424865   \n16891                                           0.424865   \n16892                                           0.424865   \n16893                                           0.424865   \n16894                                           0.424865   \n\n      EstimatedAverageIncomeToDamageRichHousehold  \\\n0                                        1.033040   \n1                                        0.933683   \n2                                        0.654143   \n3                                        0.448540   \n4                                        0.361305   \n...                                           ...   \n16890                                    0.411708   \n16891                                    0.365846   \n16892                                    0.365846   \n16893                                    0.365846   \n16894                                    0.365846   \n\n      AverageDamagePerPoorHousehold AverageDamagePerMiddleClassHousehold  \\\n0                          0.000000                             0.000000   \n1                          0.000000                             0.000000   \n2                          0.000000                             0.000000   \n3                          0.000000                             0.000000   \n4                          0.000000                             0.000000   \n...                             ...                                  ...   \n16890                      0.000000                             0.000000   \n16891                      0.000000                             0.000000   \n16892                      0.000000                             0.000000   \n16893                      0.000000                             0.000000   \n16894                   4435.621192                         11547.416073   \n\n      AverageDamagePerRichHousehold  AverageIncomeToDamagePoorHousehold  \\\n0                          0.000000                            0.000000   \n1                          0.000000                            0.000000   \n2                          0.000000                            0.000000   \n3                          0.000000                            0.000000   \n4                          0.000000                            0.000000   \n...                             ...                                 ...   \n16890                      0.000000                            0.000000   \n16891                      0.000000                            0.000000   \n16892                      0.000000                            0.000000   \n16893                      0.000000                            0.000000   \n16894                  28715.050886                            0.860237   \n\n       AverageIncomeToDamageMiddleClassHousehold  \\\n0                                       0.000000   \n1                                       0.000000   \n2                                       0.000000   \n3                                       0.000000   \n4                                       0.000000   \n...                                          ...   \n16890                                   0.000000   \n16891                                   0.000000   \n16892                                   0.000000   \n16893                                   0.000000   \n16894                                   0.390577   \n\n       AverageIncomeToDamageRichHousehold  \n0                                0.000000  \n1                                0.000000  \n2                                0.000000  \n3                                0.000000  \n4                                0.000000  \n...                                   ...  \n16890                            0.000000  \n16891                            0.000000  \n16892                            0.000000  \n16893                            0.000000  \n16894                            0.340824  \n\n[16895 rows x 29 columns]",
      "text/html": "<div>\n<style scoped>\n    .dataframe tbody tr th:only-of-type {\n        vertical-align: middle;\n    }\n\n    .dataframe tbody tr th {\n        vertical-align: top;\n    }\n\n    .dataframe thead th {\n        text-align: right;\n    }\n</style>\n<table border=\"1\" class=\"dataframe\">\n  <thead>\n    <tr style=\"text-align: right;\">\n      <th></th>\n      <th>RunId</th>\n      <th>iteration</th>\n      <th>Step</th>\n      <th>number_of_households</th>\n      <th>number_of_steps</th>\n      <th>flood_map_choice</th>\n      <th>network</th>\n      <th>TotalAdaptedHouseholds</th>\n      <th>TotalActualDamage</th>\n      <th>TotalExpectedDamage</th>\n      <th>...</th>\n      <th>EstimatedAverageDamagePerRichHousehold</th>\n      <th>EstimatedAverageIncomeToDamagePoorHousehold</th>\n      <th>EstimatedAverageIncomeToDamageMiddleClassHousehold</th>\n      <th>EstimatedAverageIncomeToDamageRichHousehold</th>\n      <th>AverageDamagePerPoorHousehold</th>\n      <th>AverageDamagePerMiddleClassHousehold</th>\n      <th>AverageDamagePerRichHousehold</th>\n      <th>AverageIncomeToDamagePoorHousehold</th>\n      <th>AverageIncomeToDamageMiddleClassHousehold</th>\n      <th>AverageIncomeToDamageRichHousehold</th>\n    </tr>\n  </thead>\n  <tbody>\n    <tr>\n      <th>0</th>\n      <td>2</td>\n      <td>0</td>\n      <td>0</td>\n      <td>1000</td>\n      <td>80</td>\n      <td>100yr</td>\n      <td>barabasi_albert</td>\n      <td>0</td>\n      <td>0.000000e+00</td>\n      <td>3.387817e+07</td>\n      <td>...</td>\n      <td>92531.068589</td>\n      <td>2.732627</td>\n      <td>1.029254</td>\n      <td>1.033040</td>\n      <td>0.000000</td>\n      <td>0.000000</td>\n      <td>0.000000</td>\n      <td>0.000000</td>\n      <td>0.000000</td>\n      <td>0.000000</td>\n    </tr>\n    <tr>\n      <th>1</th>\n      <td>2</td>\n      <td>0</td>\n      <td>1</td>\n      <td>1000</td>\n      <td>80</td>\n      <td>100yr</td>\n      <td>barabasi_albert</td>\n      <td>66</td>\n      <td>0.000000e+00</td>\n      <td>3.148399e+07</td>\n      <td>...</td>\n      <td>83631.509977</td>\n      <td>2.725976</td>\n      <td>0.958487</td>\n      <td>0.933683</td>\n      <td>0.000000</td>\n      <td>0.000000</td>\n      <td>0.000000</td>\n      <td>0.000000</td>\n      <td>0.000000</td>\n      <td>0.000000</td>\n    </tr>\n    <tr>\n      <th>2</th>\n      <td>2</td>\n      <td>0</td>\n      <td>2</td>\n      <td>1000</td>\n      <td>80</td>\n      <td>100yr</td>\n      <td>barabasi_albert</td>\n      <td>162</td>\n      <td>0.000000e+00</td>\n      <td>2.449372e+07</td>\n      <td>...</td>\n      <td>58592.650819</td>\n      <td>2.702274</td>\n      <td>0.746585</td>\n      <td>0.654143</td>\n      <td>0.000000</td>\n      <td>0.000000</td>\n      <td>0.000000</td>\n      <td>0.000000</td>\n      <td>0.000000</td>\n      <td>0.000000</td>\n    </tr>\n    <tr>\n      <th>3</th>\n      <td>2</td>\n      <td>0</td>\n      <td>3</td>\n      <td>1000</td>\n      <td>80</td>\n      <td>100yr</td>\n      <td>barabasi_albert</td>\n      <td>247</td>\n      <td>0.000000e+00</td>\n      <td>1.755379e+07</td>\n      <td>...</td>\n      <td>40176.454740</td>\n      <td>2.655158</td>\n      <td>0.499818</td>\n      <td>0.448540</td>\n      <td>0.000000</td>\n      <td>0.000000</td>\n      <td>0.000000</td>\n      <td>0.000000</td>\n      <td>0.000000</td>\n      <td>0.000000</td>\n    </tr>\n    <tr>\n      <th>4</th>\n      <td>2</td>\n      <td>0</td>\n      <td>4</td>\n      <td>1000</td>\n      <td>80</td>\n      <td>100yr</td>\n      <td>barabasi_albert</td>\n      <td>285</td>\n      <td>0.000000e+00</td>\n      <td>1.463224e+07</td>\n      <td>...</td>\n      <td>32362.663672</td>\n      <td>2.441154</td>\n      <td>0.408699</td>\n      <td>0.361305</td>\n      <td>0.000000</td>\n      <td>0.000000</td>\n      <td>0.000000</td>\n      <td>0.000000</td>\n      <td>0.000000</td>\n      <td>0.000000</td>\n    </tr>\n    <tr>\n      <th>...</th>\n      <td>...</td>\n      <td>...</td>\n      <td>...</td>\n      <td>...</td>\n      <td>...</td>\n      <td>...</td>\n      <td>...</td>\n      <td>...</td>\n      <td>...</td>\n      <td>...</td>\n      <td>...</td>\n      <td>...</td>\n      <td>...</td>\n      <td>...</td>\n      <td>...</td>\n      <td>...</td>\n      <td>...</td>\n      <td>...</td>\n      <td>...</td>\n      <td>...</td>\n      <td>...</td>\n    </tr>\n    <tr>\n      <th>16890</th>\n      <td>397</td>\n      <td>99</td>\n      <td>57</td>\n      <td>1000</td>\n      <td>80</td>\n      <td>100yr</td>\n      <td>erdos_renyi</td>\n      <td>405</td>\n      <td>0.000000e+00</td>\n      <td>1.253626e+07</td>\n      <td>...</td>\n      <td>34687.106417</td>\n      <td>0.935398</td>\n      <td>0.424865</td>\n      <td>0.411708</td>\n      <td>0.000000</td>\n      <td>0.000000</td>\n      <td>0.000000</td>\n      <td>0.000000</td>\n      <td>0.000000</td>\n      <td>0.000000</td>\n    </tr>\n    <tr>\n      <th>16891</th>\n      <td>397</td>\n      <td>99</td>\n      <td>58</td>\n      <td>1000</td>\n      <td>80</td>\n      <td>100yr</td>\n      <td>erdos_renyi</td>\n      <td>406</td>\n      <td>0.000000e+00</td>\n      <td>1.217305e+07</td>\n      <td>...</td>\n      <td>30823.141890</td>\n      <td>0.935398</td>\n      <td>0.424865</td>\n      <td>0.365846</td>\n      <td>0.000000</td>\n      <td>0.000000</td>\n      <td>0.000000</td>\n      <td>0.000000</td>\n      <td>0.000000</td>\n      <td>0.000000</td>\n    </tr>\n    <tr>\n      <th>16892</th>\n      <td>397</td>\n      <td>99</td>\n      <td>59</td>\n      <td>1000</td>\n      <td>80</td>\n      <td>100yr</td>\n      <td>erdos_renyi</td>\n      <td>406</td>\n      <td>0.000000e+00</td>\n      <td>1.217305e+07</td>\n      <td>...</td>\n      <td>30823.141890</td>\n      <td>0.935398</td>\n      <td>0.424865</td>\n      <td>0.365846</td>\n      <td>0.000000</td>\n      <td>0.000000</td>\n      <td>0.000000</td>\n      <td>0.000000</td>\n      <td>0.000000</td>\n      <td>0.000000</td>\n    </tr>\n    <tr>\n      <th>16893</th>\n      <td>397</td>\n      <td>99</td>\n      <td>60</td>\n      <td>1000</td>\n      <td>80</td>\n      <td>100yr</td>\n      <td>erdos_renyi</td>\n      <td>406</td>\n      <td>0.000000e+00</td>\n      <td>1.217305e+07</td>\n      <td>...</td>\n      <td>30823.141890</td>\n      <td>0.935398</td>\n      <td>0.424865</td>\n      <td>0.365846</td>\n      <td>0.000000</td>\n      <td>0.000000</td>\n      <td>0.000000</td>\n      <td>0.000000</td>\n      <td>0.000000</td>\n      <td>0.000000</td>\n    </tr>\n    <tr>\n      <th>16894</th>\n      <td>397</td>\n      <td>99</td>\n      <td>61</td>\n      <td>1000</td>\n      <td>80</td>\n      <td>100yr</td>\n      <td>erdos_renyi</td>\n      <td>406</td>\n      <td>1.122677e+07</td>\n      <td>1.217305e+07</td>\n      <td>...</td>\n      <td>30823.141890</td>\n      <td>0.935398</td>\n      <td>0.424865</td>\n      <td>0.365846</td>\n      <td>4435.621192</td>\n      <td>11547.416073</td>\n      <td>28715.050886</td>\n      <td>0.860237</td>\n      <td>0.390577</td>\n      <td>0.340824</td>\n    </tr>\n  </tbody>\n</table>\n<p>16895 rows × 29 columns</p>\n</div>"
     },
     "execution_count": 3,
     "metadata": {},
     "output_type": "execute_result"
    }
   ],
   "source": [
    "normalized_estimated_damage= pd.json_normalize(sensitivity_analysis_networks['EstimatedAverageDamagePerIncomeLabel'])\n",
    "normalized_estimated_ratio = pd.json_normalize(sensitivity_analysis_networks['EstimatedAverageIncomeToDamageRatio'])\n",
    "normalized_damage = pd.json_normalize(sensitivity_analysis_networks['AverageDamagePerIncomeLabel'])\n",
    "normalized_ratio = pd.json_normalize(sensitivity_analysis_networks['AverageIncomeToDamageRatio'])\n",
    "model_vars_sensitivity_analysis_networks_clean = pd.concat([sensitivity_analysis_networks, normalized_estimated_damage,                                                                         normalized_estimated_ratio,normalized_damage, normalized_ratio], axis=1)\n",
    "model_vars_sensitivity_analysis_networks_clean"
   ]
  },
  {
   "cell_type": "code",
   "execution_count": 4,
   "outputs": [
    {
     "data": {
      "text/plain": "       RunId  iteration  Step  number_of_households  number_of_steps  \\\n40         0          0     0                  1000               80   \n41         0          0     1                  1000               80   \n42         0          0     2                  1000               80   \n43         0          0     3                  1000               80   \n44         0          0     4                  1000               80   \n...      ...        ...   ...                   ...              ...   \n16828    399         99    34                  1000               80   \n16829    399         99    35                  1000               80   \n16830    399         99    36                  1000               80   \n16831    399         99    37                  1000               80   \n16832    399         99    38                  1000               80   \n\n      flood_map_choice         network  TotalAdaptedHouseholds  \\\n40               100yr  watts_strogatz                       0   \n41               100yr  watts_strogatz                      82   \n42               100yr  watts_strogatz                     169   \n43               100yr  watts_strogatz                     238   \n44               100yr  watts_strogatz                     269   \n...                ...             ...                     ...   \n16828            100yr      no_network                     305   \n16829            100yr      no_network                     306   \n16830            100yr      no_network                     307   \n16831            100yr      no_network                     307   \n16832            100yr      no_network                     307   \n\n       TotalActualDamage  TotalExpectedDamage  ...  \\\n40          0.000000e+00         3.333918e+07  ...   \n41          0.000000e+00         3.030930e+07  ...   \n42          0.000000e+00         2.655789e+07  ...   \n43          0.000000e+00         2.217473e+07  ...   \n44          0.000000e+00         2.031188e+07  ...   \n...                  ...                  ...  ...   \n16828       0.000000e+00         1.689831e+07  ...   \n16829       0.000000e+00         1.687894e+07  ...   \n16830       0.000000e+00         1.674576e+07  ...   \n16831       0.000000e+00         1.674576e+07  ...   \n16832       1.551884e+07         1.674576e+07  ...   \n\n       EstimatedAverageDamagePerRichHousehold  \\\n40                               80716.074597   \n41                               68421.718051   \n42                               61457.734874   \n43                               49216.075189   \n44                               49216.075189   \n...                                       ...   \n16828                            57879.973784   \n16829                            57879.973784   \n16830                            57879.973784   \n16831                            57879.973784   \n16832                            57879.973784   \n\n       EstimatedAverageIncomeToDamagePoorHousehold  \\\n40                                        3.120445   \n41                                        3.112738   \n42                                        2.981427   \n43                                        2.914300   \n44                                        2.790635   \n...                                            ...   \n16828                                     1.670103   \n16829                                     1.655190   \n16830                                     1.655190   \n16831                                     1.655190   \n16832                                     1.655190   \n\n      EstimatedAverageIncomeToDamageMiddleClassHousehold  \\\n40                                              1.159867   \n41                                              1.057968   \n42                                              0.901153   \n43                                              0.731273   \n44                                              0.641117   \n...                                                  ...   \n16828                                           0.492650   \n16829                                           0.492650   \n16830                                           0.485922   \n16831                                           0.485922   \n16832                                           0.485922   \n\n      EstimatedAverageIncomeToDamageRichHousehold  \\\n40                                       0.906841   \n41                                       0.768714   \n42                                       0.690474   \n43                                       0.552940   \n44                                       0.552940   \n...                                           ...   \n16828                                    0.664664   \n16829                                    0.664664   \n16830                                    0.664664   \n16831                                    0.664664   \n16832                                    0.664664   \n\n      AverageDamagePerPoorHousehold AverageDamagePerMiddleClassHousehold  \\\n40                         0.000000                             0.000000   \n41                         0.000000                             0.000000   \n42                         0.000000                             0.000000   \n43                         0.000000                             0.000000   \n44                         0.000000                             0.000000   \n...                             ...                                  ...   \n16828                      0.000000                             0.000000   \n16829                      0.000000                             0.000000   \n16830                      0.000000                             0.000000   \n16831                      0.000000                             0.000000   \n16832                   7895.944566                         13531.898308   \n\n      AverageDamagePerRichHousehold  AverageIncomeToDamagePoorHousehold  \\\n40                          0.00000                             0.00000   \n41                          0.00000                             0.00000   \n42                          0.00000                             0.00000   \n43                          0.00000                             0.00000   \n44                          0.00000                             0.00000   \n...                             ...                                 ...   \n16828                       0.00000                             0.00000   \n16829                       0.00000                             0.00000   \n16830                       0.00000                             0.00000   \n16831                       0.00000                             0.00000   \n16832                   53281.61425                             1.54457   \n\n       AverageIncomeToDamageMiddleClassHousehold  \\\n40                                      0.000000   \n41                                      0.000000   \n42                                      0.000000   \n43                                      0.000000   \n44                                      0.000000   \n...                                          ...   \n16828                                   0.000000   \n16829                                   0.000000   \n16830                                   0.000000   \n16831                                   0.000000   \n16832                                   0.451175   \n\n       AverageIncomeToDamageRichHousehold  \n40                               0.000000  \n41                               0.000000  \n42                               0.000000  \n43                               0.000000  \n44                               0.000000  \n...                                   ...  \n16828                            0.000000  \n16829                            0.000000  \n16830                            0.000000  \n16831                            0.000000  \n16832                            0.611859  \n\n[16895 rows x 29 columns]",
      "text/html": "<div>\n<style scoped>\n    .dataframe tbody tr th:only-of-type {\n        vertical-align: middle;\n    }\n\n    .dataframe tbody tr th {\n        vertical-align: top;\n    }\n\n    .dataframe thead th {\n        text-align: right;\n    }\n</style>\n<table border=\"1\" class=\"dataframe\">\n  <thead>\n    <tr style=\"text-align: right;\">\n      <th></th>\n      <th>RunId</th>\n      <th>iteration</th>\n      <th>Step</th>\n      <th>number_of_households</th>\n      <th>number_of_steps</th>\n      <th>flood_map_choice</th>\n      <th>network</th>\n      <th>TotalAdaptedHouseholds</th>\n      <th>TotalActualDamage</th>\n      <th>TotalExpectedDamage</th>\n      <th>...</th>\n      <th>EstimatedAverageDamagePerRichHousehold</th>\n      <th>EstimatedAverageIncomeToDamagePoorHousehold</th>\n      <th>EstimatedAverageIncomeToDamageMiddleClassHousehold</th>\n      <th>EstimatedAverageIncomeToDamageRichHousehold</th>\n      <th>AverageDamagePerPoorHousehold</th>\n      <th>AverageDamagePerMiddleClassHousehold</th>\n      <th>AverageDamagePerRichHousehold</th>\n      <th>AverageIncomeToDamagePoorHousehold</th>\n      <th>AverageIncomeToDamageMiddleClassHousehold</th>\n      <th>AverageIncomeToDamageRichHousehold</th>\n    </tr>\n  </thead>\n  <tbody>\n    <tr>\n      <th>40</th>\n      <td>0</td>\n      <td>0</td>\n      <td>0</td>\n      <td>1000</td>\n      <td>80</td>\n      <td>100yr</td>\n      <td>watts_strogatz</td>\n      <td>0</td>\n      <td>0.000000e+00</td>\n      <td>3.333918e+07</td>\n      <td>...</td>\n      <td>80716.074597</td>\n      <td>3.120445</td>\n      <td>1.159867</td>\n      <td>0.906841</td>\n      <td>0.000000</td>\n      <td>0.000000</td>\n      <td>0.00000</td>\n      <td>0.00000</td>\n      <td>0.000000</td>\n      <td>0.000000</td>\n    </tr>\n    <tr>\n      <th>41</th>\n      <td>0</td>\n      <td>0</td>\n      <td>1</td>\n      <td>1000</td>\n      <td>80</td>\n      <td>100yr</td>\n      <td>watts_strogatz</td>\n      <td>82</td>\n      <td>0.000000e+00</td>\n      <td>3.030930e+07</td>\n      <td>...</td>\n      <td>68421.718051</td>\n      <td>3.112738</td>\n      <td>1.057968</td>\n      <td>0.768714</td>\n      <td>0.000000</td>\n      <td>0.000000</td>\n      <td>0.00000</td>\n      <td>0.00000</td>\n      <td>0.000000</td>\n      <td>0.000000</td>\n    </tr>\n    <tr>\n      <th>42</th>\n      <td>0</td>\n      <td>0</td>\n      <td>2</td>\n      <td>1000</td>\n      <td>80</td>\n      <td>100yr</td>\n      <td>watts_strogatz</td>\n      <td>169</td>\n      <td>0.000000e+00</td>\n      <td>2.655789e+07</td>\n      <td>...</td>\n      <td>61457.734874</td>\n      <td>2.981427</td>\n      <td>0.901153</td>\n      <td>0.690474</td>\n      <td>0.000000</td>\n      <td>0.000000</td>\n      <td>0.00000</td>\n      <td>0.00000</td>\n      <td>0.000000</td>\n      <td>0.000000</td>\n    </tr>\n    <tr>\n      <th>43</th>\n      <td>0</td>\n      <td>0</td>\n      <td>3</td>\n      <td>1000</td>\n      <td>80</td>\n      <td>100yr</td>\n      <td>watts_strogatz</td>\n      <td>238</td>\n      <td>0.000000e+00</td>\n      <td>2.217473e+07</td>\n      <td>...</td>\n      <td>49216.075189</td>\n      <td>2.914300</td>\n      <td>0.731273</td>\n      <td>0.552940</td>\n      <td>0.000000</td>\n      <td>0.000000</td>\n      <td>0.00000</td>\n      <td>0.00000</td>\n      <td>0.000000</td>\n      <td>0.000000</td>\n    </tr>\n    <tr>\n      <th>44</th>\n      <td>0</td>\n      <td>0</td>\n      <td>4</td>\n      <td>1000</td>\n      <td>80</td>\n      <td>100yr</td>\n      <td>watts_strogatz</td>\n      <td>269</td>\n      <td>0.000000e+00</td>\n      <td>2.031188e+07</td>\n      <td>...</td>\n      <td>49216.075189</td>\n      <td>2.790635</td>\n      <td>0.641117</td>\n      <td>0.552940</td>\n      <td>0.000000</td>\n      <td>0.000000</td>\n      <td>0.00000</td>\n      <td>0.00000</td>\n      <td>0.000000</td>\n      <td>0.000000</td>\n    </tr>\n    <tr>\n      <th>...</th>\n      <td>...</td>\n      <td>...</td>\n      <td>...</td>\n      <td>...</td>\n      <td>...</td>\n      <td>...</td>\n      <td>...</td>\n      <td>...</td>\n      <td>...</td>\n      <td>...</td>\n      <td>...</td>\n      <td>...</td>\n      <td>...</td>\n      <td>...</td>\n      <td>...</td>\n      <td>...</td>\n      <td>...</td>\n      <td>...</td>\n      <td>...</td>\n      <td>...</td>\n      <td>...</td>\n    </tr>\n    <tr>\n      <th>16828</th>\n      <td>399</td>\n      <td>99</td>\n      <td>34</td>\n      <td>1000</td>\n      <td>80</td>\n      <td>100yr</td>\n      <td>no_network</td>\n      <td>305</td>\n      <td>0.000000e+00</td>\n      <td>1.689831e+07</td>\n      <td>...</td>\n      <td>57879.973784</td>\n      <td>1.670103</td>\n      <td>0.492650</td>\n      <td>0.664664</td>\n      <td>0.000000</td>\n      <td>0.000000</td>\n      <td>0.00000</td>\n      <td>0.00000</td>\n      <td>0.000000</td>\n      <td>0.000000</td>\n    </tr>\n    <tr>\n      <th>16829</th>\n      <td>399</td>\n      <td>99</td>\n      <td>35</td>\n      <td>1000</td>\n      <td>80</td>\n      <td>100yr</td>\n      <td>no_network</td>\n      <td>306</td>\n      <td>0.000000e+00</td>\n      <td>1.687894e+07</td>\n      <td>...</td>\n      <td>57879.973784</td>\n      <td>1.655190</td>\n      <td>0.492650</td>\n      <td>0.664664</td>\n      <td>0.000000</td>\n      <td>0.000000</td>\n      <td>0.00000</td>\n      <td>0.00000</td>\n      <td>0.000000</td>\n      <td>0.000000</td>\n    </tr>\n    <tr>\n      <th>16830</th>\n      <td>399</td>\n      <td>99</td>\n      <td>36</td>\n      <td>1000</td>\n      <td>80</td>\n      <td>100yr</td>\n      <td>no_network</td>\n      <td>307</td>\n      <td>0.000000e+00</td>\n      <td>1.674576e+07</td>\n      <td>...</td>\n      <td>57879.973784</td>\n      <td>1.655190</td>\n      <td>0.485922</td>\n      <td>0.664664</td>\n      <td>0.000000</td>\n      <td>0.000000</td>\n      <td>0.00000</td>\n      <td>0.00000</td>\n      <td>0.000000</td>\n      <td>0.000000</td>\n    </tr>\n    <tr>\n      <th>16831</th>\n      <td>399</td>\n      <td>99</td>\n      <td>37</td>\n      <td>1000</td>\n      <td>80</td>\n      <td>100yr</td>\n      <td>no_network</td>\n      <td>307</td>\n      <td>0.000000e+00</td>\n      <td>1.674576e+07</td>\n      <td>...</td>\n      <td>57879.973784</td>\n      <td>1.655190</td>\n      <td>0.485922</td>\n      <td>0.664664</td>\n      <td>0.000000</td>\n      <td>0.000000</td>\n      <td>0.00000</td>\n      <td>0.00000</td>\n      <td>0.000000</td>\n      <td>0.000000</td>\n    </tr>\n    <tr>\n      <th>16832</th>\n      <td>399</td>\n      <td>99</td>\n      <td>38</td>\n      <td>1000</td>\n      <td>80</td>\n      <td>100yr</td>\n      <td>no_network</td>\n      <td>307</td>\n      <td>1.551884e+07</td>\n      <td>1.674576e+07</td>\n      <td>...</td>\n      <td>57879.973784</td>\n      <td>1.655190</td>\n      <td>0.485922</td>\n      <td>0.664664</td>\n      <td>7895.944566</td>\n      <td>13531.898308</td>\n      <td>53281.61425</td>\n      <td>1.54457</td>\n      <td>0.451175</td>\n      <td>0.611859</td>\n    </tr>\n  </tbody>\n</table>\n<p>16895 rows × 29 columns</p>\n</div>"
     },
     "execution_count": 4,
     "metadata": {},
     "output_type": "execute_result"
    }
   ],
   "source": [
    "\n",
    "df_sorted = model_vars_sensitivity_analysis_networks_clean.sort_values(by=['RunId', 'Step'])\n",
    "df_sorted"
   ],
   "metadata": {
    "collapsed": false,
    "ExecuteTime": {
     "end_time": "2024-01-25T11:57:35.725300Z",
     "start_time": "2024-01-25T11:57:35.581459Z"
    }
   },
   "id": "5510c39584f82fcc"
  },
  {
   "cell_type": "code",
   "outputs": [],
   "source": [
    "output_data_path = r'../output_data/SensitivityAnalysisNetworks.csv'\n",
    "df_sorted.to_csv(output_data_path, index=False)"
   ],
   "metadata": {
    "collapsed": false,
    "ExecuteTime": {
     "end_time": "2024-01-25T11:58:48.027565Z",
     "start_time": "2024-01-25T11:58:46.754891Z"
    }
   },
   "id": "ba395d4e10468a1f",
   "execution_count": 5
  },
  {
   "cell_type": "code",
   "execution_count": null,
   "outputs": [],
   "source": [],
   "metadata": {
    "collapsed": false
   },
   "id": "51d7421953f2eab3"
  }
 ],
 "metadata": {
  "kernelspec": {
   "display_name": "Python 3 (ipykernel)",
   "language": "python",
   "name": "python3"
  },
  "language_info": {
   "codemirror_mode": {
    "name": "ipython",
    "version": 3
   },
   "file_extension": ".py",
   "mimetype": "text/x-python",
   "name": "python",
   "nbconvert_exporter": "python",
   "pygments_lexer": "ipython3",
   "version": "3.12.0"
  }
 },
 "nbformat": 4,
 "nbformat_minor": 5
}
