{
 "cells": [
  {
   "cell_type": "markdown",
   "id": "a77f3be3-9b63-4627-a077-47f00a85b19d",
   "metadata": {},
   "source": [
    "To test if and how the model functions in extreme conditions, the model is run with the 500yr floodmap for 100 iterations. This is the most extreme floodmap that was given in the base model. It displays a severe flood that only happens every 500 years. In the model, this will result in high values for flood depth of households. The following hypotheses are stated on how the model will function in these conditions to show that the model still functions as it is supposed to:\n",
    "\n",
    "1. The total damage actually experienced will be a lot higher as adaptation measures are not up to the high values of flood depth\n",
    "2. A lot more households will opt for adaptation measures since the estimated prevented damage will exceed the adaptation costs more often\n",
    "3. Another reason more households will opt for adaptation measures is because the location of households will more likely be in a floodplain, resulting in a higher chance of receiving an initial flood perception of 3 or 4, which is one of the main factors for choosing adaptation measures"
   ]
  },
  {
   "cell_type": "code",
   "execution_count": 2,
   "id": "initial_id",
   "metadata": {
    "ExecuteTime": {
     "end_time": "2024-01-22T11:05:39.305796900Z",
     "start_time": "2024-01-22T11:05:39.302183600Z"
    }
   },
   "outputs": [],
   "source": [
    "import pandas as pd\n",
    "import matplotlib.pyplot as plt"
   ]
  },
  {
   "cell_type": "code",
   "execution_count": 19,
   "id": "20181b02-f3a8-40f1-8ba2-00227ffdd33a",
   "metadata": {},
   "outputs": [],
   "source": [
    "#In this block, the data from the base case run and the extreme values run are loaded into dataframes\n",
    "extreme_values_file_path = r'../output_data/ExtremeValuesModelVars.csv'\n",
    "extreme_values = pd.read_csv(extreme_values_file_path)\n",
    "\n",
    "base_case_file_path = r'../output_data/BaseCase.csv'\n",
    "base_case = pd.read_csv(base_case_file_path)\n",
    "\n"
   ]
  },
  {
   "cell_type": "code",
   "execution_count": 18,
   "id": "2ca86616-055f-4230-bd10-96ccce48bec8",
   "metadata": {},
   "outputs": [
    {
     "name": "stderr",
     "output_type": "stream",
     "text": [
      "C:\\Users\\matth\\AppData\\Local\\Temp\\ipykernel_112844\\3270133227.py:2: SettingWithCopyWarning: \n",
      "A value is trying to be set on a copy of a slice from a DataFrame\n",
      "\n",
      "See the caveats in the documentation: https://pandas.pydata.org/pandas-docs/stable/user_guide/indexing.html#returning-a-view-versus-a-copy\n",
      "  extreme_values_actual_damage.rename(columns={'TotalActualDamage':'ActualDamageExtremeValues'}, inplace=True)\n",
      "C:\\Users\\matth\\AppData\\Local\\Temp\\ipykernel_112844\\3270133227.py:4: SettingWithCopyWarning: \n",
      "A value is trying to be set on a copy of a slice from a DataFrame\n",
      "\n",
      "See the caveats in the documentation: https://pandas.pydata.org/pandas-docs/stable/user_guide/indexing.html#returning-a-view-versus-a-copy\n",
      "  base_case_actual_damage.rename(columns={'TotalActualDamage':'ActualDamageBaseCase'}, inplace=True)\n"
     ]
    },
    {
     "data": {
      "text/html": [
       "<div>\n",
       "<style scoped>\n",
       "    .dataframe tbody tr th:only-of-type {\n",
       "        vertical-align: middle;\n",
       "    }\n",
       "\n",
       "    .dataframe tbody tr th {\n",
       "        vertical-align: top;\n",
       "    }\n",
       "\n",
       "    .dataframe thead th {\n",
       "        text-align: right;\n",
       "    }\n",
       "</style>\n",
       "<table border=\"1\" class=\"dataframe\">\n",
       "  <thead>\n",
       "    <tr style=\"text-align: right;\">\n",
       "      <th></th>\n",
       "      <th>RunId</th>\n",
       "      <th>ActualDamageExtremeValues</th>\n",
       "      <th>ActualDamageBaseCase</th>\n",
       "    </tr>\n",
       "  </thead>\n",
       "  <tbody>\n",
       "    <tr>\n",
       "      <th>0</th>\n",
       "      <td>1</td>\n",
       "      <td>2.040776e+07</td>\n",
       "      <td>5.153366e+07</td>\n",
       "    </tr>\n",
       "    <tr>\n",
       "      <th>1</th>\n",
       "      <td>2</td>\n",
       "      <td>1.874936e+07</td>\n",
       "      <td>4.858503e+07</td>\n",
       "    </tr>\n",
       "    <tr>\n",
       "      <th>2</th>\n",
       "      <td>0</td>\n",
       "      <td>2.221370e+07</td>\n",
       "      <td>4.980319e+07</td>\n",
       "    </tr>\n",
       "    <tr>\n",
       "      <th>3</th>\n",
       "      <td>6</td>\n",
       "      <td>2.111408e+07</td>\n",
       "      <td>4.287050e+07</td>\n",
       "    </tr>\n",
       "    <tr>\n",
       "      <th>4</th>\n",
       "      <td>5</td>\n",
       "      <td>1.980662e+07</td>\n",
       "      <td>4.754899e+07</td>\n",
       "    </tr>\n",
       "    <tr>\n",
       "      <th>...</th>\n",
       "      <td>...</td>\n",
       "      <td>...</td>\n",
       "      <td>...</td>\n",
       "    </tr>\n",
       "    <tr>\n",
       "      <th>95</th>\n",
       "      <td>93</td>\n",
       "      <td>2.143896e+07</td>\n",
       "      <td>4.948546e+07</td>\n",
       "    </tr>\n",
       "    <tr>\n",
       "      <th>96</th>\n",
       "      <td>94</td>\n",
       "      <td>2.163350e+07</td>\n",
       "      <td>4.383898e+07</td>\n",
       "    </tr>\n",
       "    <tr>\n",
       "      <th>97</th>\n",
       "      <td>98</td>\n",
       "      <td>2.152856e+07</td>\n",
       "      <td>4.511658e+07</td>\n",
       "    </tr>\n",
       "    <tr>\n",
       "      <th>98</th>\n",
       "      <td>97</td>\n",
       "      <td>1.907392e+07</td>\n",
       "      <td>4.987396e+07</td>\n",
       "    </tr>\n",
       "    <tr>\n",
       "      <th>99</th>\n",
       "      <td>99</td>\n",
       "      <td>1.876345e+07</td>\n",
       "      <td>5.219081e+07</td>\n",
       "    </tr>\n",
       "  </tbody>\n",
       "</table>\n",
       "<p>100 rows × 3 columns</p>\n",
       "</div>"
      ],
      "text/plain": [
       "    RunId  ActualDamageExtremeValues  ActualDamageBaseCase\n",
       "0       1               2.040776e+07          5.153366e+07\n",
       "1       2               1.874936e+07          4.858503e+07\n",
       "2       0               2.221370e+07          4.980319e+07\n",
       "3       6               2.111408e+07          4.287050e+07\n",
       "4       5               1.980662e+07          4.754899e+07\n",
       "..    ...                        ...                   ...\n",
       "95     93               2.143896e+07          4.948546e+07\n",
       "96     94               2.163350e+07          4.383898e+07\n",
       "97     98               2.152856e+07          4.511658e+07\n",
       "98     97               1.907392e+07          4.987396e+07\n",
       "99     99               1.876345e+07          5.219081e+07\n",
       "\n",
       "[100 rows x 3 columns]"
      ]
     },
     "execution_count": 18,
     "metadata": {},
     "output_type": "execute_result"
    }
   ],
   "source": [
    "#This block isolates the TotalActualDamage columns of both DataFrames and merges them into one for further analysis\n",
    "extreme_values_actual_damage = extreme_values[['RunId', 'TotalActualDamage']]\n",
    "extreme_values_actual_damage.rename(columns={'TotalActualDamage':'ActualDamageExtremeValues'}, inplace=True)\n",
    "base_case_actual_damage = base_case[['RunId', 'TotalActualDamage']]\n",
    "base_case_actual_damage.rename(columns={'TotalActualDamage':'ActualDamageBaseCase'}, inplace=True) \n",
    "\n",
    "merged_actual_damage = pd.merge(extreme_values_actual_damage, base_case_actual_damage, on='RunId')\n",
    "merged_actual_damage"
   ]
  },
  {
   "cell_type": "code",
   "execution_count": 24,
   "id": "a5bbb32d-f0ad-4876-a868-8c74e0cad398",
   "metadata": {},
   "outputs": [
    {
     "data": {
      "image/png": "[encoded data removed]",
      "text/plain": [
       "<Figure size 640x480 with 2 Axes>"
      ]
     },
     "metadata": {},
     "output_type": "display_data"
    }
   ],
   "source": [
    "histogram_actual_damage = merged_actual_damage.hist([ 'ActualDamageBaseCase','ActualDamageExtremeValues'], sharex = True, sharey= True)"
   ]
  },
  {
   "cell_type": "code",
   "execution_count": 26,
   "id": "5d6b126a-fee8-4d95-8080-19b42a7eab29",
   "metadata": {},
   "outputs": [
    {
     "name": "stderr",
     "output_type": "stream",
     "text": [
      "C:\\Users\\matth\\AppData\\Local\\Temp\\ipykernel_112844\\1146753372.py:2: SettingWithCopyWarning: \n",
      "A value is trying to be set on a copy of a slice from a DataFrame\n",
      "\n",
      "See the caveats in the documentation: https://pandas.pydata.org/pandas-docs/stable/user_guide/indexing.html#returning-a-view-versus-a-copy\n",
      "  extreme_values_adapted_households.rename(columns={'TotalAdaptedHouseholds':'AdaptedHouseholdsExtremeValues'}, inplace=True)\n",
      "C:\\Users\\matth\\AppData\\Local\\Temp\\ipykernel_112844\\1146753372.py:4: SettingWithCopyWarning: \n",
      "A value is trying to be set on a copy of a slice from a DataFrame\n",
      "\n",
      "See the caveats in the documentation: https://pandas.pydata.org/pandas-docs/stable/user_guide/indexing.html#returning-a-view-versus-a-copy\n",
      "  base_case_adapted_households.rename(columns={'TotalAdaptedHouseholds':'AdaptedHouseholdsBaseCase'}, inplace=True)\n"
     ]
    },
    {
     "data": {
      "text/html": [
       "<div>\n",
       "<style scoped>\n",
       "    .dataframe tbody tr th:only-of-type {\n",
       "        vertical-align: middle;\n",
       "    }\n",
       "\n",
       "    .dataframe tbody tr th {\n",
       "        vertical-align: top;\n",
       "    }\n",
       "\n",
       "    .dataframe thead th {\n",
       "        text-align: right;\n",
       "    }\n",
       "</style>\n",
       "<table border=\"1\" class=\"dataframe\">\n",
       "  <thead>\n",
       "    <tr style=\"text-align: right;\">\n",
       "      <th></th>\n",
       "      <th>RunId</th>\n",
       "      <th>AdaptedHouseholdsBaseCase</th>\n",
       "      <th>AdaptedHouseholdsExtremeValues</th>\n",
       "    </tr>\n",
       "  </thead>\n",
       "  <tbody>\n",
       "    <tr>\n",
       "      <th>0</th>\n",
       "      <td>0</td>\n",
       "      <td>458</td>\n",
       "      <td>415</td>\n",
       "    </tr>\n",
       "    <tr>\n",
       "      <th>1</th>\n",
       "      <td>1</td>\n",
       "      <td>581</td>\n",
       "      <td>358</td>\n",
       "    </tr>\n",
       "    <tr>\n",
       "      <th>2</th>\n",
       "      <td>2</td>\n",
       "      <td>556</td>\n",
       "      <td>415</td>\n",
       "    </tr>\n",
       "    <tr>\n",
       "      <th>3</th>\n",
       "      <td>5</td>\n",
       "      <td>605</td>\n",
       "      <td>360</td>\n",
       "    </tr>\n",
       "    <tr>\n",
       "      <th>4</th>\n",
       "      <td>7</td>\n",
       "      <td>583</td>\n",
       "      <td>390</td>\n",
       "    </tr>\n",
       "    <tr>\n",
       "      <th>...</th>\n",
       "      <td>...</td>\n",
       "      <td>...</td>\n",
       "      <td>...</td>\n",
       "    </tr>\n",
       "    <tr>\n",
       "      <th>95</th>\n",
       "      <td>92</td>\n",
       "      <td>646</td>\n",
       "      <td>407</td>\n",
       "    </tr>\n",
       "    <tr>\n",
       "      <th>96</th>\n",
       "      <td>99</td>\n",
       "      <td>565</td>\n",
       "      <td>387</td>\n",
       "    </tr>\n",
       "    <tr>\n",
       "      <th>97</th>\n",
       "      <td>96</td>\n",
       "      <td>575</td>\n",
       "      <td>349</td>\n",
       "    </tr>\n",
       "    <tr>\n",
       "      <th>98</th>\n",
       "      <td>97</td>\n",
       "      <td>531</td>\n",
       "      <td>397</td>\n",
       "    </tr>\n",
       "    <tr>\n",
       "      <th>99</th>\n",
       "      <td>98</td>\n",
       "      <td>668</td>\n",
       "      <td>405</td>\n",
       "    </tr>\n",
       "  </tbody>\n",
       "</table>\n",
       "<p>100 rows × 3 columns</p>\n",
       "</div>"
      ],
      "text/plain": [
       "    RunId  AdaptedHouseholdsBaseCase  AdaptedHouseholdsExtremeValues\n",
       "0       0                        458                             415\n",
       "1       1                        581                             358\n",
       "2       2                        556                             415\n",
       "3       5                        605                             360\n",
       "4       7                        583                             390\n",
       "..    ...                        ...                             ...\n",
       "95     92                        646                             407\n",
       "96     99                        565                             387\n",
       "97     96                        575                             349\n",
       "98     97                        531                             397\n",
       "99     98                        668                             405\n",
       "\n",
       "[100 rows x 3 columns]"
      ]
     },
     "execution_count": 26,
     "metadata": {},
     "output_type": "execute_result"
    }
   ],
   "source": [
    "extreme_values_adapted_households = extreme_values[['RunId', 'TotalAdaptedHouseholds']]\n",
    "extreme_values_adapted_households.rename(columns={'TotalAdaptedHouseholds':'AdaptedHouseholdsExtremeValues'}, inplace=True)\n",
    "base_case_adapted_households = base_case[['RunId', 'TotalAdaptedHouseholds']]\n",
    "base_case_adapted_households.rename(columns={'TotalAdaptedHouseholds':'AdaptedHouseholdsBaseCase'}, inplace=True)\n",
    "\n",
    "merged_adapted_households = pd.merge(base_case_adapted_households, extreme_values_adapted_households, on='RunId')\n",
    "merged_adapted_households"
   ]
  },
  {
   "cell_type": "code",
   "execution_count": 27,
   "id": "2065c43d-e716-447e-ba25-6a0181c328c0",
   "metadata": {},
   "outputs": [
    {
     "data": {
      "image/png": "[encoded data removed]",
      "text/plain": [
       "<Figure size 640x480 with 2 Axes>"
      ]
     },
     "metadata": {},
     "output_type": "display_data"
    }
   ],
   "source": [
    "histogram_adapted_households = merged_adapted_households.hist(['AdaptedHouseholdsBaseCase','AdaptedHouseholdsExtremeValues'], sharex = True, sharey= True)"
   ]
  }
 ],
 "metadata": {
  "kernelspec": {
   "display_name": "Python 3 (ipykernel)",
   "language": "python",
   "name": "python3"
  },
  "language_info": {
   "codemirror_mode": {
    "name": "ipython",
    "version": 3
   },
   "file_extension": ".py",
   "mimetype": "text/x-python",
   "name": "python",
   "nbconvert_exporter": "python",
   "pygments_lexer": "ipython3",
   "version": "3.12.0"
  }
 },
 "nbformat": 4,
 "nbformat_minor": 5
}
