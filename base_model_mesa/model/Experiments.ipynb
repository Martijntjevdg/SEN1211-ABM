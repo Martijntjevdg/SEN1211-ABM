{
 "cells": [
  {
   "cell_type": "code",
   "execution_count": 27,
   "id": "initial_id",
   "metadata": {
    "ExecuteTime": {
     "end_time": "2024-01-17T11:36:11.408814500Z",
     "start_time": "2024-01-17T11:36:11.396186900Z"
    }
   },
   "outputs": [],
   "source": [
    "from model import AdaptationModel\n",
    "from mesa.batchrunner import batch_run\n",
    "import pandas as pd\n",
    "\n",
    "#m1 = AdaptationModel(number_of_households=25, number_of_steps= 80, flood_map_choice=\"harvey\", network=\"watts_strogatz\")\n",
    "        \n",
    "\n"
   ]
  },
  {
   "cell_type": "code",
   "execution_count": 28,
   "id": "d3b8c92594166eba",
   "metadata": {
    "collapsed": false,
    "ExecuteTime": {
     "end_time": "2024-01-17T11:38:05.657405500Z",
     "start_time": "2024-01-17T11:36:13.055272200Z"
    }
   },
   "outputs": [
    {
     "data": {
      "text/plain": "  0%|          | 0/300 [00:00<?, ?it/s]",
      "application/vnd.jupyter.widget-view+json": {
       "version_major": 2,
       "version_minor": 0,
       "model_id": "3fb2ca92e13c4f65bdd02782ea8f2a23"
      }
     },
     "metadata": {},
     "output_type": "display_data"
    }
   ],
   "source": [
    "#Sensitivity analysis: 100 runs of each flood_map, the rest of the parameters stay the same\n",
    "model_params = {\n",
    "    \"number_of_households\": 100,\n",
    "    \"number_of_steps\": 80,\n",
    "    \"flood_map_choice\": [\"harvey\", \"100yr\", \"500yr\"],\n",
    "    \"network\": \"watts_strogatz\"\n",
    "}\n",
    "\n",
    "results = batch_run(\n",
    "    model_cls=AdaptationModel,\n",
    "    parameters=model_params,\n",
    "    number_processes=None,  # Set to None if you want to use all CPUs\n",
    "    iterations=100,  # Number of iterations for each parameter combination\n",
    "    data_collection_period=-1,  # Collect data at the end of each run\n",
    "    max_steps=model_params[\"number_of_steps\"],  # Maximum number of model steps\n",
    "    display_progress=True  # Display progress bar\n",
    ")\n",
    "\n",
    "df = pd.DataFrame(results)\n",
    "# Access the data\n",
    "#run_data = batch_run.get_agent_vars_dataframe()"
   ]
  },
  {
   "cell_type": "code",
   "execution_count": 30,
   "id": "51138cc8-6e67-4167-bf54-65c0d17e06b1",
   "metadata": {
    "ExecuteTime": {
     "end_time": "2024-01-17T11:44:35.546595300Z",
     "start_time": "2024-01-17T11:44:35.157525400Z"
    }
   },
   "outputs": [
    {
     "data": {
      "text/plain": "     RunId  iteration  Step  number_of_households  number_of_steps  \\\n0        3          1    80                   100               80   \n1        2          0    80                   100               80   \n2        6          2    80                   100               80   \n3        1          0    80                   100               80   \n4        7          2    80                   100               80   \n..     ...        ...   ...                   ...              ...   \n295    293         97    80                   100               80   \n296    294         98    80                   100               80   \n297    296         98    80                   100               80   \n298    298         99    80                   100               80   \n299    299         99    80                   100               80   \n\n    flood_map_choice         network  total_adapted_households  \n0             harvey  watts_strogatz                        59  \n1              500yr  watts_strogatz                        31  \n2             harvey  watts_strogatz                        57  \n3              100yr  watts_strogatz                        31  \n4              100yr  watts_strogatz                        35  \n..               ...             ...                       ...  \n295            500yr  watts_strogatz                        41  \n296           harvey  watts_strogatz                        53  \n297            500yr  watts_strogatz                        36  \n298            100yr  watts_strogatz                        21  \n299            500yr  watts_strogatz                        29  \n\n[300 rows x 8 columns]",
      "text/html": "<div>\n<style scoped>\n    .dataframe tbody tr th:only-of-type {\n        vertical-align: middle;\n    }\n\n    .dataframe tbody tr th {\n        vertical-align: top;\n    }\n\n    .dataframe thead th {\n        text-align: right;\n    }\n</style>\n<table border=\"1\" class=\"dataframe\">\n  <thead>\n    <tr style=\"text-align: right;\">\n      <th></th>\n      <th>RunId</th>\n      <th>iteration</th>\n      <th>Step</th>\n      <th>number_of_households</th>\n      <th>number_of_steps</th>\n      <th>flood_map_choice</th>\n      <th>network</th>\n      <th>total_adapted_households</th>\n    </tr>\n  </thead>\n  <tbody>\n    <tr>\n      <th>0</th>\n      <td>3</td>\n      <td>1</td>\n      <td>80</td>\n      <td>100</td>\n      <td>80</td>\n      <td>harvey</td>\n      <td>watts_strogatz</td>\n      <td>59</td>\n    </tr>\n    <tr>\n      <th>1</th>\n      <td>2</td>\n      <td>0</td>\n      <td>80</td>\n      <td>100</td>\n      <td>80</td>\n      <td>500yr</td>\n      <td>watts_strogatz</td>\n      <td>31</td>\n    </tr>\n    <tr>\n      <th>2</th>\n      <td>6</td>\n      <td>2</td>\n      <td>80</td>\n      <td>100</td>\n      <td>80</td>\n      <td>harvey</td>\n      <td>watts_strogatz</td>\n      <td>57</td>\n    </tr>\n    <tr>\n      <th>3</th>\n      <td>1</td>\n      <td>0</td>\n      <td>80</td>\n      <td>100</td>\n      <td>80</td>\n      <td>100yr</td>\n      <td>watts_strogatz</td>\n      <td>31</td>\n    </tr>\n    <tr>\n      <th>4</th>\n      <td>7</td>\n      <td>2</td>\n      <td>80</td>\n      <td>100</td>\n      <td>80</td>\n      <td>100yr</td>\n      <td>watts_strogatz</td>\n      <td>35</td>\n    </tr>\n    <tr>\n      <th>...</th>\n      <td>...</td>\n      <td>...</td>\n      <td>...</td>\n      <td>...</td>\n      <td>...</td>\n      <td>...</td>\n      <td>...</td>\n      <td>...</td>\n    </tr>\n    <tr>\n      <th>295</th>\n      <td>293</td>\n      <td>97</td>\n      <td>80</td>\n      <td>100</td>\n      <td>80</td>\n      <td>500yr</td>\n      <td>watts_strogatz</td>\n      <td>41</td>\n    </tr>\n    <tr>\n      <th>296</th>\n      <td>294</td>\n      <td>98</td>\n      <td>80</td>\n      <td>100</td>\n      <td>80</td>\n      <td>harvey</td>\n      <td>watts_strogatz</td>\n      <td>53</td>\n    </tr>\n    <tr>\n      <th>297</th>\n      <td>296</td>\n      <td>98</td>\n      <td>80</td>\n      <td>100</td>\n      <td>80</td>\n      <td>500yr</td>\n      <td>watts_strogatz</td>\n      <td>36</td>\n    </tr>\n    <tr>\n      <th>298</th>\n      <td>298</td>\n      <td>99</td>\n      <td>80</td>\n      <td>100</td>\n      <td>80</td>\n      <td>100yr</td>\n      <td>watts_strogatz</td>\n      <td>21</td>\n    </tr>\n    <tr>\n      <th>299</th>\n      <td>299</td>\n      <td>99</td>\n      <td>80</td>\n      <td>100</td>\n      <td>80</td>\n      <td>500yr</td>\n      <td>watts_strogatz</td>\n      <td>29</td>\n    </tr>\n  </tbody>\n</table>\n<p>300 rows × 8 columns</p>\n</div>"
     },
     "execution_count": 30,
     "metadata": {},
     "output_type": "execute_result"
    }
   ],
   "source": [
    "df"
   ]
  },
  {
   "cell_type": "code",
   "execution_count": 38,
   "id": "53602d56e1a3d5bb",
   "metadata": {
    "collapsed": false,
    "ExecuteTime": {
     "end_time": "2024-01-17T11:12:27.989011200Z",
     "start_time": "2024-01-17T11:12:27.979436800Z"
    }
   },
   "outputs": [],
   "source": [
    "three_different_floodmaps_100_iterations = df"
   ]
  },
  {
   "cell_type": "code",
   "execution_count": 41,
   "id": "96c495cd23fb0e37",
   "metadata": {
    "collapsed": false,
    "ExecuteTime": {
     "end_time": "2024-01-17T11:15:10.742392Z",
     "start_time": "2024-01-17T11:15:10.694162400Z"
    }
   },
   "outputs": [
    {
     "data": {
      "text/plain": "    RunId  iteration  Step  number_of_households  number_of_steps  \\\n1       0          0    80                    25               80   \n4       1          0    80                    25               80   \n5       2          0    80                    25               80   \n2       5          1    80                    25               80   \n3       3          1    80                    25               80   \n6       4          1    80                    25               80   \n0       7          2    80                    25               80   \n7       8          2    80                    25               80   \n14      6          2    80                    25               80   \n8       9          3    80                    25               80   \n10     10          3    80                    25               80   \n13     11          3    80                    25               80   \n9      12          4    80                    25               80   \n11     13          4    80                    25               80   \n12     14          4    80                    25               80   \n\n   flood_map_choice         network  total_adapted_households  \n1            harvey  watts_strogatz                        18  \n4             100yr  watts_strogatz                         1  \n5             500yr  watts_strogatz                        12  \n2             500yr  watts_strogatz                         8  \n3            harvey  watts_strogatz                         7  \n6             100yr  watts_strogatz                         4  \n0             100yr  watts_strogatz                         9  \n7             500yr  watts_strogatz                         9  \n14           harvey  watts_strogatz                        16  \n8            harvey  watts_strogatz                         7  \n10            100yr  watts_strogatz                         9  \n13            500yr  watts_strogatz                         1  \n9            harvey  watts_strogatz                        17  \n11            100yr  watts_strogatz                         7  \n12            500yr  watts_strogatz                        10  ",
      "text/html": "<div>\n<style scoped>\n    .dataframe tbody tr th:only-of-type {\n        vertical-align: middle;\n    }\n\n    .dataframe tbody tr th {\n        vertical-align: top;\n    }\n\n    .dataframe thead th {\n        text-align: right;\n    }\n</style>\n<table border=\"1\" class=\"dataframe\">\n  <thead>\n    <tr style=\"text-align: right;\">\n      <th></th>\n      <th>RunId</th>\n      <th>iteration</th>\n      <th>Step</th>\n      <th>number_of_households</th>\n      <th>number_of_steps</th>\n      <th>flood_map_choice</th>\n      <th>network</th>\n      <th>total_adapted_households</th>\n    </tr>\n  </thead>\n  <tbody>\n    <tr>\n      <th>1</th>\n      <td>0</td>\n      <td>0</td>\n      <td>80</td>\n      <td>25</td>\n      <td>80</td>\n      <td>harvey</td>\n      <td>watts_strogatz</td>\n      <td>18</td>\n    </tr>\n    <tr>\n      <th>4</th>\n      <td>1</td>\n      <td>0</td>\n      <td>80</td>\n      <td>25</td>\n      <td>80</td>\n      <td>100yr</td>\n      <td>watts_strogatz</td>\n      <td>1</td>\n    </tr>\n    <tr>\n      <th>5</th>\n      <td>2</td>\n      <td>0</td>\n      <td>80</td>\n      <td>25</td>\n      <td>80</td>\n      <td>500yr</td>\n      <td>watts_strogatz</td>\n      <td>12</td>\n    </tr>\n    <tr>\n      <th>2</th>\n      <td>5</td>\n      <td>1</td>\n      <td>80</td>\n      <td>25</td>\n      <td>80</td>\n      <td>500yr</td>\n      <td>watts_strogatz</td>\n      <td>8</td>\n    </tr>\n    <tr>\n      <th>3</th>\n      <td>3</td>\n      <td>1</td>\n      <td>80</td>\n      <td>25</td>\n      <td>80</td>\n      <td>harvey</td>\n      <td>watts_strogatz</td>\n      <td>7</td>\n    </tr>\n    <tr>\n      <th>6</th>\n      <td>4</td>\n      <td>1</td>\n      <td>80</td>\n      <td>25</td>\n      <td>80</td>\n      <td>100yr</td>\n      <td>watts_strogatz</td>\n      <td>4</td>\n    </tr>\n    <tr>\n      <th>0</th>\n      <td>7</td>\n      <td>2</td>\n      <td>80</td>\n      <td>25</td>\n      <td>80</td>\n      <td>100yr</td>\n      <td>watts_strogatz</td>\n      <td>9</td>\n    </tr>\n    <tr>\n      <th>7</th>\n      <td>8</td>\n      <td>2</td>\n      <td>80</td>\n      <td>25</td>\n      <td>80</td>\n      <td>500yr</td>\n      <td>watts_strogatz</td>\n      <td>9</td>\n    </tr>\n    <tr>\n      <th>14</th>\n      <td>6</td>\n      <td>2</td>\n      <td>80</td>\n      <td>25</td>\n      <td>80</td>\n      <td>harvey</td>\n      <td>watts_strogatz</td>\n      <td>16</td>\n    </tr>\n    <tr>\n      <th>8</th>\n      <td>9</td>\n      <td>3</td>\n      <td>80</td>\n      <td>25</td>\n      <td>80</td>\n      <td>harvey</td>\n      <td>watts_strogatz</td>\n      <td>7</td>\n    </tr>\n    <tr>\n      <th>10</th>\n      <td>10</td>\n      <td>3</td>\n      <td>80</td>\n      <td>25</td>\n      <td>80</td>\n      <td>100yr</td>\n      <td>watts_strogatz</td>\n      <td>9</td>\n    </tr>\n    <tr>\n      <th>13</th>\n      <td>11</td>\n      <td>3</td>\n      <td>80</td>\n      <td>25</td>\n      <td>80</td>\n      <td>500yr</td>\n      <td>watts_strogatz</td>\n      <td>1</td>\n    </tr>\n    <tr>\n      <th>9</th>\n      <td>12</td>\n      <td>4</td>\n      <td>80</td>\n      <td>25</td>\n      <td>80</td>\n      <td>harvey</td>\n      <td>watts_strogatz</td>\n      <td>17</td>\n    </tr>\n    <tr>\n      <th>11</th>\n      <td>13</td>\n      <td>4</td>\n      <td>80</td>\n      <td>25</td>\n      <td>80</td>\n      <td>100yr</td>\n      <td>watts_strogatz</td>\n      <td>7</td>\n    </tr>\n    <tr>\n      <th>12</th>\n      <td>14</td>\n      <td>4</td>\n      <td>80</td>\n      <td>25</td>\n      <td>80</td>\n      <td>500yr</td>\n      <td>watts_strogatz</td>\n      <td>10</td>\n    </tr>\n  </tbody>\n</table>\n</div>"
     },
     "execution_count": 41,
     "metadata": {},
     "output_type": "execute_result"
    }
   ],
   "source": [
    "sorted = three_different_floodmaps_100_iterations.sort_values(by='iteration')\n",
    "sorted"
   ]
  }
 ],
 "metadata": {
  "kernelspec": {
   "display_name": "Python 3 (ipykernel)",
   "language": "python",
   "name": "python3"
  },
  "language_info": {
   "codemirror_mode": {
    "name": "ipython",
    "version": 3
   },
   "file_extension": ".py",
   "mimetype": "text/x-python",
   "name": "python",
   "nbconvert_exporter": "python",
   "pygments_lexer": "ipython3",
   "version": "3.12.0"
  }
 },
 "nbformat": 4,
 "nbformat_minor": 5
}
