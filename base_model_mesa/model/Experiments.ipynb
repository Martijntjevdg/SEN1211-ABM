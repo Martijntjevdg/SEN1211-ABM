{
 "cells": [
  {
   "cell_type": "code",
   "execution_count": 1,
   "id": "initial_id",
   "metadata": {
    "ExecuteTime": {
     "end_time": "2024-01-17T13:17:52.464499800Z",
     "start_time": "2024-01-17T13:17:49.203141500Z"
    }
   },
   "outputs": [
    {
     "name": "stderr",
     "output_type": "stream",
     "text": [
      "C:\\Users\\matth\\OneDrive\\Documenten\\GitHub\\SEN1211-ABM\\Interpreter\\Lib\\site-packages\\mesa\\time.py:80: FutureWarning: The AgentSet is experimental. It may be changed or removed in any and all future releases, including patch releases.\n",
      "We would love to hear what you think about this new feature. If you have any thoughts, share them with us here: https://github.com/projectmesa/mesa/discussions/1919\n",
      "  self._agents: AgentSet = AgentSet(agents, model)\n"
     ]
    },
    {
     "data": {
      "text/html": [
       "<div>\n",
       "<style scoped>\n",
       "    .dataframe tbody tr th:only-of-type {\n",
       "        vertical-align: middle;\n",
       "    }\n",
       "\n",
       "    .dataframe tbody tr th {\n",
       "        vertical-align: top;\n",
       "    }\n",
       "\n",
       "    .dataframe thead th {\n",
       "        text-align: right;\n",
       "    }\n",
       "</style>\n",
       "<table border=\"1\" class=\"dataframe\">\n",
       "  <thead>\n",
       "    <tr style=\"text-align: right;\">\n",
       "      <th></th>\n",
       "      <th>total_adapted_households</th>\n",
       "      <th>total_actual_damage</th>\n",
       "      <th>total_expected_damage</th>\n",
       "    </tr>\n",
       "  </thead>\n",
       "  <tbody>\n",
       "    <tr>\n",
       "      <th>0</th>\n",
       "      <td>0</td>\n",
       "      <td>0.000000e+00</td>\n",
       "      <td>1.848665e+06</td>\n",
       "    </tr>\n",
       "    <tr>\n",
       "      <th>1</th>\n",
       "      <td>10</td>\n",
       "      <td>0.000000e+00</td>\n",
       "      <td>1.647294e+06</td>\n",
       "    </tr>\n",
       "    <tr>\n",
       "      <th>2</th>\n",
       "      <td>15</td>\n",
       "      <td>0.000000e+00</td>\n",
       "      <td>1.589265e+06</td>\n",
       "    </tr>\n",
       "    <tr>\n",
       "      <th>3</th>\n",
       "      <td>16</td>\n",
       "      <td>0.000000e+00</td>\n",
       "      <td>1.585421e+06</td>\n",
       "    </tr>\n",
       "    <tr>\n",
       "      <th>4</th>\n",
       "      <td>18</td>\n",
       "      <td>0.000000e+00</td>\n",
       "      <td>1.579705e+06</td>\n",
       "    </tr>\n",
       "    <tr>\n",
       "      <th>5</th>\n",
       "      <td>20</td>\n",
       "      <td>0.000000e+00</td>\n",
       "      <td>1.553857e+06</td>\n",
       "    </tr>\n",
       "    <tr>\n",
       "      <th>6</th>\n",
       "      <td>20</td>\n",
       "      <td>0.000000e+00</td>\n",
       "      <td>1.553857e+06</td>\n",
       "    </tr>\n",
       "    <tr>\n",
       "      <th>7</th>\n",
       "      <td>20</td>\n",
       "      <td>0.000000e+00</td>\n",
       "      <td>1.553857e+06</td>\n",
       "    </tr>\n",
       "    <tr>\n",
       "      <th>8</th>\n",
       "      <td>20</td>\n",
       "      <td>0.000000e+00</td>\n",
       "      <td>1.553857e+06</td>\n",
       "    </tr>\n",
       "    <tr>\n",
       "      <th>9</th>\n",
       "      <td>20</td>\n",
       "      <td>0.000000e+00</td>\n",
       "      <td>1.553857e+06</td>\n",
       "    </tr>\n",
       "    <tr>\n",
       "      <th>10</th>\n",
       "      <td>20</td>\n",
       "      <td>0.000000e+00</td>\n",
       "      <td>1.553857e+06</td>\n",
       "    </tr>\n",
       "    <tr>\n",
       "      <th>11</th>\n",
       "      <td>20</td>\n",
       "      <td>0.000000e+00</td>\n",
       "      <td>1.553857e+06</td>\n",
       "    </tr>\n",
       "    <tr>\n",
       "      <th>12</th>\n",
       "      <td>20</td>\n",
       "      <td>0.000000e+00</td>\n",
       "      <td>1.553857e+06</td>\n",
       "    </tr>\n",
       "    <tr>\n",
       "      <th>13</th>\n",
       "      <td>20</td>\n",
       "      <td>0.000000e+00</td>\n",
       "      <td>1.553857e+06</td>\n",
       "    </tr>\n",
       "    <tr>\n",
       "      <th>14</th>\n",
       "      <td>20</td>\n",
       "      <td>1.457131e+06</td>\n",
       "      <td>1.553857e+06</td>\n",
       "    </tr>\n",
       "  </tbody>\n",
       "</table>\n",
       "</div>"
      ],
      "text/plain": [
       "    total_adapted_households  total_actual_damage  total_expected_damage\n",
       "0                          0         0.000000e+00           1.848665e+06\n",
       "1                         10         0.000000e+00           1.647294e+06\n",
       "2                         15         0.000000e+00           1.589265e+06\n",
       "3                         16         0.000000e+00           1.585421e+06\n",
       "4                         18         0.000000e+00           1.579705e+06\n",
       "5                         20         0.000000e+00           1.553857e+06\n",
       "6                         20         0.000000e+00           1.553857e+06\n",
       "7                         20         0.000000e+00           1.553857e+06\n",
       "8                         20         0.000000e+00           1.553857e+06\n",
       "9                         20         0.000000e+00           1.553857e+06\n",
       "10                        20         0.000000e+00           1.553857e+06\n",
       "11                        20         0.000000e+00           1.553857e+06\n",
       "12                        20         0.000000e+00           1.553857e+06\n",
       "13                        20         0.000000e+00           1.553857e+06\n",
       "14                        20         1.457131e+06           1.553857e+06"
      ]
     },
     "execution_count": 1,
     "metadata": {},
     "output_type": "execute_result"
    }
   ],
   "source": [
    "from model import AdaptationModel\n",
    "from mesa.batchrunner import batch_run\n",
    "import pandas as pd\n",
    "\n",
    "m1 = AdaptationModel(number_of_households=25, number_of_steps= 80, flood_map_choice=\"harvey\", network=\"watts_strogatz\")\n",
    "m1.model_run()\n",
    "m1.datacollector.get_model_vars_dataframe()\n"
   ]
  },
  {
   "cell_type": "code",
   "execution_count": null,
   "id": "d3b8c92594166eba",
   "metadata": {
    "ExecuteTime": {
     "end_time": "2024-01-17T13:10:08.652343500Z",
     "start_time": "2024-01-17T13:08:18.226020800Z"
    },
    "collapsed": false,
    "jupyter": {
     "outputs_hidden": false
    }
   },
   "outputs": [
    {
     "data": {
      "application/vnd.jupyter.widget-view+json": {
       "model_id": "c62596616be442a3a474b458c92df6f0",
       "version_major": 2,
       "version_minor": 0
      },
      "text/plain": [
       "  0%|          | 0/300 [00:00<?, ?it/s]"
      ]
     },
     "metadata": {},
     "output_type": "display_data"
    }
   ],
   "source": [
    "#Sensitivity analysis: 100 runs of each flood_map, the rest of the parameters stay the same\n",
    "model_params = {\n",
    "    \"number_of_households\": 1000,\n",
    "    \"number_of_steps\": 80,\n",
    "    \"flood_map_choice\": [\"harvey\", \"100yr\", \"500yr\"],\n",
    "    \"network\": \"watts_strogatz\"\n",
    "}\n",
    "\n",
    "results = batch_run(\n",
    "    model_cls=AdaptationModel,\n",
    "    parameters=model_params,\n",
    "    number_processes=None,  # Set to None if you want to use all CPUs\n",
    "    iterations=100,  # Number of iterations for each parameter combination\n",
    "    data_collection_period=-1,  # Collect data at the end of each run\n",
    "    max_steps=model_params[\"number_of_steps\"],  # Maximum number of model steps\n",
    "    display_progress=True  # Display progress bar\n",
    ")\n",
    "\n",
    "df = pd.DataFrame(results)\n",
    "# Access the data\n",
    "#run_data = batch_run.get_agent_vars_dataframe()"
   ]
  },
  {
   "cell_type": "code",
   "execution_count": null,
   "id": "51138cc8-6e67-4167-bf54-65c0d17e06b1",
   "metadata": {
    "ExecuteTime": {
     "end_time": "2024-01-17T13:10:12.572637200Z",
     "start_time": "2024-01-17T13:10:12.405691100Z"
    }
   },
   "outputs": [],
   "source": [
    "df"
   ]
  },
  {
   "cell_type": "code",
   "execution_count": null,
   "id": "53602d56e1a3d5bb",
   "metadata": {
    "ExecuteTime": {
     "end_time": "2024-01-17T11:12:27.989011200Z",
     "start_time": "2024-01-17T11:12:27.979436800Z"
    },
    "collapsed": false,
    "jupyter": {
     "outputs_hidden": false
    }
   },
   "outputs": [],
   "source": [
    "three_different_floodmaps_100_iterations = df"
   ]
  },
  {
   "cell_type": "code",
   "execution_count": null,
   "id": "96c495cd23fb0e37",
   "metadata": {
    "ExecuteTime": {
     "end_time": "2024-01-17T11:15:10.742392Z",
     "start_time": "2024-01-17T11:15:10.694162400Z"
    },
    "collapsed": false,
    "jupyter": {
     "outputs_hidden": false
    }
   },
   "outputs": [],
   "source": [
    "sorted = three_different_floodmaps_100_iterations.sort_values(by='iteration')\n",
    "sorted"
   ]
  }
 ],
 "metadata": {
  "kernelspec": {
   "display_name": "Python 3 (ipykernel)",
   "language": "python",
   "name": "python3"
  },
  "language_info": {
   "codemirror_mode": {
    "name": "ipython",
    "version": 3
   },
   "file_extension": ".py",
   "mimetype": "text/x-python",
   "name": "python",
   "nbconvert_exporter": "python",
   "pygments_lexer": "ipython3",
   "version": "3.12.0"
  }
 },
 "nbformat": 4,
 "nbformat_minor": 5
}
