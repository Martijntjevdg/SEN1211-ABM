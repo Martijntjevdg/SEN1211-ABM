{
 "cells": [
  {
   "cell_type": "markdown",
   "source": [
    "This file is used to produce the data for the One-at-a-Time-SensitivityAnalysis_Income_Distribution.ipynb file.\n",
    "In this file, the model is set up with 5 different income_distributions, which are all run for 100 iterations by batch_run\n",
    "The rest of the parameters remain the same as in the Base Case\n",
    "The columns that are saved as dictionaries are unpacked once more into different columns for further analyses in the other file\n",
    "Lastly, everything is saved into a csv in the file directory 'output_data'"
   ],
   "metadata": {
    "collapsed": false
   },
   "id": "380c1962cdfb81ae"
  },
  {
   "cell_type": "code",
   "outputs": [],
   "source": [
    "from model import AdaptationModel\n",
    "from mesa.batchrunner import batch_run\n",
    "import pandas as pd"
   ],
   "metadata": {
    "ExecuteTime": {
     "end_time": "2024-01-24T16:02:59.677924Z",
     "start_time": "2024-01-24T16:02:56.157775Z"
    }
   },
   "id": "initial_id",
   "execution_count": 1
  },
  {
   "cell_type": "code",
   "execution_count": 2,
   "id": "f0d21165-cdcc-40ad-b760-70233b339009",
   "metadata": {
    "ExecuteTime": {
     "end_time": "2024-01-24T16:05:30.529695Z",
     "start_time": "2024-01-24T16:03:07.136627Z"
    }
   },
   "outputs": [
    {
     "data": {
      "text/plain": "  0%|          | 0/500 [00:00<?, ?it/s]",
      "application/vnd.jupyter.widget-view+json": {
       "version_major": 2,
       "version_minor": 0,
       "model_id": "40a3db52d6ab4a43905e22cf3915a875"
      }
     },
     "metadata": {},
     "output_type": "display_data"
    }
   ],
   "source": [
    "#The five different income distributions with labels for extra clarification\n",
    "# income_distribution_base = {'Poor': [5000, 1875], 'Middle-Class': [29375, 10312], 'Rich': [87500, 18750]},\n",
    "# income_distribution_plus_10 = {'Poor': [5500, 1875], 'Middle-Class': [32312.5, 10321], 'Rich': [96250, 18750]}\n",
    "# income_distribution_minus_10 = {'Poor': [4500, 1875], 'Middle-Class': [26437.5, 10321], 'Rich': [78750, 18750]}\n",
    "# income_distribution_plus_30 = {'Poor': [6500, 1875], 'Middle-Class': [38187.5, 10321], 'Rich': [133750, 18750]}\n",
    "# income_distribution_minus_30 = {'Poor': [3500, 1875], 'Middle-Class': [20562.5, 10321], 'Rich': [61250, 18750]}\n",
    "\n",
    "#Set up the model parameters with the income distributions and the rest of the base case parameters\n",
    "model_params = {\n",
    "    \"number_of_households\": 1000,\n",
    "    \"number_of_steps\": 80,\n",
    "    \"flood_map_choice\": \"100yr\",\n",
    "    \"network\": \"watts_strogatz\",\n",
    "    \"income_distribution\":[{'Poor': [5000, 1875], 'Middle-Class': [29375, 10312], 'Rich': [87500, 18750]},\n",
    "                           {'Poor': [5500, 1875], 'Middle-Class': [32312.5, 10321], 'Rich': [96250, 18750]},\n",
    "                           {'Poor': [4500, 1875], 'Middle-Class': [26437.5, 10321], 'Rich': [78750, 18750]},\n",
    "                           {'Poor': [6500, 1875], 'Middle-Class': [38187.5, 10321], 'Rich': [133750, 18750]},\n",
    "                           {'Poor': [3500, 1875], 'Middle-Class': [20562.5, 10321], 'Rich': [61250, 18750]}]\n",
    "}\n",
    "\n",
    "\n",
    "#Use the model parameters to set up a batch runner that collects data at every step of every iteration and run the batch runner\n",
    "results = batch_run(\n",
    "    model_cls=AdaptationModel,\n",
    "    parameters=model_params,\n",
    "    number_processes=4,  # Set to None if you want to use all CPUs\n",
    "    iterations=100,  # Number of iterations for each parameter combination\n",
    "    data_collection_period=1,  # Collect data at the end of each run\n",
    "    max_steps=model_params[\"number_of_steps\"],  # Maximum number of model steps\n",
    "    display_progress=True  # Display progress bar\n",
    ")\n",
    "\n",
    "#Save the results of the batch runner as a useful DataFrame\n",
    "df = pd.DataFrame(results)\n",
    "\n",
    "#Save the DataFrame as a new DataFrame to avoid making changes to the original\n",
    "sensitivity_analysis_income_distribution = df"
   ]
  },
  {
   "cell_type": "code",
   "execution_count": 3,
   "id": "5f434c73-68e1-4de7-96ea-94f5288fcef3",
   "metadata": {
    "ExecuteTime": {
     "end_time": "2024-01-24T16:06:32.483973Z",
     "start_time": "2024-01-24T16:06:31.809250Z"
    }
   },
   "outputs": [
    {
     "data": {
      "text/plain": "       RunId  iteration  Step  number_of_households  number_of_steps  \\\n0          2          0     0                  1000               80   \n1          2          0     1                  1000               80   \n2          2          0     2                  1000               80   \n3          2          0     3                  1000               80   \n4          2          0     4                  1000               80   \n...      ...        ...   ...                   ...              ...   \n19697    496         99    70                  1000               80   \n19698    496         99    71                  1000               80   \n19699    496         99    72                  1000               80   \n19700    496         99    73                  1000               80   \n19701    496         99    74                  1000               80   \n\n      flood_map_choice         network  \\\n0                100yr  watts_strogatz   \n1                100yr  watts_strogatz   \n2                100yr  watts_strogatz   \n3                100yr  watts_strogatz   \n4                100yr  watts_strogatz   \n...                ...             ...   \n19697            100yr  watts_strogatz   \n19698            100yr  watts_strogatz   \n19699            100yr  watts_strogatz   \n19700            100yr  watts_strogatz   \n19701            100yr  watts_strogatz   \n\n                                     income_distribution  \\\n0      {'Poor': [4500, 1875], 'Middle-Class': [26437....   \n1      {'Poor': [4500, 1875], 'Middle-Class': [26437....   \n2      {'Poor': [4500, 1875], 'Middle-Class': [26437....   \n3      {'Poor': [4500, 1875], 'Middle-Class': [26437....   \n4      {'Poor': [4500, 1875], 'Middle-Class': [26437....   \n...                                                  ...   \n19697  {'Poor': [5500, 1875], 'Middle-Class': [32312....   \n19698  {'Poor': [5500, 1875], 'Middle-Class': [32312....   \n19699  {'Poor': [5500, 1875], 'Middle-Class': [32312....   \n19700  {'Poor': [5500, 1875], 'Middle-Class': [32312....   \n19701  {'Poor': [5500, 1875], 'Middle-Class': [32312....   \n\n       TotalAdaptedHouseholds  TotalActualDamage  ...  \\\n0                           0       0.000000e+00  ...   \n1                          70       0.000000e+00  ...   \n2                         150       0.000000e+00  ...   \n3                         211       0.000000e+00  ...   \n4                         235       0.000000e+00  ...   \n...                       ...                ...  ...   \n19697                     305       0.000000e+00  ...   \n19698                     305       0.000000e+00  ...   \n19699                     305       0.000000e+00  ...   \n19700                     305       0.000000e+00  ...   \n19701                     305       1.685684e+07  ...   \n\n       EstimatedAverageDamagePerRichHousehold  \\\n0                                92721.064588   \n1                                83932.798115   \n2                                78739.607924   \n3                                65265.371910   \n4                                61109.812058   \n...                                       ...   \n19697                            36649.865760   \n19698                            36649.865760   \n19699                            36649.865760   \n19700                            36649.865760   \n19701                            36649.865760   \n\n       EstimatedAverageIncomeToDamagePoorHousehold  \\\n0                                         4.147615   \n1                                         4.147615   \n2                                         4.009289   \n3                                         3.926934   \n4                                         3.843689   \n...                                            ...   \n19697                                     1.760716   \n19698                                     1.760716   \n19699                                     1.760716   \n19700                                     1.760716   \n19701                                     1.760716   \n\n       EstimatedAverageIncomeToDamageMiddleClassHousehold  \\\n0                                               1.215936    \n1                                               1.127997    \n2                                               0.985209    \n3                                               0.835593    \n4                                               0.778450    \n...                                                  ...    \n19697                                           0.581103    \n19698                                           0.581103    \n19699                                           0.581103    \n19700                                           0.581103    \n19701                                           0.581103    \n\n      EstimatedAverageIncomeToDamageRichHousehold  \\\n0                                        1.208314   \n1                                        1.093788   \n2                                        1.026112   \n3                                        0.850519   \n4                                        0.796365   \n...                                           ...   \n19697                                    0.382138   \n19698                                    0.382138   \n19699                                    0.382138   \n19700                                    0.382138   \n19701                                    0.382138   \n\n      AverageDamagePerPoorHousehold AverageDamagePerMiddleClassHousehold  \\\n0                          0.000000                             0.000000   \n1                          0.000000                             0.000000   \n2                          0.000000                             0.000000   \n3                          0.000000                             0.000000   \n4                          0.000000                             0.000000   \n...                             ...                                  ...   \n19697                      0.000000                             0.000000   \n19698                      0.000000                             0.000000   \n19699                      0.000000                             0.000000   \n19700                      0.000000                             0.000000   \n19701                   8783.235296                         17507.739064   \n\n      AverageDamagePerRichHousehold AverageIncomeToDamagePoorHousehold  \\\n0                          0.000000                           0.000000   \n1                          0.000000                           0.000000   \n2                          0.000000                           0.000000   \n3                          0.000000                           0.000000   \n4                          0.000000                           0.000000   \n...                             ...                                ...   \n19697                      0.000000                           0.000000   \n19698                      0.000000                           0.000000   \n19699                      0.000000                           0.000000   \n19700                      0.000000                           0.000000   \n19701                  34306.155154                           1.609802   \n\n       AverageIncomeToDamageMiddleClassHousehold  \\\n0                                        0.00000   \n1                                        0.00000   \n2                                        0.00000   \n3                                        0.00000   \n4                                        0.00000   \n...                                          ...   \n19697                                    0.00000   \n19698                                    0.00000   \n19699                                    0.00000   \n19700                                    0.00000   \n19701                                    0.54893   \n\n       AverageIncomeToDamageRichHousehold  \n0                                  0.0000  \n1                                  0.0000  \n2                                  0.0000  \n3                                  0.0000  \n4                                  0.0000  \n...                                   ...  \n19697                              0.0000  \n19698                              0.0000  \n19699                              0.0000  \n19700                              0.0000  \n19701                              0.3577  \n\n[19702 rows x 30 columns]",
      "text/html": "<div>\n<style scoped>\n    .dataframe tbody tr th:only-of-type {\n        vertical-align: middle;\n    }\n\n    .dataframe tbody tr th {\n        vertical-align: top;\n    }\n\n    .dataframe thead th {\n        text-align: right;\n    }\n</style>\n<table border=\"1\" class=\"dataframe\">\n  <thead>\n    <tr style=\"text-align: right;\">\n      <th></th>\n      <th>RunId</th>\n      <th>iteration</th>\n      <th>Step</th>\n      <th>number_of_households</th>\n      <th>number_of_steps</th>\n      <th>flood_map_choice</th>\n      <th>network</th>\n      <th>income_distribution</th>\n      <th>TotalAdaptedHouseholds</th>\n      <th>TotalActualDamage</th>\n      <th>...</th>\n      <th>EstimatedAverageDamagePerRichHousehold</th>\n      <th>EstimatedAverageIncomeToDamagePoorHousehold</th>\n      <th>EstimatedAverageIncomeToDamageMiddleClassHousehold</th>\n      <th>EstimatedAverageIncomeToDamageRichHousehold</th>\n      <th>AverageDamagePerPoorHousehold</th>\n      <th>AverageDamagePerMiddleClassHousehold</th>\n      <th>AverageDamagePerRichHousehold</th>\n      <th>AverageIncomeToDamagePoorHousehold</th>\n      <th>AverageIncomeToDamageMiddleClassHousehold</th>\n      <th>AverageIncomeToDamageRichHousehold</th>\n    </tr>\n  </thead>\n  <tbody>\n    <tr>\n      <th>0</th>\n      <td>2</td>\n      <td>0</td>\n      <td>0</td>\n      <td>1000</td>\n      <td>80</td>\n      <td>100yr</td>\n      <td>watts_strogatz</td>\n      <td>{'Poor': [4500, 1875], 'Middle-Class': [26437....</td>\n      <td>0</td>\n      <td>0.000000e+00</td>\n      <td>...</td>\n      <td>92721.064588</td>\n      <td>4.147615</td>\n      <td>1.215936</td>\n      <td>1.208314</td>\n      <td>0.000000</td>\n      <td>0.000000</td>\n      <td>0.000000</td>\n      <td>0.000000</td>\n      <td>0.00000</td>\n      <td>0.0000</td>\n    </tr>\n    <tr>\n      <th>1</th>\n      <td>2</td>\n      <td>0</td>\n      <td>1</td>\n      <td>1000</td>\n      <td>80</td>\n      <td>100yr</td>\n      <td>watts_strogatz</td>\n      <td>{'Poor': [4500, 1875], 'Middle-Class': [26437....</td>\n      <td>70</td>\n      <td>0.000000e+00</td>\n      <td>...</td>\n      <td>83932.798115</td>\n      <td>4.147615</td>\n      <td>1.127997</td>\n      <td>1.093788</td>\n      <td>0.000000</td>\n      <td>0.000000</td>\n      <td>0.000000</td>\n      <td>0.000000</td>\n      <td>0.00000</td>\n      <td>0.0000</td>\n    </tr>\n    <tr>\n      <th>2</th>\n      <td>2</td>\n      <td>0</td>\n      <td>2</td>\n      <td>1000</td>\n      <td>80</td>\n      <td>100yr</td>\n      <td>watts_strogatz</td>\n      <td>{'Poor': [4500, 1875], 'Middle-Class': [26437....</td>\n      <td>150</td>\n      <td>0.000000e+00</td>\n      <td>...</td>\n      <td>78739.607924</td>\n      <td>4.009289</td>\n      <td>0.985209</td>\n      <td>1.026112</td>\n      <td>0.000000</td>\n      <td>0.000000</td>\n      <td>0.000000</td>\n      <td>0.000000</td>\n      <td>0.00000</td>\n      <td>0.0000</td>\n    </tr>\n    <tr>\n      <th>3</th>\n      <td>2</td>\n      <td>0</td>\n      <td>3</td>\n      <td>1000</td>\n      <td>80</td>\n      <td>100yr</td>\n      <td>watts_strogatz</td>\n      <td>{'Poor': [4500, 1875], 'Middle-Class': [26437....</td>\n      <td>211</td>\n      <td>0.000000e+00</td>\n      <td>...</td>\n      <td>65265.371910</td>\n      <td>3.926934</td>\n      <td>0.835593</td>\n      <td>0.850519</td>\n      <td>0.000000</td>\n      <td>0.000000</td>\n      <td>0.000000</td>\n      <td>0.000000</td>\n      <td>0.00000</td>\n      <td>0.0000</td>\n    </tr>\n    <tr>\n      <th>4</th>\n      <td>2</td>\n      <td>0</td>\n      <td>4</td>\n      <td>1000</td>\n      <td>80</td>\n      <td>100yr</td>\n      <td>watts_strogatz</td>\n      <td>{'Poor': [4500, 1875], 'Middle-Class': [26437....</td>\n      <td>235</td>\n      <td>0.000000e+00</td>\n      <td>...</td>\n      <td>61109.812058</td>\n      <td>3.843689</td>\n      <td>0.778450</td>\n      <td>0.796365</td>\n      <td>0.000000</td>\n      <td>0.000000</td>\n      <td>0.000000</td>\n      <td>0.000000</td>\n      <td>0.00000</td>\n      <td>0.0000</td>\n    </tr>\n    <tr>\n      <th>...</th>\n      <td>...</td>\n      <td>...</td>\n      <td>...</td>\n      <td>...</td>\n      <td>...</td>\n      <td>...</td>\n      <td>...</td>\n      <td>...</td>\n      <td>...</td>\n      <td>...</td>\n      <td>...</td>\n      <td>...</td>\n      <td>...</td>\n      <td>...</td>\n      <td>...</td>\n      <td>...</td>\n      <td>...</td>\n      <td>...</td>\n      <td>...</td>\n      <td>...</td>\n      <td>...</td>\n    </tr>\n    <tr>\n      <th>19697</th>\n      <td>496</td>\n      <td>99</td>\n      <td>70</td>\n      <td>1000</td>\n      <td>80</td>\n      <td>100yr</td>\n      <td>watts_strogatz</td>\n      <td>{'Poor': [5500, 1875], 'Middle-Class': [32312....</td>\n      <td>305</td>\n      <td>0.000000e+00</td>\n      <td>...</td>\n      <td>36649.865760</td>\n      <td>1.760716</td>\n      <td>0.581103</td>\n      <td>0.382138</td>\n      <td>0.000000</td>\n      <td>0.000000</td>\n      <td>0.000000</td>\n      <td>0.000000</td>\n      <td>0.00000</td>\n      <td>0.0000</td>\n    </tr>\n    <tr>\n      <th>19698</th>\n      <td>496</td>\n      <td>99</td>\n      <td>71</td>\n      <td>1000</td>\n      <td>80</td>\n      <td>100yr</td>\n      <td>watts_strogatz</td>\n      <td>{'Poor': [5500, 1875], 'Middle-Class': [32312....</td>\n      <td>305</td>\n      <td>0.000000e+00</td>\n      <td>...</td>\n      <td>36649.865760</td>\n      <td>1.760716</td>\n      <td>0.581103</td>\n      <td>0.382138</td>\n      <td>0.000000</td>\n      <td>0.000000</td>\n      <td>0.000000</td>\n      <td>0.000000</td>\n      <td>0.00000</td>\n      <td>0.0000</td>\n    </tr>\n    <tr>\n      <th>19699</th>\n      <td>496</td>\n      <td>99</td>\n      <td>72</td>\n      <td>1000</td>\n      <td>80</td>\n      <td>100yr</td>\n      <td>watts_strogatz</td>\n      <td>{'Poor': [5500, 1875], 'Middle-Class': [32312....</td>\n      <td>305</td>\n      <td>0.000000e+00</td>\n      <td>...</td>\n      <td>36649.865760</td>\n      <td>1.760716</td>\n      <td>0.581103</td>\n      <td>0.382138</td>\n      <td>0.000000</td>\n      <td>0.000000</td>\n      <td>0.000000</td>\n      <td>0.000000</td>\n      <td>0.00000</td>\n      <td>0.0000</td>\n    </tr>\n    <tr>\n      <th>19700</th>\n      <td>496</td>\n      <td>99</td>\n      <td>73</td>\n      <td>1000</td>\n      <td>80</td>\n      <td>100yr</td>\n      <td>watts_strogatz</td>\n      <td>{'Poor': [5500, 1875], 'Middle-Class': [32312....</td>\n      <td>305</td>\n      <td>0.000000e+00</td>\n      <td>...</td>\n      <td>36649.865760</td>\n      <td>1.760716</td>\n      <td>0.581103</td>\n      <td>0.382138</td>\n      <td>0.000000</td>\n      <td>0.000000</td>\n      <td>0.000000</td>\n      <td>0.000000</td>\n      <td>0.00000</td>\n      <td>0.0000</td>\n    </tr>\n    <tr>\n      <th>19701</th>\n      <td>496</td>\n      <td>99</td>\n      <td>74</td>\n      <td>1000</td>\n      <td>80</td>\n      <td>100yr</td>\n      <td>watts_strogatz</td>\n      <td>{'Poor': [5500, 1875], 'Middle-Class': [32312....</td>\n      <td>305</td>\n      <td>1.685684e+07</td>\n      <td>...</td>\n      <td>36649.865760</td>\n      <td>1.760716</td>\n      <td>0.581103</td>\n      <td>0.382138</td>\n      <td>8783.235296</td>\n      <td>17507.739064</td>\n      <td>34306.155154</td>\n      <td>1.609802</td>\n      <td>0.54893</td>\n      <td>0.3577</td>\n    </tr>\n  </tbody>\n</table>\n<p>19702 rows × 30 columns</p>\n</div>"
     },
     "execution_count": 3,
     "metadata": {},
     "output_type": "execute_result"
    }
   ],
   "source": [
    "#In the model output, there are four columns/variable values that are gathered as a dictionary\n",
    "#This was chosen to reduce the number of columns extracted from the model directly which could have caused confusion\n",
    "#Therefore, in this block, these columns are unpacked into their dictionary keys and labels with the function json_normalize from pandas\n",
    "normalized_estimated_damage= pd.json_normalize(sensitivity_analysis_income_distribution['EstimatedAverageDamagePerIncomeLabel'])\n",
    "normalized_estimated_ratio = pd.json_normalize(sensitivity_analysis_income_distribution['EstimatedAverageIncomeToDamageRatio'])\n",
    "normalized_damage = pd.json_normalize(sensitivity_analysis_income_distribution['AverageDamagePerIncomeLabel'])\n",
    "normalized_ratio = pd.json_normalize(sensitivity_analysis_income_distribution['AverageIncomeToDamageRatio'])\n",
    "#The unpacked columns as dataframes are concatenated with the original dataframe to create the final dataframe which includes all necessary data\n",
    "model_vars_sensitivity_analysis_experiments_clean = pd.concat([sensitivity_analysis_income_distribution, normalized_estimated_damage,                                                                         normalized_estimated_ratio,normalized_damage, normalized_ratio], axis=1)\n",
    "model_vars_sensitivity_analysis_experiments_clean"
   ]
  },
  {
   "cell_type": "code",
   "execution_count": 4,
   "outputs": [
    {
     "data": {
      "text/plain": "       RunId  iteration  Step  number_of_households  number_of_steps  \\\n65         0          0     0                  1000               80   \n66         0          0     1                  1000               80   \n67         0          0     2                  1000               80   \n68         0          0     3                  1000               80   \n69         0          0     4                  1000               80   \n...      ...        ...   ...                   ...              ...   \n19622    499         99    12                  1000               80   \n19623    499         99    13                  1000               80   \n19624    499         99    14                  1000               80   \n19625    499         99    15                  1000               80   \n19626    499         99    16                  1000               80   \n\n      flood_map_choice         network  \\\n65               100yr  watts_strogatz   \n66               100yr  watts_strogatz   \n67               100yr  watts_strogatz   \n68               100yr  watts_strogatz   \n69               100yr  watts_strogatz   \n...                ...             ...   \n19622            100yr  watts_strogatz   \n19623            100yr  watts_strogatz   \n19624            100yr  watts_strogatz   \n19625            100yr  watts_strogatz   \n19626            100yr  watts_strogatz   \n\n                                     income_distribution  \\\n65     {'Poor': [5000, 1875], 'Middle-Class': [29375,...   \n66     {'Poor': [5000, 1875], 'Middle-Class': [29375,...   \n67     {'Poor': [5000, 1875], 'Middle-Class': [29375,...   \n68     {'Poor': [5000, 1875], 'Middle-Class': [29375,...   \n69     {'Poor': [5000, 1875], 'Middle-Class': [29375,...   \n...                                                  ...   \n19622  {'Poor': [3500, 1875], 'Middle-Class': [20562....   \n19623  {'Poor': [3500, 1875], 'Middle-Class': [20562....   \n19624  {'Poor': [3500, 1875], 'Middle-Class': [20562....   \n19625  {'Poor': [3500, 1875], 'Middle-Class': [20562....   \n19626  {'Poor': [3500, 1875], 'Middle-Class': [20562....   \n\n       TotalAdaptedHouseholds  TotalActualDamage  ...  \\\n65                          0       0.000000e+00  ...   \n66                         57       0.000000e+00  ...   \n67                        132       0.000000e+00  ...   \n68                        208       0.000000e+00  ...   \n69                        240       0.000000e+00  ...   \n...                       ...                ...  ...   \n19622                     292       0.000000e+00  ...   \n19623                     297       0.000000e+00  ...   \n19624                     302       0.000000e+00  ...   \n19625                     303       0.000000e+00  ...   \n19626                     308       1.448937e+07  ...   \n\n       EstimatedAverageDamagePerRichHousehold  \\\n65                               72853.282081   \n66                               66739.781279   \n67                               54987.110132   \n68                               48298.011444   \n69                               44102.823764   \n...                                       ...   \n19622                            40831.682621   \n19623                            40831.682621   \n19624                            40831.682621   \n19625                            40831.682621   \n19626                            40831.682621   \n\n       EstimatedAverageIncomeToDamagePoorHousehold  \\\n65                                        3.193094   \n66                                        3.193094   \n67                                        3.121617   \n68                                        3.002196   \n69                                        2.857642   \n...                                            ...   \n19622                                     3.294076   \n19623                                     3.182956   \n19624                                     2.924936   \n19625                                     2.877057   \n19626                                     2.602810   \n\n       EstimatedAverageIncomeToDamageMiddleClassHousehold  \\\n65                                              1.128679    \n66                                              1.054892    \n67                                              0.909647    \n68                                              0.705818    \n69                                              0.611852    \n...                                                  ...    \n19622                                           0.670453    \n19623                                           0.663033    \n19624                                           0.663033    \n19625                                           0.663033    \n19626                                           0.663033    \n\n      EstimatedAverageIncomeToDamageRichHousehold  \\\n65                                       0.833202   \n66                                       0.763284   \n67                                       0.628872   \n68                                       0.552370   \n69                                       0.504391   \n...                                           ...   \n19622                                    0.704978   \n19623                                    0.704978   \n19624                                    0.704978   \n19625                                    0.704978   \n19626                                    0.704978   \n\n      AverageDamagePerPoorHousehold AverageDamagePerMiddleClassHousehold  \\\n65                         0.000000                             0.000000   \n66                         0.000000                             0.000000   \n67                         0.000000                             0.000000   \n68                         0.000000                             0.000000   \n69                         0.000000                             0.000000   \n...                             ...                                  ...   \n19622                      0.000000                             0.000000   \n19623                      0.000000                             0.000000   \n19624                      0.000000                             0.000000   \n19625                      0.000000                             0.000000   \n19626                   8495.054601                         12988.723499   \n\n      AverageDamagePerRichHousehold AverageIncomeToDamagePoorHousehold  \\\n65                         0.000000                           0.000000   \n66                         0.000000                           0.000000   \n67                         0.000000                           0.000000   \n68                         0.000000                           0.000000   \n69                         0.000000                           0.000000   \n...                             ...                                ...   \n19622                      0.000000                           0.000000   \n19623                      0.000000                           0.000000   \n19624                      0.000000                           0.000000   \n19625                      0.000000                           0.000000   \n19626                  37532.111855                           2.394975   \n\n       AverageIncomeToDamageMiddleClassHousehold  \\\n65                                      0.000000   \n66                                      0.000000   \n67                                      0.000000   \n68                                      0.000000   \n69                                      0.000000   \n...                                          ...   \n19622                                   0.000000   \n19623                                   0.000000   \n19624                                   0.000000   \n19625                                   0.000000   \n19626                                   0.614255   \n\n       AverageIncomeToDamageRichHousehold  \n65                               0.000000  \n66                               0.000000  \n67                               0.000000  \n68                               0.000000  \n69                               0.000000  \n...                                   ...  \n19622                            0.000000  \n19623                            0.000000  \n19624                            0.000000  \n19625                            0.000000  \n19626                            0.648009  \n\n[19702 rows x 30 columns]",
      "text/html": "<div>\n<style scoped>\n    .dataframe tbody tr th:only-of-type {\n        vertical-align: middle;\n    }\n\n    .dataframe tbody tr th {\n        vertical-align: top;\n    }\n\n    .dataframe thead th {\n        text-align: right;\n    }\n</style>\n<table border=\"1\" class=\"dataframe\">\n  <thead>\n    <tr style=\"text-align: right;\">\n      <th></th>\n      <th>RunId</th>\n      <th>iteration</th>\n      <th>Step</th>\n      <th>number_of_households</th>\n      <th>number_of_steps</th>\n      <th>flood_map_choice</th>\n      <th>network</th>\n      <th>income_distribution</th>\n      <th>TotalAdaptedHouseholds</th>\n      <th>TotalActualDamage</th>\n      <th>...</th>\n      <th>EstimatedAverageDamagePerRichHousehold</th>\n      <th>EstimatedAverageIncomeToDamagePoorHousehold</th>\n      <th>EstimatedAverageIncomeToDamageMiddleClassHousehold</th>\n      <th>EstimatedAverageIncomeToDamageRichHousehold</th>\n      <th>AverageDamagePerPoorHousehold</th>\n      <th>AverageDamagePerMiddleClassHousehold</th>\n      <th>AverageDamagePerRichHousehold</th>\n      <th>AverageIncomeToDamagePoorHousehold</th>\n      <th>AverageIncomeToDamageMiddleClassHousehold</th>\n      <th>AverageIncomeToDamageRichHousehold</th>\n    </tr>\n  </thead>\n  <tbody>\n    <tr>\n      <th>65</th>\n      <td>0</td>\n      <td>0</td>\n      <td>0</td>\n      <td>1000</td>\n      <td>80</td>\n      <td>100yr</td>\n      <td>watts_strogatz</td>\n      <td>{'Poor': [5000, 1875], 'Middle-Class': [29375,...</td>\n      <td>0</td>\n      <td>0.000000e+00</td>\n      <td>...</td>\n      <td>72853.282081</td>\n      <td>3.193094</td>\n      <td>1.128679</td>\n      <td>0.833202</td>\n      <td>0.000000</td>\n      <td>0.000000</td>\n      <td>0.000000</td>\n      <td>0.000000</td>\n      <td>0.000000</td>\n      <td>0.000000</td>\n    </tr>\n    <tr>\n      <th>66</th>\n      <td>0</td>\n      <td>0</td>\n      <td>1</td>\n      <td>1000</td>\n      <td>80</td>\n      <td>100yr</td>\n      <td>watts_strogatz</td>\n      <td>{'Poor': [5000, 1875], 'Middle-Class': [29375,...</td>\n      <td>57</td>\n      <td>0.000000e+00</td>\n      <td>...</td>\n      <td>66739.781279</td>\n      <td>3.193094</td>\n      <td>1.054892</td>\n      <td>0.763284</td>\n      <td>0.000000</td>\n      <td>0.000000</td>\n      <td>0.000000</td>\n      <td>0.000000</td>\n      <td>0.000000</td>\n      <td>0.000000</td>\n    </tr>\n    <tr>\n      <th>67</th>\n      <td>0</td>\n      <td>0</td>\n      <td>2</td>\n      <td>1000</td>\n      <td>80</td>\n      <td>100yr</td>\n      <td>watts_strogatz</td>\n      <td>{'Poor': [5000, 1875], 'Middle-Class': [29375,...</td>\n      <td>132</td>\n      <td>0.000000e+00</td>\n      <td>...</td>\n      <td>54987.110132</td>\n      <td>3.121617</td>\n      <td>0.909647</td>\n      <td>0.628872</td>\n      <td>0.000000</td>\n      <td>0.000000</td>\n      <td>0.000000</td>\n      <td>0.000000</td>\n      <td>0.000000</td>\n      <td>0.000000</td>\n    </tr>\n    <tr>\n      <th>68</th>\n      <td>0</td>\n      <td>0</td>\n      <td>3</td>\n      <td>1000</td>\n      <td>80</td>\n      <td>100yr</td>\n      <td>watts_strogatz</td>\n      <td>{'Poor': [5000, 1875], 'Middle-Class': [29375,...</td>\n      <td>208</td>\n      <td>0.000000e+00</td>\n      <td>...</td>\n      <td>48298.011444</td>\n      <td>3.002196</td>\n      <td>0.705818</td>\n      <td>0.552370</td>\n      <td>0.000000</td>\n      <td>0.000000</td>\n      <td>0.000000</td>\n      <td>0.000000</td>\n      <td>0.000000</td>\n      <td>0.000000</td>\n    </tr>\n    <tr>\n      <th>69</th>\n      <td>0</td>\n      <td>0</td>\n      <td>4</td>\n      <td>1000</td>\n      <td>80</td>\n      <td>100yr</td>\n      <td>watts_strogatz</td>\n      <td>{'Poor': [5000, 1875], 'Middle-Class': [29375,...</td>\n      <td>240</td>\n      <td>0.000000e+00</td>\n      <td>...</td>\n      <td>44102.823764</td>\n      <td>2.857642</td>\n      <td>0.611852</td>\n      <td>0.504391</td>\n      <td>0.000000</td>\n      <td>0.000000</td>\n      <td>0.000000</td>\n      <td>0.000000</td>\n      <td>0.000000</td>\n      <td>0.000000</td>\n    </tr>\n    <tr>\n      <th>...</th>\n      <td>...</td>\n      <td>...</td>\n      <td>...</td>\n      <td>...</td>\n      <td>...</td>\n      <td>...</td>\n      <td>...</td>\n      <td>...</td>\n      <td>...</td>\n      <td>...</td>\n      <td>...</td>\n      <td>...</td>\n      <td>...</td>\n      <td>...</td>\n      <td>...</td>\n      <td>...</td>\n      <td>...</td>\n      <td>...</td>\n      <td>...</td>\n      <td>...</td>\n      <td>...</td>\n    </tr>\n    <tr>\n      <th>19622</th>\n      <td>499</td>\n      <td>99</td>\n      <td>12</td>\n      <td>1000</td>\n      <td>80</td>\n      <td>100yr</td>\n      <td>watts_strogatz</td>\n      <td>{'Poor': [3500, 1875], 'Middle-Class': [20562....</td>\n      <td>292</td>\n      <td>0.000000e+00</td>\n      <td>...</td>\n      <td>40831.682621</td>\n      <td>3.294076</td>\n      <td>0.670453</td>\n      <td>0.704978</td>\n      <td>0.000000</td>\n      <td>0.000000</td>\n      <td>0.000000</td>\n      <td>0.000000</td>\n      <td>0.000000</td>\n      <td>0.000000</td>\n    </tr>\n    <tr>\n      <th>19623</th>\n      <td>499</td>\n      <td>99</td>\n      <td>13</td>\n      <td>1000</td>\n      <td>80</td>\n      <td>100yr</td>\n      <td>watts_strogatz</td>\n      <td>{'Poor': [3500, 1875], 'Middle-Class': [20562....</td>\n      <td>297</td>\n      <td>0.000000e+00</td>\n      <td>...</td>\n      <td>40831.682621</td>\n      <td>3.182956</td>\n      <td>0.663033</td>\n      <td>0.704978</td>\n      <td>0.000000</td>\n      <td>0.000000</td>\n      <td>0.000000</td>\n      <td>0.000000</td>\n      <td>0.000000</td>\n      <td>0.000000</td>\n    </tr>\n    <tr>\n      <th>19624</th>\n      <td>499</td>\n      <td>99</td>\n      <td>14</td>\n      <td>1000</td>\n      <td>80</td>\n      <td>100yr</td>\n      <td>watts_strogatz</td>\n      <td>{'Poor': [3500, 1875], 'Middle-Class': [20562....</td>\n      <td>302</td>\n      <td>0.000000e+00</td>\n      <td>...</td>\n      <td>40831.682621</td>\n      <td>2.924936</td>\n      <td>0.663033</td>\n      <td>0.704978</td>\n      <td>0.000000</td>\n      <td>0.000000</td>\n      <td>0.000000</td>\n      <td>0.000000</td>\n      <td>0.000000</td>\n      <td>0.000000</td>\n    </tr>\n    <tr>\n      <th>19625</th>\n      <td>499</td>\n      <td>99</td>\n      <td>15</td>\n      <td>1000</td>\n      <td>80</td>\n      <td>100yr</td>\n      <td>watts_strogatz</td>\n      <td>{'Poor': [3500, 1875], 'Middle-Class': [20562....</td>\n      <td>303</td>\n      <td>0.000000e+00</td>\n      <td>...</td>\n      <td>40831.682621</td>\n      <td>2.877057</td>\n      <td>0.663033</td>\n      <td>0.704978</td>\n      <td>0.000000</td>\n      <td>0.000000</td>\n      <td>0.000000</td>\n      <td>0.000000</td>\n      <td>0.000000</td>\n      <td>0.000000</td>\n    </tr>\n    <tr>\n      <th>19626</th>\n      <td>499</td>\n      <td>99</td>\n      <td>16</td>\n      <td>1000</td>\n      <td>80</td>\n      <td>100yr</td>\n      <td>watts_strogatz</td>\n      <td>{'Poor': [3500, 1875], 'Middle-Class': [20562....</td>\n      <td>308</td>\n      <td>1.448937e+07</td>\n      <td>...</td>\n      <td>40831.682621</td>\n      <td>2.602810</td>\n      <td>0.663033</td>\n      <td>0.704978</td>\n      <td>8495.054601</td>\n      <td>12988.723499</td>\n      <td>37532.111855</td>\n      <td>2.394975</td>\n      <td>0.614255</td>\n      <td>0.648009</td>\n    </tr>\n  </tbody>\n</table>\n<p>19702 rows × 30 columns</p>\n</div>"
     },
     "execution_count": 4,
     "metadata": {},
     "output_type": "execute_result"
    }
   ],
   "source": [
    "#This extra step sorts the unpacked dataframe first for RunId so all the runs are in order\n",
    "#Then, the runs are each sorted on steps to be able to create a timeline of each iteration\n",
    "df_sorted = model_vars_sensitivity_analysis_experiments_clean.sort_values(by=['RunId', 'Step'])\n",
    "df_sorted"
   ],
   "metadata": {
    "collapsed": false,
    "ExecuteTime": {
     "end_time": "2024-01-24T16:06:48.103001Z",
     "start_time": "2024-01-24T16:06:47.989919Z"
    }
   },
   "id": "5510c39584f82fcc"
  },
  {
   "cell_type": "code",
   "outputs": [],
   "source": [
    "#Save the sorted and unpacked ata into a dataframe which is of use in the analysis file\n",
    "output_data_path = r'../output_data/SensitivityAnalysisIncomeDistribution.csv'\n",
    "df_sorted.to_csv(output_data_path, index=False)"
   ],
   "metadata": {
    "collapsed": false,
    "ExecuteTime": {
     "end_time": "2024-01-24T16:07:01.320283Z",
     "start_time": "2024-01-24T16:07:00.101424Z"
    }
   },
   "id": "ba395d4e10468a1f",
   "execution_count": 5
  }
 ],
 "metadata": {
  "kernelspec": {
   "display_name": "Python 3 (ipykernel)",
   "language": "python",
   "name": "python3"
  },
  "language_info": {
   "codemirror_mode": {
    "name": "ipython",
    "version": 3
   },
   "file_extension": ".py",
   "mimetype": "text/x-python",
   "name": "python",
   "nbconvert_exporter": "python",
   "pygments_lexer": "ipython3",
   "version": "3.12.0"
  }
 },
 "nbformat": 4,
 "nbformat_minor": 5
}
