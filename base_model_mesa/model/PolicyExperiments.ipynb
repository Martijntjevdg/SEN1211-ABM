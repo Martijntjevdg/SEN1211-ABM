{
 "cells": [
  {
   "cell_type": "markdown",
   "source": [
    "# Policy Experiments\n",
    "This file is dedicated to producing the data necessary to analyse the policy options constructed. In short, there are three policy options that will be applied to the base case: everyone gets subsidy (effectively making the measures all cheaper), you get subsidy based on your income and you get subsidy based on location/flood depth. These three methods are ran through a batch runner and the csv is saved in output_data file directory, from which it will be imported to be analysed. "
   ],
   "metadata": {
    "collapsed": false
   },
   "id": "c2b2ab727880ef47"
  },
  {
   "cell_type": "code",
   "outputs": [],
   "source": [
    "from model import AdaptationModel\n",
    "from mesa.batchrunner import batch_run\n",
    "import pandas as pd"
   ],
   "metadata": {
    "collapsed": true,
    "ExecuteTime": {
     "end_time": "2024-01-24T15:16:39.096607Z",
     "start_time": "2024-01-24T15:16:35.398721Z"
    }
   },
   "id": "initial_id",
   "execution_count": 1
  },
  {
   "cell_type": "code",
   "execution_count": 2,
   "outputs": [
    {
     "data": {
      "text/plain": "  0%|          | 0/400 [00:00<?, ?it/s]",
      "application/vnd.jupyter.widget-view+json": {
       "version_major": 2,
       "version_minor": 0,
       "model_id": "1ae64f733fe541ec894d96639a53468f"
      }
     },
     "metadata": {},
     "output_type": "display_data"
    }
   ],
   "source": [
    "#Set up the model parameters with the policy packages and the rest of the base case parameters\n",
    "model_params = {\n",
    "    \"number_of_households\": 1000,\n",
    "    \"number_of_steps\": 80,\n",
    "    \"flood_map_choice\": \"100yr\",\n",
    "    \"network\": \"watts_strogatz\",\n",
    "    \"subsidies_package\":[0,1,2,3]\n",
    "}\n",
    "\n",
    "#Use the model parameters to set up a batch runner that collects data at every step of every iteration and run the batch runner\n",
    "results = batch_run(\n",
    "    model_cls=AdaptationModel,\n",
    "    parameters=model_params,\n",
    "    number_processes=4,  # Set to None if you want to use all CPUs\n",
    "    iterations=100,  # Number of iterations for each parameter combination\n",
    "    data_collection_period=1,  # Collect data at the end of each run\n",
    "    max_steps=model_params[\"number_of_steps\"],  # Maximum number of model steps\n",
    "    display_progress=True  # Display progress bar\n",
    ")\n",
    "\n",
    "#Save the results of the batch runner as a useful DataFrame\n",
    "df = pd.DataFrame(results)\n",
    "\n",
    "#Save the DataFrame as a new DataFrame to avoid making changes to the original\n",
    "model_vars_policy_experiments_df = df"
   ],
   "metadata": {
    "collapsed": false,
    "ExecuteTime": {
     "end_time": "2024-01-24T15:18:38.347552Z",
     "start_time": "2024-01-24T15:16:46.465916Z"
    }
   },
   "id": "e3b05895e5dc44f2"
  },
  {
   "cell_type": "code",
   "outputs": [
    {
     "data": {
      "text/plain": "       RunId  iteration  Step  number_of_households  number_of_steps  \\\n0          1          0     0                  1000               80   \n1          1          0     1                  1000               80   \n2          1          0     2                  1000               80   \n3          1          0     3                  1000               80   \n4          1          0     4                  1000               80   \n...      ...        ...   ...                   ...              ...   \n15657    399         99    12                  1000               80   \n15658    399         99    13                  1000               80   \n15659    399         99    14                  1000               80   \n15660    399         99    15                  1000               80   \n15661    399         99    16                  1000               80   \n\n      flood_map_choice         network  subsidies_package  \\\n0                100yr  watts_strogatz                  1   \n1                100yr  watts_strogatz                  1   \n2                100yr  watts_strogatz                  1   \n3                100yr  watts_strogatz                  1   \n4                100yr  watts_strogatz                  1   \n...                ...             ...                ...   \n15657            100yr  watts_strogatz                  3   \n15658            100yr  watts_strogatz                  3   \n15659            100yr  watts_strogatz                  3   \n15660            100yr  watts_strogatz                  3   \n15661            100yr  watts_strogatz                  3   \n\n       TotalAdaptedHouseholds  TotalActualDamage  ...  \\\n0                           0       0.000000e+00  ...   \n1                         109       0.000000e+00  ...   \n2                         148       0.000000e+00  ...   \n3                         159       0.000000e+00  ...   \n4                         170       0.000000e+00  ...   \n...                       ...                ...  ...   \n15657                     282       0.000000e+00  ...   \n15658                     284       0.000000e+00  ...   \n15659                     288       0.000000e+00  ...   \n15660                     290       0.000000e+00  ...   \n15661                     295       1.493594e+07  ...   \n\n       EstimatedAverageDamagePerRichHousehold  \\\n0                                80995.977356   \n1                                68768.884341   \n2                                61997.603696   \n3                                60138.273624   \n4                                58235.188001   \n...                                       ...   \n15657                            39546.472199   \n15658                            39546.472199   \n15659                            39546.472199   \n15660                            39546.472199   \n15661                            39546.472199   \n\n       EstimatedAverageIncomeToDamagePoorHousehold  \\\n0                                         3.209443   \n1                                         3.074507   \n2                                         2.915026   \n3                                         2.883891   \n4                                         2.762663   \n...                                            ...   \n15657                                     1.592474   \n15658                                     1.497700   \n15659                                     1.425075   \n15660                                     1.398201   \n15661                                     1.274791   \n\n       EstimatedAverageIncomeToDamageMiddleClassHousehold  \\\n0                                               1.101903    \n1                                               1.001834    \n2                                               0.953212    \n3                                               0.937605    \n4                                               0.929558    \n...                                                  ...    \n15657                                           0.553200    \n15658                                           0.553200    \n15659                                           0.543318    \n15660                                           0.537338    \n15661                                           0.528891    \n\n      EstimatedAverageIncomeToDamageRichHousehold  \\\n0                                        0.916067   \n1                                        0.777778   \n2                                        0.701195   \n3                                        0.680166   \n4                                        0.658642   \n...                                           ...   \n15657                                    0.465313   \n15658                                    0.465313   \n15659                                    0.465313   \n15660                                    0.465313   \n15661                                    0.465313   \n\n      AverageDamagePerPoorHousehold AverageDamagePerMiddleClassHousehold  \\\n0                          0.000000                             0.000000   \n1                          0.000000                             0.000000   \n2                          0.000000                             0.000000   \n3                          0.000000                             0.000000   \n4                          0.000000                             0.000000   \n...                             ...                                  ...   \n15657                      0.000000                             0.000000   \n15658                      0.000000                             0.000000   \n15659                      0.000000                             0.000000   \n15660                      0.000000                             0.000000   \n15661                   5922.796769                         14712.002686   \n\n      AverageDamagePerRichHousehold AverageIncomeToDamagePoorHousehold  \\\n0                          0.000000                           0.000000   \n1                          0.000000                           0.000000   \n2                          0.000000                           0.000000   \n3                          0.000000                           0.000000   \n4                          0.000000                           0.000000   \n...                             ...                                ...   \n15657                      0.000000                           0.000000   \n15658                      0.000000                           0.000000   \n15659                      0.000000                           0.000000   \n15660                      0.000000                           0.000000   \n15661                  37486.068339                           1.193534   \n\n       AverageIncomeToDamageMiddleClassHousehold  \\\n0                                       0.000000   \n1                                       0.000000   \n2                                       0.000000   \n3                                       0.000000   \n4                                       0.000000   \n...                                          ...   \n15657                                   0.000000   \n15658                                   0.000000   \n15659                                   0.000000   \n15660                                   0.000000   \n15661                                   0.496077   \n\n       AverageIncomeToDamageRichHousehold  \n0                                0.000000  \n1                                0.000000  \n2                                0.000000  \n3                                0.000000  \n4                                0.000000  \n...                                   ...  \n15657                            0.000000  \n15658                            0.000000  \n15659                            0.000000  \n15660                            0.000000  \n15661                            0.441069  \n\n[15662 rows x 30 columns]",
      "text/html": "<div>\n<style scoped>\n    .dataframe tbody tr th:only-of-type {\n        vertical-align: middle;\n    }\n\n    .dataframe tbody tr th {\n        vertical-align: top;\n    }\n\n    .dataframe thead th {\n        text-align: right;\n    }\n</style>\n<table border=\"1\" class=\"dataframe\">\n  <thead>\n    <tr style=\"text-align: right;\">\n      <th></th>\n      <th>RunId</th>\n      <th>iteration</th>\n      <th>Step</th>\n      <th>number_of_households</th>\n      <th>number_of_steps</th>\n      <th>flood_map_choice</th>\n      <th>network</th>\n      <th>subsidies_package</th>\n      <th>TotalAdaptedHouseholds</th>\n      <th>TotalActualDamage</th>\n      <th>...</th>\n      <th>EstimatedAverageDamagePerRichHousehold</th>\n      <th>EstimatedAverageIncomeToDamagePoorHousehold</th>\n      <th>EstimatedAverageIncomeToDamageMiddleClassHousehold</th>\n      <th>EstimatedAverageIncomeToDamageRichHousehold</th>\n      <th>AverageDamagePerPoorHousehold</th>\n      <th>AverageDamagePerMiddleClassHousehold</th>\n      <th>AverageDamagePerRichHousehold</th>\n      <th>AverageIncomeToDamagePoorHousehold</th>\n      <th>AverageIncomeToDamageMiddleClassHousehold</th>\n      <th>AverageIncomeToDamageRichHousehold</th>\n    </tr>\n  </thead>\n  <tbody>\n    <tr>\n      <th>0</th>\n      <td>1</td>\n      <td>0</td>\n      <td>0</td>\n      <td>1000</td>\n      <td>80</td>\n      <td>100yr</td>\n      <td>watts_strogatz</td>\n      <td>1</td>\n      <td>0</td>\n      <td>0.000000e+00</td>\n      <td>...</td>\n      <td>80995.977356</td>\n      <td>3.209443</td>\n      <td>1.101903</td>\n      <td>0.916067</td>\n      <td>0.000000</td>\n      <td>0.000000</td>\n      <td>0.000000</td>\n      <td>0.000000</td>\n      <td>0.000000</td>\n      <td>0.000000</td>\n    </tr>\n    <tr>\n      <th>1</th>\n      <td>1</td>\n      <td>0</td>\n      <td>1</td>\n      <td>1000</td>\n      <td>80</td>\n      <td>100yr</td>\n      <td>watts_strogatz</td>\n      <td>1</td>\n      <td>109</td>\n      <td>0.000000e+00</td>\n      <td>...</td>\n      <td>68768.884341</td>\n      <td>3.074507</td>\n      <td>1.001834</td>\n      <td>0.777778</td>\n      <td>0.000000</td>\n      <td>0.000000</td>\n      <td>0.000000</td>\n      <td>0.000000</td>\n      <td>0.000000</td>\n      <td>0.000000</td>\n    </tr>\n    <tr>\n      <th>2</th>\n      <td>1</td>\n      <td>0</td>\n      <td>2</td>\n      <td>1000</td>\n      <td>80</td>\n      <td>100yr</td>\n      <td>watts_strogatz</td>\n      <td>1</td>\n      <td>148</td>\n      <td>0.000000e+00</td>\n      <td>...</td>\n      <td>61997.603696</td>\n      <td>2.915026</td>\n      <td>0.953212</td>\n      <td>0.701195</td>\n      <td>0.000000</td>\n      <td>0.000000</td>\n      <td>0.000000</td>\n      <td>0.000000</td>\n      <td>0.000000</td>\n      <td>0.000000</td>\n    </tr>\n    <tr>\n      <th>3</th>\n      <td>1</td>\n      <td>0</td>\n      <td>3</td>\n      <td>1000</td>\n      <td>80</td>\n      <td>100yr</td>\n      <td>watts_strogatz</td>\n      <td>1</td>\n      <td>159</td>\n      <td>0.000000e+00</td>\n      <td>...</td>\n      <td>60138.273624</td>\n      <td>2.883891</td>\n      <td>0.937605</td>\n      <td>0.680166</td>\n      <td>0.000000</td>\n      <td>0.000000</td>\n      <td>0.000000</td>\n      <td>0.000000</td>\n      <td>0.000000</td>\n      <td>0.000000</td>\n    </tr>\n    <tr>\n      <th>4</th>\n      <td>1</td>\n      <td>0</td>\n      <td>4</td>\n      <td>1000</td>\n      <td>80</td>\n      <td>100yr</td>\n      <td>watts_strogatz</td>\n      <td>1</td>\n      <td>170</td>\n      <td>0.000000e+00</td>\n      <td>...</td>\n      <td>58235.188001</td>\n      <td>2.762663</td>\n      <td>0.929558</td>\n      <td>0.658642</td>\n      <td>0.000000</td>\n      <td>0.000000</td>\n      <td>0.000000</td>\n      <td>0.000000</td>\n      <td>0.000000</td>\n      <td>0.000000</td>\n    </tr>\n    <tr>\n      <th>...</th>\n      <td>...</td>\n      <td>...</td>\n      <td>...</td>\n      <td>...</td>\n      <td>...</td>\n      <td>...</td>\n      <td>...</td>\n      <td>...</td>\n      <td>...</td>\n      <td>...</td>\n      <td>...</td>\n      <td>...</td>\n      <td>...</td>\n      <td>...</td>\n      <td>...</td>\n      <td>...</td>\n      <td>...</td>\n      <td>...</td>\n      <td>...</td>\n      <td>...</td>\n      <td>...</td>\n    </tr>\n    <tr>\n      <th>15657</th>\n      <td>399</td>\n      <td>99</td>\n      <td>12</td>\n      <td>1000</td>\n      <td>80</td>\n      <td>100yr</td>\n      <td>watts_strogatz</td>\n      <td>3</td>\n      <td>282</td>\n      <td>0.000000e+00</td>\n      <td>...</td>\n      <td>39546.472199</td>\n      <td>1.592474</td>\n      <td>0.553200</td>\n      <td>0.465313</td>\n      <td>0.000000</td>\n      <td>0.000000</td>\n      <td>0.000000</td>\n      <td>0.000000</td>\n      <td>0.000000</td>\n      <td>0.000000</td>\n    </tr>\n    <tr>\n      <th>15658</th>\n      <td>399</td>\n      <td>99</td>\n      <td>13</td>\n      <td>1000</td>\n      <td>80</td>\n      <td>100yr</td>\n      <td>watts_strogatz</td>\n      <td>3</td>\n      <td>284</td>\n      <td>0.000000e+00</td>\n      <td>...</td>\n      <td>39546.472199</td>\n      <td>1.497700</td>\n      <td>0.553200</td>\n      <td>0.465313</td>\n      <td>0.000000</td>\n      <td>0.000000</td>\n      <td>0.000000</td>\n      <td>0.000000</td>\n      <td>0.000000</td>\n      <td>0.000000</td>\n    </tr>\n    <tr>\n      <th>15659</th>\n      <td>399</td>\n      <td>99</td>\n      <td>14</td>\n      <td>1000</td>\n      <td>80</td>\n      <td>100yr</td>\n      <td>watts_strogatz</td>\n      <td>3</td>\n      <td>288</td>\n      <td>0.000000e+00</td>\n      <td>...</td>\n      <td>39546.472199</td>\n      <td>1.425075</td>\n      <td>0.543318</td>\n      <td>0.465313</td>\n      <td>0.000000</td>\n      <td>0.000000</td>\n      <td>0.000000</td>\n      <td>0.000000</td>\n      <td>0.000000</td>\n      <td>0.000000</td>\n    </tr>\n    <tr>\n      <th>15660</th>\n      <td>399</td>\n      <td>99</td>\n      <td>15</td>\n      <td>1000</td>\n      <td>80</td>\n      <td>100yr</td>\n      <td>watts_strogatz</td>\n      <td>3</td>\n      <td>290</td>\n      <td>0.000000e+00</td>\n      <td>...</td>\n      <td>39546.472199</td>\n      <td>1.398201</td>\n      <td>0.537338</td>\n      <td>0.465313</td>\n      <td>0.000000</td>\n      <td>0.000000</td>\n      <td>0.000000</td>\n      <td>0.000000</td>\n      <td>0.000000</td>\n      <td>0.000000</td>\n    </tr>\n    <tr>\n      <th>15661</th>\n      <td>399</td>\n      <td>99</td>\n      <td>16</td>\n      <td>1000</td>\n      <td>80</td>\n      <td>100yr</td>\n      <td>watts_strogatz</td>\n      <td>3</td>\n      <td>295</td>\n      <td>1.493594e+07</td>\n      <td>...</td>\n      <td>39546.472199</td>\n      <td>1.274791</td>\n      <td>0.528891</td>\n      <td>0.465313</td>\n      <td>5922.796769</td>\n      <td>14712.002686</td>\n      <td>37486.068339</td>\n      <td>1.193534</td>\n      <td>0.496077</td>\n      <td>0.441069</td>\n    </tr>\n  </tbody>\n</table>\n<p>15662 rows × 30 columns</p>\n</div>"
     },
     "execution_count": 3,
     "metadata": {},
     "output_type": "execute_result"
    }
   ],
   "source": [
    "#In the model output, there are four columns/variable values that are gathered as a dictionary\n",
    "#This was chosen to reduce the number of columns extracted from the model directly which could have caused confusion\n",
    "#Therefore, in this block, these columns are unpacked into their dictionary keys and labels with the function json_normalize from pandas\n",
    "normalized_estimated_damage= pd.json_normalize(model_vars_policy_experiments_df['EstimatedAverageDamagePerIncomeLabel'])\n",
    "normalized_estimated_ratio = pd.json_normalize(model_vars_policy_experiments_df['EstimatedAverageIncomeToDamageRatio'])\n",
    "normalized_damage = pd.json_normalize(model_vars_policy_experiments_df['AverageDamagePerIncomeLabel'])\n",
    "normalized_ratio = pd.json_normalize(model_vars_policy_experiments_df['AverageIncomeToDamageRatio'])\n",
    "#The unpacked columns as dataframes are concatenated with the original dataframe to create the final dataframe which includes all necessary data\n",
    "model_vars_policy_experiments_clean = pd.concat([model_vars_policy_experiments_df, normalized_estimated_damage,                                                                         normalized_estimated_ratio,normalized_damage, normalized_ratio], axis=1)\n",
    "model_vars_policy_experiments_clean"
   ],
   "metadata": {
    "collapsed": false,
    "ExecuteTime": {
     "end_time": "2024-01-24T15:18:54.716458Z",
     "start_time": "2024-01-24T15:18:54.303825Z"
    }
   },
   "id": "7b3371bb909f4bf",
   "execution_count": 3
  },
  {
   "cell_type": "code",
   "execution_count": 4,
   "outputs": [
    {
     "data": {
      "text/plain": "       RunId  iteration  Step  number_of_households  number_of_steps  \\\n12         0          0     0                  1000               80   \n13         0          0     1                  1000               80   \n14         0          0     2                  1000               80   \n15         0          0     3                  1000               80   \n16         0          0     4                  1000               80   \n...      ...        ...   ...                   ...              ...   \n15657    399         99    12                  1000               80   \n15658    399         99    13                  1000               80   \n15659    399         99    14                  1000               80   \n15660    399         99    15                  1000               80   \n15661    399         99    16                  1000               80   \n\n      flood_map_choice         network  subsidies_package  \\\n12               100yr  watts_strogatz                  0   \n13               100yr  watts_strogatz                  0   \n14               100yr  watts_strogatz                  0   \n15               100yr  watts_strogatz                  0   \n16               100yr  watts_strogatz                  0   \n...                ...             ...                ...   \n15657            100yr  watts_strogatz                  3   \n15658            100yr  watts_strogatz                  3   \n15659            100yr  watts_strogatz                  3   \n15660            100yr  watts_strogatz                  3   \n15661            100yr  watts_strogatz                  3   \n\n       TotalAdaptedHouseholds  TotalActualDamage  ...  \\\n12                          0       0.000000e+00  ...   \n13                         71       0.000000e+00  ...   \n14                        156       0.000000e+00  ...   \n15                        209       0.000000e+00  ...   \n16                        230       0.000000e+00  ...   \n...                       ...                ...  ...   \n15657                     282       0.000000e+00  ...   \n15658                     284       0.000000e+00  ...   \n15659                     288       0.000000e+00  ...   \n15660                     290       0.000000e+00  ...   \n15661                     295       1.493594e+07  ...   \n\n       EstimatedAverageDamagePerRichHousehold  \\\n12                               95931.601184   \n13                               83577.367807   \n14                               77505.649975   \n15                               68397.893550   \n16                               65164.397038   \n...                                       ...   \n15657                            39546.472199   \n15658                            39546.472199   \n15659                            39546.472199   \n15660                            39546.472199   \n15661                            39546.472199   \n\n       EstimatedAverageIncomeToDamagePoorHousehold  \\\n12                                        3.523539   \n13                                        3.523539   \n14                                        3.400726   \n15                                        3.233942   \n16                                        3.151198   \n...                                            ...   \n15657                                     1.592474   \n15658                                     1.497700   \n15659                                     1.425075   \n15660                                     1.398201   \n15661                                     1.274791   \n\n       EstimatedAverageIncomeToDamageMiddleClassHousehold  \\\n12                                              1.102154    \n13                                              1.032775    \n14                                              0.893025    \n15                                              0.778391    \n16                                              0.744400    \n...                                                  ...    \n15657                                           0.553200    \n15658                                           0.553200    \n15659                                           0.543318    \n15660                                           0.537338    \n15661                                           0.528891    \n\n      EstimatedAverageIncomeToDamageRichHousehold  \\\n12                                       1.087141   \n13                                       0.947138   \n14                                       0.878330   \n15                                       0.775117   \n16                                       0.738473   \n...                                           ...   \n15657                                    0.465313   \n15658                                    0.465313   \n15659                                    0.465313   \n15660                                    0.465313   \n15661                                    0.465313   \n\n      AverageDamagePerPoorHousehold AverageDamagePerMiddleClassHousehold  \\\n12                         0.000000                             0.000000   \n13                         0.000000                             0.000000   \n14                         0.000000                             0.000000   \n15                         0.000000                             0.000000   \n16                         0.000000                             0.000000   \n...                             ...                                  ...   \n15657                      0.000000                             0.000000   \n15658                      0.000000                             0.000000   \n15659                      0.000000                             0.000000   \n15660                      0.000000                             0.000000   \n15661                   5922.796769                         14712.002686   \n\n      AverageDamagePerRichHousehold AverageIncomeToDamagePoorHousehold  \\\n12                         0.000000                           0.000000   \n13                         0.000000                           0.000000   \n14                         0.000000                           0.000000   \n15                         0.000000                           0.000000   \n16                         0.000000                           0.000000   \n...                             ...                                ...   \n15657                      0.000000                           0.000000   \n15658                      0.000000                           0.000000   \n15659                      0.000000                           0.000000   \n15660                      0.000000                           0.000000   \n15661                  37486.068339                           1.193534   \n\n       AverageIncomeToDamageMiddleClassHousehold  \\\n12                                      0.000000   \n13                                      0.000000   \n14                                      0.000000   \n15                                      0.000000   \n16                                      0.000000   \n...                                          ...   \n15657                                   0.000000   \n15658                                   0.000000   \n15659                                   0.000000   \n15660                                   0.000000   \n15661                                   0.496077   \n\n       AverageIncomeToDamageRichHousehold  \n12                               0.000000  \n13                               0.000000  \n14                               0.000000  \n15                               0.000000  \n16                               0.000000  \n...                                   ...  \n15657                            0.000000  \n15658                            0.000000  \n15659                            0.000000  \n15660                            0.000000  \n15661                            0.441069  \n\n[15662 rows x 30 columns]",
      "text/html": "<div>\n<style scoped>\n    .dataframe tbody tr th:only-of-type {\n        vertical-align: middle;\n    }\n\n    .dataframe tbody tr th {\n        vertical-align: top;\n    }\n\n    .dataframe thead th {\n        text-align: right;\n    }\n</style>\n<table border=\"1\" class=\"dataframe\">\n  <thead>\n    <tr style=\"text-align: right;\">\n      <th></th>\n      <th>RunId</th>\n      <th>iteration</th>\n      <th>Step</th>\n      <th>number_of_households</th>\n      <th>number_of_steps</th>\n      <th>flood_map_choice</th>\n      <th>network</th>\n      <th>subsidies_package</th>\n      <th>TotalAdaptedHouseholds</th>\n      <th>TotalActualDamage</th>\n      <th>...</th>\n      <th>EstimatedAverageDamagePerRichHousehold</th>\n      <th>EstimatedAverageIncomeToDamagePoorHousehold</th>\n      <th>EstimatedAverageIncomeToDamageMiddleClassHousehold</th>\n      <th>EstimatedAverageIncomeToDamageRichHousehold</th>\n      <th>AverageDamagePerPoorHousehold</th>\n      <th>AverageDamagePerMiddleClassHousehold</th>\n      <th>AverageDamagePerRichHousehold</th>\n      <th>AverageIncomeToDamagePoorHousehold</th>\n      <th>AverageIncomeToDamageMiddleClassHousehold</th>\n      <th>AverageIncomeToDamageRichHousehold</th>\n    </tr>\n  </thead>\n  <tbody>\n    <tr>\n      <th>12</th>\n      <td>0</td>\n      <td>0</td>\n      <td>0</td>\n      <td>1000</td>\n      <td>80</td>\n      <td>100yr</td>\n      <td>watts_strogatz</td>\n      <td>0</td>\n      <td>0</td>\n      <td>0.000000e+00</td>\n      <td>...</td>\n      <td>95931.601184</td>\n      <td>3.523539</td>\n      <td>1.102154</td>\n      <td>1.087141</td>\n      <td>0.000000</td>\n      <td>0.000000</td>\n      <td>0.000000</td>\n      <td>0.000000</td>\n      <td>0.000000</td>\n      <td>0.000000</td>\n    </tr>\n    <tr>\n      <th>13</th>\n      <td>0</td>\n      <td>0</td>\n      <td>1</td>\n      <td>1000</td>\n      <td>80</td>\n      <td>100yr</td>\n      <td>watts_strogatz</td>\n      <td>0</td>\n      <td>71</td>\n      <td>0.000000e+00</td>\n      <td>...</td>\n      <td>83577.367807</td>\n      <td>3.523539</td>\n      <td>1.032775</td>\n      <td>0.947138</td>\n      <td>0.000000</td>\n      <td>0.000000</td>\n      <td>0.000000</td>\n      <td>0.000000</td>\n      <td>0.000000</td>\n      <td>0.000000</td>\n    </tr>\n    <tr>\n      <th>14</th>\n      <td>0</td>\n      <td>0</td>\n      <td>2</td>\n      <td>1000</td>\n      <td>80</td>\n      <td>100yr</td>\n      <td>watts_strogatz</td>\n      <td>0</td>\n      <td>156</td>\n      <td>0.000000e+00</td>\n      <td>...</td>\n      <td>77505.649975</td>\n      <td>3.400726</td>\n      <td>0.893025</td>\n      <td>0.878330</td>\n      <td>0.000000</td>\n      <td>0.000000</td>\n      <td>0.000000</td>\n      <td>0.000000</td>\n      <td>0.000000</td>\n      <td>0.000000</td>\n    </tr>\n    <tr>\n      <th>15</th>\n      <td>0</td>\n      <td>0</td>\n      <td>3</td>\n      <td>1000</td>\n      <td>80</td>\n      <td>100yr</td>\n      <td>watts_strogatz</td>\n      <td>0</td>\n      <td>209</td>\n      <td>0.000000e+00</td>\n      <td>...</td>\n      <td>68397.893550</td>\n      <td>3.233942</td>\n      <td>0.778391</td>\n      <td>0.775117</td>\n      <td>0.000000</td>\n      <td>0.000000</td>\n      <td>0.000000</td>\n      <td>0.000000</td>\n      <td>0.000000</td>\n      <td>0.000000</td>\n    </tr>\n    <tr>\n      <th>16</th>\n      <td>0</td>\n      <td>0</td>\n      <td>4</td>\n      <td>1000</td>\n      <td>80</td>\n      <td>100yr</td>\n      <td>watts_strogatz</td>\n      <td>0</td>\n      <td>230</td>\n      <td>0.000000e+00</td>\n      <td>...</td>\n      <td>65164.397038</td>\n      <td>3.151198</td>\n      <td>0.744400</td>\n      <td>0.738473</td>\n      <td>0.000000</td>\n      <td>0.000000</td>\n      <td>0.000000</td>\n      <td>0.000000</td>\n      <td>0.000000</td>\n      <td>0.000000</td>\n    </tr>\n    <tr>\n      <th>...</th>\n      <td>...</td>\n      <td>...</td>\n      <td>...</td>\n      <td>...</td>\n      <td>...</td>\n      <td>...</td>\n      <td>...</td>\n      <td>...</td>\n      <td>...</td>\n      <td>...</td>\n      <td>...</td>\n      <td>...</td>\n      <td>...</td>\n      <td>...</td>\n      <td>...</td>\n      <td>...</td>\n      <td>...</td>\n      <td>...</td>\n      <td>...</td>\n      <td>...</td>\n      <td>...</td>\n    </tr>\n    <tr>\n      <th>15657</th>\n      <td>399</td>\n      <td>99</td>\n      <td>12</td>\n      <td>1000</td>\n      <td>80</td>\n      <td>100yr</td>\n      <td>watts_strogatz</td>\n      <td>3</td>\n      <td>282</td>\n      <td>0.000000e+00</td>\n      <td>...</td>\n      <td>39546.472199</td>\n      <td>1.592474</td>\n      <td>0.553200</td>\n      <td>0.465313</td>\n      <td>0.000000</td>\n      <td>0.000000</td>\n      <td>0.000000</td>\n      <td>0.000000</td>\n      <td>0.000000</td>\n      <td>0.000000</td>\n    </tr>\n    <tr>\n      <th>15658</th>\n      <td>399</td>\n      <td>99</td>\n      <td>13</td>\n      <td>1000</td>\n      <td>80</td>\n      <td>100yr</td>\n      <td>watts_strogatz</td>\n      <td>3</td>\n      <td>284</td>\n      <td>0.000000e+00</td>\n      <td>...</td>\n      <td>39546.472199</td>\n      <td>1.497700</td>\n      <td>0.553200</td>\n      <td>0.465313</td>\n      <td>0.000000</td>\n      <td>0.000000</td>\n      <td>0.000000</td>\n      <td>0.000000</td>\n      <td>0.000000</td>\n      <td>0.000000</td>\n    </tr>\n    <tr>\n      <th>15659</th>\n      <td>399</td>\n      <td>99</td>\n      <td>14</td>\n      <td>1000</td>\n      <td>80</td>\n      <td>100yr</td>\n      <td>watts_strogatz</td>\n      <td>3</td>\n      <td>288</td>\n      <td>0.000000e+00</td>\n      <td>...</td>\n      <td>39546.472199</td>\n      <td>1.425075</td>\n      <td>0.543318</td>\n      <td>0.465313</td>\n      <td>0.000000</td>\n      <td>0.000000</td>\n      <td>0.000000</td>\n      <td>0.000000</td>\n      <td>0.000000</td>\n      <td>0.000000</td>\n    </tr>\n    <tr>\n      <th>15660</th>\n      <td>399</td>\n      <td>99</td>\n      <td>15</td>\n      <td>1000</td>\n      <td>80</td>\n      <td>100yr</td>\n      <td>watts_strogatz</td>\n      <td>3</td>\n      <td>290</td>\n      <td>0.000000e+00</td>\n      <td>...</td>\n      <td>39546.472199</td>\n      <td>1.398201</td>\n      <td>0.537338</td>\n      <td>0.465313</td>\n      <td>0.000000</td>\n      <td>0.000000</td>\n      <td>0.000000</td>\n      <td>0.000000</td>\n      <td>0.000000</td>\n      <td>0.000000</td>\n    </tr>\n    <tr>\n      <th>15661</th>\n      <td>399</td>\n      <td>99</td>\n      <td>16</td>\n      <td>1000</td>\n      <td>80</td>\n      <td>100yr</td>\n      <td>watts_strogatz</td>\n      <td>3</td>\n      <td>295</td>\n      <td>1.493594e+07</td>\n      <td>...</td>\n      <td>39546.472199</td>\n      <td>1.274791</td>\n      <td>0.528891</td>\n      <td>0.465313</td>\n      <td>5922.796769</td>\n      <td>14712.002686</td>\n      <td>37486.068339</td>\n      <td>1.193534</td>\n      <td>0.496077</td>\n      <td>0.441069</td>\n    </tr>\n  </tbody>\n</table>\n<p>15662 rows × 30 columns</p>\n</div>"
     },
     "execution_count": 4,
     "metadata": {},
     "output_type": "execute_result"
    }
   ],
   "source": [
    "#This extra step sorts the unpacked dataframe first for RunId so all the runs are in order\n",
    "#Then, the runs are each sorted on steps to be able to create a timeline of each iteration\n",
    "df_sorted = model_vars_policy_experiments_clean.sort_values(by=['RunId', 'Step'])\n",
    "df_sorted"
   ],
   "metadata": {
    "collapsed": false,
    "ExecuteTime": {
     "end_time": "2024-01-24T15:18:55.935833Z",
     "start_time": "2024-01-24T15:18:55.874794Z"
    }
   },
   "id": "fba371b2954b235d"
  },
  {
   "cell_type": "code",
   "execution_count": 5,
   "outputs": [],
   "source": [
    "#Save the sorted and unpacked ata into a dataframe which is of use in the analysis file\n",
    "output_data_path = r'../output_data/PolicyExperimentsModelVars.csv'\n",
    "df_sorted.to_csv(output_data_path, index=False)"
   ],
   "metadata": {
    "collapsed": false,
    "ExecuteTime": {
     "end_time": "2024-01-24T15:19:00.154676Z",
     "start_time": "2024-01-24T15:18:59.377875Z"
    }
   },
   "id": "5a925171232b1c89"
  }
 ],
 "metadata": {
  "kernelspec": {
   "display_name": "Python 3",
   "language": "python",
   "name": "python3"
  },
  "language_info": {
   "codemirror_mode": {
    "name": "ipython",
    "version": 2
   },
   "file_extension": ".py",
   "mimetype": "text/x-python",
   "name": "python",
   "nbconvert_exporter": "python",
   "pygments_lexer": "ipython2",
   "version": "2.7.6"
  }
 },
 "nbformat": 4,
 "nbformat_minor": 5
}
