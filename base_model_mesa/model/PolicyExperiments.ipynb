{
 "cells": [
  {
   "cell_type": "code",
   "execution_count": 12,
   "id": "initial_id",
   "metadata": {
    "collapsed": true,
    "ExecuteTime": {
     "end_time": "2024-01-24T14:14:42.987510Z",
     "start_time": "2024-01-24T14:14:42.979339Z"
    }
   },
   "outputs": [],
   "source": [
    "from model import AdaptationModel\n",
    "from mesa.batchrunner import batch_run\n",
    "import pandas as pd"
   ]
  },
  {
   "cell_type": "code",
   "execution_count": 13,
   "outputs": [
    {
     "data": {
      "text/plain": "  0%|          | 0/400 [00:00<?, ?it/s]",
      "application/vnd.jupyter.widget-view+json": {
       "version_major": 2,
       "version_minor": 0,
       "model_id": "bb22208eb21c43459970c7f31cd6138a"
      }
     },
     "metadata": {},
     "output_type": "display_data"
    }
   ],
   "source": [
    "model_params = {\n",
    "    \"number_of_households\": 1000,\n",
    "    \"number_of_steps\": 80,\n",
    "    \"flood_map_choice\": \"100yr\",\n",
    "    \"network\": \"watts_strogatz\",\n",
    "    \"subsidies_package\":[0,1,2,3]\n",
    "}\n",
    "\n",
    "results = batch_run(\n",
    "    model_cls=AdaptationModel,\n",
    "    parameters=model_params,\n",
    "    number_processes=4,  # Set to None if you want to use all CPUs\n",
    "    iterations=100,  # Number of iterations for each parameter combination\n",
    "    data_collection_period=1,  # Collect data at the end of each run\n",
    "    max_steps=model_params[\"number_of_steps\"],  # Maximum number of model steps\n",
    "    display_progress=True  # Display progress bar\n",
    ")\n",
    "\n",
    "df = pd.DataFrame(results)\n",
    "\n",
    "model_vars_policy_experiments_df = df"
   ],
   "metadata": {
    "collapsed": false,
    "ExecuteTime": {
     "end_time": "2024-01-24T14:16:36.879172Z",
     "start_time": "2024-01-24T14:14:46.151705Z"
    }
   },
   "id": "e3b05895e5dc44f2"
  },
  {
   "cell_type": "code",
   "outputs": [],
   "source": [],
   "metadata": {
    "collapsed": false,
    "ExecuteTime": {
     "end_time": "2024-01-24T13:48:20.418961Z",
     "start_time": "2024-01-24T13:48:20.411720Z"
    }
   },
   "id": "3b0855fb0c9587cb",
   "execution_count": 8
  },
  {
   "cell_type": "code",
   "execution_count": 14,
   "outputs": [
    {
     "data": {
      "text/plain": "       RunId  iteration  Step  number_of_households  number_of_steps  \\\n0          1          0     0                  1000               80   \n1          1          0     1                  1000               80   \n2          2          0     0                  1000               80   \n3          2          0     1                  1000               80   \n4          2          0     2                  1000               80   \n...      ...        ...   ...                   ...              ...   \n16969    397         99    76                  1000               80   \n16970    397         99    77                  1000               80   \n16971    397         99    78                  1000               80   \n16972    397         99    79                  1000               80   \n16973    397         99    80                  1000               80   \n\n      flood_map_choice         network  subsidies_package  \\\n0                100yr  watts_strogatz                  1   \n1                100yr  watts_strogatz                  1   \n2                100yr  watts_strogatz                  2   \n3                100yr  watts_strogatz                  2   \n4                100yr  watts_strogatz                  2   \n...                ...             ...                ...   \n16969            100yr  watts_strogatz                  1   \n16970            100yr  watts_strogatz                  1   \n16971            100yr  watts_strogatz                  1   \n16972            100yr  watts_strogatz                  1   \n16973            100yr  watts_strogatz                  1   \n\n       TotalAdaptedHouseholds  TotalActualDamage  ...  TotalCostsOfSubsidies  \\\n0                           0       0.000000e+00  ...                      0   \n1                         121       2.845374e+07  ...                  69866   \n2                           0       0.000000e+00  ...                      0   \n3                         104       0.000000e+00  ...                  36315   \n4                         149       2.532723e+07  ...                  74352   \n...                       ...                ...  ...                    ...   \n16969                     285       0.000000e+00  ...                8800921   \n16970                     288       0.000000e+00  ...                8886421   \n16971                     288       0.000000e+00  ...                8886421   \n16972                     290       0.000000e+00  ...                9018091   \n16973                     290       1.190650e+07  ...                9018091   \n\n                    EstimatedAverageDamagePerIncomeLabel  \\\n0      {'EstimatedAverageDamagePerPoorHousehold': 173...   \n1      {'EstimatedAverageDamagePerPoorHousehold': 168...   \n2      {'EstimatedAverageDamagePerPoorHousehold': 150...   \n3      {'EstimatedAverageDamagePerPoorHousehold': 140...   \n4      {'EstimatedAverageDamagePerPoorHousehold': 136...   \n...                                                  ...   \n16969  {'EstimatedAverageDamagePerPoorHousehold': 995...   \n16970  {'EstimatedAverageDamagePerPoorHousehold': 955...   \n16971  {'EstimatedAverageDamagePerPoorHousehold': 955...   \n16972  {'EstimatedAverageDamagePerPoorHousehold': 955...   \n16973  {'EstimatedAverageDamagePerPoorHousehold': 955...   \n\n                     EstimatedAverageIncomeToDamageRatio IncomeDistribution  \\\n0      {'EstimatedAverageIncomeToDamagePoorHousehold'...               Base   \n1      {'EstimatedAverageIncomeToDamagePoorHousehold'...               Base   \n2      {'EstimatedAverageIncomeToDamagePoorHousehold'...               Base   \n3      {'EstimatedAverageIncomeToDamagePoorHousehold'...               Base   \n4      {'EstimatedAverageIncomeToDamagePoorHousehold'...               Base   \n...                                                  ...                ...   \n16969  {'EstimatedAverageIncomeToDamagePoorHousehold'...               Base   \n16970  {'EstimatedAverageIncomeToDamagePoorHousehold'...               Base   \n16971  {'EstimatedAverageIncomeToDamagePoorHousehold'...               Base   \n16972  {'EstimatedAverageIncomeToDamagePoorHousehold'...               Base   \n16973  {'EstimatedAverageIncomeToDamagePoorHousehold'...               Base   \n\n      AverageDamagePerPoorHousehold AverageDamagePerMiddleClassHousehold  \\\n0                          0.000000                             0.000000   \n1                      15625.325466                         28917.519177   \n2                          0.000000                             0.000000   \n3                          0.000000                             0.000000   \n4                      12604.156962                         23984.790163   \n...                             ...                                  ...   \n16969                      0.000000                             0.000000   \n16970                      0.000000                             0.000000   \n16971                      0.000000                             0.000000   \n16972                      0.000000                             0.000000   \n16973                   9030.828838                         10261.221775   \n\n       AverageDamagePerRichHousehold  AverageIncomeToDamagePoorHousehold  \\\n0                           0.000000                            0.000000   \n1                       59255.457089                            3.014509   \n2                           0.000000                            0.000000   \n3                           0.000000                            0.000000   \n4                       66798.359762                            2.406715   \n...                              ...                                 ...   \n16969                       0.000000                            0.000000   \n16970                       0.000000                            0.000000   \n16971                       0.000000                            0.000000   \n16972                       0.000000                            0.000000   \n16973                   29876.846590                            1.778059   \n\n       AverageIncomeToDamageMiddleClassHousehold  \\\n0                                       0.000000   \n1                                       0.973877   \n2                                       0.000000   \n3                                       0.000000   \n4                                       0.834054   \n...                                          ...   \n16969                                   0.000000   \n16970                                   0.000000   \n16971                                   0.000000   \n16972                                   0.000000   \n16973                                   0.342041   \n\n       AverageIncomeToDamageRichHousehold  \n0                                0.000000  \n1                                0.683430  \n2                                0.000000  \n3                                0.000000  \n4                                0.757914  \n...                                   ...  \n16969                            0.000000  \n16970                            0.000000  \n16971                            0.000000  \n16972                            0.000000  \n16973                            0.337679  \n\n[16974 rows x 22 columns]",
      "text/html": "<div>\n<style scoped>\n    .dataframe tbody tr th:only-of-type {\n        vertical-align: middle;\n    }\n\n    .dataframe tbody tr th {\n        vertical-align: top;\n    }\n\n    .dataframe thead th {\n        text-align: right;\n    }\n</style>\n<table border=\"1\" class=\"dataframe\">\n  <thead>\n    <tr style=\"text-align: right;\">\n      <th></th>\n      <th>RunId</th>\n      <th>iteration</th>\n      <th>Step</th>\n      <th>number_of_households</th>\n      <th>number_of_steps</th>\n      <th>flood_map_choice</th>\n      <th>network</th>\n      <th>subsidies_package</th>\n      <th>TotalAdaptedHouseholds</th>\n      <th>TotalActualDamage</th>\n      <th>...</th>\n      <th>TotalCostsOfSubsidies</th>\n      <th>EstimatedAverageDamagePerIncomeLabel</th>\n      <th>EstimatedAverageIncomeToDamageRatio</th>\n      <th>IncomeDistribution</th>\n      <th>AverageDamagePerPoorHousehold</th>\n      <th>AverageDamagePerMiddleClassHousehold</th>\n      <th>AverageDamagePerRichHousehold</th>\n      <th>AverageIncomeToDamagePoorHousehold</th>\n      <th>AverageIncomeToDamageMiddleClassHousehold</th>\n      <th>AverageIncomeToDamageRichHousehold</th>\n    </tr>\n  </thead>\n  <tbody>\n    <tr>\n      <th>0</th>\n      <td>1</td>\n      <td>0</td>\n      <td>0</td>\n      <td>1000</td>\n      <td>80</td>\n      <td>100yr</td>\n      <td>watts_strogatz</td>\n      <td>1</td>\n      <td>0</td>\n      <td>0.000000e+00</td>\n      <td>...</td>\n      <td>0</td>\n      <td>{'EstimatedAverageDamagePerPoorHousehold': 173...</td>\n      <td>{'EstimatedAverageIncomeToDamagePoorHousehold'...</td>\n      <td>Base</td>\n      <td>0.000000</td>\n      <td>0.000000</td>\n      <td>0.000000</td>\n      <td>0.000000</td>\n      <td>0.000000</td>\n      <td>0.000000</td>\n    </tr>\n    <tr>\n      <th>1</th>\n      <td>1</td>\n      <td>0</td>\n      <td>1</td>\n      <td>1000</td>\n      <td>80</td>\n      <td>100yr</td>\n      <td>watts_strogatz</td>\n      <td>1</td>\n      <td>121</td>\n      <td>2.845374e+07</td>\n      <td>...</td>\n      <td>69866</td>\n      <td>{'EstimatedAverageDamagePerPoorHousehold': 168...</td>\n      <td>{'EstimatedAverageIncomeToDamagePoorHousehold'...</td>\n      <td>Base</td>\n      <td>15625.325466</td>\n      <td>28917.519177</td>\n      <td>59255.457089</td>\n      <td>3.014509</td>\n      <td>0.973877</td>\n      <td>0.683430</td>\n    </tr>\n    <tr>\n      <th>2</th>\n      <td>2</td>\n      <td>0</td>\n      <td>0</td>\n      <td>1000</td>\n      <td>80</td>\n      <td>100yr</td>\n      <td>watts_strogatz</td>\n      <td>2</td>\n      <td>0</td>\n      <td>0.000000e+00</td>\n      <td>...</td>\n      <td>0</td>\n      <td>{'EstimatedAverageDamagePerPoorHousehold': 150...</td>\n      <td>{'EstimatedAverageIncomeToDamagePoorHousehold'...</td>\n      <td>Base</td>\n      <td>0.000000</td>\n      <td>0.000000</td>\n      <td>0.000000</td>\n      <td>0.000000</td>\n      <td>0.000000</td>\n      <td>0.000000</td>\n    </tr>\n    <tr>\n      <th>3</th>\n      <td>2</td>\n      <td>0</td>\n      <td>1</td>\n      <td>1000</td>\n      <td>80</td>\n      <td>100yr</td>\n      <td>watts_strogatz</td>\n      <td>2</td>\n      <td>104</td>\n      <td>0.000000e+00</td>\n      <td>...</td>\n      <td>36315</td>\n      <td>{'EstimatedAverageDamagePerPoorHousehold': 140...</td>\n      <td>{'EstimatedAverageIncomeToDamagePoorHousehold'...</td>\n      <td>Base</td>\n      <td>0.000000</td>\n      <td>0.000000</td>\n      <td>0.000000</td>\n      <td>0.000000</td>\n      <td>0.000000</td>\n      <td>0.000000</td>\n    </tr>\n    <tr>\n      <th>4</th>\n      <td>2</td>\n      <td>0</td>\n      <td>2</td>\n      <td>1000</td>\n      <td>80</td>\n      <td>100yr</td>\n      <td>watts_strogatz</td>\n      <td>2</td>\n      <td>149</td>\n      <td>2.532723e+07</td>\n      <td>...</td>\n      <td>74352</td>\n      <td>{'EstimatedAverageDamagePerPoorHousehold': 136...</td>\n      <td>{'EstimatedAverageIncomeToDamagePoorHousehold'...</td>\n      <td>Base</td>\n      <td>12604.156962</td>\n      <td>23984.790163</td>\n      <td>66798.359762</td>\n      <td>2.406715</td>\n      <td>0.834054</td>\n      <td>0.757914</td>\n    </tr>\n    <tr>\n      <th>...</th>\n      <td>...</td>\n      <td>...</td>\n      <td>...</td>\n      <td>...</td>\n      <td>...</td>\n      <td>...</td>\n      <td>...</td>\n      <td>...</td>\n      <td>...</td>\n      <td>...</td>\n      <td>...</td>\n      <td>...</td>\n      <td>...</td>\n      <td>...</td>\n      <td>...</td>\n      <td>...</td>\n      <td>...</td>\n      <td>...</td>\n      <td>...</td>\n      <td>...</td>\n      <td>...</td>\n    </tr>\n    <tr>\n      <th>16969</th>\n      <td>397</td>\n      <td>99</td>\n      <td>76</td>\n      <td>1000</td>\n      <td>80</td>\n      <td>100yr</td>\n      <td>watts_strogatz</td>\n      <td>1</td>\n      <td>285</td>\n      <td>0.000000e+00</td>\n      <td>...</td>\n      <td>8800921</td>\n      <td>{'EstimatedAverageDamagePerPoorHousehold': 995...</td>\n      <td>{'EstimatedAverageIncomeToDamagePoorHousehold'...</td>\n      <td>Base</td>\n      <td>0.000000</td>\n      <td>0.000000</td>\n      <td>0.000000</td>\n      <td>0.000000</td>\n      <td>0.000000</td>\n      <td>0.000000</td>\n    </tr>\n    <tr>\n      <th>16970</th>\n      <td>397</td>\n      <td>99</td>\n      <td>77</td>\n      <td>1000</td>\n      <td>80</td>\n      <td>100yr</td>\n      <td>watts_strogatz</td>\n      <td>1</td>\n      <td>288</td>\n      <td>0.000000e+00</td>\n      <td>...</td>\n      <td>8886421</td>\n      <td>{'EstimatedAverageDamagePerPoorHousehold': 955...</td>\n      <td>{'EstimatedAverageIncomeToDamagePoorHousehold'...</td>\n      <td>Base</td>\n      <td>0.000000</td>\n      <td>0.000000</td>\n      <td>0.000000</td>\n      <td>0.000000</td>\n      <td>0.000000</td>\n      <td>0.000000</td>\n    </tr>\n    <tr>\n      <th>16971</th>\n      <td>397</td>\n      <td>99</td>\n      <td>78</td>\n      <td>1000</td>\n      <td>80</td>\n      <td>100yr</td>\n      <td>watts_strogatz</td>\n      <td>1</td>\n      <td>288</td>\n      <td>0.000000e+00</td>\n      <td>...</td>\n      <td>8886421</td>\n      <td>{'EstimatedAverageDamagePerPoorHousehold': 955...</td>\n      <td>{'EstimatedAverageIncomeToDamagePoorHousehold'...</td>\n      <td>Base</td>\n      <td>0.000000</td>\n      <td>0.000000</td>\n      <td>0.000000</td>\n      <td>0.000000</td>\n      <td>0.000000</td>\n      <td>0.000000</td>\n    </tr>\n    <tr>\n      <th>16972</th>\n      <td>397</td>\n      <td>99</td>\n      <td>79</td>\n      <td>1000</td>\n      <td>80</td>\n      <td>100yr</td>\n      <td>watts_strogatz</td>\n      <td>1</td>\n      <td>290</td>\n      <td>0.000000e+00</td>\n      <td>...</td>\n      <td>9018091</td>\n      <td>{'EstimatedAverageDamagePerPoorHousehold': 955...</td>\n      <td>{'EstimatedAverageIncomeToDamagePoorHousehold'...</td>\n      <td>Base</td>\n      <td>0.000000</td>\n      <td>0.000000</td>\n      <td>0.000000</td>\n      <td>0.000000</td>\n      <td>0.000000</td>\n      <td>0.000000</td>\n    </tr>\n    <tr>\n      <th>16973</th>\n      <td>397</td>\n      <td>99</td>\n      <td>80</td>\n      <td>1000</td>\n      <td>80</td>\n      <td>100yr</td>\n      <td>watts_strogatz</td>\n      <td>1</td>\n      <td>290</td>\n      <td>1.190650e+07</td>\n      <td>...</td>\n      <td>9018091</td>\n      <td>{'EstimatedAverageDamagePerPoorHousehold': 955...</td>\n      <td>{'EstimatedAverageIncomeToDamagePoorHousehold'...</td>\n      <td>Base</td>\n      <td>9030.828838</td>\n      <td>10261.221775</td>\n      <td>29876.846590</td>\n      <td>1.778059</td>\n      <td>0.342041</td>\n      <td>0.337679</td>\n    </tr>\n  </tbody>\n</table>\n<p>16974 rows × 22 columns</p>\n</div>"
     },
     "execution_count": 14,
     "metadata": {},
     "output_type": "execute_result"
    }
   ],
   "source": [
    "def unpack_dictionary(row, column_name):\n",
    "    return pd.Series(row[column_name])\n",
    "\n",
    "#base_case_unpacked = base_case_100_iterations.apply(unpack_dictionary['AverageDamagePerIncomeLabel'], axis = 1)\n",
    "first_column_unpacked = model_vars_policy_experiments_df.apply(unpack_dictionary, args=('AverageDamagePerIncomeLabel',), axis=1)\n",
    "second_column_unpacked = model_vars_policy_experiments_df.apply(unpack_dictionary, args=('AverageIncomeToDamageRatio',), axis=1)\n",
    "policy_experiments_unpacked = pd.concat([model_vars_policy_experiments_df, first_column_unpacked, second_column_unpacked], axis=1)\n",
    "model_vars_policy_experiments_clean = policy_experiments_unpacked.drop(['AverageDamagePerIncomeLabel', 'AverageIncomeToDamageRatio'], axis=1)\n",
    "model_vars_policy_experiments_clean"
   ],
   "metadata": {
    "collapsed": false,
    "ExecuteTime": {
     "end_time": "2024-01-24T14:17:14.815221Z",
     "start_time": "2024-01-24T14:17:05.465321Z"
    }
   },
   "id": "8d446bbdd85250df"
  },
  {
   "cell_type": "code",
   "execution_count": 15,
   "outputs": [
    {
     "data": {
      "text/plain": "       RunId  iteration  Step  number_of_households  number_of_steps  \\\n90         0          0     0                  1000               80   \n91         0          0     1                  1000               80   \n92         0          0     2                  1000               80   \n93         0          0     3                  1000               80   \n94         0          0     4                  1000               80   \n...      ...        ...   ...                   ...              ...   \n16862    399         99    19                  1000               80   \n16863    399         99    20                  1000               80   \n16864    399         99    21                  1000               80   \n16865    399         99    22                  1000               80   \n16866    399         99    23                  1000               80   \n\n      flood_map_choice         network  subsidies_package  \\\n90               100yr  watts_strogatz                  0   \n91               100yr  watts_strogatz                  0   \n92               100yr  watts_strogatz                  0   \n93               100yr  watts_strogatz                  0   \n94               100yr  watts_strogatz                  0   \n...                ...             ...                ...   \n16862            100yr  watts_strogatz                  3   \n16863            100yr  watts_strogatz                  3   \n16864            100yr  watts_strogatz                  3   \n16865            100yr  watts_strogatz                  3   \n16866            100yr  watts_strogatz                  3   \n\n       TotalAdaptedHouseholds  TotalActualDamage  ...  TotalCostsOfSubsidies  \\\n90                          0       0.000000e+00  ...                      0   \n91                         53       0.000000e+00  ...                      0   \n92                        125       0.000000e+00  ...                      0   \n93                        190       0.000000e+00  ...                      0   \n94                        229       0.000000e+00  ...                      0   \n...                       ...                ...  ...                    ...   \n16862                     311       0.000000e+00  ...                 923146   \n16863                     311       0.000000e+00  ...                 923146   \n16864                     311       0.000000e+00  ...                 923146   \n16865                     312       0.000000e+00  ...                 934261   \n16866                     314       1.307764e+07  ...                1098736   \n\n                    EstimatedAverageDamagePerIncomeLabel  \\\n90     {'EstimatedAverageDamagePerPoorHousehold': 154...   \n91     {'EstimatedAverageDamagePerPoorHousehold': 154...   \n92     {'EstimatedAverageDamagePerPoorHousehold': 153...   \n93     {'EstimatedAverageDamagePerPoorHousehold': 145...   \n94     {'EstimatedAverageDamagePerPoorHousehold': 141...   \n...                                                  ...   \n16862  {'EstimatedAverageDamagePerPoorHousehold': 670...   \n16863  {'EstimatedAverageDamagePerPoorHousehold': 670...   \n16864  {'EstimatedAverageDamagePerPoorHousehold': 670...   \n16865  {'EstimatedAverageDamagePerPoorHousehold': 662...   \n16866  {'EstimatedAverageDamagePerPoorHousehold': 662...   \n\n                     EstimatedAverageIncomeToDamageRatio IncomeDistribution  \\\n90     {'EstimatedAverageIncomeToDamagePoorHousehold'...               Base   \n91     {'EstimatedAverageIncomeToDamagePoorHousehold'...               Base   \n92     {'EstimatedAverageIncomeToDamagePoorHousehold'...               Base   \n93     {'EstimatedAverageIncomeToDamagePoorHousehold'...               Base   \n94     {'EstimatedAverageIncomeToDamagePoorHousehold'...               Base   \n...                                                  ...                ...   \n16862  {'EstimatedAverageIncomeToDamagePoorHousehold'...               Base   \n16863  {'EstimatedAverageIncomeToDamagePoorHousehold'...               Base   \n16864  {'EstimatedAverageIncomeToDamagePoorHousehold'...               Base   \n16865  {'EstimatedAverageIncomeToDamagePoorHousehold'...               Base   \n16866  {'EstimatedAverageIncomeToDamagePoorHousehold'...               Base   \n\n      AverageDamagePerPoorHousehold AverageDamagePerMiddleClassHousehold  \\\n90                         0.000000                             0.000000   \n91                         0.000000                             0.000000   \n92                         0.000000                             0.000000   \n93                         0.000000                             0.000000   \n94                         0.000000                             0.000000   \n...                             ...                                  ...   \n16862                      0.000000                             0.000000   \n16863                      0.000000                             0.000000   \n16864                      0.000000                             0.000000   \n16865                      0.000000                             0.000000   \n16866                   6142.071278                         12513.737678   \n\n       AverageDamagePerRichHousehold  AverageIncomeToDamagePoorHousehold  \\\n90                          0.000000                            0.000000   \n91                          0.000000                            0.000000   \n92                          0.000000                            0.000000   \n93                          0.000000                            0.000000   \n94                          0.000000                            0.000000   \n...                              ...                                 ...   \n16862                       0.000000                            0.000000   \n16863                       0.000000                            0.000000   \n16864                       0.000000                            0.000000   \n16865                       0.000000                            0.000000   \n16866                   32383.384371                            1.198585   \n\n       AverageIncomeToDamageMiddleClassHousehold  \\\n90                                      0.000000   \n91                                      0.000000   \n92                                      0.000000   \n93                                      0.000000   \n94                                      0.000000   \n...                                          ...   \n16862                                   0.000000   \n16863                                   0.000000   \n16864                                   0.000000   \n16865                                   0.000000   \n16866                                   0.417246   \n\n       AverageIncomeToDamageRichHousehold  \n90                               0.000000  \n91                               0.000000  \n92                               0.000000  \n93                               0.000000  \n94                               0.000000  \n...                                   ...  \n16862                            0.000000  \n16863                            0.000000  \n16864                            0.000000  \n16865                            0.000000  \n16866                            0.368938  \n\n[16974 rows x 22 columns]",
      "text/html": "<div>\n<style scoped>\n    .dataframe tbody tr th:only-of-type {\n        vertical-align: middle;\n    }\n\n    .dataframe tbody tr th {\n        vertical-align: top;\n    }\n\n    .dataframe thead th {\n        text-align: right;\n    }\n</style>\n<table border=\"1\" class=\"dataframe\">\n  <thead>\n    <tr style=\"text-align: right;\">\n      <th></th>\n      <th>RunId</th>\n      <th>iteration</th>\n      <th>Step</th>\n      <th>number_of_households</th>\n      <th>number_of_steps</th>\n      <th>flood_map_choice</th>\n      <th>network</th>\n      <th>subsidies_package</th>\n      <th>TotalAdaptedHouseholds</th>\n      <th>TotalActualDamage</th>\n      <th>...</th>\n      <th>TotalCostsOfSubsidies</th>\n      <th>EstimatedAverageDamagePerIncomeLabel</th>\n      <th>EstimatedAverageIncomeToDamageRatio</th>\n      <th>IncomeDistribution</th>\n      <th>AverageDamagePerPoorHousehold</th>\n      <th>AverageDamagePerMiddleClassHousehold</th>\n      <th>AverageDamagePerRichHousehold</th>\n      <th>AverageIncomeToDamagePoorHousehold</th>\n      <th>AverageIncomeToDamageMiddleClassHousehold</th>\n      <th>AverageIncomeToDamageRichHousehold</th>\n    </tr>\n  </thead>\n  <tbody>\n    <tr>\n      <th>90</th>\n      <td>0</td>\n      <td>0</td>\n      <td>0</td>\n      <td>1000</td>\n      <td>80</td>\n      <td>100yr</td>\n      <td>watts_strogatz</td>\n      <td>0</td>\n      <td>0</td>\n      <td>0.000000e+00</td>\n      <td>...</td>\n      <td>0</td>\n      <td>{'EstimatedAverageDamagePerPoorHousehold': 154...</td>\n      <td>{'EstimatedAverageIncomeToDamagePoorHousehold'...</td>\n      <td>Base</td>\n      <td>0.000000</td>\n      <td>0.000000</td>\n      <td>0.000000</td>\n      <td>0.000000</td>\n      <td>0.000000</td>\n      <td>0.000000</td>\n    </tr>\n    <tr>\n      <th>91</th>\n      <td>0</td>\n      <td>0</td>\n      <td>1</td>\n      <td>1000</td>\n      <td>80</td>\n      <td>100yr</td>\n      <td>watts_strogatz</td>\n      <td>0</td>\n      <td>53</td>\n      <td>0.000000e+00</td>\n      <td>...</td>\n      <td>0</td>\n      <td>{'EstimatedAverageDamagePerPoorHousehold': 154...</td>\n      <td>{'EstimatedAverageIncomeToDamagePoorHousehold'...</td>\n      <td>Base</td>\n      <td>0.000000</td>\n      <td>0.000000</td>\n      <td>0.000000</td>\n      <td>0.000000</td>\n      <td>0.000000</td>\n      <td>0.000000</td>\n    </tr>\n    <tr>\n      <th>92</th>\n      <td>0</td>\n      <td>0</td>\n      <td>2</td>\n      <td>1000</td>\n      <td>80</td>\n      <td>100yr</td>\n      <td>watts_strogatz</td>\n      <td>0</td>\n      <td>125</td>\n      <td>0.000000e+00</td>\n      <td>...</td>\n      <td>0</td>\n      <td>{'EstimatedAverageDamagePerPoorHousehold': 153...</td>\n      <td>{'EstimatedAverageIncomeToDamagePoorHousehold'...</td>\n      <td>Base</td>\n      <td>0.000000</td>\n      <td>0.000000</td>\n      <td>0.000000</td>\n      <td>0.000000</td>\n      <td>0.000000</td>\n      <td>0.000000</td>\n    </tr>\n    <tr>\n      <th>93</th>\n      <td>0</td>\n      <td>0</td>\n      <td>3</td>\n      <td>1000</td>\n      <td>80</td>\n      <td>100yr</td>\n      <td>watts_strogatz</td>\n      <td>0</td>\n      <td>190</td>\n      <td>0.000000e+00</td>\n      <td>...</td>\n      <td>0</td>\n      <td>{'EstimatedAverageDamagePerPoorHousehold': 145...</td>\n      <td>{'EstimatedAverageIncomeToDamagePoorHousehold'...</td>\n      <td>Base</td>\n      <td>0.000000</td>\n      <td>0.000000</td>\n      <td>0.000000</td>\n      <td>0.000000</td>\n      <td>0.000000</td>\n      <td>0.000000</td>\n    </tr>\n    <tr>\n      <th>94</th>\n      <td>0</td>\n      <td>0</td>\n      <td>4</td>\n      <td>1000</td>\n      <td>80</td>\n      <td>100yr</td>\n      <td>watts_strogatz</td>\n      <td>0</td>\n      <td>229</td>\n      <td>0.000000e+00</td>\n      <td>...</td>\n      <td>0</td>\n      <td>{'EstimatedAverageDamagePerPoorHousehold': 141...</td>\n      <td>{'EstimatedAverageIncomeToDamagePoorHousehold'...</td>\n      <td>Base</td>\n      <td>0.000000</td>\n      <td>0.000000</td>\n      <td>0.000000</td>\n      <td>0.000000</td>\n      <td>0.000000</td>\n      <td>0.000000</td>\n    </tr>\n    <tr>\n      <th>...</th>\n      <td>...</td>\n      <td>...</td>\n      <td>...</td>\n      <td>...</td>\n      <td>...</td>\n      <td>...</td>\n      <td>...</td>\n      <td>...</td>\n      <td>...</td>\n      <td>...</td>\n      <td>...</td>\n      <td>...</td>\n      <td>...</td>\n      <td>...</td>\n      <td>...</td>\n      <td>...</td>\n      <td>...</td>\n      <td>...</td>\n      <td>...</td>\n      <td>...</td>\n      <td>...</td>\n    </tr>\n    <tr>\n      <th>16862</th>\n      <td>399</td>\n      <td>99</td>\n      <td>19</td>\n      <td>1000</td>\n      <td>80</td>\n      <td>100yr</td>\n      <td>watts_strogatz</td>\n      <td>3</td>\n      <td>311</td>\n      <td>0.000000e+00</td>\n      <td>...</td>\n      <td>923146</td>\n      <td>{'EstimatedAverageDamagePerPoorHousehold': 670...</td>\n      <td>{'EstimatedAverageIncomeToDamagePoorHousehold'...</td>\n      <td>Base</td>\n      <td>0.000000</td>\n      <td>0.000000</td>\n      <td>0.000000</td>\n      <td>0.000000</td>\n      <td>0.000000</td>\n      <td>0.000000</td>\n    </tr>\n    <tr>\n      <th>16863</th>\n      <td>399</td>\n      <td>99</td>\n      <td>20</td>\n      <td>1000</td>\n      <td>80</td>\n      <td>100yr</td>\n      <td>watts_strogatz</td>\n      <td>3</td>\n      <td>311</td>\n      <td>0.000000e+00</td>\n      <td>...</td>\n      <td>923146</td>\n      <td>{'EstimatedAverageDamagePerPoorHousehold': 670...</td>\n      <td>{'EstimatedAverageIncomeToDamagePoorHousehold'...</td>\n      <td>Base</td>\n      <td>0.000000</td>\n      <td>0.000000</td>\n      <td>0.000000</td>\n      <td>0.000000</td>\n      <td>0.000000</td>\n      <td>0.000000</td>\n    </tr>\n    <tr>\n      <th>16864</th>\n      <td>399</td>\n      <td>99</td>\n      <td>21</td>\n      <td>1000</td>\n      <td>80</td>\n      <td>100yr</td>\n      <td>watts_strogatz</td>\n      <td>3</td>\n      <td>311</td>\n      <td>0.000000e+00</td>\n      <td>...</td>\n      <td>923146</td>\n      <td>{'EstimatedAverageDamagePerPoorHousehold': 670...</td>\n      <td>{'EstimatedAverageIncomeToDamagePoorHousehold'...</td>\n      <td>Base</td>\n      <td>0.000000</td>\n      <td>0.000000</td>\n      <td>0.000000</td>\n      <td>0.000000</td>\n      <td>0.000000</td>\n      <td>0.000000</td>\n    </tr>\n    <tr>\n      <th>16865</th>\n      <td>399</td>\n      <td>99</td>\n      <td>22</td>\n      <td>1000</td>\n      <td>80</td>\n      <td>100yr</td>\n      <td>watts_strogatz</td>\n      <td>3</td>\n      <td>312</td>\n      <td>0.000000e+00</td>\n      <td>...</td>\n      <td>934261</td>\n      <td>{'EstimatedAverageDamagePerPoorHousehold': 662...</td>\n      <td>{'EstimatedAverageIncomeToDamagePoorHousehold'...</td>\n      <td>Base</td>\n      <td>0.000000</td>\n      <td>0.000000</td>\n      <td>0.000000</td>\n      <td>0.000000</td>\n      <td>0.000000</td>\n      <td>0.000000</td>\n    </tr>\n    <tr>\n      <th>16866</th>\n      <td>399</td>\n      <td>99</td>\n      <td>23</td>\n      <td>1000</td>\n      <td>80</td>\n      <td>100yr</td>\n      <td>watts_strogatz</td>\n      <td>3</td>\n      <td>314</td>\n      <td>1.307764e+07</td>\n      <td>...</td>\n      <td>1098736</td>\n      <td>{'EstimatedAverageDamagePerPoorHousehold': 662...</td>\n      <td>{'EstimatedAverageIncomeToDamagePoorHousehold'...</td>\n      <td>Base</td>\n      <td>6142.071278</td>\n      <td>12513.737678</td>\n      <td>32383.384371</td>\n      <td>1.198585</td>\n      <td>0.417246</td>\n      <td>0.368938</td>\n    </tr>\n  </tbody>\n</table>\n<p>16974 rows × 22 columns</p>\n</div>"
     },
     "execution_count": 15,
     "metadata": {},
     "output_type": "execute_result"
    }
   ],
   "source": [
    "df_sorted = model_vars_policy_experiments_clean.sort_values(by=['RunId', 'Step'])\n",
    "df_sorted"
   ],
   "metadata": {
    "collapsed": false,
    "ExecuteTime": {
     "end_time": "2024-01-24T14:19:50.502927Z",
     "start_time": "2024-01-24T14:19:50.388315Z"
    }
   },
   "id": "fba371b2954b235d"
  },
  {
   "cell_type": "code",
   "execution_count": null,
   "outputs": [],
   "source": [],
   "metadata": {
    "collapsed": false
   },
   "id": "844795ea780c81eb"
  },
  {
   "cell_type": "code",
   "execution_count": 16,
   "outputs": [],
   "source": [
    "output_data_path = r'../output_data/PolicyExperimentsModelVars.csv'\n",
    "df_sorted.to_csv(output_data_path, index=False)"
   ],
   "metadata": {
    "collapsed": false,
    "ExecuteTime": {
     "end_time": "2024-01-24T14:22:31.291126Z",
     "start_time": "2024-01-24T14:22:30.551377Z"
    }
   },
   "id": "5a925171232b1c89"
  },
  {
   "cell_type": "code",
   "execution_count": null,
   "outputs": [],
   "source": [],
   "metadata": {
    "collapsed": false
   },
   "id": "1fef3bebc9b668ec"
  }
 ],
 "metadata": {
  "kernelspec": {
   "display_name": "Python 3",
   "language": "python",
   "name": "python3"
  },
  "language_info": {
   "codemirror_mode": {
    "name": "ipython",
    "version": 2
   },
   "file_extension": ".py",
   "mimetype": "text/x-python",
   "name": "python",
   "nbconvert_exporter": "python",
   "pygments_lexer": "ipython2",
   "version": "2.7.6"
  }
 },
 "nbformat": 4,
 "nbformat_minor": 5
}
