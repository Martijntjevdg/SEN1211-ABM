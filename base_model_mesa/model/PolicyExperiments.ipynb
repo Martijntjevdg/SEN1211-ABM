{
 "cells": [
  {
   "cell_type": "code",
   "execution_count": 1,
   "id": "initial_id",
   "metadata": {
    "collapsed": true,
    "ExecuteTime": {
     "end_time": "2024-01-24T12:41:30.756853Z",
     "start_time": "2024-01-24T12:41:18.636019Z"
    }
   },
   "outputs": [],
   "source": [
    "from model import AdaptationModel\n",
    "from mesa.batchrunner import batch_run\n",
    "import pandas as pd"
   ]
  },
  {
   "cell_type": "code",
   "execution_count": 2,
   "outputs": [
    {
     "data": {
      "text/plain": "  0%|          | 0/400 [00:00<?, ?it/s]",
      "application/vnd.jupyter.widget-view+json": {
       "version_major": 2,
       "version_minor": 0,
       "model_id": "978dc623e1da46889a59a400cdf2e836"
      }
     },
     "metadata": {},
     "output_type": "display_data"
    }
   ],
   "source": [
    "model_params = {\n",
    "    \"number_of_households\": 1000,\n",
    "    \"number_of_steps\": 80,\n",
    "    \"flood_map_choice\": \"harvey\",\n",
    "    \"network\": \"watts_strogatz\",\n",
    "    \"subsidies_package\":[0,1,2,3]\n",
    "}\n",
    "\n",
    "results = batch_run(\n",
    "    model_cls=AdaptationModel,\n",
    "    parameters=model_params,\n",
    "    number_processes=4,  # Set to None if you want to use all CPUs\n",
    "    iterations=100,  # Number of iterations for each parameter combination\n",
    "    data_collection_period=1,  # Collect data at the end of each run\n",
    "    max_steps=model_params[\"number_of_steps\"],  # Maximum number of model steps\n",
    "    display_progress=True  # Display progress bar\n",
    ")\n",
    "\n",
    "df = pd.DataFrame(results)\n",
    "\n",
    "model_vars_policy_experiments_df = df"
   ],
   "metadata": {
    "collapsed": false,
    "ExecuteTime": {
     "end_time": "2024-01-24T12:43:41.685612Z",
     "start_time": "2024-01-24T12:41:53.424869Z"
    }
   },
   "id": "e3b05895e5dc44f2"
  },
  {
   "cell_type": "code",
   "outputs": [
    {
     "ename": "NameError",
     "evalue": "name 'df' is not defined",
     "output_type": "error",
     "traceback": [
      "\u001B[1;31m---------------------------------------------------------------------------\u001B[0m",
      "\u001B[1;31mNameError\u001B[0m                                 Traceback (most recent call last)",
      "Cell \u001B[1;32mIn[1], line 1\u001B[0m\n\u001B[1;32m----> 1\u001B[0m \u001B[43mdf\u001B[49m\n",
      "\u001B[1;31mNameError\u001B[0m: name 'df' is not defined"
     ]
    }
   ],
   "source": [],
   "metadata": {
    "collapsed": false,
    "ExecuteTime": {
     "end_time": "2024-01-24T11:30:12.554248700Z",
     "start_time": "2024-01-24T11:30:12.158031400Z"
    }
   },
   "id": "3b0855fb0c9587cb",
   "execution_count": 1
  },
  {
   "cell_type": "code",
   "execution_count": 3,
   "outputs": [
    {
     "data": {
      "text/plain": "       RunId  iteration  Step  number_of_households  number_of_steps  \\\n0          0          0     0                  1000               80   \n1          0          0     1                  1000               80   \n2          1          0     0                  1000               80   \n3          1          0     1                  1000               80   \n4          1          0     2                  1000               80   \n...      ...        ...   ...                   ...              ...   \n16453    397         99    48                  1000               80   \n16454    397         99    49                  1000               80   \n16455    397         99    50                  1000               80   \n16456    397         99    51                  1000               80   \n16457    397         99    52                  1000               80   \n\n      flood_map_choice         network  subsidies_package  \\\n0               harvey  watts_strogatz                  0   \n1               harvey  watts_strogatz                  0   \n2               harvey  watts_strogatz                  1   \n3               harvey  watts_strogatz                  1   \n4               harvey  watts_strogatz                  1   \n...                ...             ...                ...   \n16453           harvey  watts_strogatz                  1   \n16454           harvey  watts_strogatz                  1   \n16455           harvey  watts_strogatz                  1   \n16456           harvey  watts_strogatz                  1   \n16457           harvey  watts_strogatz                  1   \n\n       TotalAdaptedHouseholds  TotalActualDamage  TotalExpectedDamage  \\\n0                           0       0.000000e+00         7.902932e+07   \n1                         158       7.198383e+07         7.613207e+07   \n2                           0       0.000000e+00         7.531382e+07   \n3                         178       0.000000e+00         7.232909e+07   \n4                         264       0.000000e+00         7.102227e+07   \n...                       ...                ...                  ...   \n16453                     430       0.000000e+00         5.112107e+07   \n16454                     430       0.000000e+00         5.112107e+07   \n16455                     434       0.000000e+00         5.089116e+07   \n16456                     436       0.000000e+00         5.071138e+07   \n16457                     436       4.818246e+07         5.071138e+07   \n\n       TotalAdaptationCosts  TotalCostsOfSubsidies IncomeDistribution  \\\n0                         0                      0               Base   \n1                    228750                      0               Base   \n2                         0                      0               Base   \n3                    156880                  98030               Base   \n4                    291626                 169644               Base   \n...                     ...                    ...                ...   \n16453              15555654               14634576               Base   \n16454              15555654               14634576               Base   \n16455              15738654               14808426               Base   \n16456              15867354               14930691               Base   \n16457              15867354               14930691               Base   \n\n       AverageDamagePerPoorHousehold  AverageDamagePerMiddleClassHousehold  \\\n0                           0.000000                              0.000000   \n1                       35482.144423                          67107.017426   \n2                           0.000000                              0.000000   \n3                           0.000000                              0.000000   \n4                           0.000000                              0.000000   \n...                              ...                                   ...   \n16453                       0.000000                              0.000000   \n16454                       0.000000                              0.000000   \n16455                       0.000000                              0.000000   \n16456                       0.000000                              0.000000   \n16457                   30459.720989                          42137.530218   \n\n       AverageDamagePerRichHousehold  AverageIncomeToDamagePoorHousehold  \\\n0                           0.000000                            0.000000   \n1                      180261.912302                            7.332050   \n2                           0.000000                            0.000000   \n3                           0.000000                            0.000000   \n4                           0.000000                            0.000000   \n...                              ...                                 ...   \n16453                       0.000000                            0.000000   \n16454                       0.000000                            0.000000   \n16455                       0.000000                            0.000000   \n16456                       0.000000                            0.000000   \n16457                  120552.752069                            6.289675   \n\n       AverageIncomeToDamageMiddleClassHousehold  \\\n0                                       0.000000   \n1                                       2.315587   \n2                                       0.000000   \n3                                       0.000000   \n4                                       0.000000   \n...                                          ...   \n16453                                   0.000000   \n16454                                   0.000000   \n16455                                   0.000000   \n16456                                   0.000000   \n16457                                   1.413800   \n\n       AverageIncomeToDamageRichHousehold  \n0                                0.000000  \n1                                2.098275  \n2                                0.000000  \n3                                0.000000  \n4                                0.000000  \n...                                   ...  \n16453                            0.000000  \n16454                            0.000000  \n16455                            0.000000  \n16456                            0.000000  \n16457                            1.336802  \n\n[16458 rows x 20 columns]",
      "text/html": "<div>\n<style scoped>\n    .dataframe tbody tr th:only-of-type {\n        vertical-align: middle;\n    }\n\n    .dataframe tbody tr th {\n        vertical-align: top;\n    }\n\n    .dataframe thead th {\n        text-align: right;\n    }\n</style>\n<table border=\"1\" class=\"dataframe\">\n  <thead>\n    <tr style=\"text-align: right;\">\n      <th></th>\n      <th>RunId</th>\n      <th>iteration</th>\n      <th>Step</th>\n      <th>number_of_households</th>\n      <th>number_of_steps</th>\n      <th>flood_map_choice</th>\n      <th>network</th>\n      <th>subsidies_package</th>\n      <th>TotalAdaptedHouseholds</th>\n      <th>TotalActualDamage</th>\n      <th>TotalExpectedDamage</th>\n      <th>TotalAdaptationCosts</th>\n      <th>TotalCostsOfSubsidies</th>\n      <th>IncomeDistribution</th>\n      <th>AverageDamagePerPoorHousehold</th>\n      <th>AverageDamagePerMiddleClassHousehold</th>\n      <th>AverageDamagePerRichHousehold</th>\n      <th>AverageIncomeToDamagePoorHousehold</th>\n      <th>AverageIncomeToDamageMiddleClassHousehold</th>\n      <th>AverageIncomeToDamageRichHousehold</th>\n    </tr>\n  </thead>\n  <tbody>\n    <tr>\n      <th>0</th>\n      <td>0</td>\n      <td>0</td>\n      <td>0</td>\n      <td>1000</td>\n      <td>80</td>\n      <td>harvey</td>\n      <td>watts_strogatz</td>\n      <td>0</td>\n      <td>0</td>\n      <td>0.000000e+00</td>\n      <td>7.902932e+07</td>\n      <td>0</td>\n      <td>0</td>\n      <td>Base</td>\n      <td>0.000000</td>\n      <td>0.000000</td>\n      <td>0.000000</td>\n      <td>0.000000</td>\n      <td>0.000000</td>\n      <td>0.000000</td>\n    </tr>\n    <tr>\n      <th>1</th>\n      <td>0</td>\n      <td>0</td>\n      <td>1</td>\n      <td>1000</td>\n      <td>80</td>\n      <td>harvey</td>\n      <td>watts_strogatz</td>\n      <td>0</td>\n      <td>158</td>\n      <td>7.198383e+07</td>\n      <td>7.613207e+07</td>\n      <td>228750</td>\n      <td>0</td>\n      <td>Base</td>\n      <td>35482.144423</td>\n      <td>67107.017426</td>\n      <td>180261.912302</td>\n      <td>7.332050</td>\n      <td>2.315587</td>\n      <td>2.098275</td>\n    </tr>\n    <tr>\n      <th>2</th>\n      <td>1</td>\n      <td>0</td>\n      <td>0</td>\n      <td>1000</td>\n      <td>80</td>\n      <td>harvey</td>\n      <td>watts_strogatz</td>\n      <td>1</td>\n      <td>0</td>\n      <td>0.000000e+00</td>\n      <td>7.531382e+07</td>\n      <td>0</td>\n      <td>0</td>\n      <td>Base</td>\n      <td>0.000000</td>\n      <td>0.000000</td>\n      <td>0.000000</td>\n      <td>0.000000</td>\n      <td>0.000000</td>\n      <td>0.000000</td>\n    </tr>\n    <tr>\n      <th>3</th>\n      <td>1</td>\n      <td>0</td>\n      <td>1</td>\n      <td>1000</td>\n      <td>80</td>\n      <td>harvey</td>\n      <td>watts_strogatz</td>\n      <td>1</td>\n      <td>178</td>\n      <td>0.000000e+00</td>\n      <td>7.232909e+07</td>\n      <td>156880</td>\n      <td>98030</td>\n      <td>Base</td>\n      <td>0.000000</td>\n      <td>0.000000</td>\n      <td>0.000000</td>\n      <td>0.000000</td>\n      <td>0.000000</td>\n      <td>0.000000</td>\n    </tr>\n    <tr>\n      <th>4</th>\n      <td>1</td>\n      <td>0</td>\n      <td>2</td>\n      <td>1000</td>\n      <td>80</td>\n      <td>harvey</td>\n      <td>watts_strogatz</td>\n      <td>1</td>\n      <td>264</td>\n      <td>0.000000e+00</td>\n      <td>7.102227e+07</td>\n      <td>291626</td>\n      <td>169644</td>\n      <td>Base</td>\n      <td>0.000000</td>\n      <td>0.000000</td>\n      <td>0.000000</td>\n      <td>0.000000</td>\n      <td>0.000000</td>\n      <td>0.000000</td>\n    </tr>\n    <tr>\n      <th>...</th>\n      <td>...</td>\n      <td>...</td>\n      <td>...</td>\n      <td>...</td>\n      <td>...</td>\n      <td>...</td>\n      <td>...</td>\n      <td>...</td>\n      <td>...</td>\n      <td>...</td>\n      <td>...</td>\n      <td>...</td>\n      <td>...</td>\n      <td>...</td>\n      <td>...</td>\n      <td>...</td>\n      <td>...</td>\n      <td>...</td>\n      <td>...</td>\n      <td>...</td>\n    </tr>\n    <tr>\n      <th>16453</th>\n      <td>397</td>\n      <td>99</td>\n      <td>48</td>\n      <td>1000</td>\n      <td>80</td>\n      <td>harvey</td>\n      <td>watts_strogatz</td>\n      <td>1</td>\n      <td>430</td>\n      <td>0.000000e+00</td>\n      <td>5.112107e+07</td>\n      <td>15555654</td>\n      <td>14634576</td>\n      <td>Base</td>\n      <td>0.000000</td>\n      <td>0.000000</td>\n      <td>0.000000</td>\n      <td>0.000000</td>\n      <td>0.000000</td>\n      <td>0.000000</td>\n    </tr>\n    <tr>\n      <th>16454</th>\n      <td>397</td>\n      <td>99</td>\n      <td>49</td>\n      <td>1000</td>\n      <td>80</td>\n      <td>harvey</td>\n      <td>watts_strogatz</td>\n      <td>1</td>\n      <td>430</td>\n      <td>0.000000e+00</td>\n      <td>5.112107e+07</td>\n      <td>15555654</td>\n      <td>14634576</td>\n      <td>Base</td>\n      <td>0.000000</td>\n      <td>0.000000</td>\n      <td>0.000000</td>\n      <td>0.000000</td>\n      <td>0.000000</td>\n      <td>0.000000</td>\n    </tr>\n    <tr>\n      <th>16455</th>\n      <td>397</td>\n      <td>99</td>\n      <td>50</td>\n      <td>1000</td>\n      <td>80</td>\n      <td>harvey</td>\n      <td>watts_strogatz</td>\n      <td>1</td>\n      <td>434</td>\n      <td>0.000000e+00</td>\n      <td>5.089116e+07</td>\n      <td>15738654</td>\n      <td>14808426</td>\n      <td>Base</td>\n      <td>0.000000</td>\n      <td>0.000000</td>\n      <td>0.000000</td>\n      <td>0.000000</td>\n      <td>0.000000</td>\n      <td>0.000000</td>\n    </tr>\n    <tr>\n      <th>16456</th>\n      <td>397</td>\n      <td>99</td>\n      <td>51</td>\n      <td>1000</td>\n      <td>80</td>\n      <td>harvey</td>\n      <td>watts_strogatz</td>\n      <td>1</td>\n      <td>436</td>\n      <td>0.000000e+00</td>\n      <td>5.071138e+07</td>\n      <td>15867354</td>\n      <td>14930691</td>\n      <td>Base</td>\n      <td>0.000000</td>\n      <td>0.000000</td>\n      <td>0.000000</td>\n      <td>0.000000</td>\n      <td>0.000000</td>\n      <td>0.000000</td>\n    </tr>\n    <tr>\n      <th>16457</th>\n      <td>397</td>\n      <td>99</td>\n      <td>52</td>\n      <td>1000</td>\n      <td>80</td>\n      <td>harvey</td>\n      <td>watts_strogatz</td>\n      <td>1</td>\n      <td>436</td>\n      <td>4.818246e+07</td>\n      <td>5.071138e+07</td>\n      <td>15867354</td>\n      <td>14930691</td>\n      <td>Base</td>\n      <td>30459.720989</td>\n      <td>42137.530218</td>\n      <td>120552.752069</td>\n      <td>6.289675</td>\n      <td>1.413800</td>\n      <td>1.336802</td>\n    </tr>\n  </tbody>\n</table>\n<p>16458 rows × 20 columns</p>\n</div>"
     },
     "execution_count": 3,
     "metadata": {},
     "output_type": "execute_result"
    }
   ],
   "source": [
    "def unpack_dictionary(row, column_name):\n",
    "    return pd.Series(row[column_name])\n",
    "\n",
    "#base_case_unpacked = base_case_100_iterations.apply(unpack_dictionary['AverageDamagePerIncomeLabel'], axis = 1)\n",
    "first_column_unpacked = model_vars_policy_experiments_df.apply(unpack_dictionary, args=('AverageDamagePerIncomeLabel',), axis=1)\n",
    "second_column_unpacked = model_vars_policy_experiments_df.apply(unpack_dictionary, args=('AverageIncomeToDamageRatio',), axis=1)\n",
    "policy_experiments_unpacked = pd.concat([model_vars_policy_experiments_df, first_column_unpacked, second_column_unpacked], axis=1)\n",
    "model_vars_policy_experiments_clean = policy_experiments_unpacked.drop(['AverageDamagePerIncomeLabel', 'AverageIncomeToDamageRatio'], axis=1)\n",
    "model_vars_policy_experiments_clean"
   ],
   "metadata": {
    "collapsed": false,
    "ExecuteTime": {
     "end_time": "2024-01-24T12:44:08.472331Z",
     "start_time": "2024-01-24T12:43:59.076675Z"
    }
   },
   "id": "8d446bbdd85250df"
  },
  {
   "cell_type": "code",
   "execution_count": 4,
   "outputs": [
    {
     "data": {
      "text/plain": "       RunId  iteration  Step  number_of_households  number_of_steps  \\\n0          0          0     0                  1000               80   \n1          0          0     1                  1000               80   \n2          1          0     0                  1000               80   \n3          1          0     1                  1000               80   \n4          1          0     2                  1000               80   \n...      ...        ...   ...                   ...              ...   \n16400    399         99    15                  1000               80   \n16401    399         99    16                  1000               80   \n16402    399         99    17                  1000               80   \n16403    399         99    18                  1000               80   \n16404    399         99    19                  1000               80   \n\n      flood_map_choice         network  subsidies_package  \\\n0               harvey  watts_strogatz                  0   \n1               harvey  watts_strogatz                  0   \n2               harvey  watts_strogatz                  1   \n3               harvey  watts_strogatz                  1   \n4               harvey  watts_strogatz                  1   \n...                ...             ...                ...   \n16400           harvey  watts_strogatz                  3   \n16401           harvey  watts_strogatz                  3   \n16402           harvey  watts_strogatz                  3   \n16403           harvey  watts_strogatz                  3   \n16404           harvey  watts_strogatz                  3   \n\n       TotalAdaptedHouseholds  TotalActualDamage  TotalExpectedDamage  \\\n0                           0       0.000000e+00         7.902932e+07   \n1                         158       7.198383e+07         7.613207e+07   \n2                           0       0.000000e+00         7.531382e+07   \n3                         178       0.000000e+00         7.232909e+07   \n4                         264       0.000000e+00         7.102227e+07   \n...                       ...                ...                  ...   \n16400                     569       0.000000e+00         4.727755e+07   \n16401                     575       0.000000e+00         4.669369e+07   \n16402                     579       0.000000e+00         4.639784e+07   \n16403                     585       0.000000e+00         4.554711e+07   \n16404                     587       4.292987e+07         4.537856e+07   \n\n       TotalAdaptationCosts  TotalCostsOfSubsidies IncomeDistribution  \\\n0                         0                      0               Base   \n1                    228750                      0               Base   \n2                         0                      0               Base   \n3                    156880                  98030               Base   \n4                    291626                 169644               Base   \n...                     ...                    ...                ...   \n16400               3297743                2462622               Base   \n16401               3544283                2686062               Base   \n16402               3688673                2901492               Base   \n16403               4176473                3364902               Base   \n16404               4209623                3449727               Base   \n\n       AverageDamagePerPoorHousehold  AverageDamagePerMiddleClassHousehold  \\\n0                           0.000000                              0.000000   \n1                       35482.144423                          67107.017426   \n2                           0.000000                              0.000000   \n3                           0.000000                              0.000000   \n4                           0.000000                              0.000000   \n...                              ...                                   ...   \n16400                       0.000000                              0.000000   \n16401                       0.000000                              0.000000   \n16402                       0.000000                              0.000000   \n16403                       0.000000                              0.000000   \n16404                   22742.690275                          42971.378309   \n\n       AverageDamagePerRichHousehold  AverageIncomeToDamagePoorHousehold  \\\n0                           0.000000                            0.000000   \n1                      180261.912302                            7.332050   \n2                           0.000000                            0.000000   \n3                           0.000000                            0.000000   \n4                           0.000000                            0.000000   \n...                              ...                                 ...   \n16400                       0.000000                            0.000000   \n16401                       0.000000                            0.000000   \n16402                       0.000000                            0.000000   \n16403                       0.000000                            0.000000   \n16404                   91433.991496                            4.624973   \n\n       AverageIncomeToDamageMiddleClassHousehold  \\\n0                                       0.000000   \n1                                       2.315587   \n2                                       0.000000   \n3                                       0.000000   \n4                                       0.000000   \n...                                          ...   \n16400                                   0.000000   \n16401                                   0.000000   \n16402                                   0.000000   \n16403                                   0.000000   \n16404                                   1.470115   \n\n       AverageIncomeToDamageRichHousehold  \n0                                0.000000  \n1                                2.098275  \n2                                0.000000  \n3                                0.000000  \n4                                0.000000  \n...                                   ...  \n16400                            0.000000  \n16401                            0.000000  \n16402                            0.000000  \n16403                            0.000000  \n16404                            1.031306  \n\n[16458 rows x 20 columns]",
      "text/html": "<div>\n<style scoped>\n    .dataframe tbody tr th:only-of-type {\n        vertical-align: middle;\n    }\n\n    .dataframe tbody tr th {\n        vertical-align: top;\n    }\n\n    .dataframe thead th {\n        text-align: right;\n    }\n</style>\n<table border=\"1\" class=\"dataframe\">\n  <thead>\n    <tr style=\"text-align: right;\">\n      <th></th>\n      <th>RunId</th>\n      <th>iteration</th>\n      <th>Step</th>\n      <th>number_of_households</th>\n      <th>number_of_steps</th>\n      <th>flood_map_choice</th>\n      <th>network</th>\n      <th>subsidies_package</th>\n      <th>TotalAdaptedHouseholds</th>\n      <th>TotalActualDamage</th>\n      <th>TotalExpectedDamage</th>\n      <th>TotalAdaptationCosts</th>\n      <th>TotalCostsOfSubsidies</th>\n      <th>IncomeDistribution</th>\n      <th>AverageDamagePerPoorHousehold</th>\n      <th>AverageDamagePerMiddleClassHousehold</th>\n      <th>AverageDamagePerRichHousehold</th>\n      <th>AverageIncomeToDamagePoorHousehold</th>\n      <th>AverageIncomeToDamageMiddleClassHousehold</th>\n      <th>AverageIncomeToDamageRichHousehold</th>\n    </tr>\n  </thead>\n  <tbody>\n    <tr>\n      <th>0</th>\n      <td>0</td>\n      <td>0</td>\n      <td>0</td>\n      <td>1000</td>\n      <td>80</td>\n      <td>harvey</td>\n      <td>watts_strogatz</td>\n      <td>0</td>\n      <td>0</td>\n      <td>0.000000e+00</td>\n      <td>7.902932e+07</td>\n      <td>0</td>\n      <td>0</td>\n      <td>Base</td>\n      <td>0.000000</td>\n      <td>0.000000</td>\n      <td>0.000000</td>\n      <td>0.000000</td>\n      <td>0.000000</td>\n      <td>0.000000</td>\n    </tr>\n    <tr>\n      <th>1</th>\n      <td>0</td>\n      <td>0</td>\n      <td>1</td>\n      <td>1000</td>\n      <td>80</td>\n      <td>harvey</td>\n      <td>watts_strogatz</td>\n      <td>0</td>\n      <td>158</td>\n      <td>7.198383e+07</td>\n      <td>7.613207e+07</td>\n      <td>228750</td>\n      <td>0</td>\n      <td>Base</td>\n      <td>35482.144423</td>\n      <td>67107.017426</td>\n      <td>180261.912302</td>\n      <td>7.332050</td>\n      <td>2.315587</td>\n      <td>2.098275</td>\n    </tr>\n    <tr>\n      <th>2</th>\n      <td>1</td>\n      <td>0</td>\n      <td>0</td>\n      <td>1000</td>\n      <td>80</td>\n      <td>harvey</td>\n      <td>watts_strogatz</td>\n      <td>1</td>\n      <td>0</td>\n      <td>0.000000e+00</td>\n      <td>7.531382e+07</td>\n      <td>0</td>\n      <td>0</td>\n      <td>Base</td>\n      <td>0.000000</td>\n      <td>0.000000</td>\n      <td>0.000000</td>\n      <td>0.000000</td>\n      <td>0.000000</td>\n      <td>0.000000</td>\n    </tr>\n    <tr>\n      <th>3</th>\n      <td>1</td>\n      <td>0</td>\n      <td>1</td>\n      <td>1000</td>\n      <td>80</td>\n      <td>harvey</td>\n      <td>watts_strogatz</td>\n      <td>1</td>\n      <td>178</td>\n      <td>0.000000e+00</td>\n      <td>7.232909e+07</td>\n      <td>156880</td>\n      <td>98030</td>\n      <td>Base</td>\n      <td>0.000000</td>\n      <td>0.000000</td>\n      <td>0.000000</td>\n      <td>0.000000</td>\n      <td>0.000000</td>\n      <td>0.000000</td>\n    </tr>\n    <tr>\n      <th>4</th>\n      <td>1</td>\n      <td>0</td>\n      <td>2</td>\n      <td>1000</td>\n      <td>80</td>\n      <td>harvey</td>\n      <td>watts_strogatz</td>\n      <td>1</td>\n      <td>264</td>\n      <td>0.000000e+00</td>\n      <td>7.102227e+07</td>\n      <td>291626</td>\n      <td>169644</td>\n      <td>Base</td>\n      <td>0.000000</td>\n      <td>0.000000</td>\n      <td>0.000000</td>\n      <td>0.000000</td>\n      <td>0.000000</td>\n      <td>0.000000</td>\n    </tr>\n    <tr>\n      <th>...</th>\n      <td>...</td>\n      <td>...</td>\n      <td>...</td>\n      <td>...</td>\n      <td>...</td>\n      <td>...</td>\n      <td>...</td>\n      <td>...</td>\n      <td>...</td>\n      <td>...</td>\n      <td>...</td>\n      <td>...</td>\n      <td>...</td>\n      <td>...</td>\n      <td>...</td>\n      <td>...</td>\n      <td>...</td>\n      <td>...</td>\n      <td>...</td>\n      <td>...</td>\n    </tr>\n    <tr>\n      <th>16400</th>\n      <td>399</td>\n      <td>99</td>\n      <td>15</td>\n      <td>1000</td>\n      <td>80</td>\n      <td>harvey</td>\n      <td>watts_strogatz</td>\n      <td>3</td>\n      <td>569</td>\n      <td>0.000000e+00</td>\n      <td>4.727755e+07</td>\n      <td>3297743</td>\n      <td>2462622</td>\n      <td>Base</td>\n      <td>0.000000</td>\n      <td>0.000000</td>\n      <td>0.000000</td>\n      <td>0.000000</td>\n      <td>0.000000</td>\n      <td>0.000000</td>\n    </tr>\n    <tr>\n      <th>16401</th>\n      <td>399</td>\n      <td>99</td>\n      <td>16</td>\n      <td>1000</td>\n      <td>80</td>\n      <td>harvey</td>\n      <td>watts_strogatz</td>\n      <td>3</td>\n      <td>575</td>\n      <td>0.000000e+00</td>\n      <td>4.669369e+07</td>\n      <td>3544283</td>\n      <td>2686062</td>\n      <td>Base</td>\n      <td>0.000000</td>\n      <td>0.000000</td>\n      <td>0.000000</td>\n      <td>0.000000</td>\n      <td>0.000000</td>\n      <td>0.000000</td>\n    </tr>\n    <tr>\n      <th>16402</th>\n      <td>399</td>\n      <td>99</td>\n      <td>17</td>\n      <td>1000</td>\n      <td>80</td>\n      <td>harvey</td>\n      <td>watts_strogatz</td>\n      <td>3</td>\n      <td>579</td>\n      <td>0.000000e+00</td>\n      <td>4.639784e+07</td>\n      <td>3688673</td>\n      <td>2901492</td>\n      <td>Base</td>\n      <td>0.000000</td>\n      <td>0.000000</td>\n      <td>0.000000</td>\n      <td>0.000000</td>\n      <td>0.000000</td>\n      <td>0.000000</td>\n    </tr>\n    <tr>\n      <th>16403</th>\n      <td>399</td>\n      <td>99</td>\n      <td>18</td>\n      <td>1000</td>\n      <td>80</td>\n      <td>harvey</td>\n      <td>watts_strogatz</td>\n      <td>3</td>\n      <td>585</td>\n      <td>0.000000e+00</td>\n      <td>4.554711e+07</td>\n      <td>4176473</td>\n      <td>3364902</td>\n      <td>Base</td>\n      <td>0.000000</td>\n      <td>0.000000</td>\n      <td>0.000000</td>\n      <td>0.000000</td>\n      <td>0.000000</td>\n      <td>0.000000</td>\n    </tr>\n    <tr>\n      <th>16404</th>\n      <td>399</td>\n      <td>99</td>\n      <td>19</td>\n      <td>1000</td>\n      <td>80</td>\n      <td>harvey</td>\n      <td>watts_strogatz</td>\n      <td>3</td>\n      <td>587</td>\n      <td>4.292987e+07</td>\n      <td>4.537856e+07</td>\n      <td>4209623</td>\n      <td>3449727</td>\n      <td>Base</td>\n      <td>22742.690275</td>\n      <td>42971.378309</td>\n      <td>91433.991496</td>\n      <td>4.624973</td>\n      <td>1.470115</td>\n      <td>1.031306</td>\n    </tr>\n  </tbody>\n</table>\n<p>16458 rows × 20 columns</p>\n</div>"
     },
     "execution_count": 4,
     "metadata": {},
     "output_type": "execute_result"
    }
   ],
   "source": [
    "df_sorted = model_vars_policy_experiments_clean.sort_values(by=['RunId', 'Step'])\n",
    "df_sorted"
   ],
   "metadata": {
    "collapsed": false,
    "ExecuteTime": {
     "end_time": "2024-01-24T12:45:19.042590Z",
     "start_time": "2024-01-24T12:45:18.999323Z"
    }
   },
   "id": "fba371b2954b235d"
  },
  {
   "cell_type": "code",
   "execution_count": 5,
   "outputs": [],
   "source": [
    "output_data_path = r'../output_data/PolicyExperimentsModelVars.csv'\n",
    "df_sorted.to_csv(output_data_path, index=False)"
   ],
   "metadata": {
    "collapsed": false,
    "ExecuteTime": {
     "end_time": "2024-01-24T12:45:47.588079Z",
     "start_time": "2024-01-24T12:45:47.410328Z"
    }
   },
   "id": "5a925171232b1c89"
  },
  {
   "cell_type": "code",
   "execution_count": null,
   "outputs": [],
   "source": [],
   "metadata": {
    "collapsed": false
   },
   "id": "1fef3bebc9b668ec"
  }
 ],
 "metadata": {
  "kernelspec": {
   "display_name": "Python 3",
   "language": "python",
   "name": "python3"
  },
  "language_info": {
   "codemirror_mode": {
    "name": "ipython",
    "version": 2
   },
   "file_extension": ".py",
   "mimetype": "text/x-python",
   "name": "python",
   "nbconvert_exporter": "python",
   "pygments_lexer": "ipython2",
   "version": "2.7.6"
  }
 },
 "nbformat": 4,
 "nbformat_minor": 5
}
