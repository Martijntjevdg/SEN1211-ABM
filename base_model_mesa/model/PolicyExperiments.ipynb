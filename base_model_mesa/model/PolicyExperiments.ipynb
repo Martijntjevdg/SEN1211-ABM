{
 "cells": [
  {
   "cell_type": "code",
   "execution_count": 7,
   "id": "initial_id",
   "metadata": {
    "collapsed": true,
    "ExecuteTime": {
     "end_time": "2024-01-24T13:46:05.303464Z",
     "start_time": "2024-01-24T13:46:05.268219Z"
    }
   },
   "outputs": [],
   "source": [
    "from model import AdaptationModel\n",
    "from mesa.batchrunner import batch_run\n",
    "import pandas as pd"
   ]
  },
  {
   "cell_type": "code",
   "execution_count": 8,
   "outputs": [
    {
     "data": {
      "text/plain": "  0%|          | 0/400 [00:00<?, ?it/s]",
      "application/vnd.jupyter.widget-view+json": {
       "version_major": 2,
       "version_minor": 0,
       "model_id": "dd1b712eda92409486d3a3a4a821c268"
      }
     },
     "metadata": {},
     "output_type": "display_data"
    }
   ],
   "source": [
    "model_params = {\n",
    "    \"number_of_households\": 1000,\n",
    "    \"number_of_steps\": 80,\n",
    "    \"flood_map_choice\": \"100yr\",\n",
    "    \"network\": \"watts_strogatz\",\n",
    "    \"subsidies_package\":[0,1,2,3]\n",
    "}\n",
    "\n",
    "results = batch_run(\n",
    "    model_cls=AdaptationModel,\n",
    "    parameters=model_params,\n",
    "    number_processes=4,  # Set to None if you want to use all CPUs\n",
    "    iterations=100,  # Number of iterations for each parameter combination\n",
    "    data_collection_period=1,  # Collect data at the end of each run\n",
    "    max_steps=model_params[\"number_of_steps\"],  # Maximum number of model steps\n",
    "    display_progress=True  # Display progress bar\n",
    ")\n",
    "\n",
    "df = pd.DataFrame(results)\n",
    "\n",
    "model_vars_policy_experiments_df = df"
   ],
   "metadata": {
    "collapsed": false,
    "ExecuteTime": {
     "end_time": "2024-01-24T13:48:06.697122Z",
     "start_time": "2024-01-24T13:46:09.220778Z"
    }
   },
   "id": "e3b05895e5dc44f2"
  },
  {
   "cell_type": "code",
   "outputs": [],
   "source": [],
   "metadata": {
    "collapsed": false,
    "ExecuteTime": {
     "end_time": "2024-01-24T13:48:20.418961Z",
     "start_time": "2024-01-24T13:48:20.411720Z"
    }
   },
   "id": "3b0855fb0c9587cb",
   "execution_count": 8
  },
  {
   "cell_type": "code",
   "execution_count": 9,
   "outputs": [
    {
     "data": {
      "text/plain": "       RunId  iteration  Step  number_of_households  number_of_steps  \\\n0          2          0     0                  1000               80   \n1          2          0     1                  1000               80   \n2          2          0     2                  1000               80   \n3          3          0     0                  1000               80   \n4          3          0     1                  1000               80   \n...      ...        ...   ...                   ...              ...   \n16761    395         98    76                  1000               80   \n16762    395         98    77                  1000               80   \n16763    395         98    78                  1000               80   \n16764    395         98    79                  1000               80   \n16765    395         98    80                  1000               80   \n\n      flood_map_choice         network  subsidies_package  \\\n0                100yr  watts_strogatz                  2   \n1                100yr  watts_strogatz                  2   \n2                100yr  watts_strogatz                  2   \n3                100yr  watts_strogatz                  3   \n4                100yr  watts_strogatz                  3   \n...                ...             ...                ...   \n16761            100yr  watts_strogatz                  3   \n16762            100yr  watts_strogatz                  3   \n16763            100yr  watts_strogatz                  3   \n16764            100yr  watts_strogatz                  3   \n16765            100yr  watts_strogatz                  3   \n\n       TotalAdaptedHouseholds  TotalActualDamage  ...  TotalCostsOfSubsidies  \\\n0                           0       0.000000e+00  ...                      0   \n1                          84       0.000000e+00  ...                  37920   \n2                         130       2.357324e+07  ...                  75029   \n3                           0       0.000000e+00  ...                      0   \n4                          67       0.000000e+00  ...                   9197   \n...                       ...                ...  ...                    ...   \n16761                     303       0.000000e+00  ...                1910443   \n16762                     303       0.000000e+00  ...                1910443   \n16763                     303       0.000000e+00  ...                1910443   \n16764                     303       0.000000e+00  ...                1910443   \n16765                     303       1.366567e+07  ...                1910443   \n\n                    EstimatedAverageDamagePerIncomeLabel  \\\n0      {'AverageDamagePerPoorHousehold': 15206.206894...   \n1      {'AverageDamagePerPoorHousehold': 13931.724056...   \n2      {'AverageDamagePerPoorHousehold': 13606.996160...   \n3      {'AverageDamagePerPoorHousehold': 15357.142477...   \n4      {'AverageDamagePerPoorHousehold': 15329.234195...   \n...                                                  ...   \n16761  {'AverageDamagePerPoorHousehold': 7732.2684250...   \n16762  {'AverageDamagePerPoorHousehold': 7732.2684250...   \n16763  {'AverageDamagePerPoorHousehold': 7732.2684250...   \n16764  {'AverageDamagePerPoorHousehold': 7732.2684250...   \n16765  {'AverageDamagePerPoorHousehold': 7732.2684250...   \n\n                     EstimatedAverageIncomeToDamageRatio IncomeDistribution  \\\n0      {'AverageIncomeToDamagePoorHousehold': 3.00133...               Base   \n1      {'AverageIncomeToDamagePoorHousehold': 2.74978...               Base   \n2      {'AverageIncomeToDamagePoorHousehold': 2.68569...               Base   \n3      {'AverageIncomeToDamagePoorHousehold': 3.00666...               Base   \n4      {'AverageIncomeToDamagePoorHousehold': 3.00120...               Base   \n...                                                  ...                ...   \n16761  {'AverageIncomeToDamagePoorHousehold': 1.61417...               Base   \n16762  {'AverageIncomeToDamagePoorHousehold': 1.61417...               Base   \n16763  {'AverageIncomeToDamagePoorHousehold': 1.61417...               Base   \n16764  {'AverageIncomeToDamagePoorHousehold': 1.61417...               Base   \n16765  {'AverageIncomeToDamagePoorHousehold': 1.61417...               Base   \n\n      AverageDamagePerPoorHousehold AverageDamagePerMiddleClassHousehold  \\\n0                          0.000000                             0.000000   \n1                          0.000000                             0.000000   \n2                      12648.833369                         22708.386279   \n3                          0.000000                             0.000000   \n4                          0.000000                             0.000000   \n...                             ...                                  ...   \n16761                      0.000000                             0.000000   \n16762                      0.000000                             0.000000   \n16763                      0.000000                             0.000000   \n16764                      0.000000                             0.000000   \n16765                   7169.900217                         15234.397532   \n\n       AverageDamagePerRichHousehold  AverageIncomeToDamagePoorHousehold  \\\n0                           0.000000                            0.000000   \n1                           0.000000                            0.000000   \n2                       59733.295371                            2.496576   \n3                           0.000000                            0.000000   \n4                           0.000000                            0.000000   \n...                              ...                                 ...   \n16761                       0.000000                            0.000000   \n16762                       0.000000                            0.000000   \n16763                       0.000000                            0.000000   \n16764                       0.000000                            0.000000   \n16765                   21620.547840                            1.496772   \n\n       AverageIncomeToDamageMiddleClassHousehold  \\\n0                                       0.000000   \n1                                       0.000000   \n2                                       0.775604   \n3                                       0.000000   \n4                                       0.000000   \n...                                          ...   \n16761                                   0.000000   \n16762                                   0.000000   \n16763                                   0.000000   \n16764                                   0.000000   \n16765                                   0.519258   \n\n       AverageIncomeToDamageRichHousehold  \n0                                0.000000  \n1                                0.000000  \n2                                0.688913  \n3                                0.000000  \n4                                0.000000  \n...                                   ...  \n16761                            0.000000  \n16762                            0.000000  \n16763                            0.000000  \n16764                            0.000000  \n16765                            0.239962  \n\n[16766 rows x 22 columns]",
      "text/html": "<div>\n<style scoped>\n    .dataframe tbody tr th:only-of-type {\n        vertical-align: middle;\n    }\n\n    .dataframe tbody tr th {\n        vertical-align: top;\n    }\n\n    .dataframe thead th {\n        text-align: right;\n    }\n</style>\n<table border=\"1\" class=\"dataframe\">\n  <thead>\n    <tr style=\"text-align: right;\">\n      <th></th>\n      <th>RunId</th>\n      <th>iteration</th>\n      <th>Step</th>\n      <th>number_of_households</th>\n      <th>number_of_steps</th>\n      <th>flood_map_choice</th>\n      <th>network</th>\n      <th>subsidies_package</th>\n      <th>TotalAdaptedHouseholds</th>\n      <th>TotalActualDamage</th>\n      <th>...</th>\n      <th>TotalCostsOfSubsidies</th>\n      <th>EstimatedAverageDamagePerIncomeLabel</th>\n      <th>EstimatedAverageIncomeToDamageRatio</th>\n      <th>IncomeDistribution</th>\n      <th>AverageDamagePerPoorHousehold</th>\n      <th>AverageDamagePerMiddleClassHousehold</th>\n      <th>AverageDamagePerRichHousehold</th>\n      <th>AverageIncomeToDamagePoorHousehold</th>\n      <th>AverageIncomeToDamageMiddleClassHousehold</th>\n      <th>AverageIncomeToDamageRichHousehold</th>\n    </tr>\n  </thead>\n  <tbody>\n    <tr>\n      <th>0</th>\n      <td>2</td>\n      <td>0</td>\n      <td>0</td>\n      <td>1000</td>\n      <td>80</td>\n      <td>100yr</td>\n      <td>watts_strogatz</td>\n      <td>2</td>\n      <td>0</td>\n      <td>0.000000e+00</td>\n      <td>...</td>\n      <td>0</td>\n      <td>{'AverageDamagePerPoorHousehold': 15206.206894...</td>\n      <td>{'AverageIncomeToDamagePoorHousehold': 3.00133...</td>\n      <td>Base</td>\n      <td>0.000000</td>\n      <td>0.000000</td>\n      <td>0.000000</td>\n      <td>0.000000</td>\n      <td>0.000000</td>\n      <td>0.000000</td>\n    </tr>\n    <tr>\n      <th>1</th>\n      <td>2</td>\n      <td>0</td>\n      <td>1</td>\n      <td>1000</td>\n      <td>80</td>\n      <td>100yr</td>\n      <td>watts_strogatz</td>\n      <td>2</td>\n      <td>84</td>\n      <td>0.000000e+00</td>\n      <td>...</td>\n      <td>37920</td>\n      <td>{'AverageDamagePerPoorHousehold': 13931.724056...</td>\n      <td>{'AverageIncomeToDamagePoorHousehold': 2.74978...</td>\n      <td>Base</td>\n      <td>0.000000</td>\n      <td>0.000000</td>\n      <td>0.000000</td>\n      <td>0.000000</td>\n      <td>0.000000</td>\n      <td>0.000000</td>\n    </tr>\n    <tr>\n      <th>2</th>\n      <td>2</td>\n      <td>0</td>\n      <td>2</td>\n      <td>1000</td>\n      <td>80</td>\n      <td>100yr</td>\n      <td>watts_strogatz</td>\n      <td>2</td>\n      <td>130</td>\n      <td>2.357324e+07</td>\n      <td>...</td>\n      <td>75029</td>\n      <td>{'AverageDamagePerPoorHousehold': 13606.996160...</td>\n      <td>{'AverageIncomeToDamagePoorHousehold': 2.68569...</td>\n      <td>Base</td>\n      <td>12648.833369</td>\n      <td>22708.386279</td>\n      <td>59733.295371</td>\n      <td>2.496576</td>\n      <td>0.775604</td>\n      <td>0.688913</td>\n    </tr>\n    <tr>\n      <th>3</th>\n      <td>3</td>\n      <td>0</td>\n      <td>0</td>\n      <td>1000</td>\n      <td>80</td>\n      <td>100yr</td>\n      <td>watts_strogatz</td>\n      <td>3</td>\n      <td>0</td>\n      <td>0.000000e+00</td>\n      <td>...</td>\n      <td>0</td>\n      <td>{'AverageDamagePerPoorHousehold': 15357.142477...</td>\n      <td>{'AverageIncomeToDamagePoorHousehold': 3.00666...</td>\n      <td>Base</td>\n      <td>0.000000</td>\n      <td>0.000000</td>\n      <td>0.000000</td>\n      <td>0.000000</td>\n      <td>0.000000</td>\n      <td>0.000000</td>\n    </tr>\n    <tr>\n      <th>4</th>\n      <td>3</td>\n      <td>0</td>\n      <td>1</td>\n      <td>1000</td>\n      <td>80</td>\n      <td>100yr</td>\n      <td>watts_strogatz</td>\n      <td>3</td>\n      <td>67</td>\n      <td>0.000000e+00</td>\n      <td>...</td>\n      <td>9197</td>\n      <td>{'AverageDamagePerPoorHousehold': 15329.234195...</td>\n      <td>{'AverageIncomeToDamagePoorHousehold': 3.00120...</td>\n      <td>Base</td>\n      <td>0.000000</td>\n      <td>0.000000</td>\n      <td>0.000000</td>\n      <td>0.000000</td>\n      <td>0.000000</td>\n      <td>0.000000</td>\n    </tr>\n    <tr>\n      <th>...</th>\n      <td>...</td>\n      <td>...</td>\n      <td>...</td>\n      <td>...</td>\n      <td>...</td>\n      <td>...</td>\n      <td>...</td>\n      <td>...</td>\n      <td>...</td>\n      <td>...</td>\n      <td>...</td>\n      <td>...</td>\n      <td>...</td>\n      <td>...</td>\n      <td>...</td>\n      <td>...</td>\n      <td>...</td>\n      <td>...</td>\n      <td>...</td>\n      <td>...</td>\n      <td>...</td>\n    </tr>\n    <tr>\n      <th>16761</th>\n      <td>395</td>\n      <td>98</td>\n      <td>76</td>\n      <td>1000</td>\n      <td>80</td>\n      <td>100yr</td>\n      <td>watts_strogatz</td>\n      <td>3</td>\n      <td>303</td>\n      <td>0.000000e+00</td>\n      <td>...</td>\n      <td>1910443</td>\n      <td>{'AverageDamagePerPoorHousehold': 7732.2684250...</td>\n      <td>{'AverageIncomeToDamagePoorHousehold': 1.61417...</td>\n      <td>Base</td>\n      <td>0.000000</td>\n      <td>0.000000</td>\n      <td>0.000000</td>\n      <td>0.000000</td>\n      <td>0.000000</td>\n      <td>0.000000</td>\n    </tr>\n    <tr>\n      <th>16762</th>\n      <td>395</td>\n      <td>98</td>\n      <td>77</td>\n      <td>1000</td>\n      <td>80</td>\n      <td>100yr</td>\n      <td>watts_strogatz</td>\n      <td>3</td>\n      <td>303</td>\n      <td>0.000000e+00</td>\n      <td>...</td>\n      <td>1910443</td>\n      <td>{'AverageDamagePerPoorHousehold': 7732.2684250...</td>\n      <td>{'AverageIncomeToDamagePoorHousehold': 1.61417...</td>\n      <td>Base</td>\n      <td>0.000000</td>\n      <td>0.000000</td>\n      <td>0.000000</td>\n      <td>0.000000</td>\n      <td>0.000000</td>\n      <td>0.000000</td>\n    </tr>\n    <tr>\n      <th>16763</th>\n      <td>395</td>\n      <td>98</td>\n      <td>78</td>\n      <td>1000</td>\n      <td>80</td>\n      <td>100yr</td>\n      <td>watts_strogatz</td>\n      <td>3</td>\n      <td>303</td>\n      <td>0.000000e+00</td>\n      <td>...</td>\n      <td>1910443</td>\n      <td>{'AverageDamagePerPoorHousehold': 7732.2684250...</td>\n      <td>{'AverageIncomeToDamagePoorHousehold': 1.61417...</td>\n      <td>Base</td>\n      <td>0.000000</td>\n      <td>0.000000</td>\n      <td>0.000000</td>\n      <td>0.000000</td>\n      <td>0.000000</td>\n      <td>0.000000</td>\n    </tr>\n    <tr>\n      <th>16764</th>\n      <td>395</td>\n      <td>98</td>\n      <td>79</td>\n      <td>1000</td>\n      <td>80</td>\n      <td>100yr</td>\n      <td>watts_strogatz</td>\n      <td>3</td>\n      <td>303</td>\n      <td>0.000000e+00</td>\n      <td>...</td>\n      <td>1910443</td>\n      <td>{'AverageDamagePerPoorHousehold': 7732.2684250...</td>\n      <td>{'AverageIncomeToDamagePoorHousehold': 1.61417...</td>\n      <td>Base</td>\n      <td>0.000000</td>\n      <td>0.000000</td>\n      <td>0.000000</td>\n      <td>0.000000</td>\n      <td>0.000000</td>\n      <td>0.000000</td>\n    </tr>\n    <tr>\n      <th>16765</th>\n      <td>395</td>\n      <td>98</td>\n      <td>80</td>\n      <td>1000</td>\n      <td>80</td>\n      <td>100yr</td>\n      <td>watts_strogatz</td>\n      <td>3</td>\n      <td>303</td>\n      <td>1.366567e+07</td>\n      <td>...</td>\n      <td>1910443</td>\n      <td>{'AverageDamagePerPoorHousehold': 7732.2684250...</td>\n      <td>{'AverageIncomeToDamagePoorHousehold': 1.61417...</td>\n      <td>Base</td>\n      <td>7169.900217</td>\n      <td>15234.397532</td>\n      <td>21620.547840</td>\n      <td>1.496772</td>\n      <td>0.519258</td>\n      <td>0.239962</td>\n    </tr>\n  </tbody>\n</table>\n<p>16766 rows × 22 columns</p>\n</div>"
     },
     "execution_count": 9,
     "metadata": {},
     "output_type": "execute_result"
    }
   ],
   "source": [
    "def unpack_dictionary(row, column_name):\n",
    "    return pd.Series(row[column_name])\n",
    "\n",
    "#base_case_unpacked = base_case_100_iterations.apply(unpack_dictionary['AverageDamagePerIncomeLabel'], axis = 1)\n",
    "first_column_unpacked = model_vars_policy_experiments_df.apply(unpack_dictionary, args=('AverageDamagePerIncomeLabel',), axis=1)\n",
    "second_column_unpacked = model_vars_policy_experiments_df.apply(unpack_dictionary, args=('AverageIncomeToDamageRatio',), axis=1)\n",
    "policy_experiments_unpacked = pd.concat([model_vars_policy_experiments_df, first_column_unpacked, second_column_unpacked], axis=1)\n",
    "model_vars_policy_experiments_clean = policy_experiments_unpacked.drop(['AverageDamagePerIncomeLabel', 'AverageIncomeToDamageRatio'], axis=1)\n",
    "model_vars_policy_experiments_clean"
   ],
   "metadata": {
    "collapsed": false,
    "ExecuteTime": {
     "end_time": "2024-01-24T13:48:30.299159Z",
     "start_time": "2024-01-24T13:48:21.680287Z"
    }
   },
   "id": "8d446bbdd85250df"
  },
  {
   "cell_type": "code",
   "execution_count": 10,
   "outputs": [
    {
     "data": {
      "text/plain": "       RunId  iteration  Step  number_of_households  number_of_steps  \\\n12         0          0     0                  1000               80   \n13         0          0     1                  1000               80   \n14         0          0     2                  1000               80   \n15         0          0     3                  1000               80   \n16         0          0     4                  1000               80   \n...      ...        ...   ...                   ...              ...   \n16680    399         99    33                  1000               80   \n16681    399         99    34                  1000               80   \n16682    399         99    35                  1000               80   \n16683    399         99    36                  1000               80   \n16684    399         99    37                  1000               80   \n\n      flood_map_choice         network  subsidies_package  \\\n12               100yr  watts_strogatz                  0   \n13               100yr  watts_strogatz                  0   \n14               100yr  watts_strogatz                  0   \n15               100yr  watts_strogatz                  0   \n16               100yr  watts_strogatz                  0   \n...                ...             ...                ...   \n16680            100yr  watts_strogatz                  3   \n16681            100yr  watts_strogatz                  3   \n16682            100yr  watts_strogatz                  3   \n16683            100yr  watts_strogatz                  3   \n16684            100yr  watts_strogatz                  3   \n\n       TotalAdaptedHouseholds  TotalActualDamage  ...  TotalCostsOfSubsidies  \\\n12                          0       0.000000e+00  ...                      0   \n13                         63       0.000000e+00  ...                      0   \n14                        138       0.000000e+00  ...                      0   \n15                        192       0.000000e+00  ...                      0   \n16                        222       0.000000e+00  ...                      0   \n...                       ...                ...  ...                    ...   \n16680                     291       0.000000e+00  ...                1441893   \n16681                     291       0.000000e+00  ...                1441893   \n16682                     291       0.000000e+00  ...                1441893   \n16683                     291       0.000000e+00  ...                1441893   \n16684                     291       1.409275e+07  ...                1441893   \n\n                    EstimatedAverageDamagePerIncomeLabel  \\\n12     {'AverageDamagePerPoorHousehold': 17234.595331...   \n13     {'AverageDamagePerPoorHousehold': 17234.595331...   \n14     {'AverageDamagePerPoorHousehold': 16870.660809...   \n15     {'AverageDamagePerPoorHousehold': 16361.275045...   \n16     {'AverageDamagePerPoorHousehold': 16056.604336...   \n...                                                  ...   \n16680  {'AverageDamagePerPoorHousehold': 7921.5332042...   \n16681  {'AverageDamagePerPoorHousehold': 7921.5332042...   \n16682  {'AverageDamagePerPoorHousehold': 7921.5332042...   \n16683  {'AverageDamagePerPoorHousehold': 7921.5332042...   \n16684  {'AverageDamagePerPoorHousehold': 7921.5332042...   \n\n                     EstimatedAverageIncomeToDamageRatio IncomeDistribution  \\\n12     {'AverageIncomeToDamagePoorHousehold': 3.58385...               Base   \n13     {'AverageIncomeToDamagePoorHousehold': 3.58385...               Base   \n14     {'AverageIncomeToDamagePoorHousehold': 3.50817...               Base   \n15     {'AverageIncomeToDamagePoorHousehold': 3.40224...               Base   \n16     {'AverageIncomeToDamagePoorHousehold': 3.33889...               Base   \n...                                                  ...                ...   \n16680  {'AverageIncomeToDamagePoorHousehold': 1.59226...               Base   \n16681  {'AverageIncomeToDamagePoorHousehold': 1.59226...               Base   \n16682  {'AverageIncomeToDamagePoorHousehold': 1.59226...               Base   \n16683  {'AverageIncomeToDamagePoorHousehold': 1.59226...               Base   \n16684  {'AverageIncomeToDamagePoorHousehold': 1.59226...               Base   \n\n      AverageDamagePerPoorHousehold AverageDamagePerMiddleClassHousehold  \\\n12                          0.00000                              0.00000   \n13                          0.00000                              0.00000   \n14                          0.00000                              0.00000   \n15                          0.00000                              0.00000   \n16                          0.00000                              0.00000   \n...                             ...                                  ...   \n16680                       0.00000                              0.00000   \n16681                       0.00000                              0.00000   \n16682                       0.00000                              0.00000   \n16683                       0.00000                              0.00000   \n16684                    7210.79924                          14061.61588   \n\n       AverageDamagePerRichHousehold  AverageIncomeToDamagePoorHousehold  \\\n12                          0.000000                            0.000000   \n13                          0.000000                            0.000000   \n14                          0.000000                            0.000000   \n15                          0.000000                            0.000000   \n16                          0.000000                            0.000000   \n...                              ...                                 ...   \n16680                       0.000000                            0.000000   \n16681                       0.000000                            0.000000   \n16682                       0.000000                            0.000000   \n16683                       0.000000                            0.000000   \n16684                   31995.645964                            1.449403   \n\n       AverageIncomeToDamageMiddleClassHousehold  \\\n12                                      0.000000   \n13                                      0.000000   \n14                                      0.000000   \n15                                      0.000000   \n16                                      0.000000   \n...                                          ...   \n16680                                   0.000000   \n16681                                   0.000000   \n16682                                   0.000000   \n16683                                   0.000000   \n16684                                   0.476156   \n\n       AverageIncomeToDamageRichHousehold  \n12                               0.000000  \n13                               0.000000  \n14                               0.000000  \n15                               0.000000  \n16                               0.000000  \n...                                   ...  \n16680                            0.000000  \n16681                            0.000000  \n16682                            0.000000  \n16683                            0.000000  \n16684                            0.352585  \n\n[16766 rows x 22 columns]",
      "text/html": "<div>\n<style scoped>\n    .dataframe tbody tr th:only-of-type {\n        vertical-align: middle;\n    }\n\n    .dataframe tbody tr th {\n        vertical-align: top;\n    }\n\n    .dataframe thead th {\n        text-align: right;\n    }\n</style>\n<table border=\"1\" class=\"dataframe\">\n  <thead>\n    <tr style=\"text-align: right;\">\n      <th></th>\n      <th>RunId</th>\n      <th>iteration</th>\n      <th>Step</th>\n      <th>number_of_households</th>\n      <th>number_of_steps</th>\n      <th>flood_map_choice</th>\n      <th>network</th>\n      <th>subsidies_package</th>\n      <th>TotalAdaptedHouseholds</th>\n      <th>TotalActualDamage</th>\n      <th>...</th>\n      <th>TotalCostsOfSubsidies</th>\n      <th>EstimatedAverageDamagePerIncomeLabel</th>\n      <th>EstimatedAverageIncomeToDamageRatio</th>\n      <th>IncomeDistribution</th>\n      <th>AverageDamagePerPoorHousehold</th>\n      <th>AverageDamagePerMiddleClassHousehold</th>\n      <th>AverageDamagePerRichHousehold</th>\n      <th>AverageIncomeToDamagePoorHousehold</th>\n      <th>AverageIncomeToDamageMiddleClassHousehold</th>\n      <th>AverageIncomeToDamageRichHousehold</th>\n    </tr>\n  </thead>\n  <tbody>\n    <tr>\n      <th>12</th>\n      <td>0</td>\n      <td>0</td>\n      <td>0</td>\n      <td>1000</td>\n      <td>80</td>\n      <td>100yr</td>\n      <td>watts_strogatz</td>\n      <td>0</td>\n      <td>0</td>\n      <td>0.000000e+00</td>\n      <td>...</td>\n      <td>0</td>\n      <td>{'AverageDamagePerPoorHousehold': 17234.595331...</td>\n      <td>{'AverageIncomeToDamagePoorHousehold': 3.58385...</td>\n      <td>Base</td>\n      <td>0.00000</td>\n      <td>0.00000</td>\n      <td>0.000000</td>\n      <td>0.000000</td>\n      <td>0.000000</td>\n      <td>0.000000</td>\n    </tr>\n    <tr>\n      <th>13</th>\n      <td>0</td>\n      <td>0</td>\n      <td>1</td>\n      <td>1000</td>\n      <td>80</td>\n      <td>100yr</td>\n      <td>watts_strogatz</td>\n      <td>0</td>\n      <td>63</td>\n      <td>0.000000e+00</td>\n      <td>...</td>\n      <td>0</td>\n      <td>{'AverageDamagePerPoorHousehold': 17234.595331...</td>\n      <td>{'AverageIncomeToDamagePoorHousehold': 3.58385...</td>\n      <td>Base</td>\n      <td>0.00000</td>\n      <td>0.00000</td>\n      <td>0.000000</td>\n      <td>0.000000</td>\n      <td>0.000000</td>\n      <td>0.000000</td>\n    </tr>\n    <tr>\n      <th>14</th>\n      <td>0</td>\n      <td>0</td>\n      <td>2</td>\n      <td>1000</td>\n      <td>80</td>\n      <td>100yr</td>\n      <td>watts_strogatz</td>\n      <td>0</td>\n      <td>138</td>\n      <td>0.000000e+00</td>\n      <td>...</td>\n      <td>0</td>\n      <td>{'AverageDamagePerPoorHousehold': 16870.660809...</td>\n      <td>{'AverageIncomeToDamagePoorHousehold': 3.50817...</td>\n      <td>Base</td>\n      <td>0.00000</td>\n      <td>0.00000</td>\n      <td>0.000000</td>\n      <td>0.000000</td>\n      <td>0.000000</td>\n      <td>0.000000</td>\n    </tr>\n    <tr>\n      <th>15</th>\n      <td>0</td>\n      <td>0</td>\n      <td>3</td>\n      <td>1000</td>\n      <td>80</td>\n      <td>100yr</td>\n      <td>watts_strogatz</td>\n      <td>0</td>\n      <td>192</td>\n      <td>0.000000e+00</td>\n      <td>...</td>\n      <td>0</td>\n      <td>{'AverageDamagePerPoorHousehold': 16361.275045...</td>\n      <td>{'AverageIncomeToDamagePoorHousehold': 3.40224...</td>\n      <td>Base</td>\n      <td>0.00000</td>\n      <td>0.00000</td>\n      <td>0.000000</td>\n      <td>0.000000</td>\n      <td>0.000000</td>\n      <td>0.000000</td>\n    </tr>\n    <tr>\n      <th>16</th>\n      <td>0</td>\n      <td>0</td>\n      <td>4</td>\n      <td>1000</td>\n      <td>80</td>\n      <td>100yr</td>\n      <td>watts_strogatz</td>\n      <td>0</td>\n      <td>222</td>\n      <td>0.000000e+00</td>\n      <td>...</td>\n      <td>0</td>\n      <td>{'AverageDamagePerPoorHousehold': 16056.604336...</td>\n      <td>{'AverageIncomeToDamagePoorHousehold': 3.33889...</td>\n      <td>Base</td>\n      <td>0.00000</td>\n      <td>0.00000</td>\n      <td>0.000000</td>\n      <td>0.000000</td>\n      <td>0.000000</td>\n      <td>0.000000</td>\n    </tr>\n    <tr>\n      <th>...</th>\n      <td>...</td>\n      <td>...</td>\n      <td>...</td>\n      <td>...</td>\n      <td>...</td>\n      <td>...</td>\n      <td>...</td>\n      <td>...</td>\n      <td>...</td>\n      <td>...</td>\n      <td>...</td>\n      <td>...</td>\n      <td>...</td>\n      <td>...</td>\n      <td>...</td>\n      <td>...</td>\n      <td>...</td>\n      <td>...</td>\n      <td>...</td>\n      <td>...</td>\n      <td>...</td>\n    </tr>\n    <tr>\n      <th>16680</th>\n      <td>399</td>\n      <td>99</td>\n      <td>33</td>\n      <td>1000</td>\n      <td>80</td>\n      <td>100yr</td>\n      <td>watts_strogatz</td>\n      <td>3</td>\n      <td>291</td>\n      <td>0.000000e+00</td>\n      <td>...</td>\n      <td>1441893</td>\n      <td>{'AverageDamagePerPoorHousehold': 7921.5332042...</td>\n      <td>{'AverageIncomeToDamagePoorHousehold': 1.59226...</td>\n      <td>Base</td>\n      <td>0.00000</td>\n      <td>0.00000</td>\n      <td>0.000000</td>\n      <td>0.000000</td>\n      <td>0.000000</td>\n      <td>0.000000</td>\n    </tr>\n    <tr>\n      <th>16681</th>\n      <td>399</td>\n      <td>99</td>\n      <td>34</td>\n      <td>1000</td>\n      <td>80</td>\n      <td>100yr</td>\n      <td>watts_strogatz</td>\n      <td>3</td>\n      <td>291</td>\n      <td>0.000000e+00</td>\n      <td>...</td>\n      <td>1441893</td>\n      <td>{'AverageDamagePerPoorHousehold': 7921.5332042...</td>\n      <td>{'AverageIncomeToDamagePoorHousehold': 1.59226...</td>\n      <td>Base</td>\n      <td>0.00000</td>\n      <td>0.00000</td>\n      <td>0.000000</td>\n      <td>0.000000</td>\n      <td>0.000000</td>\n      <td>0.000000</td>\n    </tr>\n    <tr>\n      <th>16682</th>\n      <td>399</td>\n      <td>99</td>\n      <td>35</td>\n      <td>1000</td>\n      <td>80</td>\n      <td>100yr</td>\n      <td>watts_strogatz</td>\n      <td>3</td>\n      <td>291</td>\n      <td>0.000000e+00</td>\n      <td>...</td>\n      <td>1441893</td>\n      <td>{'AverageDamagePerPoorHousehold': 7921.5332042...</td>\n      <td>{'AverageIncomeToDamagePoorHousehold': 1.59226...</td>\n      <td>Base</td>\n      <td>0.00000</td>\n      <td>0.00000</td>\n      <td>0.000000</td>\n      <td>0.000000</td>\n      <td>0.000000</td>\n      <td>0.000000</td>\n    </tr>\n    <tr>\n      <th>16683</th>\n      <td>399</td>\n      <td>99</td>\n      <td>36</td>\n      <td>1000</td>\n      <td>80</td>\n      <td>100yr</td>\n      <td>watts_strogatz</td>\n      <td>3</td>\n      <td>291</td>\n      <td>0.000000e+00</td>\n      <td>...</td>\n      <td>1441893</td>\n      <td>{'AverageDamagePerPoorHousehold': 7921.5332042...</td>\n      <td>{'AverageIncomeToDamagePoorHousehold': 1.59226...</td>\n      <td>Base</td>\n      <td>0.00000</td>\n      <td>0.00000</td>\n      <td>0.000000</td>\n      <td>0.000000</td>\n      <td>0.000000</td>\n      <td>0.000000</td>\n    </tr>\n    <tr>\n      <th>16684</th>\n      <td>399</td>\n      <td>99</td>\n      <td>37</td>\n      <td>1000</td>\n      <td>80</td>\n      <td>100yr</td>\n      <td>watts_strogatz</td>\n      <td>3</td>\n      <td>291</td>\n      <td>1.409275e+07</td>\n      <td>...</td>\n      <td>1441893</td>\n      <td>{'AverageDamagePerPoorHousehold': 7921.5332042...</td>\n      <td>{'AverageIncomeToDamagePoorHousehold': 1.59226...</td>\n      <td>Base</td>\n      <td>7210.79924</td>\n      <td>14061.61588</td>\n      <td>31995.645964</td>\n      <td>1.449403</td>\n      <td>0.476156</td>\n      <td>0.352585</td>\n    </tr>\n  </tbody>\n</table>\n<p>16766 rows × 22 columns</p>\n</div>"
     },
     "execution_count": 10,
     "metadata": {},
     "output_type": "execute_result"
    }
   ],
   "source": [
    "df_sorted = model_vars_policy_experiments_clean.sort_values(by=['RunId', 'Step'])\n",
    "df_sorted"
   ],
   "metadata": {
    "collapsed": false,
    "ExecuteTime": {
     "end_time": "2024-01-24T13:50:07.642517Z",
     "start_time": "2024-01-24T13:50:07.582178Z"
    }
   },
   "id": "fba371b2954b235d"
  },
  {
   "cell_type": "code",
   "execution_count": null,
   "outputs": [],
   "source": [],
   "metadata": {
    "collapsed": false
   },
   "id": "844795ea780c81eb"
  },
  {
   "cell_type": "code",
   "execution_count": 11,
   "outputs": [],
   "source": [
    "output_data_path = r'../output_data/PolicyExperimentsModelVars.csv'\n",
    "df_sorted.to_csv(output_data_path, index=False)"
   ],
   "metadata": {
    "collapsed": false,
    "ExecuteTime": {
     "end_time": "2024-01-24T13:52:15.042131Z",
     "start_time": "2024-01-24T13:52:14.440106Z"
    }
   },
   "id": "5a925171232b1c89"
  },
  {
   "cell_type": "code",
   "execution_count": null,
   "outputs": [],
   "source": [],
   "metadata": {
    "collapsed": false
   },
   "id": "1fef3bebc9b668ec"
  }
 ],
 "metadata": {
  "kernelspec": {
   "display_name": "Python 3",
   "language": "python",
   "name": "python3"
  },
  "language_info": {
   "codemirror_mode": {
    "name": "ipython",
    "version": 2
   },
   "file_extension": ".py",
   "mimetype": "text/x-python",
   "name": "python",
   "nbconvert_exporter": "python",
   "pygments_lexer": "ipython2",
   "version": "2.7.6"
  }
 },
 "nbformat": 4,
 "nbformat_minor": 5
}
