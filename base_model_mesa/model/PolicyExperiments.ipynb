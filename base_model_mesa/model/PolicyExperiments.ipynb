{
 "cells": [
  {
   "cell_type": "code",
   "execution_count": 2,
   "id": "initial_id",
   "metadata": {
    "collapsed": true,
    "ExecuteTime": {
     "end_time": "2024-01-24T13:13:14.953954Z",
     "start_time": "2024-01-24T13:13:11.556313Z"
    }
   },
   "outputs": [],
   "source": [
    "from model import AdaptationModel\n",
    "from mesa.batchrunner import batch_run\n",
    "import pandas as pd"
   ]
  },
  {
   "cell_type": "code",
   "execution_count": 3,
   "outputs": [
    {
     "data": {
      "text/plain": "  0%|          | 0/400 [00:00<?, ?it/s]",
      "application/vnd.jupyter.widget-view+json": {
       "version_major": 2,
       "version_minor": 0,
       "model_id": "3c4c352843f6451db76e4c47832147cf"
      }
     },
     "metadata": {},
     "output_type": "display_data"
    }
   ],
   "source": [
    "model_params = {\n",
    "    \"number_of_households\": 1000,\n",
    "    \"number_of_steps\": 80,\n",
    "    \"flood_map_choice\": \"harvey\",\n",
    "    \"network\": \"watts_strogatz\",\n",
    "    \"subsidies_package\":[0,1,2,3]\n",
    "}\n",
    "\n",
    "results = batch_run(\n",
    "    model_cls=AdaptationModel,\n",
    "    parameters=model_params,\n",
    "    number_processes=4,  # Set to None if you want to use all CPUs\n",
    "    iterations=100,  # Number of iterations for each parameter combination\n",
    "    data_collection_period=1,  # Collect data at the end of each run\n",
    "    max_steps=model_params[\"number_of_steps\"],  # Maximum number of model steps\n",
    "    display_progress=True  # Display progress bar\n",
    ")\n",
    "\n",
    "df = pd.DataFrame(results)\n",
    "\n",
    "model_vars_policy_experiments_df = df"
   ],
   "metadata": {
    "collapsed": false,
    "ExecuteTime": {
     "end_time": "2024-01-24T13:15:09.120022Z",
     "start_time": "2024-01-24T13:13:17.099408Z"
    }
   },
   "id": "e3b05895e5dc44f2"
  },
  {
   "cell_type": "code",
   "outputs": [],
   "source": [],
   "metadata": {
    "collapsed": false,
    "ExecuteTime": {
     "end_time": "2024-01-24T13:15:25.040959Z",
     "start_time": "2024-01-24T13:15:25.022383Z"
    }
   },
   "id": "3b0855fb0c9587cb",
   "execution_count": 3
  },
  {
   "cell_type": "code",
   "execution_count": 4,
   "outputs": [
    {
     "data": {
      "text/plain": "       RunId  iteration  Step  number_of_households  number_of_steps  \\\n0          0          0     0                  1000               80   \n1          0          0     1                  1000               80   \n2          0          0     2                  1000               80   \n3          0          0     3                  1000               80   \n4          0          0     4                  1000               80   \n...      ...        ...   ...                   ...              ...   \n16366    399         99    44                  1000               80   \n16367    399         99    45                  1000               80   \n16368    399         99    46                  1000               80   \n16369    399         99    47                  1000               80   \n16370    399         99    48                  1000               80   \n\n      flood_map_choice         network  subsidies_package  \\\n0               harvey  watts_strogatz                  0   \n1               harvey  watts_strogatz                  0   \n2               harvey  watts_strogatz                  0   \n3               harvey  watts_strogatz                  0   \n4               harvey  watts_strogatz                  0   \n...                ...             ...                ...   \n16366           harvey  watts_strogatz                  3   \n16367           harvey  watts_strogatz                  3   \n16368           harvey  watts_strogatz                  3   \n16369           harvey  watts_strogatz                  3   \n16370           harvey  watts_strogatz                  3   \n\n       TotalAdaptedHouseholds  TotalActualDamage  ...  TotalCostsOfSubsidies  \\\n0                           0       0.000000e+00  ...                      0   \n1                         149       0.000000e+00  ...                      0   \n2                         316       0.000000e+00  ...                      0   \n3                         431       0.000000e+00  ...                      0   \n4                         492       0.000000e+00  ...                      0   \n...                       ...                ...  ...                    ...   \n16366                     553       0.000000e+00  ...                7907624   \n16367                     553       0.000000e+00  ...                7907624   \n16368                     554       0.000000e+00  ...                7919024   \n16369                     556       0.000000e+00  ...                7979159   \n16370                     556       3.913224e+07  ...                7979159   \n\n                    EstimatedAverageDamagePerIncomeLabel  \\\n0      {'AverageDamagePerPoorHousehold': 39735.021654...   \n1      {'AverageDamagePerPoorHousehold': 39660.231401...   \n2      {'AverageDamagePerPoorHousehold': 39049.357055...   \n3      {'AverageDamagePerPoorHousehold': 37997.028215...   \n4      {'AverageDamagePerPoorHousehold': 37184.797251...   \n...                                                  ...   \n16366  {'AverageDamagePerPoorHousehold': 26353.059402...   \n16367  {'AverageDamagePerPoorHousehold': 26353.059402...   \n16368  {'AverageDamagePerPoorHousehold': 26263.920526...   \n16369  {'AverageDamagePerPoorHousehold': 25830.152881...   \n16370  {'AverageDamagePerPoorHousehold': 25830.152881...   \n\n                     EstimatedAverageIncomeToDamageRatio IncomeDistribution  \\\n0      {'AverageIncomeToDamagePoorHousehold': 7.68831...               Base   \n1      {'AverageIncomeToDamagePoorHousehold': 7.67383...               Base   \n2      {'AverageIncomeToDamagePoorHousehold': 7.55564...               Base   \n3      {'AverageIncomeToDamagePoorHousehold': 7.35202...               Base   \n4      {'AverageIncomeToDamagePoorHousehold': 7.19486...               Base   \n...                                                  ...                ...   \n16366  {'AverageIncomeToDamagePoorHousehold': 5.34203...               Base   \n16367  {'AverageIncomeToDamagePoorHousehold': 5.34203...               Base   \n16368  {'AverageIncomeToDamagePoorHousehold': 5.32396...               Base   \n16369  {'AverageIncomeToDamagePoorHousehold': 5.23603...               Base   \n16370  {'AverageIncomeToDamagePoorHousehold': 5.23603...               Base   \n\n      AverageDamagePerPoorHousehold AverageDamagePerMiddleClassHousehold  \\\n0                          0.000000                             0.000000   \n1                          0.000000                             0.000000   \n2                          0.000000                             0.000000   \n3                          0.000000                             0.000000   \n4                          0.000000                             0.000000   \n...                             ...                                  ...   \n16366                      0.000000                             0.000000   \n16367                      0.000000                             0.000000   \n16368                      0.000000                             0.000000   \n16369                      0.000000                             0.000000   \n16370                  24072.691604                         36122.850662   \n\n       AverageDamagePerRichHousehold  AverageIncomeToDamagePoorHousehold  \\\n0                           0.000000                            0.000000   \n1                           0.000000                            0.000000   \n2                           0.000000                            0.000000   \n3                           0.000000                            0.000000   \n4                           0.000000                            0.000000   \n...                              ...                                 ...   \n16366                       0.000000                            0.000000   \n16367                       0.000000                            0.000000   \n16368                       0.000000                            0.000000   \n16369                       0.000000                            0.000000   \n16370                  107406.403119                            4.879777   \n\n       AverageIncomeToDamageMiddleClassHousehold  \\\n0                                       0.000000   \n1                                       0.000000   \n2                                       0.000000   \n3                                       0.000000   \n4                                       0.000000   \n...                                          ...   \n16366                                   0.000000   \n16367                                   0.000000   \n16368                                   0.000000   \n16369                                   0.000000   \n16370                                   1.238364   \n\n       AverageIncomeToDamageRichHousehold  \n0                                0.000000  \n1                                0.000000  \n2                                0.000000  \n3                                0.000000  \n4                                0.000000  \n...                                   ...  \n16366                            0.000000  \n16367                            0.000000  \n16368                            0.000000  \n16369                            0.000000  \n16370                            1.191731  \n\n[16371 rows x 22 columns]",
      "text/html": "<div>\n<style scoped>\n    .dataframe tbody tr th:only-of-type {\n        vertical-align: middle;\n    }\n\n    .dataframe tbody tr th {\n        vertical-align: top;\n    }\n\n    .dataframe thead th {\n        text-align: right;\n    }\n</style>\n<table border=\"1\" class=\"dataframe\">\n  <thead>\n    <tr style=\"text-align: right;\">\n      <th></th>\n      <th>RunId</th>\n      <th>iteration</th>\n      <th>Step</th>\n      <th>number_of_households</th>\n      <th>number_of_steps</th>\n      <th>flood_map_choice</th>\n      <th>network</th>\n      <th>subsidies_package</th>\n      <th>TotalAdaptedHouseholds</th>\n      <th>TotalActualDamage</th>\n      <th>...</th>\n      <th>TotalCostsOfSubsidies</th>\n      <th>EstimatedAverageDamagePerIncomeLabel</th>\n      <th>EstimatedAverageIncomeToDamageRatio</th>\n      <th>IncomeDistribution</th>\n      <th>AverageDamagePerPoorHousehold</th>\n      <th>AverageDamagePerMiddleClassHousehold</th>\n      <th>AverageDamagePerRichHousehold</th>\n      <th>AverageIncomeToDamagePoorHousehold</th>\n      <th>AverageIncomeToDamageMiddleClassHousehold</th>\n      <th>AverageIncomeToDamageRichHousehold</th>\n    </tr>\n  </thead>\n  <tbody>\n    <tr>\n      <th>0</th>\n      <td>0</td>\n      <td>0</td>\n      <td>0</td>\n      <td>1000</td>\n      <td>80</td>\n      <td>harvey</td>\n      <td>watts_strogatz</td>\n      <td>0</td>\n      <td>0</td>\n      <td>0.000000e+00</td>\n      <td>...</td>\n      <td>0</td>\n      <td>{'AverageDamagePerPoorHousehold': 39735.021654...</td>\n      <td>{'AverageIncomeToDamagePoorHousehold': 7.68831...</td>\n      <td>Base</td>\n      <td>0.000000</td>\n      <td>0.000000</td>\n      <td>0.000000</td>\n      <td>0.000000</td>\n      <td>0.000000</td>\n      <td>0.000000</td>\n    </tr>\n    <tr>\n      <th>1</th>\n      <td>0</td>\n      <td>0</td>\n      <td>1</td>\n      <td>1000</td>\n      <td>80</td>\n      <td>harvey</td>\n      <td>watts_strogatz</td>\n      <td>0</td>\n      <td>149</td>\n      <td>0.000000e+00</td>\n      <td>...</td>\n      <td>0</td>\n      <td>{'AverageDamagePerPoorHousehold': 39660.231401...</td>\n      <td>{'AverageIncomeToDamagePoorHousehold': 7.67383...</td>\n      <td>Base</td>\n      <td>0.000000</td>\n      <td>0.000000</td>\n      <td>0.000000</td>\n      <td>0.000000</td>\n      <td>0.000000</td>\n      <td>0.000000</td>\n    </tr>\n    <tr>\n      <th>2</th>\n      <td>0</td>\n      <td>0</td>\n      <td>2</td>\n      <td>1000</td>\n      <td>80</td>\n      <td>harvey</td>\n      <td>watts_strogatz</td>\n      <td>0</td>\n      <td>316</td>\n      <td>0.000000e+00</td>\n      <td>...</td>\n      <td>0</td>\n      <td>{'AverageDamagePerPoorHousehold': 39049.357055...</td>\n      <td>{'AverageIncomeToDamagePoorHousehold': 7.55564...</td>\n      <td>Base</td>\n      <td>0.000000</td>\n      <td>0.000000</td>\n      <td>0.000000</td>\n      <td>0.000000</td>\n      <td>0.000000</td>\n      <td>0.000000</td>\n    </tr>\n    <tr>\n      <th>3</th>\n      <td>0</td>\n      <td>0</td>\n      <td>3</td>\n      <td>1000</td>\n      <td>80</td>\n      <td>harvey</td>\n      <td>watts_strogatz</td>\n      <td>0</td>\n      <td>431</td>\n      <td>0.000000e+00</td>\n      <td>...</td>\n      <td>0</td>\n      <td>{'AverageDamagePerPoorHousehold': 37997.028215...</td>\n      <td>{'AverageIncomeToDamagePoorHousehold': 7.35202...</td>\n      <td>Base</td>\n      <td>0.000000</td>\n      <td>0.000000</td>\n      <td>0.000000</td>\n      <td>0.000000</td>\n      <td>0.000000</td>\n      <td>0.000000</td>\n    </tr>\n    <tr>\n      <th>4</th>\n      <td>0</td>\n      <td>0</td>\n      <td>4</td>\n      <td>1000</td>\n      <td>80</td>\n      <td>harvey</td>\n      <td>watts_strogatz</td>\n      <td>0</td>\n      <td>492</td>\n      <td>0.000000e+00</td>\n      <td>...</td>\n      <td>0</td>\n      <td>{'AverageDamagePerPoorHousehold': 37184.797251...</td>\n      <td>{'AverageIncomeToDamagePoorHousehold': 7.19486...</td>\n      <td>Base</td>\n      <td>0.000000</td>\n      <td>0.000000</td>\n      <td>0.000000</td>\n      <td>0.000000</td>\n      <td>0.000000</td>\n      <td>0.000000</td>\n    </tr>\n    <tr>\n      <th>...</th>\n      <td>...</td>\n      <td>...</td>\n      <td>...</td>\n      <td>...</td>\n      <td>...</td>\n      <td>...</td>\n      <td>...</td>\n      <td>...</td>\n      <td>...</td>\n      <td>...</td>\n      <td>...</td>\n      <td>...</td>\n      <td>...</td>\n      <td>...</td>\n      <td>...</td>\n      <td>...</td>\n      <td>...</td>\n      <td>...</td>\n      <td>...</td>\n      <td>...</td>\n      <td>...</td>\n    </tr>\n    <tr>\n      <th>16366</th>\n      <td>399</td>\n      <td>99</td>\n      <td>44</td>\n      <td>1000</td>\n      <td>80</td>\n      <td>harvey</td>\n      <td>watts_strogatz</td>\n      <td>3</td>\n      <td>553</td>\n      <td>0.000000e+00</td>\n      <td>...</td>\n      <td>7907624</td>\n      <td>{'AverageDamagePerPoorHousehold': 26353.059402...</td>\n      <td>{'AverageIncomeToDamagePoorHousehold': 5.34203...</td>\n      <td>Base</td>\n      <td>0.000000</td>\n      <td>0.000000</td>\n      <td>0.000000</td>\n      <td>0.000000</td>\n      <td>0.000000</td>\n      <td>0.000000</td>\n    </tr>\n    <tr>\n      <th>16367</th>\n      <td>399</td>\n      <td>99</td>\n      <td>45</td>\n      <td>1000</td>\n      <td>80</td>\n      <td>harvey</td>\n      <td>watts_strogatz</td>\n      <td>3</td>\n      <td>553</td>\n      <td>0.000000e+00</td>\n      <td>...</td>\n      <td>7907624</td>\n      <td>{'AverageDamagePerPoorHousehold': 26353.059402...</td>\n      <td>{'AverageIncomeToDamagePoorHousehold': 5.34203...</td>\n      <td>Base</td>\n      <td>0.000000</td>\n      <td>0.000000</td>\n      <td>0.000000</td>\n      <td>0.000000</td>\n      <td>0.000000</td>\n      <td>0.000000</td>\n    </tr>\n    <tr>\n      <th>16368</th>\n      <td>399</td>\n      <td>99</td>\n      <td>46</td>\n      <td>1000</td>\n      <td>80</td>\n      <td>harvey</td>\n      <td>watts_strogatz</td>\n      <td>3</td>\n      <td>554</td>\n      <td>0.000000e+00</td>\n      <td>...</td>\n      <td>7919024</td>\n      <td>{'AverageDamagePerPoorHousehold': 26263.920526...</td>\n      <td>{'AverageIncomeToDamagePoorHousehold': 5.32396...</td>\n      <td>Base</td>\n      <td>0.000000</td>\n      <td>0.000000</td>\n      <td>0.000000</td>\n      <td>0.000000</td>\n      <td>0.000000</td>\n      <td>0.000000</td>\n    </tr>\n    <tr>\n      <th>16369</th>\n      <td>399</td>\n      <td>99</td>\n      <td>47</td>\n      <td>1000</td>\n      <td>80</td>\n      <td>harvey</td>\n      <td>watts_strogatz</td>\n      <td>3</td>\n      <td>556</td>\n      <td>0.000000e+00</td>\n      <td>...</td>\n      <td>7979159</td>\n      <td>{'AverageDamagePerPoorHousehold': 25830.152881...</td>\n      <td>{'AverageIncomeToDamagePoorHousehold': 5.23603...</td>\n      <td>Base</td>\n      <td>0.000000</td>\n      <td>0.000000</td>\n      <td>0.000000</td>\n      <td>0.000000</td>\n      <td>0.000000</td>\n      <td>0.000000</td>\n    </tr>\n    <tr>\n      <th>16370</th>\n      <td>399</td>\n      <td>99</td>\n      <td>48</td>\n      <td>1000</td>\n      <td>80</td>\n      <td>harvey</td>\n      <td>watts_strogatz</td>\n      <td>3</td>\n      <td>556</td>\n      <td>3.913224e+07</td>\n      <td>...</td>\n      <td>7979159</td>\n      <td>{'AverageDamagePerPoorHousehold': 25830.152881...</td>\n      <td>{'AverageIncomeToDamagePoorHousehold': 5.23603...</td>\n      <td>Base</td>\n      <td>24072.691604</td>\n      <td>36122.850662</td>\n      <td>107406.403119</td>\n      <td>4.879777</td>\n      <td>1.238364</td>\n      <td>1.191731</td>\n    </tr>\n  </tbody>\n</table>\n<p>16371 rows × 22 columns</p>\n</div>"
     },
     "execution_count": 4,
     "metadata": {},
     "output_type": "execute_result"
    }
   ],
   "source": [
    "def unpack_dictionary(row, column_name):\n",
    "    return pd.Series(row[column_name])\n",
    "\n",
    "#base_case_unpacked = base_case_100_iterations.apply(unpack_dictionary['AverageDamagePerIncomeLabel'], axis = 1)\n",
    "first_column_unpacked = model_vars_policy_experiments_df.apply(unpack_dictionary, args=('AverageDamagePerIncomeLabel',), axis=1)\n",
    "second_column_unpacked = model_vars_policy_experiments_df.apply(unpack_dictionary, args=('AverageIncomeToDamageRatio',), axis=1)\n",
    "policy_experiments_unpacked = pd.concat([model_vars_policy_experiments_df, first_column_unpacked, second_column_unpacked], axis=1)\n",
    "model_vars_policy_experiments_clean = policy_experiments_unpacked.drop(['AverageDamagePerIncomeLabel', 'AverageIncomeToDamageRatio'], axis=1)\n",
    "model_vars_policy_experiments_clean"
   ],
   "metadata": {
    "collapsed": false,
    "ExecuteTime": {
     "end_time": "2024-01-24T13:15:39.598430Z",
     "start_time": "2024-01-24T13:15:30.575541Z"
    }
   },
   "id": "8d446bbdd85250df"
  },
  {
   "cell_type": "code",
   "execution_count": 5,
   "outputs": [
    {
     "data": {
      "text/plain": "       RunId  iteration  Step  number_of_households  number_of_steps  \\\n0          0          0     0                  1000               80   \n1          0          0     1                  1000               80   \n2          0          0     2                  1000               80   \n3          0          0     3                  1000               80   \n4          0          0     4                  1000               80   \n...      ...        ...   ...                   ...              ...   \n16366    399         99    44                  1000               80   \n16367    399         99    45                  1000               80   \n16368    399         99    46                  1000               80   \n16369    399         99    47                  1000               80   \n16370    399         99    48                  1000               80   \n\n      flood_map_choice         network  subsidies_package  \\\n0               harvey  watts_strogatz                  0   \n1               harvey  watts_strogatz                  0   \n2               harvey  watts_strogatz                  0   \n3               harvey  watts_strogatz                  0   \n4               harvey  watts_strogatz                  0   \n...                ...             ...                ...   \n16366           harvey  watts_strogatz                  3   \n16367           harvey  watts_strogatz                  3   \n16368           harvey  watts_strogatz                  3   \n16369           harvey  watts_strogatz                  3   \n16370           harvey  watts_strogatz                  3   \n\n       TotalAdaptedHouseholds  TotalActualDamage  ...  TotalCostsOfSubsidies  \\\n0                           0       0.000000e+00  ...                      0   \n1                         149       0.000000e+00  ...                      0   \n2                         316       0.000000e+00  ...                      0   \n3                         431       0.000000e+00  ...                      0   \n4                         492       0.000000e+00  ...                      0   \n...                       ...                ...  ...                    ...   \n16366                     553       0.000000e+00  ...                7907624   \n16367                     553       0.000000e+00  ...                7907624   \n16368                     554       0.000000e+00  ...                7919024   \n16369                     556       0.000000e+00  ...                7979159   \n16370                     556       3.913224e+07  ...                7979159   \n\n                    EstimatedAverageDamagePerIncomeLabel  \\\n0      {'AverageDamagePerPoorHousehold': 39735.021654...   \n1      {'AverageDamagePerPoorHousehold': 39660.231401...   \n2      {'AverageDamagePerPoorHousehold': 39049.357055...   \n3      {'AverageDamagePerPoorHousehold': 37997.028215...   \n4      {'AverageDamagePerPoorHousehold': 37184.797251...   \n...                                                  ...   \n16366  {'AverageDamagePerPoorHousehold': 26353.059402...   \n16367  {'AverageDamagePerPoorHousehold': 26353.059402...   \n16368  {'AverageDamagePerPoorHousehold': 26263.920526...   \n16369  {'AverageDamagePerPoorHousehold': 25830.152881...   \n16370  {'AverageDamagePerPoorHousehold': 25830.152881...   \n\n                     EstimatedAverageIncomeToDamageRatio IncomeDistribution  \\\n0      {'AverageIncomeToDamagePoorHousehold': 7.68831...               Base   \n1      {'AverageIncomeToDamagePoorHousehold': 7.67383...               Base   \n2      {'AverageIncomeToDamagePoorHousehold': 7.55564...               Base   \n3      {'AverageIncomeToDamagePoorHousehold': 7.35202...               Base   \n4      {'AverageIncomeToDamagePoorHousehold': 7.19486...               Base   \n...                                                  ...                ...   \n16366  {'AverageIncomeToDamagePoorHousehold': 5.34203...               Base   \n16367  {'AverageIncomeToDamagePoorHousehold': 5.34203...               Base   \n16368  {'AverageIncomeToDamagePoorHousehold': 5.32396...               Base   \n16369  {'AverageIncomeToDamagePoorHousehold': 5.23603...               Base   \n16370  {'AverageIncomeToDamagePoorHousehold': 5.23603...               Base   \n\n      AverageDamagePerPoorHousehold AverageDamagePerMiddleClassHousehold  \\\n0                          0.000000                             0.000000   \n1                          0.000000                             0.000000   \n2                          0.000000                             0.000000   \n3                          0.000000                             0.000000   \n4                          0.000000                             0.000000   \n...                             ...                                  ...   \n16366                      0.000000                             0.000000   \n16367                      0.000000                             0.000000   \n16368                      0.000000                             0.000000   \n16369                      0.000000                             0.000000   \n16370                  24072.691604                         36122.850662   \n\n       AverageDamagePerRichHousehold  AverageIncomeToDamagePoorHousehold  \\\n0                           0.000000                            0.000000   \n1                           0.000000                            0.000000   \n2                           0.000000                            0.000000   \n3                           0.000000                            0.000000   \n4                           0.000000                            0.000000   \n...                              ...                                 ...   \n16366                       0.000000                            0.000000   \n16367                       0.000000                            0.000000   \n16368                       0.000000                            0.000000   \n16369                       0.000000                            0.000000   \n16370                  107406.403119                            4.879777   \n\n       AverageIncomeToDamageMiddleClassHousehold  \\\n0                                       0.000000   \n1                                       0.000000   \n2                                       0.000000   \n3                                       0.000000   \n4                                       0.000000   \n...                                          ...   \n16366                                   0.000000   \n16367                                   0.000000   \n16368                                   0.000000   \n16369                                   0.000000   \n16370                                   1.238364   \n\n       AverageIncomeToDamageRichHousehold  \n0                                0.000000  \n1                                0.000000  \n2                                0.000000  \n3                                0.000000  \n4                                0.000000  \n...                                   ...  \n16366                            0.000000  \n16367                            0.000000  \n16368                            0.000000  \n16369                            0.000000  \n16370                            1.191731  \n\n[16371 rows x 22 columns]",
      "text/html": "<div>\n<style scoped>\n    .dataframe tbody tr th:only-of-type {\n        vertical-align: middle;\n    }\n\n    .dataframe tbody tr th {\n        vertical-align: top;\n    }\n\n    .dataframe thead th {\n        text-align: right;\n    }\n</style>\n<table border=\"1\" class=\"dataframe\">\n  <thead>\n    <tr style=\"text-align: right;\">\n      <th></th>\n      <th>RunId</th>\n      <th>iteration</th>\n      <th>Step</th>\n      <th>number_of_households</th>\n      <th>number_of_steps</th>\n      <th>flood_map_choice</th>\n      <th>network</th>\n      <th>subsidies_package</th>\n      <th>TotalAdaptedHouseholds</th>\n      <th>TotalActualDamage</th>\n      <th>...</th>\n      <th>TotalCostsOfSubsidies</th>\n      <th>EstimatedAverageDamagePerIncomeLabel</th>\n      <th>EstimatedAverageIncomeToDamageRatio</th>\n      <th>IncomeDistribution</th>\n      <th>AverageDamagePerPoorHousehold</th>\n      <th>AverageDamagePerMiddleClassHousehold</th>\n      <th>AverageDamagePerRichHousehold</th>\n      <th>AverageIncomeToDamagePoorHousehold</th>\n      <th>AverageIncomeToDamageMiddleClassHousehold</th>\n      <th>AverageIncomeToDamageRichHousehold</th>\n    </tr>\n  </thead>\n  <tbody>\n    <tr>\n      <th>0</th>\n      <td>0</td>\n      <td>0</td>\n      <td>0</td>\n      <td>1000</td>\n      <td>80</td>\n      <td>harvey</td>\n      <td>watts_strogatz</td>\n      <td>0</td>\n      <td>0</td>\n      <td>0.000000e+00</td>\n      <td>...</td>\n      <td>0</td>\n      <td>{'AverageDamagePerPoorHousehold': 39735.021654...</td>\n      <td>{'AverageIncomeToDamagePoorHousehold': 7.68831...</td>\n      <td>Base</td>\n      <td>0.000000</td>\n      <td>0.000000</td>\n      <td>0.000000</td>\n      <td>0.000000</td>\n      <td>0.000000</td>\n      <td>0.000000</td>\n    </tr>\n    <tr>\n      <th>1</th>\n      <td>0</td>\n      <td>0</td>\n      <td>1</td>\n      <td>1000</td>\n      <td>80</td>\n      <td>harvey</td>\n      <td>watts_strogatz</td>\n      <td>0</td>\n      <td>149</td>\n      <td>0.000000e+00</td>\n      <td>...</td>\n      <td>0</td>\n      <td>{'AverageDamagePerPoorHousehold': 39660.231401...</td>\n      <td>{'AverageIncomeToDamagePoorHousehold': 7.67383...</td>\n      <td>Base</td>\n      <td>0.000000</td>\n      <td>0.000000</td>\n      <td>0.000000</td>\n      <td>0.000000</td>\n      <td>0.000000</td>\n      <td>0.000000</td>\n    </tr>\n    <tr>\n      <th>2</th>\n      <td>0</td>\n      <td>0</td>\n      <td>2</td>\n      <td>1000</td>\n      <td>80</td>\n      <td>harvey</td>\n      <td>watts_strogatz</td>\n      <td>0</td>\n      <td>316</td>\n      <td>0.000000e+00</td>\n      <td>...</td>\n      <td>0</td>\n      <td>{'AverageDamagePerPoorHousehold': 39049.357055...</td>\n      <td>{'AverageIncomeToDamagePoorHousehold': 7.55564...</td>\n      <td>Base</td>\n      <td>0.000000</td>\n      <td>0.000000</td>\n      <td>0.000000</td>\n      <td>0.000000</td>\n      <td>0.000000</td>\n      <td>0.000000</td>\n    </tr>\n    <tr>\n      <th>3</th>\n      <td>0</td>\n      <td>0</td>\n      <td>3</td>\n      <td>1000</td>\n      <td>80</td>\n      <td>harvey</td>\n      <td>watts_strogatz</td>\n      <td>0</td>\n      <td>431</td>\n      <td>0.000000e+00</td>\n      <td>...</td>\n      <td>0</td>\n      <td>{'AverageDamagePerPoorHousehold': 37997.028215...</td>\n      <td>{'AverageIncomeToDamagePoorHousehold': 7.35202...</td>\n      <td>Base</td>\n      <td>0.000000</td>\n      <td>0.000000</td>\n      <td>0.000000</td>\n      <td>0.000000</td>\n      <td>0.000000</td>\n      <td>0.000000</td>\n    </tr>\n    <tr>\n      <th>4</th>\n      <td>0</td>\n      <td>0</td>\n      <td>4</td>\n      <td>1000</td>\n      <td>80</td>\n      <td>harvey</td>\n      <td>watts_strogatz</td>\n      <td>0</td>\n      <td>492</td>\n      <td>0.000000e+00</td>\n      <td>...</td>\n      <td>0</td>\n      <td>{'AverageDamagePerPoorHousehold': 37184.797251...</td>\n      <td>{'AverageIncomeToDamagePoorHousehold': 7.19486...</td>\n      <td>Base</td>\n      <td>0.000000</td>\n      <td>0.000000</td>\n      <td>0.000000</td>\n      <td>0.000000</td>\n      <td>0.000000</td>\n      <td>0.000000</td>\n    </tr>\n    <tr>\n      <th>...</th>\n      <td>...</td>\n      <td>...</td>\n      <td>...</td>\n      <td>...</td>\n      <td>...</td>\n      <td>...</td>\n      <td>...</td>\n      <td>...</td>\n      <td>...</td>\n      <td>...</td>\n      <td>...</td>\n      <td>...</td>\n      <td>...</td>\n      <td>...</td>\n      <td>...</td>\n      <td>...</td>\n      <td>...</td>\n      <td>...</td>\n      <td>...</td>\n      <td>...</td>\n      <td>...</td>\n    </tr>\n    <tr>\n      <th>16366</th>\n      <td>399</td>\n      <td>99</td>\n      <td>44</td>\n      <td>1000</td>\n      <td>80</td>\n      <td>harvey</td>\n      <td>watts_strogatz</td>\n      <td>3</td>\n      <td>553</td>\n      <td>0.000000e+00</td>\n      <td>...</td>\n      <td>7907624</td>\n      <td>{'AverageDamagePerPoorHousehold': 26353.059402...</td>\n      <td>{'AverageIncomeToDamagePoorHousehold': 5.34203...</td>\n      <td>Base</td>\n      <td>0.000000</td>\n      <td>0.000000</td>\n      <td>0.000000</td>\n      <td>0.000000</td>\n      <td>0.000000</td>\n      <td>0.000000</td>\n    </tr>\n    <tr>\n      <th>16367</th>\n      <td>399</td>\n      <td>99</td>\n      <td>45</td>\n      <td>1000</td>\n      <td>80</td>\n      <td>harvey</td>\n      <td>watts_strogatz</td>\n      <td>3</td>\n      <td>553</td>\n      <td>0.000000e+00</td>\n      <td>...</td>\n      <td>7907624</td>\n      <td>{'AverageDamagePerPoorHousehold': 26353.059402...</td>\n      <td>{'AverageIncomeToDamagePoorHousehold': 5.34203...</td>\n      <td>Base</td>\n      <td>0.000000</td>\n      <td>0.000000</td>\n      <td>0.000000</td>\n      <td>0.000000</td>\n      <td>0.000000</td>\n      <td>0.000000</td>\n    </tr>\n    <tr>\n      <th>16368</th>\n      <td>399</td>\n      <td>99</td>\n      <td>46</td>\n      <td>1000</td>\n      <td>80</td>\n      <td>harvey</td>\n      <td>watts_strogatz</td>\n      <td>3</td>\n      <td>554</td>\n      <td>0.000000e+00</td>\n      <td>...</td>\n      <td>7919024</td>\n      <td>{'AverageDamagePerPoorHousehold': 26263.920526...</td>\n      <td>{'AverageIncomeToDamagePoorHousehold': 5.32396...</td>\n      <td>Base</td>\n      <td>0.000000</td>\n      <td>0.000000</td>\n      <td>0.000000</td>\n      <td>0.000000</td>\n      <td>0.000000</td>\n      <td>0.000000</td>\n    </tr>\n    <tr>\n      <th>16369</th>\n      <td>399</td>\n      <td>99</td>\n      <td>47</td>\n      <td>1000</td>\n      <td>80</td>\n      <td>harvey</td>\n      <td>watts_strogatz</td>\n      <td>3</td>\n      <td>556</td>\n      <td>0.000000e+00</td>\n      <td>...</td>\n      <td>7979159</td>\n      <td>{'AverageDamagePerPoorHousehold': 25830.152881...</td>\n      <td>{'AverageIncomeToDamagePoorHousehold': 5.23603...</td>\n      <td>Base</td>\n      <td>0.000000</td>\n      <td>0.000000</td>\n      <td>0.000000</td>\n      <td>0.000000</td>\n      <td>0.000000</td>\n      <td>0.000000</td>\n    </tr>\n    <tr>\n      <th>16370</th>\n      <td>399</td>\n      <td>99</td>\n      <td>48</td>\n      <td>1000</td>\n      <td>80</td>\n      <td>harvey</td>\n      <td>watts_strogatz</td>\n      <td>3</td>\n      <td>556</td>\n      <td>3.913224e+07</td>\n      <td>...</td>\n      <td>7979159</td>\n      <td>{'AverageDamagePerPoorHousehold': 25830.152881...</td>\n      <td>{'AverageIncomeToDamagePoorHousehold': 5.23603...</td>\n      <td>Base</td>\n      <td>24072.691604</td>\n      <td>36122.850662</td>\n      <td>107406.403119</td>\n      <td>4.879777</td>\n      <td>1.238364</td>\n      <td>1.191731</td>\n    </tr>\n  </tbody>\n</table>\n<p>16371 rows × 22 columns</p>\n</div>"
     },
     "execution_count": 5,
     "metadata": {},
     "output_type": "execute_result"
    }
   ],
   "source": [
    "df_sorted = model_vars_policy_experiments_clean.sort_values(by=['RunId', 'Step'])\n",
    "df_sorted"
   ],
   "metadata": {
    "collapsed": false,
    "ExecuteTime": {
     "end_time": "2024-01-24T13:18:42.179534Z",
     "start_time": "2024-01-24T13:18:42.135724Z"
    }
   },
   "id": "fba371b2954b235d"
  },
  {
   "cell_type": "code",
   "execution_count": null,
   "outputs": [],
   "source": [],
   "metadata": {
    "collapsed": false
   },
   "id": "844795ea780c81eb"
  },
  {
   "cell_type": "code",
   "execution_count": 6,
   "outputs": [],
   "source": [
    "output_data_path = r'../output_data/PolicyExperimentsModelVars.csv'\n",
    "df_sorted.to_csv(output_data_path, index=False)"
   ],
   "metadata": {
    "collapsed": false,
    "ExecuteTime": {
     "end_time": "2024-01-24T13:21:41.036190Z",
     "start_time": "2024-01-24T13:21:40.442180Z"
    }
   },
   "id": "5a925171232b1c89"
  },
  {
   "cell_type": "code",
   "execution_count": null,
   "outputs": [],
   "source": [],
   "metadata": {
    "collapsed": false
   },
   "id": "1fef3bebc9b668ec"
  }
 ],
 "metadata": {
  "kernelspec": {
   "display_name": "Python 3",
   "language": "python",
   "name": "python3"
  },
  "language_info": {
   "codemirror_mode": {
    "name": "ipython",
    "version": 2
   },
   "file_extension": ".py",
   "mimetype": "text/x-python",
   "name": "python",
   "nbconvert_exporter": "python",
   "pygments_lexer": "ipython2",
   "version": "2.7.6"
  }
 },
 "nbformat": 4,
 "nbformat_minor": 5
}
