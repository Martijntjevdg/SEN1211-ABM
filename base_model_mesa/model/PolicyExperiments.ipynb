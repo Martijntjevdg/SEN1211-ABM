{
 "cells": [
  {
   "cell_type": "code",
   "execution_count": 2,
   "id": "initial_id",
   "metadata": {
    "collapsed": true,
    "ExecuteTime": {
     "end_time": "2024-01-23T09:23:46.530822400Z",
     "start_time": "2024-01-23T09:23:46.516155900Z"
    }
   },
   "outputs": [],
   "source": [
    "from model import AdaptationModel\n",
    "from mesa.batchrunner import batch_run\n",
    "import pandas as pd"
   ]
  },
  {
   "cell_type": "code",
   "execution_count": 3,
   "outputs": [
    {
     "data": {
      "text/plain": "  0%|          | 0/400 [00:00<?, ?it/s]",
      "application/vnd.jupyter.widget-view+json": {
       "version_major": 2,
       "version_minor": 0,
       "model_id": "e86a4392112b42f2b2c67c65c7a7faef"
      }
     },
     "metadata": {},
     "output_type": "display_data"
    }
   ],
   "source": [
    "model_params = {\n",
    "    \"number_of_households\": 1000,\n",
    "    \"number_of_steps\": 80,\n",
    "    \"flood_map_choice\": \"harvey\",\n",
    "    \"network\": \"watts_strogatz\",\n",
    "    \"subsidies_package\":[0,1,2,3]\n",
    "}\n",
    "\n",
    "results = batch_run(\n",
    "    model_cls=AdaptationModel,\n",
    "    parameters=model_params,\n",
    "    number_processes=4,  # Set to None if you want to use all CPUs\n",
    "    iterations=100,  # Number of iterations for each parameter combination\n",
    "    data_collection_period=-1,  # Collect data at the end of each run\n",
    "    max_steps=model_params[\"number_of_steps\"],  # Maximum number of model steps\n",
    "    display_progress=True  # Display progress bar\n",
    ")\n",
    "\n",
    "df = pd.DataFrame(results)\n",
    "\n",
    "model_vars_policy_experiments_df = df"
   ],
   "metadata": {
    "collapsed": false,
    "ExecuteTime": {
     "end_time": "2024-01-23T10:36:08.504732400Z",
     "start_time": "2024-01-23T09:23:52.753471900Z"
    }
   },
   "id": "e3b05895e5dc44f2"
  },
  {
   "cell_type": "code",
   "execution_count": 4,
   "outputs": [
    {
     "data": {
      "text/plain": "     RunId  iteration  Step  number_of_households  number_of_steps  \\\n0        0          0    10                  1000               80   \n1        3          0    13                  1000               80   \n2        5          1    16                  1000               80   \n3        6          1     2                  1000               80   \n4        1          0    40                  1000               80   \n..     ...        ...   ...                   ...              ...   \n395    393         98    67                  1000               80   \n396    397         99    37                  1000               80   \n397    396         99    76                  1000               80   \n398    398         99    65                  1000               80   \n399    399         99    64                  1000               80   \n\n    flood_map_choice         network  subsidies_package  \\\n0             harvey  watts_strogatz                  0   \n1             harvey  watts_strogatz                  3   \n2             harvey  watts_strogatz                  1   \n3             harvey  watts_strogatz                  2   \n4             harvey  watts_strogatz                  1   \n..               ...             ...                ...   \n395           harvey  watts_strogatz                  1   \n396           harvey  watts_strogatz                  1   \n397           harvey  watts_strogatz                  0   \n398           harvey  watts_strogatz                  2   \n399           harvey  watts_strogatz                  3   \n\n     TotalAdaptedHouseholds  TotalActualDamage  TotalExpectedDamage  \\\n0                       547       5.027045e+07         5.309668e+07   \n1                       504       5.562505e+07         5.904467e+07   \n2                       270       6.535436e+07         6.890133e+07   \n3                       221       6.790505e+07         7.170349e+07   \n4                       509       4.618316e+07         4.874305e+07   \n..                      ...                ...                  ...   \n395                     549       4.184376e+07         4.413929e+07   \n396                     424       5.027989e+07         5.334825e+07   \n397                     598       4.437372e+07         4.690955e+07   \n398                     608       3.778193e+07         3.986203e+07   \n399                     589       3.673737e+07         3.854746e+07   \n\n     TotalAdaptationCosts  TotalCostsOfSubsidies  \\\n0                 2564255                      0   \n1                 2489584                2193261   \n2                 2335100                2080955   \n3                  435261                 104769   \n4                16305684               15351336   \n..                    ...                    ...   \n395              19203091               18048534   \n396              12289408               11513502   \n397               5224195                      0   \n398              17336201               18800024   \n399               7672270                8955035   \n\n     AverageDamagePerPoorHousehold  AverageDamagePerMiddleClassHousehold  \\\n0                     25308.236360                          47509.807723   \n1                     25385.554811                          50419.049139   \n2                     35161.595192                          62343.902063   \n3                     33854.446692                          68924.379204   \n4                     32190.808519                          40938.515650   \n..                             ...                                   ...   \n395                   26757.532477                          37692.123313   \n396                   31488.794985                          49351.589613   \n397                   20640.930284                          40562.507698   \n398                   22396.673267                          35616.576766   \n399                   20215.428373                          35807.180102   \n\n     AverageDamagePerRichHousehold  AverageIncomeToDamagePoorHousehold  \\\n0                    123146.743364                            4.985298   \n1                    144717.910297                            5.063186   \n2                    155665.476535                            7.127477   \n3                    145196.653022                            6.588759   \n4                    114997.736905                            6.539605   \n..                             ...                                 ...   \n395                  100075.333194                            5.344150   \n396                  103608.689845                            6.418353   \n397                  133267.580259                            4.025576   \n398                   94936.710288                            4.400960   \n399                   83753.165683                            4.068831   \n\n     AverageIncomeToDamageMiddleClassHousehold  \\\n0                                     1.649578   \n1                                     1.683922   \n2                                     2.130792   \n3                                     2.288570   \n4                                     1.396216   \n..                                         ...   \n395                                   1.271788   \n396                                   1.718952   \n397                                   1.354676   \n398                                   1.193583   \n399                                   1.179949   \n\n     AverageIncomeToDamageRichHousehold  \n0                              1.424533  \n1                              1.644145  \n2                              1.770557  \n3                              1.633531  \n4                              1.376119  \n..                                  ...  \n395                            1.140591  \n396                            1.196742  \n397                            1.540452  \n398                            1.055452  \n399                            0.991854  \n\n[400 rows x 19 columns]",
      "text/html": "<div>\n<style scoped>\n    .dataframe tbody tr th:only-of-type {\n        vertical-align: middle;\n    }\n\n    .dataframe tbody tr th {\n        vertical-align: top;\n    }\n\n    .dataframe thead th {\n        text-align: right;\n    }\n</style>\n<table border=\"1\" class=\"dataframe\">\n  <thead>\n    <tr style=\"text-align: right;\">\n      <th></th>\n      <th>RunId</th>\n      <th>iteration</th>\n      <th>Step</th>\n      <th>number_of_households</th>\n      <th>number_of_steps</th>\n      <th>flood_map_choice</th>\n      <th>network</th>\n      <th>subsidies_package</th>\n      <th>TotalAdaptedHouseholds</th>\n      <th>TotalActualDamage</th>\n      <th>TotalExpectedDamage</th>\n      <th>TotalAdaptationCosts</th>\n      <th>TotalCostsOfSubsidies</th>\n      <th>AverageDamagePerPoorHousehold</th>\n      <th>AverageDamagePerMiddleClassHousehold</th>\n      <th>AverageDamagePerRichHousehold</th>\n      <th>AverageIncomeToDamagePoorHousehold</th>\n      <th>AverageIncomeToDamageMiddleClassHousehold</th>\n      <th>AverageIncomeToDamageRichHousehold</th>\n    </tr>\n  </thead>\n  <tbody>\n    <tr>\n      <th>0</th>\n      <td>0</td>\n      <td>0</td>\n      <td>10</td>\n      <td>1000</td>\n      <td>80</td>\n      <td>harvey</td>\n      <td>watts_strogatz</td>\n      <td>0</td>\n      <td>547</td>\n      <td>5.027045e+07</td>\n      <td>5.309668e+07</td>\n      <td>2564255</td>\n      <td>0</td>\n      <td>25308.236360</td>\n      <td>47509.807723</td>\n      <td>123146.743364</td>\n      <td>4.985298</td>\n      <td>1.649578</td>\n      <td>1.424533</td>\n    </tr>\n    <tr>\n      <th>1</th>\n      <td>3</td>\n      <td>0</td>\n      <td>13</td>\n      <td>1000</td>\n      <td>80</td>\n      <td>harvey</td>\n      <td>watts_strogatz</td>\n      <td>3</td>\n      <td>504</td>\n      <td>5.562505e+07</td>\n      <td>5.904467e+07</td>\n      <td>2489584</td>\n      <td>2193261</td>\n      <td>25385.554811</td>\n      <td>50419.049139</td>\n      <td>144717.910297</td>\n      <td>5.063186</td>\n      <td>1.683922</td>\n      <td>1.644145</td>\n    </tr>\n    <tr>\n      <th>2</th>\n      <td>5</td>\n      <td>1</td>\n      <td>16</td>\n      <td>1000</td>\n      <td>80</td>\n      <td>harvey</td>\n      <td>watts_strogatz</td>\n      <td>1</td>\n      <td>270</td>\n      <td>6.535436e+07</td>\n      <td>6.890133e+07</td>\n      <td>2335100</td>\n      <td>2080955</td>\n      <td>35161.595192</td>\n      <td>62343.902063</td>\n      <td>155665.476535</td>\n      <td>7.127477</td>\n      <td>2.130792</td>\n      <td>1.770557</td>\n    </tr>\n    <tr>\n      <th>3</th>\n      <td>6</td>\n      <td>1</td>\n      <td>2</td>\n      <td>1000</td>\n      <td>80</td>\n      <td>harvey</td>\n      <td>watts_strogatz</td>\n      <td>2</td>\n      <td>221</td>\n      <td>6.790505e+07</td>\n      <td>7.170349e+07</td>\n      <td>435261</td>\n      <td>104769</td>\n      <td>33854.446692</td>\n      <td>68924.379204</td>\n      <td>145196.653022</td>\n      <td>6.588759</td>\n      <td>2.288570</td>\n      <td>1.633531</td>\n    </tr>\n    <tr>\n      <th>4</th>\n      <td>1</td>\n      <td>0</td>\n      <td>40</td>\n      <td>1000</td>\n      <td>80</td>\n      <td>harvey</td>\n      <td>watts_strogatz</td>\n      <td>1</td>\n      <td>509</td>\n      <td>4.618316e+07</td>\n      <td>4.874305e+07</td>\n      <td>16305684</td>\n      <td>15351336</td>\n      <td>32190.808519</td>\n      <td>40938.515650</td>\n      <td>114997.736905</td>\n      <td>6.539605</td>\n      <td>1.396216</td>\n      <td>1.376119</td>\n    </tr>\n    <tr>\n      <th>...</th>\n      <td>...</td>\n      <td>...</td>\n      <td>...</td>\n      <td>...</td>\n      <td>...</td>\n      <td>...</td>\n      <td>...</td>\n      <td>...</td>\n      <td>...</td>\n      <td>...</td>\n      <td>...</td>\n      <td>...</td>\n      <td>...</td>\n      <td>...</td>\n      <td>...</td>\n      <td>...</td>\n      <td>...</td>\n      <td>...</td>\n      <td>...</td>\n    </tr>\n    <tr>\n      <th>395</th>\n      <td>393</td>\n      <td>98</td>\n      <td>67</td>\n      <td>1000</td>\n      <td>80</td>\n      <td>harvey</td>\n      <td>watts_strogatz</td>\n      <td>1</td>\n      <td>549</td>\n      <td>4.184376e+07</td>\n      <td>4.413929e+07</td>\n      <td>19203091</td>\n      <td>18048534</td>\n      <td>26757.532477</td>\n      <td>37692.123313</td>\n      <td>100075.333194</td>\n      <td>5.344150</td>\n      <td>1.271788</td>\n      <td>1.140591</td>\n    </tr>\n    <tr>\n      <th>396</th>\n      <td>397</td>\n      <td>99</td>\n      <td>37</td>\n      <td>1000</td>\n      <td>80</td>\n      <td>harvey</td>\n      <td>watts_strogatz</td>\n      <td>1</td>\n      <td>424</td>\n      <td>5.027989e+07</td>\n      <td>5.334825e+07</td>\n      <td>12289408</td>\n      <td>11513502</td>\n      <td>31488.794985</td>\n      <td>49351.589613</td>\n      <td>103608.689845</td>\n      <td>6.418353</td>\n      <td>1.718952</td>\n      <td>1.196742</td>\n    </tr>\n    <tr>\n      <th>397</th>\n      <td>396</td>\n      <td>99</td>\n      <td>76</td>\n      <td>1000</td>\n      <td>80</td>\n      <td>harvey</td>\n      <td>watts_strogatz</td>\n      <td>0</td>\n      <td>598</td>\n      <td>4.437372e+07</td>\n      <td>4.690955e+07</td>\n      <td>5224195</td>\n      <td>0</td>\n      <td>20640.930284</td>\n      <td>40562.507698</td>\n      <td>133267.580259</td>\n      <td>4.025576</td>\n      <td>1.354676</td>\n      <td>1.540452</td>\n    </tr>\n    <tr>\n      <th>398</th>\n      <td>398</td>\n      <td>99</td>\n      <td>65</td>\n      <td>1000</td>\n      <td>80</td>\n      <td>harvey</td>\n      <td>watts_strogatz</td>\n      <td>2</td>\n      <td>608</td>\n      <td>3.778193e+07</td>\n      <td>3.986203e+07</td>\n      <td>17336201</td>\n      <td>18800024</td>\n      <td>22396.673267</td>\n      <td>35616.576766</td>\n      <td>94936.710288</td>\n      <td>4.400960</td>\n      <td>1.193583</td>\n      <td>1.055452</td>\n    </tr>\n    <tr>\n      <th>399</th>\n      <td>399</td>\n      <td>99</td>\n      <td>64</td>\n      <td>1000</td>\n      <td>80</td>\n      <td>harvey</td>\n      <td>watts_strogatz</td>\n      <td>3</td>\n      <td>589</td>\n      <td>3.673737e+07</td>\n      <td>3.854746e+07</td>\n      <td>7672270</td>\n      <td>8955035</td>\n      <td>20215.428373</td>\n      <td>35807.180102</td>\n      <td>83753.165683</td>\n      <td>4.068831</td>\n      <td>1.179949</td>\n      <td>0.991854</td>\n    </tr>\n  </tbody>\n</table>\n<p>400 rows × 19 columns</p>\n</div>"
     },
     "execution_count": 4,
     "metadata": {},
     "output_type": "execute_result"
    }
   ],
   "source": [
    "def unpack_dictionary(row, column_name):\n",
    "    return pd.Series(row[column_name])\n",
    "\n",
    "#base_case_unpacked = base_case_100_iterations.apply(unpack_dictionary['AverageDamagePerIncomeLabel'], axis = 1)\n",
    "first_column_unpacked = model_vars_policy_experiments_df.apply(unpack_dictionary, args=('AverageDamagePerIncomeLabel',), axis=1)\n",
    "second_column_unpacked = model_vars_policy_experiments_df.apply(unpack_dictionary, args=('AverageIncomeToDamageRatio',), axis=1)\n",
    "policy_experiments_unpacked = pd.concat([model_vars_policy_experiments_df, first_column_unpacked, second_column_unpacked], axis=1)\n",
    "model_vars_policy_experiments_clean = policy_experiments_unpacked.drop(['AverageDamagePerIncomeLabel', 'AverageIncomeToDamageRatio'], axis=1)\n",
    "model_vars_policy_experiments_clean"
   ],
   "metadata": {
    "collapsed": false,
    "ExecuteTime": {
     "end_time": "2024-01-23T10:45:11.833194200Z",
     "start_time": "2024-01-23T10:45:10.780642100Z"
    }
   },
   "id": "8d446bbdd85250df"
  },
  {
   "cell_type": "code",
   "execution_count": 6,
   "outputs": [],
   "source": [
    "output_data_path = r'../output_data/PolicyExperimentsModelVars.csv'\n",
    "model_vars_policy_experiments_clean.to_csv(output_data_path, index=False)"
   ],
   "metadata": {
    "collapsed": false,
    "ExecuteTime": {
     "end_time": "2024-01-23T10:45:33.061784700Z",
     "start_time": "2024-01-23T10:45:32.996405700Z"
    }
   },
   "id": "5a925171232b1c89"
  }
 ],
 "metadata": {
  "kernelspec": {
   "display_name": "Python 3",
   "language": "python",
   "name": "python3"
  },
  "language_info": {
   "codemirror_mode": {
    "name": "ipython",
    "version": 2
   },
   "file_extension": ".py",
   "mimetype": "text/x-python",
   "name": "python",
   "nbconvert_exporter": "python",
   "pygments_lexer": "ipython2",
   "version": "2.7.6"
  }
 },
 "nbformat": 4,
 "nbformat_minor": 5
}
